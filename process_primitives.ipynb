{
 "metadata": {
  "language_info": {
   "codemirror_mode": {
    "name": "ipython",
    "version": 3
   },
   "file_extension": ".py",
   "mimetype": "text/x-python",
   "name": "python",
   "nbconvert_exporter": "python",
   "pygments_lexer": "ipython3",
   "version": "3.8.11-final"
  },
  "orig_nbformat": 2,
  "kernelspec": {
   "name": "python38564bitbiomeaconda2da277ab1d6c4c229b349af03aeb16fd",
   "display_name": "Python 3.8.5 64-bit ('bioMEA': conda)"
  }
 },
 "nbformat": 4,
 "nbformat_minor": 2,
 "cells": [
  {
   "cell_type": "code",
   "execution_count": 1,
   "metadata": {},
   "outputs": [],
   "source": [
    "import napari\n",
    "import glob\n",
    "import os\n",
    "from tifffile import imread\n",
    "import numpy as np\n",
    "import pandas as pd\n",
    "\n",
    "from tifffile import imwrite\n",
    "\n",
    "from skimage.util import img_as_ubyte\n",
    "from PIL import Image, ImageDraw, ImageFont\n",
    "\n",
    "from matplotlib import pyplot as plt\n",
    "path = '/run/media/loaloa/lbb_ssd/primitives/'"
   ]
  },
  {
   "cell_type": "code",
   "execution_count": 2,
   "metadata": {},
   "outputs": [],
   "source": [
    "with napari.gui_qt():\n",
    "    viewer = napari.Viewer()"
   ]
  },
  {
   "cell_type": "code",
   "execution_count": 14,
   "metadata": {},
   "outputs": [
    {
     "output_type": "stream",
     "name": "stdout",
     "text": [
      "['/run/media/loaloa/lbb_ssd/primitives//exp12_DIV14_processed/G001_annotated.png', '/run/media/loaloa/lbb_ssd/primitives//exp12_DIV14_processed/G001_GFP_compr.tif', '/run/media/loaloa/lbb_ssd/primitives//exp12_DIV14_processed/G001_meatadata.pkl', '/run/media/loaloa/lbb_ssd/primitives//exp12_DIV14_processed/G001_Prim04_coos.csv', '/run/media/loaloa/lbb_ssd/primitives//exp12_DIV14_processed/G001_RFP_compr.tif', '/run/media/loaloa/lbb_ssd/primitives//exp12_DIV14_processed/G001_Transmission_compr.tif']\n"
     ]
    }
   ],
   "source": [
    "which_dataset = 'exp12_DIV14_processed'\n",
    "# which_dataset = 'exp14_DIV7_processed'\n",
    "# which_dataset = 'exp14_DIV14_processed'\n",
    "\n",
    "area = 'G001'\n",
    "\n",
    "files = glob.glob(f'{path}/{which_dataset}/{area}*')\n",
    "print(files)\n",
    "\n",
    "green = imread([f for f in files if 'GFP' in f][0])\n",
    "red = imread([f for f in files if 'RFP' in f][0])\n",
    "transm = imread([f for f in files if 'Transmission' in f][0])"
   ]
  },
  {
   "cell_type": "code",
   "execution_count": 15,
   "metadata": {},
   "outputs": [
    {
     "output_type": "execute_result",
     "data": {
      "text/plain": [
       "<Image layer 'transm' at 0x7f7cbf410e50>"
      ]
     },
     "metadata": {},
     "execution_count": 15
    }
   ],
   "source": [
    "viewer.add_image(green, colormap='green', blending='additive')\n",
    "viewer.add_image(red, colormap='red', blending='additive')\n",
    "viewer.add_image(transm, colormap='gray', opacity=.4)"
   ]
  },
  {
   "cell_type": "code",
   "execution_count": 130,
   "metadata": {},
   "outputs": [
    {
     "output_type": "stream",
     "name": "stdout",
     "text": [
      "8\n"
     ]
    }
   ],
   "source": [
    "primitives = ['Prim01.1', 'Prim01.2', 'Prim03.2', 'Prim02', 'Prim04', 'Prim05',\n",
    "              'Prim06.1', 'Prim06.3', 'Prim06.2', 'Prim06.4','Prim03.1']\n",
    "primitive  = 'Prim06.3.5'\n",
    "primitive  = 'Prim06.3.6'\n",
    "primitive  = 'Prim06.1.2'\n",
    "primitive  = 'Prim06.1.1'\n",
    "primitive  = 'Prim06.2.3'\n",
    "primitive  = 'Prim06.2.4'\n",
    "primitive  = 'Prim06.4.7'\n",
    "primitive  = 'Prim06.4.8'\n",
    "\n",
    "primitive  = 'Prim01.1'\n",
    "# primitive  = 'Prim01.2'\n",
    "\n",
    "\n",
    "# Prim 1, 4, 5, 6 missing  6.1.2, 4.4.7\n",
    "\n",
    "data = viewer.layers[primitive].data\n",
    "print(len(data))\n",
    "\n",
    "final_coos = []\n",
    "for i, dat in enumerate(data):\n",
    "    y_topleft, x_topleft = np.min(dat, axis=0)\n",
    "    y_bottomright, x_bottomright = np.max(dat, axis=0)\n",
    "\n",
    "    index = [[f'{which_dataset}_{area}'],('y_topleft', 'x_topleft', 'y_bottomright', 'x_bottomright')]\n",
    "    index = pd.MultiIndex.from_product(index)\n",
    "    dat = (y_topleft, x_topleft, y_bottomright, x_bottomright)\n",
    "    s = pd.Series(dat, index=index, name=f'{primitive}_{i+1}of8')\n",
    "    final_coos.append(s)\n",
    "\n",
    "final_coos = pd.concat(final_coos, axis=1)\n",
    "fname = f'{path}/{which_dataset}/{area}_{primitive}_coos.csv'\n",
    "final_coos.to_csv(fname)"
   ]
  },
  {
   "cell_type": "code",
   "execution_count": 229,
   "metadata": {},
   "outputs": [],
   "source": [
    "all_coos_files = glob.glob(f'{path}/{which_dataset}/G*_coos.csv')\n",
    "dfs = [pd.read_csv(f, index_col=(0,1)).T.stack(0) for f in all_coos_files]\n",
    "dfs = pd.concat(dfs).astype(int)\n",
    "\n",
    "dfs.to_csv(f'{path}/{which_dataset}/region_coordinates.csv')\n",
    "# dfs"
   ]
  },
  {
   "cell_type": "code",
   "execution_count": null,
   "metadata": {},
   "outputs": [],
   "source": []
  },
  {
   "cell_type": "code",
   "execution_count": 237,
   "metadata": {},
   "outputs": [
    {
     "output_type": "execute_result",
     "data": {
      "text/plain": [
       "                                            x_bottomright  x_topleft  \\\n",
       "Prim03.2_1of8   exp14_DIV14_processed_G002           9107       6190   \n",
       "Prim03.2_2of8   exp14_DIV14_processed_G002           3143        234   \n",
       "Prim03.2_3of8   exp14_DIV14_processed_G002          12035       9118   \n",
       "Prim03.2_4of8   exp14_DIV14_processed_G002           6176       3260   \n",
       "Prim03.2_5of8   exp14_DIV14_processed_G002           9079       6163   \n",
       "Prim03.2_6of8   exp14_DIV14_processed_G002           6150       3234   \n",
       "Prim03.2_7of8   exp14_DIV14_processed_G002           3156        239   \n",
       "Prim03.2_8of8   exp14_DIV14_processed_G002          12041       9125   \n",
       "Prim06.1.1_1of1 exp14_DIV14_processed_G007           1695       1016   \n",
       "Prim06.1.2_1of1 exp14_DIV14_processed_G007           2743        120   \n",
       "Prim06.3.5_1of1 exp14_DIV14_processed_G008           1700       1016   \n",
       "Prim06.3.6_1of1 exp14_DIV14_processed_G008           2639        109   \n",
       "Prim06.2.3_1of1 exp14_DIV14_processed_G009           1792       1096   \n",
       "Prim06.2.4_1of1 exp14_DIV14_processed_G009           2735        191   \n",
       "Prim01.1_1of8   exp14_DIV14_processed_G003           4028       3323   \n",
       "Prim01.1_2of8   exp14_DIV14_processed_G003           4897       4187   \n",
       "Prim01.1_3of8   exp14_DIV14_processed_G003           5722       5014   \n",
       "Prim01.1_4of8   exp14_DIV14_processed_G003           6535       5844   \n",
       "Prim01.1_5of8   exp14_DIV14_processed_G003           6529       5851   \n",
       "Prim01.1_6of8   exp14_DIV14_processed_G003           5695       5007   \n",
       "Prim01.1_7of8   exp14_DIV14_processed_G003           4869       4178   \n",
       "Prim01.1_8of8   exp14_DIV14_processed_G003           4001       3317   \n",
       "Prim01.2_1of8   exp14_DIV14_processed_G003            690         37   \n",
       "Prim01.2_2of8   exp14_DIV14_processed_G003           1549        896   \n",
       "Prim01.2_3of8   exp14_DIV14_processed_G003           2398       1749   \n",
       "Prim01.2_4of8   exp14_DIV14_processed_G003           3212       2571   \n",
       "Prim01.2_5of8   exp14_DIV14_processed_G003           3213       2547   \n",
       "Prim01.2_6of8   exp14_DIV14_processed_G003           2368       1744   \n",
       "Prim01.2_7of8   exp14_DIV14_processed_G003           1524        870   \n",
       "Prim01.2_8of8   exp14_DIV14_processed_G003            664         22   \n",
       "Prim02_1of8     exp14_DIV14_processed_G004           1468          8   \n",
       "Prim02_2of8     exp14_DIV14_processed_G004           3179       1608   \n",
       "Prim02_3of8     exp14_DIV14_processed_G004           4836       3231   \n",
       "Prim02_4of8     exp14_DIV14_processed_G004           6573       4976   \n",
       "Prim02_5of8     exp14_DIV14_processed_G004           6587       4973   \n",
       "Prim02_6of8     exp14_DIV14_processed_G004           4862       3231   \n",
       "Prim02_7of8     exp14_DIV14_processed_G004           3197       1611   \n",
       "Prim02_8of8     exp14_DIV14_processed_G004           1491         11   \n",
       "Prim04_1of8     exp14_DIV14_processed_G005            498        185   \n",
       "Prim04_2of8     exp14_DIV14_processed_G005            925        600   \n",
       "Prim04_3of8     exp14_DIV14_processed_G005           1324       1015   \n",
       "Prim04_4of8     exp14_DIV14_processed_G005           1747       1417   \n",
       "Prim04_5of8     exp14_DIV14_processed_G005           1742       1426   \n",
       "Prim04_6of8     exp14_DIV14_processed_G005           1337        996   \n",
       "Prim04_7of8     exp14_DIV14_processed_G005            908        579   \n",
       "Prim04_8of8     exp14_DIV14_processed_G005            502        172   \n",
       "Prim05_1of4     exp14_DIV14_processed_G006            833        331   \n",
       "Prim05_2of4     exp14_DIV14_processed_G006           1422        918   \n",
       "Prim05_3of4     exp14_DIV14_processed_G006           1994       1511   \n",
       "Prim05_4of4     exp14_DIV14_processed_G006           2576       2083   \n",
       "Prim06.4.7_1of1 exp14_DIV14_processed_G010           1641        997   \n",
       "Prim06.4.8_1of1 exp14_DIV14_processed_G010           2688          6   \n",
       "Prim03.1_1of4   exp14_DIV14_processed_G012           6794       2725   \n",
       "Prim03.1_2of4   exp14_DIV14_processed_G012           9517       5388   \n",
       "Prim03.1_3of4   exp14_DIV14_processed_G012          12329       8179   \n",
       "Prim03.1_4of4   exp14_DIV14_processed_G012           4018          4   \n",
       "\n",
       "                                            y_bottomright  y_topleft  \n",
       "Prim03.2_1of8   exp14_DIV14_processed_G002            814         53  \n",
       "Prim03.2_2of8   exp14_DIV14_processed_G002            801         68  \n",
       "Prim03.2_3of8   exp14_DIV14_processed_G002           1623        862  \n",
       "Prim03.2_4of8   exp14_DIV14_processed_G002            817         57  \n",
       "Prim03.2_5of8   exp14_DIV14_processed_G002           1623        862  \n",
       "Prim03.2_6of8   exp14_DIV14_processed_G002           1616        856  \n",
       "Prim03.2_7of8   exp14_DIV14_processed_G002           1584        823  \n",
       "Prim03.2_8of8   exp14_DIV14_processed_G002            817         57  \n",
       "Prim06.1.1_1of1 exp14_DIV14_processed_G007           2738        161  \n",
       "Prim06.1.2_1of1 exp14_DIV14_processed_G007           1763       1145  \n",
       "Prim06.3.5_1of1 exp14_DIV14_processed_G008           2735        151  \n",
       "Prim06.3.6_1of1 exp14_DIV14_processed_G008           1802       1094  \n",
       "Prim06.2.3_1of1 exp14_DIV14_processed_G009           2723         93  \n",
       "Prim06.2.4_1of1 exp14_DIV14_processed_G009           1783       1135  \n",
       "Prim01.1_1of8   exp14_DIV14_processed_G003            243          0  \n",
       "Prim01.1_2of8   exp14_DIV14_processed_G003            235          7  \n",
       "Prim01.1_3of8   exp14_DIV14_processed_G003            268          3  \n",
       "Prim01.1_4of8   exp14_DIV14_processed_G003            287          4  \n",
       "Prim01.1_5of8   exp14_DIV14_processed_G003           1013        755  \n",
       "Prim01.1_6of8   exp14_DIV14_processed_G003           1012        737  \n",
       "Prim01.1_7of8   exp14_DIV14_processed_G003           1013        728  \n",
       "Prim01.1_8of8   exp14_DIV14_processed_G003           1012        734  \n",
       "Prim01.2_1of8   exp14_DIV14_processed_G003            224          4  \n",
       "Prim01.2_2of8   exp14_DIV14_processed_G003            218          5  \n",
       "Prim01.2_3of8   exp14_DIV14_processed_G003            241          4  \n",
       "Prim01.2_4of8   exp14_DIV14_processed_G003            232          2  \n",
       "Prim01.2_5of8   exp14_DIV14_processed_G003           1017        751  \n",
       "Prim01.2_6of8   exp14_DIV14_processed_G003           1016        729  \n",
       "Prim01.2_7of8   exp14_DIV14_processed_G003           1016        725  \n",
       "Prim01.2_8of8   exp14_DIV14_processed_G003           1014        702  \n",
       "Prim02_1of8     exp14_DIV14_processed_G004           1828         35  \n",
       "Prim02_2of8     exp14_DIV14_processed_G004           1814         35  \n",
       "Prim02_3of8     exp14_DIV14_processed_G004           1840         26  \n",
       "Prim02_4of8     exp14_DIV14_processed_G004           1840         29  \n",
       "Prim02_5of8     exp14_DIV14_processed_G004           3653       1860  \n",
       "Prim02_6of8     exp14_DIV14_processed_G004           3648       1854  \n",
       "Prim02_7of8     exp14_DIV14_processed_G004           3628       1825  \n",
       "Prim02_8of8     exp14_DIV14_processed_G004           3625       1845  \n",
       "Prim04_1of8     exp14_DIV14_processed_G005            160         15  \n",
       "Prim04_2of8     exp14_DIV14_processed_G005            160         14  \n",
       "Prim04_3of8     exp14_DIV14_processed_G005            165         17  \n",
       "Prim04_4of8     exp14_DIV14_processed_G005            173         18  \n",
       "Prim04_5of8     exp14_DIV14_processed_G005            948        792  \n",
       "Prim04_6of8     exp14_DIV14_processed_G005            941        790  \n",
       "Prim04_7of8     exp14_DIV14_processed_G005            938        782  \n",
       "Prim04_8of8     exp14_DIV14_processed_G005            936        790  \n",
       "Prim05_1of4     exp14_DIV14_processed_G006           1581        231  \n",
       "Prim05_2of4     exp14_DIV14_processed_G006           1570        225  \n",
       "Prim05_3of4     exp14_DIV14_processed_G006           1565        227  \n",
       "Prim05_4of4     exp14_DIV14_processed_G006           1552        210  \n",
       "Prim06.4.7_1of1 exp14_DIV14_processed_G010           2813        318  \n",
       "Prim06.4.8_1of1 exp14_DIV14_processed_G010           1886       1241  \n",
       "Prim03.1_1of4   exp14_DIV14_processed_G012           2555        380  \n",
       "Prim03.1_2of4   exp14_DIV14_processed_G012           2555        269  \n",
       "Prim03.1_3of4   exp14_DIV14_processed_G012           2683        243  \n",
       "Prim03.1_4of4   exp14_DIV14_processed_G012           2600        340  "
      ],
      "text/html": "<div>\n<style scoped>\n    .dataframe tbody tr th:only-of-type {\n        vertical-align: middle;\n    }\n\n    .dataframe tbody tr th {\n        vertical-align: top;\n    }\n\n    .dataframe thead th {\n        text-align: right;\n    }\n</style>\n<table border=\"1\" class=\"dataframe\">\n  <thead>\n    <tr style=\"text-align: right;\">\n      <th></th>\n      <th></th>\n      <th>x_bottomright</th>\n      <th>x_topleft</th>\n      <th>y_bottomright</th>\n      <th>y_topleft</th>\n    </tr>\n  </thead>\n  <tbody>\n    <tr>\n      <th>Prim03.2_1of8</th>\n      <th>exp14_DIV14_processed_G002</th>\n      <td>9107</td>\n      <td>6190</td>\n      <td>814</td>\n      <td>53</td>\n    </tr>\n    <tr>\n      <th>Prim03.2_2of8</th>\n      <th>exp14_DIV14_processed_G002</th>\n      <td>3143</td>\n      <td>234</td>\n      <td>801</td>\n      <td>68</td>\n    </tr>\n    <tr>\n      <th>Prim03.2_3of8</th>\n      <th>exp14_DIV14_processed_G002</th>\n      <td>12035</td>\n      <td>9118</td>\n      <td>1623</td>\n      <td>862</td>\n    </tr>\n    <tr>\n      <th>Prim03.2_4of8</th>\n      <th>exp14_DIV14_processed_G002</th>\n      <td>6176</td>\n      <td>3260</td>\n      <td>817</td>\n      <td>57</td>\n    </tr>\n    <tr>\n      <th>Prim03.2_5of8</th>\n      <th>exp14_DIV14_processed_G002</th>\n      <td>9079</td>\n      <td>6163</td>\n      <td>1623</td>\n      <td>862</td>\n    </tr>\n    <tr>\n      <th>Prim03.2_6of8</th>\n      <th>exp14_DIV14_processed_G002</th>\n      <td>6150</td>\n      <td>3234</td>\n      <td>1616</td>\n      <td>856</td>\n    </tr>\n    <tr>\n      <th>Prim03.2_7of8</th>\n      <th>exp14_DIV14_processed_G002</th>\n      <td>3156</td>\n      <td>239</td>\n      <td>1584</td>\n      <td>823</td>\n    </tr>\n    <tr>\n      <th>Prim03.2_8of8</th>\n      <th>exp14_DIV14_processed_G002</th>\n      <td>12041</td>\n      <td>9125</td>\n      <td>817</td>\n      <td>57</td>\n    </tr>\n    <tr>\n      <th>Prim06.1.1_1of1</th>\n      <th>exp14_DIV14_processed_G007</th>\n      <td>1695</td>\n      <td>1016</td>\n      <td>2738</td>\n      <td>161</td>\n    </tr>\n    <tr>\n      <th>Prim06.1.2_1of1</th>\n      <th>exp14_DIV14_processed_G007</th>\n      <td>2743</td>\n      <td>120</td>\n      <td>1763</td>\n      <td>1145</td>\n    </tr>\n    <tr>\n      <th>Prim06.3.5_1of1</th>\n      <th>exp14_DIV14_processed_G008</th>\n      <td>1700</td>\n      <td>1016</td>\n      <td>2735</td>\n      <td>151</td>\n    </tr>\n    <tr>\n      <th>Prim06.3.6_1of1</th>\n      <th>exp14_DIV14_processed_G008</th>\n      <td>2639</td>\n      <td>109</td>\n      <td>1802</td>\n      <td>1094</td>\n    </tr>\n    <tr>\n      <th>Prim06.2.3_1of1</th>\n      <th>exp14_DIV14_processed_G009</th>\n      <td>1792</td>\n      <td>1096</td>\n      <td>2723</td>\n      <td>93</td>\n    </tr>\n    <tr>\n      <th>Prim06.2.4_1of1</th>\n      <th>exp14_DIV14_processed_G009</th>\n      <td>2735</td>\n      <td>191</td>\n      <td>1783</td>\n      <td>1135</td>\n    </tr>\n    <tr>\n      <th>Prim01.1_1of8</th>\n      <th>exp14_DIV14_processed_G003</th>\n      <td>4028</td>\n      <td>3323</td>\n      <td>243</td>\n      <td>0</td>\n    </tr>\n    <tr>\n      <th>Prim01.1_2of8</th>\n      <th>exp14_DIV14_processed_G003</th>\n      <td>4897</td>\n      <td>4187</td>\n      <td>235</td>\n      <td>7</td>\n    </tr>\n    <tr>\n      <th>Prim01.1_3of8</th>\n      <th>exp14_DIV14_processed_G003</th>\n      <td>5722</td>\n      <td>5014</td>\n      <td>268</td>\n      <td>3</td>\n    </tr>\n    <tr>\n      <th>Prim01.1_4of8</th>\n      <th>exp14_DIV14_processed_G003</th>\n      <td>6535</td>\n      <td>5844</td>\n      <td>287</td>\n      <td>4</td>\n    </tr>\n    <tr>\n      <th>Prim01.1_5of8</th>\n      <th>exp14_DIV14_processed_G003</th>\n      <td>6529</td>\n      <td>5851</td>\n      <td>1013</td>\n      <td>755</td>\n    </tr>\n    <tr>\n      <th>Prim01.1_6of8</th>\n      <th>exp14_DIV14_processed_G003</th>\n      <td>5695</td>\n      <td>5007</td>\n      <td>1012</td>\n      <td>737</td>\n    </tr>\n    <tr>\n      <th>Prim01.1_7of8</th>\n      <th>exp14_DIV14_processed_G003</th>\n      <td>4869</td>\n      <td>4178</td>\n      <td>1013</td>\n      <td>728</td>\n    </tr>\n    <tr>\n      <th>Prim01.1_8of8</th>\n      <th>exp14_DIV14_processed_G003</th>\n      <td>4001</td>\n      <td>3317</td>\n      <td>1012</td>\n      <td>734</td>\n    </tr>\n    <tr>\n      <th>Prim01.2_1of8</th>\n      <th>exp14_DIV14_processed_G003</th>\n      <td>690</td>\n      <td>37</td>\n      <td>224</td>\n      <td>4</td>\n    </tr>\n    <tr>\n      <th>Prim01.2_2of8</th>\n      <th>exp14_DIV14_processed_G003</th>\n      <td>1549</td>\n      <td>896</td>\n      <td>218</td>\n      <td>5</td>\n    </tr>\n    <tr>\n      <th>Prim01.2_3of8</th>\n      <th>exp14_DIV14_processed_G003</th>\n      <td>2398</td>\n      <td>1749</td>\n      <td>241</td>\n      <td>4</td>\n    </tr>\n    <tr>\n      <th>Prim01.2_4of8</th>\n      <th>exp14_DIV14_processed_G003</th>\n      <td>3212</td>\n      <td>2571</td>\n      <td>232</td>\n      <td>2</td>\n    </tr>\n    <tr>\n      <th>Prim01.2_5of8</th>\n      <th>exp14_DIV14_processed_G003</th>\n      <td>3213</td>\n      <td>2547</td>\n      <td>1017</td>\n      <td>751</td>\n    </tr>\n    <tr>\n      <th>Prim01.2_6of8</th>\n      <th>exp14_DIV14_processed_G003</th>\n      <td>2368</td>\n      <td>1744</td>\n      <td>1016</td>\n      <td>729</td>\n    </tr>\n    <tr>\n      <th>Prim01.2_7of8</th>\n      <th>exp14_DIV14_processed_G003</th>\n      <td>1524</td>\n      <td>870</td>\n      <td>1016</td>\n      <td>725</td>\n    </tr>\n    <tr>\n      <th>Prim01.2_8of8</th>\n      <th>exp14_DIV14_processed_G003</th>\n      <td>664</td>\n      <td>22</td>\n      <td>1014</td>\n      <td>702</td>\n    </tr>\n    <tr>\n      <th>Prim02_1of8</th>\n      <th>exp14_DIV14_processed_G004</th>\n      <td>1468</td>\n      <td>8</td>\n      <td>1828</td>\n      <td>35</td>\n    </tr>\n    <tr>\n      <th>Prim02_2of8</th>\n      <th>exp14_DIV14_processed_G004</th>\n      <td>3179</td>\n      <td>1608</td>\n      <td>1814</td>\n      <td>35</td>\n    </tr>\n    <tr>\n      <th>Prim02_3of8</th>\n      <th>exp14_DIV14_processed_G004</th>\n      <td>4836</td>\n      <td>3231</td>\n      <td>1840</td>\n      <td>26</td>\n    </tr>\n    <tr>\n      <th>Prim02_4of8</th>\n      <th>exp14_DIV14_processed_G004</th>\n      <td>6573</td>\n      <td>4976</td>\n      <td>1840</td>\n      <td>29</td>\n    </tr>\n    <tr>\n      <th>Prim02_5of8</th>\n      <th>exp14_DIV14_processed_G004</th>\n      <td>6587</td>\n      <td>4973</td>\n      <td>3653</td>\n      <td>1860</td>\n    </tr>\n    <tr>\n      <th>Prim02_6of8</th>\n      <th>exp14_DIV14_processed_G004</th>\n      <td>4862</td>\n      <td>3231</td>\n      <td>3648</td>\n      <td>1854</td>\n    </tr>\n    <tr>\n      <th>Prim02_7of8</th>\n      <th>exp14_DIV14_processed_G004</th>\n      <td>3197</td>\n      <td>1611</td>\n      <td>3628</td>\n      <td>1825</td>\n    </tr>\n    <tr>\n      <th>Prim02_8of8</th>\n      <th>exp14_DIV14_processed_G004</th>\n      <td>1491</td>\n      <td>11</td>\n      <td>3625</td>\n      <td>1845</td>\n    </tr>\n    <tr>\n      <th>Prim04_1of8</th>\n      <th>exp14_DIV14_processed_G005</th>\n      <td>498</td>\n      <td>185</td>\n      <td>160</td>\n      <td>15</td>\n    </tr>\n    <tr>\n      <th>Prim04_2of8</th>\n      <th>exp14_DIV14_processed_G005</th>\n      <td>925</td>\n      <td>600</td>\n      <td>160</td>\n      <td>14</td>\n    </tr>\n    <tr>\n      <th>Prim04_3of8</th>\n      <th>exp14_DIV14_processed_G005</th>\n      <td>1324</td>\n      <td>1015</td>\n      <td>165</td>\n      <td>17</td>\n    </tr>\n    <tr>\n      <th>Prim04_4of8</th>\n      <th>exp14_DIV14_processed_G005</th>\n      <td>1747</td>\n      <td>1417</td>\n      <td>173</td>\n      <td>18</td>\n    </tr>\n    <tr>\n      <th>Prim04_5of8</th>\n      <th>exp14_DIV14_processed_G005</th>\n      <td>1742</td>\n      <td>1426</td>\n      <td>948</td>\n      <td>792</td>\n    </tr>\n    <tr>\n      <th>Prim04_6of8</th>\n      <th>exp14_DIV14_processed_G005</th>\n      <td>1337</td>\n      <td>996</td>\n      <td>941</td>\n      <td>790</td>\n    </tr>\n    <tr>\n      <th>Prim04_7of8</th>\n      <th>exp14_DIV14_processed_G005</th>\n      <td>908</td>\n      <td>579</td>\n      <td>938</td>\n      <td>782</td>\n    </tr>\n    <tr>\n      <th>Prim04_8of8</th>\n      <th>exp14_DIV14_processed_G005</th>\n      <td>502</td>\n      <td>172</td>\n      <td>936</td>\n      <td>790</td>\n    </tr>\n    <tr>\n      <th>Prim05_1of4</th>\n      <th>exp14_DIV14_processed_G006</th>\n      <td>833</td>\n      <td>331</td>\n      <td>1581</td>\n      <td>231</td>\n    </tr>\n    <tr>\n      <th>Prim05_2of4</th>\n      <th>exp14_DIV14_processed_G006</th>\n      <td>1422</td>\n      <td>918</td>\n      <td>1570</td>\n      <td>225</td>\n    </tr>\n    <tr>\n      <th>Prim05_3of4</th>\n      <th>exp14_DIV14_processed_G006</th>\n      <td>1994</td>\n      <td>1511</td>\n      <td>1565</td>\n      <td>227</td>\n    </tr>\n    <tr>\n      <th>Prim05_4of4</th>\n      <th>exp14_DIV14_processed_G006</th>\n      <td>2576</td>\n      <td>2083</td>\n      <td>1552</td>\n      <td>210</td>\n    </tr>\n    <tr>\n      <th>Prim06.4.7_1of1</th>\n      <th>exp14_DIV14_processed_G010</th>\n      <td>1641</td>\n      <td>997</td>\n      <td>2813</td>\n      <td>318</td>\n    </tr>\n    <tr>\n      <th>Prim06.4.8_1of1</th>\n      <th>exp14_DIV14_processed_G010</th>\n      <td>2688</td>\n      <td>6</td>\n      <td>1886</td>\n      <td>1241</td>\n    </tr>\n    <tr>\n      <th>Prim03.1_1of4</th>\n      <th>exp14_DIV14_processed_G012</th>\n      <td>6794</td>\n      <td>2725</td>\n      <td>2555</td>\n      <td>380</td>\n    </tr>\n    <tr>\n      <th>Prim03.1_2of4</th>\n      <th>exp14_DIV14_processed_G012</th>\n      <td>9517</td>\n      <td>5388</td>\n      <td>2555</td>\n      <td>269</td>\n    </tr>\n    <tr>\n      <th>Prim03.1_3of4</th>\n      <th>exp14_DIV14_processed_G012</th>\n      <td>12329</td>\n      <td>8179</td>\n      <td>2683</td>\n      <td>243</td>\n    </tr>\n    <tr>\n      <th>Prim03.1_4of4</th>\n      <th>exp14_DIV14_processed_G012</th>\n      <td>4018</td>\n      <td>4</td>\n      <td>2600</td>\n      <td>340</td>\n    </tr>\n  </tbody>\n</table>\n</div>"
     },
     "metadata": {},
     "execution_count": 237
    }
   ],
   "source": [
    "fname = f'{path}/{which_dataset}/region_coordinates.csv'\n",
    "coos = pd.read_csv(fname, index_col=(0,1))\n",
    "\n",
    "coos"
   ]
  },
  {
   "cell_type": "code",
   "execution_count": 238,
   "metadata": {
    "tags": []
   },
   "outputs": [
    {
     "output_type": "stream",
     "name": "stdout",
     "text": [
      "['G002', 'G007', 'G008', 'G009', 'G003', 'G004', 'G005', 'G006', 'G010', 'G012']\n",
      "\n",
      "G002\n",
      "Prim03.2\n",
      "('Prim03.2_1of8', 'exp14_DIV14_processed_G002')\n",
      "('Prim03.2_2of8', 'exp14_DIV14_processed_G002')\n",
      "('Prim03.2_3of8', 'exp14_DIV14_processed_G002')\n",
      "('Prim03.2_4of8', 'exp14_DIV14_processed_G002')\n",
      "('Prim03.2_5of8', 'exp14_DIV14_processed_G002')\n",
      "('Prim03.2_6of8', 'exp14_DIV14_processed_G002')\n",
      "('Prim03.2_7of8', 'exp14_DIV14_processed_G002')\n",
      "('Prim03.2_8of8', 'exp14_DIV14_processed_G002')\n",
      "\n",
      "G007\n",
      "Prim06.1.1\n",
      "('Prim06.1.1_1of1', 'exp14_DIV14_processed_G007')\n",
      "Prim06.1.2\n",
      "('Prim06.1.2_1of1', 'exp14_DIV14_processed_G007')\n",
      "\n",
      "G008\n",
      "Prim06.3.5\n",
      "('Prim06.3.5_1of1', 'exp14_DIV14_processed_G008')\n",
      "Prim06.3.6\n",
      "('Prim06.3.6_1of1', 'exp14_DIV14_processed_G008')\n",
      "\n",
      "G009\n",
      "Prim06.2.3\n",
      "('Prim06.2.3_1of1', 'exp14_DIV14_processed_G009')\n",
      "Prim06.2.4\n",
      "('Prim06.2.4_1of1', 'exp14_DIV14_processed_G009')\n",
      "\n",
      "G003\n",
      "Prim01.1\n",
      "('Prim01.1_1of8', 'exp14_DIV14_processed_G003')\n",
      "('Prim01.1_2of8', 'exp14_DIV14_processed_G003')\n",
      "('Prim01.1_3of8', 'exp14_DIV14_processed_G003')\n",
      "('Prim01.1_4of8', 'exp14_DIV14_processed_G003')\n",
      "('Prim01.1_5of8', 'exp14_DIV14_processed_G003')\n",
      "('Prim01.1_6of8', 'exp14_DIV14_processed_G003')\n",
      "('Prim01.1_7of8', 'exp14_DIV14_processed_G003')\n",
      "('Prim01.1_8of8', 'exp14_DIV14_processed_G003')\n",
      "Prim01.2\n",
      "('Prim01.2_1of8', 'exp14_DIV14_processed_G003')\n",
      "('Prim01.2_2of8', 'exp14_DIV14_processed_G003')\n",
      "('Prim01.2_3of8', 'exp14_DIV14_processed_G003')\n",
      "('Prim01.2_4of8', 'exp14_DIV14_processed_G003')\n",
      "('Prim01.2_5of8', 'exp14_DIV14_processed_G003')\n",
      "('Prim01.2_6of8', 'exp14_DIV14_processed_G003')\n",
      "('Prim01.2_7of8', 'exp14_DIV14_processed_G003')\n",
      "('Prim01.2_8of8', 'exp14_DIV14_processed_G003')\n",
      "\n",
      "G004\n",
      "Prim02\n",
      "('Prim02_1of8', 'exp14_DIV14_processed_G004')\n",
      "('Prim02_2of8', 'exp14_DIV14_processed_G004')\n",
      "('Prim02_3of8', 'exp14_DIV14_processed_G004')\n",
      "('Prim02_4of8', 'exp14_DIV14_processed_G004')\n",
      "('Prim02_5of8', 'exp14_DIV14_processed_G004')\n",
      "('Prim02_6of8', 'exp14_DIV14_processed_G004')\n",
      "('Prim02_7of8', 'exp14_DIV14_processed_G004')\n",
      "('Prim02_8of8', 'exp14_DIV14_processed_G004')\n",
      "\n",
      "G005\n",
      "Prim04\n",
      "('Prim04_1of8', 'exp14_DIV14_processed_G005')\n",
      "('Prim04_2of8', 'exp14_DIV14_processed_G005')\n",
      "('Prim04_3of8', 'exp14_DIV14_processed_G005')\n",
      "('Prim04_4of8', 'exp14_DIV14_processed_G005')\n",
      "('Prim04_5of8', 'exp14_DIV14_processed_G005')\n",
      "('Prim04_6of8', 'exp14_DIV14_processed_G005')\n",
      "('Prim04_7of8', 'exp14_DIV14_processed_G005')\n",
      "('Prim04_8of8', 'exp14_DIV14_processed_G005')\n",
      "\n",
      "G006\n",
      "Prim05\n",
      "('Prim05_1of4', 'exp14_DIV14_processed_G006')\n",
      "('Prim05_2of4', 'exp14_DIV14_processed_G006')\n",
      "('Prim05_3of4', 'exp14_DIV14_processed_G006')\n",
      "('Prim05_4of4', 'exp14_DIV14_processed_G006')\n",
      "\n",
      "G010\n",
      "Prim06.4.7\n",
      "('Prim06.4.7_1of1', 'exp14_DIV14_processed_G010')\n",
      "Prim06.4.8\n",
      "('Prim06.4.8_1of1', 'exp14_DIV14_processed_G010')\n",
      "\n",
      "G012\n",
      "Prim03.1\n",
      "('Prim03.1_1of4', 'exp14_DIV14_processed_G012')\n",
      "('Prim03.1_2of4', 'exp14_DIV14_processed_G012')\n",
      "('Prim03.1_3of4', 'exp14_DIV14_processed_G012')\n",
      "('Prim03.1_4of4', 'exp14_DIV14_processed_G012')\n"
     ]
    }
   ],
   "source": [
    "areas = [idx[-4:] for idx in coos.index.unique(1)]\n",
    "print(areas)\n",
    "\n",
    "for area in areas:\n",
    "    print()\n",
    "    print(area)\n",
    "    files = glob.glob(f'{path}/{which_dataset}/{area}*')\n",
    "    green = imread([f for f in files if 'GFP' in f][0])\n",
    "    red = imread([f for f in files if 'RFP' in f][0])\n",
    "    transm = imread([f for f in files if 'Transmission' in f][0])\n",
    "\n",
    "    area_coos = coos.loc[(slice(None), f'{which_dataset}_{area}'), :]\n",
    "    area_primitives = np.unique([p[:p.rfind('_')] for p in area_coos.index.unique(0)])\n",
    "\n",
    "    for area_prim in area_primitives:\n",
    "        print(area_prim)\n",
    "        prim_coos = area_coos.index.get_level_values(0).str.contains(area_prim)\n",
    "        \n",
    "        prim_canvas = np.zeros((20000, 6000, 3), np.uint16)\n",
    "        insert_y, insert_x = 0, 0\n",
    "        insert_x_max = 0\n",
    "        for replicate, replicate_coos in area_coos[prim_coos].iterrows():\n",
    "            y_from = replicate_coos['y_topleft' ]\n",
    "            x_from = replicate_coos['x_topleft']\n",
    "            y_to = replicate_coos['y_bottomright']\n",
    "            x_to = replicate_coos['x_bottomright']\n",
    "\n",
    "            print(replicate)\n",
    "\n",
    "            g = green[y_from:y_to, x_from:x_to]\n",
    "            r = red[y_from:y_to, x_from:x_to]\n",
    "            b = transm[y_from:y_to, x_from:x_to]\n",
    "            img = np.stack([g,r,b], -1)\n",
    "\n",
    "            prim_canvas[insert_y:insert_y+img.shape[0], insert_x:img.shape[1], :] = img\n",
    "\n",
    "            insert_y += img.shape[0] + 50\n",
    "            insert_x_max = img.shape[1] if img.shape[1] > insert_x_max else insert_x_max\n",
    "\n",
    "        prim_canvas = prim_canvas[:insert_y+50, :insert_x_max]\n",
    "        viewer.add_image(np.moveaxis(prim_canvas, -1,0), name=str(area_prim), contrast_limits=(0, 16000), visible=False)\n",
    "        fname = f'{path}/processed2/{which_dataset}_{area_prim}_{area}.npy'\n",
    "        # np.save(fname, prim_canvas)\n",
    "\n",
    "        prim_canvas = Image.fromarray(img_as_ubyte(prim_canvas))\n",
    "        draw = ImageDraw.Draw(prim_canvas)\n",
    "        pil_font = ImageFont.truetype(\"/home/loaloa/.fonts/c/cmunbi.ttf\", 30)\n",
    "        \n",
    "        lbl = f'{which_dataset}_{area_prim}_{area}'\n",
    "        draw.text((10,10), lbl,  font=pil_font, fill=\"#ffffff\")\n",
    "        imwrite(fname.replace('.npy', '.png'), np.asarray(prim_canvas))"
   ]
  },
  {
   "cell_type": "code",
   "execution_count": null,
   "metadata": {},
   "outputs": [],
   "source": []
  },
  {
   "cell_type": "code",
   "execution_count": 4,
   "metadata": {},
   "outputs": [
    {
     "output_type": "execute_result",
     "data": {
      "text/plain": [
       "                                                                                   0\n",
       "Prim01.1   DIV14 exp12_DIV14 G025  /run/media/loaloa/lbb_ssd/primitives//processe...\n",
       "                 exp14_DIV14 G003  /run/media/loaloa/lbb_ssd/primitives//processe...\n",
       "           DIV7  exp14_DIV7  G001  /run/media/loaloa/lbb_ssd/primitives//processe...\n",
       "Prim01.2   DIV14 exp12_DIV14 G025  /run/media/loaloa/lbb_ssd/primitives//processe...\n",
       "                 exp14_DIV14 G003  /run/media/loaloa/lbb_ssd/primitives//processe...\n",
       "           DIV7  exp14_DIV7  G001  /run/media/loaloa/lbb_ssd/primitives//processe...\n",
       "Prim02     DIV14 exp14_DIV14 G004  /run/media/loaloa/lbb_ssd/primitives//processe...\n",
       "           DIV7  exp14_DIV7  G002  /run/media/loaloa/lbb_ssd/primitives//processe...\n",
       "Prim03.1   DIV14 exp14_DIV14 G012  /run/media/loaloa/lbb_ssd/primitives//processe...\n",
       "           DIV7  exp14_DIV7  G013  /run/media/loaloa/lbb_ssd/primitives//processe...\n",
       "                             G014  /run/media/loaloa/lbb_ssd/primitives//processe...\n",
       "Prim03.2   DIV14 exp14_DIV14 G002  /run/media/loaloa/lbb_ssd/primitives//processe...\n",
       "           DIV7  exp14_DIV7  G015  /run/media/loaloa/lbb_ssd/primitives//processe...\n",
       "                             G016  /run/media/loaloa/lbb_ssd/primitives//processe...\n",
       "Prim04     DIV14 exp12_DIV14 G001  /run/media/loaloa/lbb_ssd/primitives//processe...\n",
       "                 exp14_DIV14 G005  /run/media/loaloa/lbb_ssd/primitives//processe...\n",
       "           DIV7  exp14_DIV7  G003  /run/media/loaloa/lbb_ssd/primitives//processe...\n",
       "Prim05     DIV14 exp12_DIV14 G002  /run/media/loaloa/lbb_ssd/primitives//processe...\n",
       "                 exp14_DIV14 G006  /run/media/loaloa/lbb_ssd/primitives//processe...\n",
       "           DIV7  exp14_DIV7  G004  /run/media/loaloa/lbb_ssd/primitives//processe...\n",
       "Prim06.1.1 DIV14 exp12_DIV14 G007  /run/media/loaloa/lbb_ssd/primitives//processe...\n",
       "                 exp14_DIV14 G007  /run/media/loaloa/lbb_ssd/primitives//processe...\n",
       "           DIV7  exp14_DIV7  G009  /run/media/loaloa/lbb_ssd/primitives//processe...\n",
       "Prim06.1.2 DIV14 exp14_DIV14 G007  /run/media/loaloa/lbb_ssd/primitives//processe...\n",
       "           DIV7  exp14_DIV7  G010  /run/media/loaloa/lbb_ssd/primitives//processe...\n",
       "Prim06.2.3 DIV14 exp12_DIV14 G003  /run/media/loaloa/lbb_ssd/primitives//processe...\n",
       "                 exp14_DIV14 G009  /run/media/loaloa/lbb_ssd/primitives//processe...\n",
       "           DIV7  exp14_DIV7  G005  /run/media/loaloa/lbb_ssd/primitives//processe...\n",
       "Prim06.2.4 DIV14 exp12_DIV14 G004  /run/media/loaloa/lbb_ssd/primitives//processe...\n",
       "                 exp14_DIV14 G009  /run/media/loaloa/lbb_ssd/primitives//processe...\n",
       "           DIV7  exp14_DIV7  G006  /run/media/loaloa/lbb_ssd/primitives//processe...\n",
       "Prim06.3.5 DIV14 exp12_DIV14 G005  /run/media/loaloa/lbb_ssd/primitives//processe...\n",
       "                 exp14_DIV14 G008  /run/media/loaloa/lbb_ssd/primitives//processe...\n",
       "           DIV7  exp14_DIV7  G007  /run/media/loaloa/lbb_ssd/primitives//processe...\n",
       "Prim06.3.6 DIV14 exp12_DIV14 G006  /run/media/loaloa/lbb_ssd/primitives//processe...\n",
       "                 exp14_DIV14 G008  /run/media/loaloa/lbb_ssd/primitives//processe...\n",
       "           DIV7  exp14_DIV7  G008  /run/media/loaloa/lbb_ssd/primitives//processe...\n",
       "Prim06.4.7 DIV14 exp14_DIV14 G010  /run/media/loaloa/lbb_ssd/primitives//processe...\n",
       "           DIV7  exp14_DIV7  G011  /run/media/loaloa/lbb_ssd/primitives//processe...\n",
       "Prim06.4.8 DIV14 exp12_DIV14 G010  /run/media/loaloa/lbb_ssd/primitives//processe...\n",
       "                 exp14_DIV14 G010  /run/media/loaloa/lbb_ssd/primitives//processe...\n",
       "           DIV7  exp14_DIV7  G012  /run/media/loaloa/lbb_ssd/primitives//processe..."
      ],
      "text/html": "<div>\n<style scoped>\n    .dataframe tbody tr th:only-of-type {\n        vertical-align: middle;\n    }\n\n    .dataframe tbody tr th {\n        vertical-align: top;\n    }\n\n    .dataframe thead th {\n        text-align: right;\n    }\n</style>\n<table border=\"1\" class=\"dataframe\">\n  <thead>\n    <tr style=\"text-align: right;\">\n      <th></th>\n      <th></th>\n      <th></th>\n      <th></th>\n      <th>0</th>\n    </tr>\n  </thead>\n  <tbody>\n    <tr>\n      <th rowspan=\"3\" valign=\"top\">Prim01.1</th>\n      <th rowspan=\"2\" valign=\"top\">DIV14</th>\n      <th>exp12_DIV14</th>\n      <th>G025</th>\n      <td>/run/media/loaloa/lbb_ssd/primitives//processe...</td>\n    </tr>\n    <tr>\n      <th>exp14_DIV14</th>\n      <th>G003</th>\n      <td>/run/media/loaloa/lbb_ssd/primitives//processe...</td>\n    </tr>\n    <tr>\n      <th>DIV7</th>\n      <th>exp14_DIV7</th>\n      <th>G001</th>\n      <td>/run/media/loaloa/lbb_ssd/primitives//processe...</td>\n    </tr>\n    <tr>\n      <th rowspan=\"3\" valign=\"top\">Prim01.2</th>\n      <th rowspan=\"2\" valign=\"top\">DIV14</th>\n      <th>exp12_DIV14</th>\n      <th>G025</th>\n      <td>/run/media/loaloa/lbb_ssd/primitives//processe...</td>\n    </tr>\n    <tr>\n      <th>exp14_DIV14</th>\n      <th>G003</th>\n      <td>/run/media/loaloa/lbb_ssd/primitives//processe...</td>\n    </tr>\n    <tr>\n      <th>DIV7</th>\n      <th>exp14_DIV7</th>\n      <th>G001</th>\n      <td>/run/media/loaloa/lbb_ssd/primitives//processe...</td>\n    </tr>\n    <tr>\n      <th rowspan=\"2\" valign=\"top\">Prim02</th>\n      <th>DIV14</th>\n      <th>exp14_DIV14</th>\n      <th>G004</th>\n      <td>/run/media/loaloa/lbb_ssd/primitives//processe...</td>\n    </tr>\n    <tr>\n      <th>DIV7</th>\n      <th>exp14_DIV7</th>\n      <th>G002</th>\n      <td>/run/media/loaloa/lbb_ssd/primitives//processe...</td>\n    </tr>\n    <tr>\n      <th rowspan=\"3\" valign=\"top\">Prim03.1</th>\n      <th>DIV14</th>\n      <th>exp14_DIV14</th>\n      <th>G012</th>\n      <td>/run/media/loaloa/lbb_ssd/primitives//processe...</td>\n    </tr>\n    <tr>\n      <th rowspan=\"2\" valign=\"top\">DIV7</th>\n      <th rowspan=\"2\" valign=\"top\">exp14_DIV7</th>\n      <th>G013</th>\n      <td>/run/media/loaloa/lbb_ssd/primitives//processe...</td>\n    </tr>\n    <tr>\n      <th>G014</th>\n      <td>/run/media/loaloa/lbb_ssd/primitives//processe...</td>\n    </tr>\n    <tr>\n      <th rowspan=\"3\" valign=\"top\">Prim03.2</th>\n      <th>DIV14</th>\n      <th>exp14_DIV14</th>\n      <th>G002</th>\n      <td>/run/media/loaloa/lbb_ssd/primitives//processe...</td>\n    </tr>\n    <tr>\n      <th rowspan=\"2\" valign=\"top\">DIV7</th>\n      <th rowspan=\"2\" valign=\"top\">exp14_DIV7</th>\n      <th>G015</th>\n      <td>/run/media/loaloa/lbb_ssd/primitives//processe...</td>\n    </tr>\n    <tr>\n      <th>G016</th>\n      <td>/run/media/loaloa/lbb_ssd/primitives//processe...</td>\n    </tr>\n    <tr>\n      <th rowspan=\"3\" valign=\"top\">Prim04</th>\n      <th rowspan=\"2\" valign=\"top\">DIV14</th>\n      <th>exp12_DIV14</th>\n      <th>G001</th>\n      <td>/run/media/loaloa/lbb_ssd/primitives//processe...</td>\n    </tr>\n    <tr>\n      <th>exp14_DIV14</th>\n      <th>G005</th>\n      <td>/run/media/loaloa/lbb_ssd/primitives//processe...</td>\n    </tr>\n    <tr>\n      <th>DIV7</th>\n      <th>exp14_DIV7</th>\n      <th>G003</th>\n      <td>/run/media/loaloa/lbb_ssd/primitives//processe...</td>\n    </tr>\n    <tr>\n      <th rowspan=\"3\" valign=\"top\">Prim05</th>\n      <th rowspan=\"2\" valign=\"top\">DIV14</th>\n      <th>exp12_DIV14</th>\n      <th>G002</th>\n      <td>/run/media/loaloa/lbb_ssd/primitives//processe...</td>\n    </tr>\n    <tr>\n      <th>exp14_DIV14</th>\n      <th>G006</th>\n      <td>/run/media/loaloa/lbb_ssd/primitives//processe...</td>\n    </tr>\n    <tr>\n      <th>DIV7</th>\n      <th>exp14_DIV7</th>\n      <th>G004</th>\n      <td>/run/media/loaloa/lbb_ssd/primitives//processe...</td>\n    </tr>\n    <tr>\n      <th rowspan=\"3\" valign=\"top\">Prim06.1.1</th>\n      <th rowspan=\"2\" valign=\"top\">DIV14</th>\n      <th>exp12_DIV14</th>\n      <th>G007</th>\n      <td>/run/media/loaloa/lbb_ssd/primitives//processe...</td>\n    </tr>\n    <tr>\n      <th>exp14_DIV14</th>\n      <th>G007</th>\n      <td>/run/media/loaloa/lbb_ssd/primitives//processe...</td>\n    </tr>\n    <tr>\n      <th>DIV7</th>\n      <th>exp14_DIV7</th>\n      <th>G009</th>\n      <td>/run/media/loaloa/lbb_ssd/primitives//processe...</td>\n    </tr>\n    <tr>\n      <th rowspan=\"2\" valign=\"top\">Prim06.1.2</th>\n      <th>DIV14</th>\n      <th>exp14_DIV14</th>\n      <th>G007</th>\n      <td>/run/media/loaloa/lbb_ssd/primitives//processe...</td>\n    </tr>\n    <tr>\n      <th>DIV7</th>\n      <th>exp14_DIV7</th>\n      <th>G010</th>\n      <td>/run/media/loaloa/lbb_ssd/primitives//processe...</td>\n    </tr>\n    <tr>\n      <th rowspan=\"3\" valign=\"top\">Prim06.2.3</th>\n      <th rowspan=\"2\" valign=\"top\">DIV14</th>\n      <th>exp12_DIV14</th>\n      <th>G003</th>\n      <td>/run/media/loaloa/lbb_ssd/primitives//processe...</td>\n    </tr>\n    <tr>\n      <th>exp14_DIV14</th>\n      <th>G009</th>\n      <td>/run/media/loaloa/lbb_ssd/primitives//processe...</td>\n    </tr>\n    <tr>\n      <th>DIV7</th>\n      <th>exp14_DIV7</th>\n      <th>G005</th>\n      <td>/run/media/loaloa/lbb_ssd/primitives//processe...</td>\n    </tr>\n    <tr>\n      <th rowspan=\"3\" valign=\"top\">Prim06.2.4</th>\n      <th rowspan=\"2\" valign=\"top\">DIV14</th>\n      <th>exp12_DIV14</th>\n      <th>G004</th>\n      <td>/run/media/loaloa/lbb_ssd/primitives//processe...</td>\n    </tr>\n    <tr>\n      <th>exp14_DIV14</th>\n      <th>G009</th>\n      <td>/run/media/loaloa/lbb_ssd/primitives//processe...</td>\n    </tr>\n    <tr>\n      <th>DIV7</th>\n      <th>exp14_DIV7</th>\n      <th>G006</th>\n      <td>/run/media/loaloa/lbb_ssd/primitives//processe...</td>\n    </tr>\n    <tr>\n      <th rowspan=\"3\" valign=\"top\">Prim06.3.5</th>\n      <th rowspan=\"2\" valign=\"top\">DIV14</th>\n      <th>exp12_DIV14</th>\n      <th>G005</th>\n      <td>/run/media/loaloa/lbb_ssd/primitives//processe...</td>\n    </tr>\n    <tr>\n      <th>exp14_DIV14</th>\n      <th>G008</th>\n      <td>/run/media/loaloa/lbb_ssd/primitives//processe...</td>\n    </tr>\n    <tr>\n      <th>DIV7</th>\n      <th>exp14_DIV7</th>\n      <th>G007</th>\n      <td>/run/media/loaloa/lbb_ssd/primitives//processe...</td>\n    </tr>\n    <tr>\n      <th rowspan=\"3\" valign=\"top\">Prim06.3.6</th>\n      <th rowspan=\"2\" valign=\"top\">DIV14</th>\n      <th>exp12_DIV14</th>\n      <th>G006</th>\n      <td>/run/media/loaloa/lbb_ssd/primitives//processe...</td>\n    </tr>\n    <tr>\n      <th>exp14_DIV14</th>\n      <th>G008</th>\n      <td>/run/media/loaloa/lbb_ssd/primitives//processe...</td>\n    </tr>\n    <tr>\n      <th>DIV7</th>\n      <th>exp14_DIV7</th>\n      <th>G008</th>\n      <td>/run/media/loaloa/lbb_ssd/primitives//processe...</td>\n    </tr>\n    <tr>\n      <th rowspan=\"2\" valign=\"top\">Prim06.4.7</th>\n      <th>DIV14</th>\n      <th>exp14_DIV14</th>\n      <th>G010</th>\n      <td>/run/media/loaloa/lbb_ssd/primitives//processe...</td>\n    </tr>\n    <tr>\n      <th>DIV7</th>\n      <th>exp14_DIV7</th>\n      <th>G011</th>\n      <td>/run/media/loaloa/lbb_ssd/primitives//processe...</td>\n    </tr>\n    <tr>\n      <th rowspan=\"3\" valign=\"top\">Prim06.4.8</th>\n      <th rowspan=\"2\" valign=\"top\">DIV14</th>\n      <th>exp12_DIV14</th>\n      <th>G010</th>\n      <td>/run/media/loaloa/lbb_ssd/primitives//processe...</td>\n    </tr>\n    <tr>\n      <th>exp14_DIV14</th>\n      <th>G010</th>\n      <td>/run/media/loaloa/lbb_ssd/primitives//processe...</td>\n    </tr>\n    <tr>\n      <th>DIV7</th>\n      <th>exp14_DIV7</th>\n      <th>G012</th>\n      <td>/run/media/loaloa/lbb_ssd/primitives//processe...</td>\n    </tr>\n  </tbody>\n</table>\n</div>"
     },
     "metadata": {},
     "execution_count": 4
    }
   ],
   "source": [
    "all_files = []\n",
    "for f in glob.glob(f'{path}/processed2/*png'):\n",
    "    experiment = f[f.rfind('/')+1:f.rfind('/')+12]\n",
    "    experiment = experiment[:-1] if experiment.endswith('_') else experiment\n",
    "    DIV = experiment[6:]\n",
    "    prim = f[f.rfind('Prim'):f.rfind('_')]\n",
    "    mic_area = f[f.rfind('_')+1:f.rfind('_')+5]\n",
    "    \n",
    "    all_files.append(pd.Series([f], name=(prim,DIV,experiment,mic_area)))\n",
    "\n",
    "all_files = pd.concat(all_files, axis=1).T.sort_index()\n",
    "all_files.to_csv(f'{path}/processed2/file_index.csv')\n",
    "all_files"
   ]
  },
  {
   "cell_type": "code",
   "execution_count": 3,
   "metadata": {},
   "outputs": [
    {
     "output_type": "stream",
     "name": "stdout",
     "text": [
      "Index(['Prim01.1', 'Prim01.2', 'Prim02', 'Prim03.1', 'Prim03.2', 'Prim04',\n       'Prim05', 'Prim06.1.1', 'Prim06.1.2', 'Prim06.2.3', 'Prim06.2.4',\n       'Prim06.3.5', 'Prim06.3.6', 'Prim06.4.7', 'Prim06.4.8'],\n      dtype='object')\nIndex(['DIV14', 'DIV7'], dtype='object')\n\nPrim01.2_DIV7\n['/run/media/loaloa/lbb_ssd/primitives//processed2/exp14_DIV7_processed_Prim01.2_G001.png']\n(2122, 786, 2)\n"
     ]
    },
    {
     "output_type": "execute_result",
     "data": {
      "text/plain": [
       "<Image layer 'Prim01.2_DIV7' at 0x7f81077ffc10>"
      ]
     },
     "metadata": {},
     "execution_count": 3
    }
   ],
   "source": [
    "all_files = pd.read_csv(f'{path}/processed2/file_index.csv', index_col=(0,1,2,3))\n",
    "primitives = all_files.index.unique(0)\n",
    "print(primitives)\n",
    "divs = all_files.index.unique(1)\n",
    "print(divs)\n",
    "print()\n",
    "\n",
    "prim = primitives[1]\n",
    "div = divs[1]\n",
    "lbl = f'{prim}_{div}'\n",
    "dest_dir = f'{path}/processed2/results/{lbl}_masks/'\n",
    "print(lbl)\n",
    "\n",
    "files = all_files.loc[(prim, div)].values.flatten()\n",
    "print(files)\n",
    "\n",
    "png_images = [np.asarray(Image.open(f)) for f in files]\n",
    "npy_images = [np.load(f.replace('.png', '.npy')) for f in files]\n",
    "\n",
    "to_yshape = np.max([i.shape[0] for i in npy_images])\n",
    "png_images = [np.pad(im, ((to_yshape-im.shape[0],0), (0,0), (0,0)), mode='constant') for im in png_images]\n",
    "npy_images = [np.pad(im, ((to_yshape-im.shape[0],0), (0,0), (0,0)), mode='constant') for im in npy_images]\n",
    "\n",
    "png_prim_im = np.concatenate(png_images, 1)\n",
    "npy_prim_im = np.concatenate(npy_images, 1)[...,:2].astype(float) /2**16\n",
    "\n",
    "print(npy_prim_im.shape)\n",
    "\n",
    "\n",
    "viewer.add_image(png_prim_im, name=prim+'_'+div)\n",
    "# viewer.add_image(npy_prim_im, name='npy'+prim+div)"
   ]
  },
  {
   "cell_type": "code",
   "execution_count": 4,
   "metadata": {},
   "outputs": [],
   "source": [
    "add_n_shape_layers = 8\n",
    "for i in range(1, add_n_shape_layers+1):\n",
    "    viewer.add_labels(np.zeros(png_prim_im.shape[:2], int), name=f'{lbl}_{i:0>2}_lbl')\n",
    "    # break"
   ]
  },
  {
   "cell_type": "code",
   "execution_count": 5,
   "metadata": {},
   "outputs": [
    {
     "output_type": "execute_result",
     "data": {
      "text/plain": [
       "[]"
      ]
     },
     "metadata": {},
     "execution_count": 5
    }
   ],
   "source": [
    "layers = [np.load(f) for f in glob.glob(f'{path}/processed2/results/{lbl}_masks/*')]\n",
    "[viewer.add_labels(dat, name=f'{lbl}_{i:0>2}_lbl') for i, dat in enumerate(layers)]\n",
    "[print(d.shape) for d in layers]"
   ]
  },
  {
   "cell_type": "code",
   "execution_count": 6,
   "metadata": {},
   "outputs": [
    {
     "output_type": "execute_result",
     "data": {
      "text/plain": [
       "(array([ 0,  1,  2,  3,  4,  5,  6,  7,  8,  9, 10, 11, 12, 13, 14, 15, 16,\n",
       "        17, 18]),\n",
       " array([1632654,    2068,    2055,    2163,    1257,    1227,    1319,\n",
       "           2103,    2137,    2074,    2075,    2166,    2166,    1929,\n",
       "           1973,    2009,    2159,    2166,    2192]))"
      ]
     },
     "metadata": {},
     "execution_count": 6
    }
   ],
   "source": [
    "os.makedirs(dest_dir, exist_ok=True)\n",
    "layers = [l for l in viewer.layers if l.name.endswith('_lbl')]\n",
    "[np.save(f'{dest_dir}/{l.name}_mask.npy', l.data) for l in layers]\n",
    "\n",
    "all_masks = np.stack([l.data for l in layers], axis=-1).sum(-1)\n",
    "u = np.unique(all_masks, return_counts=True)\n",
    "u\n"
   ]
  },
  {
   "cell_type": "code",
   "execution_count": 7,
   "metadata": {},
   "outputs": [],
   "source": [
    "# {               # r     $d\n",
    "#     'Prim01.1': \n",
    "# }\n",
    "min_int_thr = .04\n",
    "min_seg_area_size = 100"
   ]
  },
  {
   "cell_type": "code",
   "execution_count": 8,
   "metadata": {
    "tags": []
   },
   "outputs": [
    {
     "output_type": "stream",
     "name": "stdout",
     "text": [
      "layer  0...   layer  1...   layer  2...   layer  3...   layer  4...   layer  5...   layer  6...   layer  7...   "
     ]
    },
    {
     "output_type": "execute_result",
     "data": {
      "text/plain": [
       "<Labels layer 'confirmation_mask' at 0x7f80e98b8eb0>"
      ]
     },
     "metadata": {},
     "execution_count": 8
    }
   ],
   "source": [
    "data = []\n",
    "confirmation_canvas = np.zeros_like(png_prim_im, float)\n",
    "confirmation_mask = np.zeros(png_prim_im.shape[:2], int)\n",
    "for i in range(len(layers)):\n",
    "    print('layer ', i, end='...   ')\n",
    "    dat = layers[i].data\n",
    "    \n",
    "    for j in range(6):\n",
    "        for k in range(3):\n",
    "            mask_idx = j*3 +k +1\n",
    "            mask = dat==mask_idx\n",
    "\n",
    "            channel_region = npy_prim_im[mask]\n",
    "            if mask.sum() > min_seg_area_size:\n",
    "                median_int = np.median(channel_region, 0)\n",
    "            else:\n",
    "                median_int = [0, 0]\n",
    "\n",
    "            confirmation_canvas[mask, 0] = median_int[0]\n",
    "            confirmation_canvas[mask, 1] = median_int[1]\n",
    "\n",
    "            if k == 0:\n",
    "                channel = 'inlet'\n",
    "                confirmation_mask[mask] = 1\n",
    "            elif k == 1:\n",
    "                channel = 'straight'\n",
    "                confirmation_mask[mask] = 2\n",
    "            elif k == 2:\n",
    "                channel = 'turn'\n",
    "                confirmation_mask[mask] = 3\n",
    "\n",
    "            \n",
    "            idx = pd.MultiIndex.from_tuples(((j, i, channel, 'RFP'), (j, i, channel, 'GFP')), \n",
    "                                            name=('design','replicate', 'channel', 'color'))\n",
    "            data.append(pd.Series(median_int, index=idx, name=(lbl)))\n",
    "\n",
    "viewer.add_image(confirmation_canvas, blending='additive', contrast_limits=(0,.05))\n",
    "confirmation_canvas[confirmation_canvas<min_int_thr] = 0\n",
    "viewer.add_image(confirmation_canvas, blending='additive', contrast_limits=(0,.05))\n",
    "imwrite(f'{dest_dir}/segmentation_overview.png', img_as_ubyte(confirmation_canvas))\n",
    "\n",
    "viewer.add_labels(confirmation_mask, blending='additive')\n",
    "\n"
   ]
  },
  {
   "cell_type": "code",
   "execution_count": 12,
   "metadata": {},
   "outputs": [
    {
     "output_type": "execute_result",
     "data": {
      "text/plain": [
       "                                 Prim01.2_DIV7\n",
       "design replicate channel  color               \n",
       "0      0         inlet    RFP         0.000000\n",
       "                          GFP         0.000000\n",
       "                 straight RFP         0.000000\n",
       "                          GFP         0.000000\n",
       "                 turn     RFP         0.000000\n",
       "...                                        ...\n",
       "5      7         inlet    GFP         0.107910\n",
       "                 straight RFP         0.037598\n",
       "                          GFP         0.154175\n",
       "                 turn     RFP         0.037842\n",
       "                          GFP         0.038086\n",
       "\n",
       "[288 rows x 1 columns]"
      ],
      "text/html": "<div>\n<style scoped>\n    .dataframe tbody tr th:only-of-type {\n        vertical-align: middle;\n    }\n\n    .dataframe tbody tr th {\n        vertical-align: top;\n    }\n\n    .dataframe thead th {\n        text-align: right;\n    }\n</style>\n<table border=\"1\" class=\"dataframe\">\n  <thead>\n    <tr style=\"text-align: right;\">\n      <th></th>\n      <th></th>\n      <th></th>\n      <th></th>\n      <th>Prim01.2_DIV7</th>\n    </tr>\n    <tr>\n      <th>design</th>\n      <th>replicate</th>\n      <th>channel</th>\n      <th>color</th>\n      <th></th>\n    </tr>\n  </thead>\n  <tbody>\n    <tr>\n      <th rowspan=\"5\" valign=\"top\">0</th>\n      <th rowspan=\"5\" valign=\"top\">0</th>\n      <th rowspan=\"2\" valign=\"top\">inlet</th>\n      <th>RFP</th>\n      <td>0.000000</td>\n    </tr>\n    <tr>\n      <th>GFP</th>\n      <td>0.000000</td>\n    </tr>\n    <tr>\n      <th rowspan=\"2\" valign=\"top\">straight</th>\n      <th>RFP</th>\n      <td>0.000000</td>\n    </tr>\n    <tr>\n      <th>GFP</th>\n      <td>0.000000</td>\n    </tr>\n    <tr>\n      <th>turn</th>\n      <th>RFP</th>\n      <td>0.000000</td>\n    </tr>\n    <tr>\n      <th>...</th>\n      <th>...</th>\n      <th>...</th>\n      <th>...</th>\n      <td>...</td>\n    </tr>\n    <tr>\n      <th rowspan=\"5\" valign=\"top\">5</th>\n      <th rowspan=\"5\" valign=\"top\">7</th>\n      <th>inlet</th>\n      <th>GFP</th>\n      <td>0.107910</td>\n    </tr>\n    <tr>\n      <th rowspan=\"2\" valign=\"top\">straight</th>\n      <th>RFP</th>\n      <td>0.037598</td>\n    </tr>\n    <tr>\n      <th>GFP</th>\n      <td>0.154175</td>\n    </tr>\n    <tr>\n      <th rowspan=\"2\" valign=\"top\">turn</th>\n      <th>RFP</th>\n      <td>0.037842</td>\n    </tr>\n    <tr>\n      <th>GFP</th>\n      <td>0.038086</td>\n    </tr>\n  </tbody>\n</table>\n<p>288 rows × 1 columns</p>\n</div>"
     },
     "metadata": {},
     "execution_count": 12
    }
   ],
   "source": [
    "data = pd.concat(data, axis=0).to_frame()\n",
    "data.to_csv(f'{dest_dir}/{lbl}_intensities.csv')\n",
    "data"
   ]
  },
  {
   "cell_type": "code",
   "execution_count": 13,
   "metadata": {},
   "outputs": [],
   "source": [
    "# col = data.index.get_level_values(3)\n",
    "# greens = data[col=='GFP']\n",
    "# reds = data[col=='RFP']\n",
    "# %matplotlib qt5\n",
    "# plt.hist(reds, bins=150, alpha=.5, range=(0,.10))\n",
    "# plt.hist(greens, bins=150, alpha=.5, range=(0,.10))\n",
    "\n",
    "data[data<min_int_thr] = 0"
   ]
  },
  {
   "cell_type": "code",
   "execution_count": 14,
   "metadata": {
    "tags": []
   },
   "outputs": [
    {
     "output_type": "execute_result",
     "data": {
      "text/plain": [
       "                  diff_ratio\n",
       "design replicate            \n",
       "0      0                 NaN\n",
       "1      0                 NaN\n",
       "2      0            1.199288\n",
       "3      0            0.683064\n",
       "4      0                 NaN\n",
       "5      0            1.328416\n",
       "0      1            1.088193\n",
       "1      1                 NaN\n",
       "2      1                 NaN\n",
       "3      1                 NaN\n",
       "4      1            0.642674\n",
       "5      1            1.853448\n",
       "0      2            0.697856\n",
       "1      2                 NaN\n",
       "2      2            0.830247\n",
       "3      2            0.951613\n",
       "4      2            0.231678\n",
       "5      2            1.230894\n",
       "0      3            3.062963\n",
       "1      3            0.127246\n",
       "2      3            1.160853\n",
       "3      3            1.237361\n",
       "4      3            0.238570\n",
       "5      3            0.000000\n",
       "0      4                 NaN\n",
       "1      4                 NaN\n",
       "2      4            0.467790\n",
       "3      4                 NaN\n",
       "4      4                 NaN\n",
       "5      4                 NaN\n",
       "0      5            0.752108\n",
       "1      5            1.298319\n",
       "2      5                 NaN\n",
       "3      5            0.824597\n",
       "4      5                 NaN\n",
       "5      5            0.240409\n",
       "0      6            1.134615\n",
       "1      6            0.409163\n",
       "2      6            1.191558\n",
       "3      6            1.031915\n",
       "4      6            0.218527\n",
       "5      6            0.665099\n",
       "0      7                 NaN\n",
       "1      7                 NaN\n",
       "2      7            0.340824\n",
       "3      7            1.080380\n",
       "4      7            0.965373\n",
       "5      7            1.428733"
      ],
      "text/html": "<div>\n<style scoped>\n    .dataframe tbody tr th:only-of-type {\n        vertical-align: middle;\n    }\n\n    .dataframe tbody tr th {\n        vertical-align: top;\n    }\n\n    .dataframe thead th {\n        text-align: right;\n    }\n</style>\n<table border=\"1\" class=\"dataframe\">\n  <thead>\n    <tr style=\"text-align: right;\">\n      <th></th>\n      <th></th>\n      <th>diff_ratio</th>\n    </tr>\n    <tr>\n      <th>design</th>\n      <th>replicate</th>\n      <th></th>\n    </tr>\n  </thead>\n  <tbody>\n    <tr>\n      <th>0</th>\n      <th>0</th>\n      <td>NaN</td>\n    </tr>\n    <tr>\n      <th>1</th>\n      <th>0</th>\n      <td>NaN</td>\n    </tr>\n    <tr>\n      <th>2</th>\n      <th>0</th>\n      <td>1.199288</td>\n    </tr>\n    <tr>\n      <th>3</th>\n      <th>0</th>\n      <td>0.683064</td>\n    </tr>\n    <tr>\n      <th>4</th>\n      <th>0</th>\n      <td>NaN</td>\n    </tr>\n    <tr>\n      <th>5</th>\n      <th>0</th>\n      <td>1.328416</td>\n    </tr>\n    <tr>\n      <th>0</th>\n      <th>1</th>\n      <td>1.088193</td>\n    </tr>\n    <tr>\n      <th>1</th>\n      <th>1</th>\n      <td>NaN</td>\n    </tr>\n    <tr>\n      <th>2</th>\n      <th>1</th>\n      <td>NaN</td>\n    </tr>\n    <tr>\n      <th>3</th>\n      <th>1</th>\n      <td>NaN</td>\n    </tr>\n    <tr>\n      <th>4</th>\n      <th>1</th>\n      <td>0.642674</td>\n    </tr>\n    <tr>\n      <th>5</th>\n      <th>1</th>\n      <td>1.853448</td>\n    </tr>\n    <tr>\n      <th>0</th>\n      <th>2</th>\n      <td>0.697856</td>\n    </tr>\n    <tr>\n      <th>1</th>\n      <th>2</th>\n      <td>NaN</td>\n    </tr>\n    <tr>\n      <th>2</th>\n      <th>2</th>\n      <td>0.830247</td>\n    </tr>\n    <tr>\n      <th>3</th>\n      <th>2</th>\n      <td>0.951613</td>\n    </tr>\n    <tr>\n      <th>4</th>\n      <th>2</th>\n      <td>0.231678</td>\n    </tr>\n    <tr>\n      <th>5</th>\n      <th>2</th>\n      <td>1.230894</td>\n    </tr>\n    <tr>\n      <th>0</th>\n      <th>3</th>\n      <td>3.062963</td>\n    </tr>\n    <tr>\n      <th>1</th>\n      <th>3</th>\n      <td>0.127246</td>\n    </tr>\n    <tr>\n      <th>2</th>\n      <th>3</th>\n      <td>1.160853</td>\n    </tr>\n    <tr>\n      <th>3</th>\n      <th>3</th>\n      <td>1.237361</td>\n    </tr>\n    <tr>\n      <th>4</th>\n      <th>3</th>\n      <td>0.238570</td>\n    </tr>\n    <tr>\n      <th>5</th>\n      <th>3</th>\n      <td>0.000000</td>\n    </tr>\n    <tr>\n      <th>0</th>\n      <th>4</th>\n      <td>NaN</td>\n    </tr>\n    <tr>\n      <th>1</th>\n      <th>4</th>\n      <td>NaN</td>\n    </tr>\n    <tr>\n      <th>2</th>\n      <th>4</th>\n      <td>0.467790</td>\n    </tr>\n    <tr>\n      <th>3</th>\n      <th>4</th>\n      <td>NaN</td>\n    </tr>\n    <tr>\n      <th>4</th>\n      <th>4</th>\n      <td>NaN</td>\n    </tr>\n    <tr>\n      <th>5</th>\n      <th>4</th>\n      <td>NaN</td>\n    </tr>\n    <tr>\n      <th>0</th>\n      <th>5</th>\n      <td>0.752108</td>\n    </tr>\n    <tr>\n      <th>1</th>\n      <th>5</th>\n      <td>1.298319</td>\n    </tr>\n    <tr>\n      <th>2</th>\n      <th>5</th>\n      <td>NaN</td>\n    </tr>\n    <tr>\n      <th>3</th>\n      <th>5</th>\n      <td>0.824597</td>\n    </tr>\n    <tr>\n      <th>4</th>\n      <th>5</th>\n      <td>NaN</td>\n    </tr>\n    <tr>\n      <th>5</th>\n      <th>5</th>\n      <td>0.240409</td>\n    </tr>\n    <tr>\n      <th>0</th>\n      <th>6</th>\n      <td>1.134615</td>\n    </tr>\n    <tr>\n      <th>1</th>\n      <th>6</th>\n      <td>0.409163</td>\n    </tr>\n    <tr>\n      <th>2</th>\n      <th>6</th>\n      <td>1.191558</td>\n    </tr>\n    <tr>\n      <th>3</th>\n      <th>6</th>\n      <td>1.031915</td>\n    </tr>\n    <tr>\n      <th>4</th>\n      <th>6</th>\n      <td>0.218527</td>\n    </tr>\n    <tr>\n      <th>5</th>\n      <th>6</th>\n      <td>0.665099</td>\n    </tr>\n    <tr>\n      <th>0</th>\n      <th>7</th>\n      <td>NaN</td>\n    </tr>\n    <tr>\n      <th>1</th>\n      <th>7</th>\n      <td>NaN</td>\n    </tr>\n    <tr>\n      <th>2</th>\n      <th>7</th>\n      <td>0.340824</td>\n    </tr>\n    <tr>\n      <th>3</th>\n      <th>7</th>\n      <td>1.080380</td>\n    </tr>\n    <tr>\n      <th>4</th>\n      <th>7</th>\n      <td>0.965373</td>\n    </tr>\n    <tr>\n      <th>5</th>\n      <th>7</th>\n      <td>1.428733</td>\n    </tr>\n  </tbody>\n</table>\n</div>"
     },
     "metadata": {},
     "execution_count": 14
    }
   ],
   "source": [
    "def get_metric(which_metric, dat):\n",
    "    inlet = dat[slice(None),slice(None),'inlet']\n",
    "    straight = dat[slice(None),slice(None),'straight']\n",
    "    turn = dat[slice(None),slice(None),'turn']\n",
    "\n",
    "    if which_metric == 'diff_ratio':\n",
    "        m = (straight-turn) /inlet\n",
    "        if (inlet == 0).all():\n",
    "            m.loc[:] = np.nan\n",
    "    \n",
    "    return m\n",
    "    # m.index = pd.MultiIndex.from_tuples([(*m.index[0], 'metric'),], names=m.index.names+['inlet'])\n",
    "    # return m.swaplevel()\n",
    "    \n",
    "\n",
    "\n",
    "which_metric = 'diff_ratio'\n",
    "all_metric = []\n",
    "for datapoint in data.index.droplevel([2,3]).unique():\n",
    "    \n",
    "    col_metrics = []\n",
    "    for color in data.index.unique('color'):\n",
    "        col_dat = data.loc[(*datapoint, slice(None), color), lbl]\n",
    "        col_metrics.append(get_metric(which_metric, col_dat))\n",
    "        \n",
    "    datapoint_metric = pd.concat(col_metrics).mean()\n",
    "    idx = pd.MultiIndex.from_tuples([datapoint], names=data.index.names[:2])\n",
    "    all_metric.append(pd.Series([datapoint_metric], index=idx, name=which_metric))\n",
    "\n",
    "\n",
    "    \n",
    "\n",
    "all_metrics = pd.concat(all_metric).to_frame()\n",
    "all_metrics.to_csv(f'{dest_dir}/{lbl}_metrics.csv')\n",
    "all_metrics"
   ]
  },
  {
   "cell_type": "code",
   "execution_count": 25,
   "metadata": {},
   "outputs": [
    {
     "output_type": "stream",
     "name": "stdout",
     "text": [
      "design  replicate\n0       0                 NaN\n1       0                 NaN\n2       0            1.199288\n3       0            0.683064\n4       0                 NaN\n5       0            1.328416\n0       1            1.088193\n1       1                 NaN\n2       1                 NaN\n3       1                 NaN\n4       1            0.642674\n5       1            1.853448\n0       2            0.697856\n1       2                 NaN\n2       2            0.830247\n3       2            0.951613\n4       2            0.231678\n5       2            1.230894\n0       3            3.062963\n1       3            0.127246\n2       3            1.160853\n3       3            1.237361\n4       3            0.238570\n5       3            0.000000\n0       4                 NaN\n1       4                 NaN\n2       4            0.467790\n3       4                 NaN\n4       4                 NaN\n5       4                 NaN\n0       5            0.752108\n1       5            1.298319\n2       5                 NaN\n3       5            0.824597\n4       5                 NaN\n5       5            0.240409\n0       6            1.134615\n1       6            0.409163\n2       6            1.191558\n3       6            1.031915\n4       6            0.218527\n5       6            0.665099\n0       7                 NaN\n1       7                 NaN\n2       7            0.340824\n3       7            1.080380\n4       7            0.965373\n5       7            1.428733\nName: diff_ratio, dtype: float64\n0 3\n1 2\n2 1\n3 0\n4 4\n5 5\n"
     ]
    },
    {
     "output_type": "display_data",
     "data": {
      "text/plain": "<Figure size 432x288 with 1 Axes>",
      "image/svg+xml": "<?xml version=\"1.0\" encoding=\"utf-8\" standalone=\"no\"?>\n<!DOCTYPE svg PUBLIC \"-//W3C//DTD SVG 1.1//EN\"\n  \"http://www.w3.org/Graphics/SVG/1.1/DTD/svg11.dtd\">\n<!-- Created with matplotlib (https://matplotlib.org/) -->\n<svg height=\"263.63625pt\" version=\"1.1\" viewBox=\"0 0 372.103125 263.63625\" width=\"372.103125pt\" xmlns=\"http://www.w3.org/2000/svg\" xmlns:xlink=\"http://www.w3.org/1999/xlink\">\n <metadata>\n  <rdf:RDF xmlns:cc=\"http://creativecommons.org/ns#\" xmlns:dc=\"http://purl.org/dc/elements/1.1/\" xmlns:rdf=\"http://www.w3.org/1999/02/22-rdf-syntax-ns#\">\n   <cc:Work>\n    <dc:type rdf:resource=\"http://purl.org/dc/dcmitype/StillImage\"/>\n    <dc:date>2021-12-06T10:30:40.085388</dc:date>\n    <dc:format>image/svg+xml</dc:format>\n    <dc:creator>\n     <cc:Agent>\n      <dc:title>Matplotlib v3.3.4, https://matplotlib.org/</dc:title>\n     </cc:Agent>\n    </dc:creator>\n   </cc:Work>\n  </rdf:RDF>\n </metadata>\n <defs>\n  <style type=\"text/css\">*{stroke-linecap:butt;stroke-linejoin:round;}</style>\n </defs>\n <g id=\"figure_1\">\n  <g id=\"patch_1\">\n   <path d=\"M 0 263.63625 \nL 372.103125 263.63625 \nL 372.103125 0 \nL 0 0 \nz\n\" style=\"fill:none;\"/>\n  </g>\n  <g id=\"axes_1\">\n   <g id=\"patch_2\">\n    <path d=\"M 30.103125 239.758125 \nL 364.903125 239.758125 \nL 364.903125 22.318125 \nL 30.103125 22.318125 \nz\n\" style=\"fill:#ffffff;\"/>\n   </g>\n   <g id=\"PathCollection_1\">\n    <defs>\n     <path d=\"M 0 1.581139 \nC 0.419323 1.581139 0.821528 1.41454 1.118034 1.118034 \nC 1.41454 0.821528 1.581139 0.419323 1.581139 0 \nC 1.581139 -0.419323 1.41454 -0.821528 1.118034 -1.118034 \nC 0.821528 -1.41454 0.419323 -1.581139 0 -1.581139 \nC -0.419323 -1.581139 -0.821528 -1.41454 -1.118034 -1.118034 \nC -1.41454 -0.821528 -1.581139 -0.419323 -1.581139 0 \nC -1.581139 0.419323 -1.41454 0.821528 -1.118034 1.118034 \nC -0.821528 1.41454 -0.419323 1.581139 0 1.581139 \nz\n\" id=\"m015b15a887\" style=\"stroke:#1f77b4;\"/>\n    </defs>\n    <g clip-path=\"url(#p2245b8c63b)\">\n     <use style=\"fill:#1f77b4;stroke:#1f77b4;\" x=\"45.321307\" xlink:href=\"#m015b15a887\" y=\"185.791973\"/>\n     <use style=\"fill:#1f77b4;stroke:#1f77b4;\" x=\"45.321307\" xlink:href=\"#m015b15a887\" y=\"168.460779\"/>\n     <use style=\"fill:#1f77b4;stroke:#1f77b4;\" x=\"45.321307\" xlink:href=\"#m015b15a887\" y=\"150.01963\"/>\n     <use style=\"fill:#1f77b4;stroke:#1f77b4;\" x=\"45.321307\" xlink:href=\"#m015b15a887\" y=\"176.657948\"/>\n     <use style=\"fill:#1f77b4;stroke:#1f77b4;\" x=\"45.321307\" xlink:href=\"#m015b15a887\" y=\"163.278374\"/>\n     <use style=\"fill:#1f77b4;stroke:#1f77b4;\" x=\"45.321307\" xlink:href=\"#m015b15a887\" y=\"160.150625\"/>\n    </g>\n   </g>\n   <g id=\"PathCollection_2\">\n    <defs>\n     <path d=\"M 11.18034 0 \nL -11.18034 -0 \n\" id=\"mc4ddfbcced\" style=\"stroke:#000000;stroke-width:1.5;\"/>\n    </defs>\n    <g clip-path=\"url(#p2245b8c63b)\">\n     <use style=\"stroke:#000000;stroke-width:1.5;\" x=\"45.321307\" xlink:href=\"#mc4ddfbcced\" y=\"165.869577\"/>\n    </g>\n   </g>\n   <g id=\"PathCollection_3\">\n    <defs>\n     <path d=\"M 0 1.581139 \nC 0.419323 1.581139 0.821528 1.41454 1.118034 1.118034 \nC 1.41454 0.821528 1.581139 0.419323 1.581139 0 \nC 1.581139 -0.419323 1.41454 -0.821528 1.118034 -1.118034 \nC 0.821528 -1.41454 0.419323 -1.581139 0 -1.581139 \nC -0.419323 -1.581139 -0.821528 -1.41454 -1.118034 -1.118034 \nC -1.41454 -0.821528 -1.581139 -0.419323 -1.581139 0 \nC -1.581139 0.419323 -1.41454 0.821528 -1.118034 1.118034 \nC -0.821528 1.41454 -0.419323 1.581139 0 1.581139 \nz\n\" id=\"mbdddd67451\" style=\"stroke:#ff7f0e;\"/>\n    </defs>\n    <g clip-path=\"url(#p2245b8c63b)\">\n     <use style=\"fill:#ff7f0e;stroke:#ff7f0e;\" x=\"106.194034\" xlink:href=\"#mbdddd67451\" y=\"152.476693\"/>\n     <use style=\"fill:#ff7f0e;stroke:#ff7f0e;\" x=\"106.194034\" xlink:href=\"#mbdddd67451\" y=\"176.293308\"/>\n     <use style=\"fill:#ff7f0e;stroke:#ff7f0e;\" x=\"106.194034\" xlink:href=\"#mbdddd67451\" y=\"154.957186\"/>\n     <use style=\"fill:#ff7f0e;stroke:#ff7f0e;\" x=\"106.194034\" xlink:href=\"#mbdddd67451\" y=\"199.684994\"/>\n     <use style=\"fill:#ff7f0e;stroke:#ff7f0e;\" x=\"106.194034\" xlink:href=\"#mbdddd67451\" y=\"152.975548\"/>\n     <use style=\"fill:#ff7f0e;stroke:#ff7f0e;\" x=\"106.194034\" xlink:href=\"#mbdddd67451\" y=\"207.878923\"/>\n    </g>\n   </g>\n   <g id=\"PathCollection_4\">\n    <g clip-path=\"url(#p2245b8c63b)\">\n     <use style=\"stroke:#000000;stroke-width:1.5;\" x=\"106.194034\" xlink:href=\"#mc4ddfbcced\" y=\"165.625247\"/>\n    </g>\n   </g>\n   <g id=\"PathCollection_5\">\n    <defs>\n     <path d=\"M 0 1.581139 \nC 0.419323 1.581139 0.821528 1.41454 1.118034 1.118034 \nC 1.41454 0.821528 1.581139 0.419323 1.581139 0 \nC 1.581139 -0.419323 1.41454 -0.821528 1.118034 -1.118034 \nC 0.821528 -1.41454 0.419323 -1.581139 0 -1.581139 \nC -0.419323 -1.581139 -0.821528 -1.41454 -1.118034 -1.118034 \nC -1.41454 -0.821528 -1.581139 -0.419323 -1.581139 0 \nC -1.581139 0.419323 -1.41454 0.821528 -1.118034 1.118034 \nC -0.821528 1.41454 -0.419323 1.581139 0 1.581139 \nz\n\" id=\"m7687408e7c\" style=\"stroke:#2ca02c;\"/>\n    </defs>\n    <g clip-path=\"url(#p2245b8c63b)\">\n     <use style=\"fill:#2ca02c;stroke:#2ca02c;\" x=\"167.066761\" xlink:href=\"#m7687408e7c\" y=\"221.662516\"/>\n     <use style=\"fill:#2ca02c;stroke:#2ca02c;\" x=\"167.066761\" xlink:href=\"#m7687408e7c\" y=\"146.08558\"/>\n     <use style=\"fill:#2ca02c;stroke:#2ca02c;\" x=\"167.066761\" xlink:href=\"#m7687408e7c\" y=\"203.468583\"/>\n    </g>\n   </g>\n   <g id=\"PathCollection_6\">\n    <g clip-path=\"url(#p2245b8c63b)\">\n     <use style=\"stroke:#000000;stroke-width:1.5;\" x=\"167.066761\" xlink:href=\"#mc4ddfbcced\" y=\"203.468583\"/>\n    </g>\n   </g>\n   <g id=\"PathCollection_7\">\n    <defs>\n     <path d=\"M 0 1.581139 \nC 0.419323 1.581139 0.821528 1.41454 1.118034 1.118034 \nC 1.41454 0.821528 1.581139 0.419323 1.581139 0 \nC 1.581139 -0.419323 1.41454 -0.821528 1.118034 -1.118034 \nC 0.821528 -1.41454 0.419323 -1.581139 0 -1.581139 \nC -0.419323 -1.581139 -0.821528 -1.41454 -1.118034 -1.118034 \nC -1.41454 -0.821528 -1.581139 -0.419323 -1.581139 0 \nC -1.581139 0.419323 -1.41454 0.821528 -1.118034 1.118034 \nC -0.821528 1.41454 -0.419323 1.581139 0 1.581139 \nz\n\" id=\"m759064a4fe\" style=\"stroke:#d62728;\"/>\n    </defs>\n    <g clip-path=\"url(#p2245b8c63b)\">\n     <use style=\"fill:#d62728;stroke:#d62728;\" x=\"227.939489\" xlink:href=\"#m759064a4fe\" y=\"159.646356\"/>\n     <use style=\"fill:#d62728;stroke:#d62728;\" x=\"227.939489\" xlink:href=\"#m759064a4fe\" y=\"184.837362\"/>\n     <use style=\"fill:#d62728;stroke:#d62728;\" x=\"227.939489\" xlink:href=\"#m759064a4fe\" y=\"32.201761\"/>\n     <use style=\"fill:#d62728;stroke:#d62728;\" x=\"227.939489\" xlink:href=\"#m759064a4fe\" y=\"181.33612\"/>\n     <use style=\"fill:#d62728;stroke:#d62728;\" x=\"227.939489\" xlink:href=\"#m759064a4fe\" y=\"156.65045\"/>\n    </g>\n   </g>\n   <g id=\"PathCollection_8\">\n    <g clip-path=\"url(#p2245b8c63b)\">\n     <use style=\"stroke:#000000;stroke-width:1.5;\" x=\"227.939489\" xlink:href=\"#mc4ddfbcced\" y=\"159.646356\"/>\n    </g>\n   </g>\n   <g id=\"PathCollection_9\">\n    <defs>\n     <path d=\"M 0 1.581139 \nC 0.419323 1.581139 0.821528 1.41454 1.118034 1.118034 \nC 1.41454 0.821528 1.581139 0.419323 1.581139 0 \nC 1.581139 -0.419323 1.41454 -0.821528 1.118034 -1.118034 \nC 0.821528 -1.41454 0.419323 -1.581139 0 -1.581139 \nC -0.419323 -1.581139 -0.821528 -1.41454 -1.118034 -1.118034 \nC -1.41454 -0.821528 -1.581139 -0.419323 -1.581139 0 \nC -1.581139 0.419323 -1.41454 0.821528 -1.118034 1.118034 \nC -0.821528 1.41454 -0.419323 1.581139 0 1.581139 \nz\n\" id=\"m778a37a7a5\" style=\"stroke:#9467bd;\"/>\n    </defs>\n    <g clip-path=\"url(#p2245b8c63b)\">\n     <use style=\"fill:#9467bd;stroke:#9467bd;\" x=\"288.812216\" xlink:href=\"#m778a37a7a5\" y=\"188.398627\"/>\n     <use style=\"fill:#9467bd;stroke:#9467bd;\" x=\"288.812216\" xlink:href=\"#m778a37a7a5\" y=\"214.922784\"/>\n     <use style=\"fill:#9467bd;stroke:#9467bd;\" x=\"288.812216\" xlink:href=\"#m778a37a7a5\" y=\"214.478014\"/>\n     <use style=\"fill:#9467bd;stroke:#9467bd;\" x=\"288.812216\" xlink:href=\"#m778a37a7a5\" y=\"215.771513\"/>\n     <use style=\"fill:#9467bd;stroke:#9467bd;\" x=\"288.812216\" xlink:href=\"#m778a37a7a5\" y=\"167.572783\"/>\n    </g>\n   </g>\n   <g id=\"PathCollection_10\">\n    <g clip-path=\"url(#p2245b8c63b)\">\n     <use style=\"stroke:#000000;stroke-width:1.5;\" x=\"288.812216\" xlink:href=\"#mc4ddfbcced\" y=\"214.478014\"/>\n    </g>\n   </g>\n   <g id=\"PathCollection_11\">\n    <defs>\n     <path d=\"M 0 1.581139 \nC 0.419323 1.581139 0.821528 1.41454 1.118034 1.118034 \nC 1.41454 0.821528 1.581139 0.419323 1.581139 0 \nC 1.581139 -0.419323 1.41454 -0.821528 1.118034 -1.118034 \nC 0.821528 -1.41454 0.419323 -1.581139 0 -1.581139 \nC -0.419323 -1.581139 -0.821528 -1.41454 -1.118034 -1.118034 \nC -1.41454 -0.821528 -1.581139 -0.419323 -1.581139 0 \nC -1.581139 0.419323 -1.41454 0.821528 -1.118034 1.118034 \nC -0.821528 1.41454 -0.419323 1.581139 0 1.581139 \nz\n\" id=\"md819109cb2\" style=\"stroke:#8c564b;\"/>\n    </defs>\n    <g clip-path=\"url(#p2245b8c63b)\">\n     <use style=\"fill:#8c564b;stroke:#8c564b;\" x=\"349.684943\" xlink:href=\"#md819109cb2\" y=\"144.143239\"/>\n     <use style=\"fill:#8c564b;stroke:#8c564b;\" x=\"349.684943\" xlink:href=\"#md819109cb2\" y=\"110.259534\"/>\n     <use style=\"fill:#8c564b;stroke:#8c564b;\" x=\"349.684943\" xlink:href=\"#md819109cb2\" y=\"150.436951\"/>\n     <use style=\"fill:#8c564b;stroke:#8c564b;\" x=\"349.684943\" xlink:href=\"#md819109cb2\" y=\"229.874489\"/>\n     <use style=\"fill:#8c564b;stroke:#8c564b;\" x=\"349.684943\" xlink:href=\"#md819109cb2\" y=\"214.359334\"/>\n     <use style=\"fill:#8c564b;stroke:#8c564b;\" x=\"349.684943\" xlink:href=\"#md819109cb2\" y=\"186.951349\"/>\n     <use style=\"fill:#8c564b;stroke:#8c564b;\" x=\"349.684943\" xlink:href=\"#md819109cb2\" y=\"137.669144\"/>\n    </g>\n   </g>\n   <g id=\"PathCollection_12\">\n    <g clip-path=\"url(#p2245b8c63b)\">\n     <use style=\"stroke:#000000;stroke-width:1.5;\" x=\"349.684943\" xlink:href=\"#mc4ddfbcced\" y=\"150.436951\"/>\n    </g>\n   </g>\n   <g id=\"matplotlib.axis_1\">\n    <g id=\"xtick_1\">\n     <g id=\"line2d_1\">\n      <defs>\n       <path d=\"M 0 0 \nL 0 3.5 \n\" id=\"mc9fac8b690\" style=\"stroke:#000000;stroke-width:0.8;\"/>\n      </defs>\n      <g>\n       <use style=\"stroke:#000000;stroke-width:0.8;\" x=\"45.321307\" xlink:href=\"#mc9fac8b690\" y=\"239.758125\"/>\n      </g>\n     </g>\n     <g id=\"text_1\">\n      <!-- 0 -->\n      <g transform=\"translate(42.140057 254.356563)scale(0.1 -0.1)\">\n       <defs>\n        <path d=\"M 31.78125 66.40625 \nQ 24.171875 66.40625 20.328125 58.90625 \nQ 16.5 51.421875 16.5 36.375 \nQ 16.5 21.390625 20.328125 13.890625 \nQ 24.171875 6.390625 31.78125 6.390625 \nQ 39.453125 6.390625 43.28125 13.890625 \nQ 47.125 21.390625 47.125 36.375 \nQ 47.125 51.421875 43.28125 58.90625 \nQ 39.453125 66.40625 31.78125 66.40625 \nz\nM 31.78125 74.21875 \nQ 44.046875 74.21875 50.515625 64.515625 \nQ 56.984375 54.828125 56.984375 36.375 \nQ 56.984375 17.96875 50.515625 8.265625 \nQ 44.046875 -1.421875 31.78125 -1.421875 \nQ 19.53125 -1.421875 13.0625 8.265625 \nQ 6.59375 17.96875 6.59375 36.375 \nQ 6.59375 54.828125 13.0625 64.515625 \nQ 19.53125 74.21875 31.78125 74.21875 \nz\n\" id=\"DejaVuSans-48\"/>\n       </defs>\n       <use xlink:href=\"#DejaVuSans-48\"/>\n      </g>\n     </g>\n    </g>\n    <g id=\"xtick_2\">\n     <g id=\"line2d_2\">\n      <g>\n       <use style=\"stroke:#000000;stroke-width:0.8;\" x=\"106.194034\" xlink:href=\"#mc9fac8b690\" y=\"239.758125\"/>\n      </g>\n     </g>\n     <g id=\"text_2\">\n      <!-- 1 -->\n      <g transform=\"translate(103.012784 254.356563)scale(0.1 -0.1)\">\n       <defs>\n        <path d=\"M 12.40625 8.296875 \nL 28.515625 8.296875 \nL 28.515625 63.921875 \nL 10.984375 60.40625 \nL 10.984375 69.390625 \nL 28.421875 72.90625 \nL 38.28125 72.90625 \nL 38.28125 8.296875 \nL 54.390625 8.296875 \nL 54.390625 0 \nL 12.40625 0 \nz\n\" id=\"DejaVuSans-49\"/>\n       </defs>\n       <use xlink:href=\"#DejaVuSans-49\"/>\n      </g>\n     </g>\n    </g>\n    <g id=\"xtick_3\">\n     <g id=\"line2d_3\">\n      <g>\n       <use style=\"stroke:#000000;stroke-width:0.8;\" x=\"167.066761\" xlink:href=\"#mc9fac8b690\" y=\"239.758125\"/>\n      </g>\n     </g>\n     <g id=\"text_3\">\n      <!-- 2 -->\n      <g transform=\"translate(163.885511 254.356563)scale(0.1 -0.1)\">\n       <defs>\n        <path d=\"M 19.1875 8.296875 \nL 53.609375 8.296875 \nL 53.609375 0 \nL 7.328125 0 \nL 7.328125 8.296875 \nQ 12.9375 14.109375 22.625 23.890625 \nQ 32.328125 33.6875 34.8125 36.53125 \nQ 39.546875 41.84375 41.421875 45.53125 \nQ 43.3125 49.21875 43.3125 52.78125 \nQ 43.3125 58.59375 39.234375 62.25 \nQ 35.15625 65.921875 28.609375 65.921875 \nQ 23.96875 65.921875 18.8125 64.3125 \nQ 13.671875 62.703125 7.8125 59.421875 \nL 7.8125 69.390625 \nQ 13.765625 71.78125 18.9375 73 \nQ 24.125 74.21875 28.421875 74.21875 \nQ 39.75 74.21875 46.484375 68.546875 \nQ 53.21875 62.890625 53.21875 53.421875 \nQ 53.21875 48.921875 51.53125 44.890625 \nQ 49.859375 40.875 45.40625 35.40625 \nQ 44.1875 33.984375 37.640625 27.21875 \nQ 31.109375 20.453125 19.1875 8.296875 \nz\n\" id=\"DejaVuSans-50\"/>\n       </defs>\n       <use xlink:href=\"#DejaVuSans-50\"/>\n      </g>\n     </g>\n    </g>\n    <g id=\"xtick_4\">\n     <g id=\"line2d_4\">\n      <g>\n       <use style=\"stroke:#000000;stroke-width:0.8;\" x=\"227.939489\" xlink:href=\"#mc9fac8b690\" y=\"239.758125\"/>\n      </g>\n     </g>\n     <g id=\"text_4\">\n      <!-- 3 -->\n      <g transform=\"translate(224.758239 254.356563)scale(0.1 -0.1)\">\n       <defs>\n        <path d=\"M 40.578125 39.3125 \nQ 47.65625 37.796875 51.625 33 \nQ 55.609375 28.21875 55.609375 21.1875 \nQ 55.609375 10.40625 48.1875 4.484375 \nQ 40.765625 -1.421875 27.09375 -1.421875 \nQ 22.515625 -1.421875 17.65625 -0.515625 \nQ 12.796875 0.390625 7.625 2.203125 \nL 7.625 11.71875 \nQ 11.71875 9.328125 16.59375 8.109375 \nQ 21.484375 6.890625 26.8125 6.890625 \nQ 36.078125 6.890625 40.9375 10.546875 \nQ 45.796875 14.203125 45.796875 21.1875 \nQ 45.796875 27.640625 41.28125 31.265625 \nQ 36.765625 34.90625 28.71875 34.90625 \nL 20.21875 34.90625 \nL 20.21875 43.015625 \nL 29.109375 43.015625 \nQ 36.375 43.015625 40.234375 45.921875 \nQ 44.09375 48.828125 44.09375 54.296875 \nQ 44.09375 59.90625 40.109375 62.90625 \nQ 36.140625 65.921875 28.71875 65.921875 \nQ 24.65625 65.921875 20.015625 65.03125 \nQ 15.375 64.15625 9.8125 62.3125 \nL 9.8125 71.09375 \nQ 15.4375 72.65625 20.34375 73.4375 \nQ 25.25 74.21875 29.59375 74.21875 \nQ 40.828125 74.21875 47.359375 69.109375 \nQ 53.90625 64.015625 53.90625 55.328125 \nQ 53.90625 49.265625 50.4375 45.09375 \nQ 46.96875 40.921875 40.578125 39.3125 \nz\n\" id=\"DejaVuSans-51\"/>\n       </defs>\n       <use xlink:href=\"#DejaVuSans-51\"/>\n      </g>\n     </g>\n    </g>\n    <g id=\"xtick_5\">\n     <g id=\"line2d_5\">\n      <g>\n       <use style=\"stroke:#000000;stroke-width:0.8;\" x=\"288.812216\" xlink:href=\"#mc9fac8b690\" y=\"239.758125\"/>\n      </g>\n     </g>\n     <g id=\"text_5\">\n      <!-- 4 -->\n      <g transform=\"translate(285.630966 254.356563)scale(0.1 -0.1)\">\n       <defs>\n        <path d=\"M 37.796875 64.3125 \nL 12.890625 25.390625 \nL 37.796875 25.390625 \nz\nM 35.203125 72.90625 \nL 47.609375 72.90625 \nL 47.609375 25.390625 \nL 58.015625 25.390625 \nL 58.015625 17.1875 \nL 47.609375 17.1875 \nL 47.609375 0 \nL 37.796875 0 \nL 37.796875 17.1875 \nL 4.890625 17.1875 \nL 4.890625 26.703125 \nz\n\" id=\"DejaVuSans-52\"/>\n       </defs>\n       <use xlink:href=\"#DejaVuSans-52\"/>\n      </g>\n     </g>\n    </g>\n    <g id=\"xtick_6\">\n     <g id=\"line2d_6\">\n      <g>\n       <use style=\"stroke:#000000;stroke-width:0.8;\" x=\"349.684943\" xlink:href=\"#mc9fac8b690\" y=\"239.758125\"/>\n      </g>\n     </g>\n     <g id=\"text_6\">\n      <!-- 5 -->\n      <g transform=\"translate(346.503693 254.356563)scale(0.1 -0.1)\">\n       <defs>\n        <path d=\"M 10.796875 72.90625 \nL 49.515625 72.90625 \nL 49.515625 64.59375 \nL 19.828125 64.59375 \nL 19.828125 46.734375 \nQ 21.96875 47.46875 24.109375 47.828125 \nQ 26.265625 48.1875 28.421875 48.1875 \nQ 40.625 48.1875 47.75 41.5 \nQ 54.890625 34.8125 54.890625 23.390625 \nQ 54.890625 11.625 47.5625 5.09375 \nQ 40.234375 -1.421875 26.90625 -1.421875 \nQ 22.3125 -1.421875 17.546875 -0.640625 \nQ 12.796875 0.140625 7.71875 1.703125 \nL 7.71875 11.625 \nQ 12.109375 9.234375 16.796875 8.0625 \nQ 21.484375 6.890625 26.703125 6.890625 \nQ 35.15625 6.890625 40.078125 11.328125 \nQ 45.015625 15.765625 45.015625 23.390625 \nQ 45.015625 31 40.078125 35.4375 \nQ 35.15625 39.890625 26.703125 39.890625 \nQ 22.75 39.890625 18.8125 39.015625 \nQ 14.890625 38.140625 10.796875 36.28125 \nz\n\" id=\"DejaVuSans-53\"/>\n       </defs>\n       <use xlink:href=\"#DejaVuSans-53\"/>\n      </g>\n     </g>\n    </g>\n   </g>\n   <g id=\"matplotlib.axis_2\">\n    <g id=\"ytick_1\">\n     <g id=\"line2d_7\">\n      <defs>\n       <path d=\"M 0 0 \nL -3.5 0 \n\" id=\"ma528a5ef21\" style=\"stroke:#000000;stroke-width:0.8;\"/>\n      </defs>\n      <g>\n       <use style=\"stroke:#000000;stroke-width:0.8;\" x=\"30.103125\" xlink:href=\"#ma528a5ef21\" y=\"229.874489\"/>\n      </g>\n     </g>\n     <g id=\"text_7\">\n      <!-- 0.0 -->\n      <g transform=\"translate(7.2 233.673707)scale(0.1 -0.1)\">\n       <defs>\n        <path d=\"M 10.6875 12.40625 \nL 21 12.40625 \nL 21 0 \nL 10.6875 0 \nz\n\" id=\"DejaVuSans-46\"/>\n       </defs>\n       <use xlink:href=\"#DejaVuSans-48\"/>\n       <use x=\"63.623047\" xlink:href=\"#DejaVuSans-46\"/>\n       <use x=\"95.410156\" xlink:href=\"#DejaVuSans-48\"/>\n      </g>\n     </g>\n    </g>\n    <g id=\"ytick_2\">\n     <g id=\"line2d_8\">\n      <g>\n       <use style=\"stroke:#000000;stroke-width:0.8;\" x=\"30.103125\" xlink:href=\"#ma528a5ef21\" y=\"197.606268\"/>\n      </g>\n     </g>\n     <g id=\"text_8\">\n      <!-- 0.5 -->\n      <g transform=\"translate(7.2 201.405487)scale(0.1 -0.1)\">\n       <use xlink:href=\"#DejaVuSans-48\"/>\n       <use x=\"63.623047\" xlink:href=\"#DejaVuSans-46\"/>\n       <use x=\"95.410156\" xlink:href=\"#DejaVuSans-53\"/>\n      </g>\n     </g>\n    </g>\n    <g id=\"ytick_3\">\n     <g id=\"line2d_9\">\n      <g>\n       <use style=\"stroke:#000000;stroke-width:0.8;\" x=\"30.103125\" xlink:href=\"#ma528a5ef21\" y=\"165.338048\"/>\n      </g>\n     </g>\n     <g id=\"text_9\">\n      <!-- 1.0 -->\n      <g transform=\"translate(7.2 169.137267)scale(0.1 -0.1)\">\n       <use xlink:href=\"#DejaVuSans-49\"/>\n       <use x=\"63.623047\" xlink:href=\"#DejaVuSans-46\"/>\n       <use x=\"95.410156\" xlink:href=\"#DejaVuSans-48\"/>\n      </g>\n     </g>\n    </g>\n    <g id=\"ytick_4\">\n     <g id=\"line2d_10\">\n      <g>\n       <use style=\"stroke:#000000;stroke-width:0.8;\" x=\"30.103125\" xlink:href=\"#ma528a5ef21\" y=\"133.069828\"/>\n      </g>\n     </g>\n     <g id=\"text_10\">\n      <!-- 1.5 -->\n      <g transform=\"translate(7.2 136.869047)scale(0.1 -0.1)\">\n       <use xlink:href=\"#DejaVuSans-49\"/>\n       <use x=\"63.623047\" xlink:href=\"#DejaVuSans-46\"/>\n       <use x=\"95.410156\" xlink:href=\"#DejaVuSans-53\"/>\n      </g>\n     </g>\n    </g>\n    <g id=\"ytick_5\">\n     <g id=\"line2d_11\">\n      <g>\n       <use style=\"stroke:#000000;stroke-width:0.8;\" x=\"30.103125\" xlink:href=\"#ma528a5ef21\" y=\"100.801607\"/>\n      </g>\n     </g>\n     <g id=\"text_11\">\n      <!-- 2.0 -->\n      <g transform=\"translate(7.2 104.600826)scale(0.1 -0.1)\">\n       <use xlink:href=\"#DejaVuSans-50\"/>\n       <use x=\"63.623047\" xlink:href=\"#DejaVuSans-46\"/>\n       <use x=\"95.410156\" xlink:href=\"#DejaVuSans-48\"/>\n      </g>\n     </g>\n    </g>\n    <g id=\"ytick_6\">\n     <g id=\"line2d_12\">\n      <g>\n       <use style=\"stroke:#000000;stroke-width:0.8;\" x=\"30.103125\" xlink:href=\"#ma528a5ef21\" y=\"68.533387\"/>\n      </g>\n     </g>\n     <g id=\"text_12\">\n      <!-- 2.5 -->\n      <g transform=\"translate(7.2 72.332606)scale(0.1 -0.1)\">\n       <use xlink:href=\"#DejaVuSans-50\"/>\n       <use x=\"63.623047\" xlink:href=\"#DejaVuSans-46\"/>\n       <use x=\"95.410156\" xlink:href=\"#DejaVuSans-53\"/>\n      </g>\n     </g>\n    </g>\n    <g id=\"ytick_7\">\n     <g id=\"line2d_13\">\n      <g>\n       <use style=\"stroke:#000000;stroke-width:0.8;\" x=\"30.103125\" xlink:href=\"#ma528a5ef21\" y=\"36.265167\"/>\n      </g>\n     </g>\n     <g id=\"text_13\">\n      <!-- 3.0 -->\n      <g transform=\"translate(7.2 40.064386)scale(0.1 -0.1)\">\n       <use xlink:href=\"#DejaVuSans-51\"/>\n       <use x=\"63.623047\" xlink:href=\"#DejaVuSans-46\"/>\n       <use x=\"95.410156\" xlink:href=\"#DejaVuSans-48\"/>\n      </g>\n     </g>\n    </g>\n   </g>\n   <g id=\"patch_3\">\n    <path d=\"M 30.103125 239.758125 \nL 30.103125 22.318125 \n\" style=\"fill:none;stroke:#000000;stroke-linecap:square;stroke-linejoin:miter;stroke-width:0.8;\"/>\n   </g>\n   <g id=\"patch_4\">\n    <path d=\"M 364.903125 239.758125 \nL 364.903125 22.318125 \n\" style=\"fill:none;stroke:#000000;stroke-linecap:square;stroke-linejoin:miter;stroke-width:0.8;\"/>\n   </g>\n   <g id=\"patch_5\">\n    <path d=\"M 30.103125 239.758125 \nL 364.903125 239.758125 \n\" style=\"fill:none;stroke:#000000;stroke-linecap:square;stroke-linejoin:miter;stroke-width:0.8;\"/>\n   </g>\n   <g id=\"patch_6\">\n    <path d=\"M 30.103125 22.318125 \nL 364.903125 22.318125 \n\" style=\"fill:none;stroke:#000000;stroke-linecap:square;stroke-linejoin:miter;stroke-width:0.8;\"/>\n   </g>\n   <g id=\"text_14\">\n    <!-- Prim01.2_DIV7 DESIGN -->\n    <g transform=\"translate(128.30625 16.318125)scale(0.12 -0.12)\">\n     <defs>\n      <path d=\"M 19.671875 64.796875 \nL 19.671875 37.40625 \nL 32.078125 37.40625 \nQ 38.96875 37.40625 42.71875 40.96875 \nQ 46.484375 44.53125 46.484375 51.125 \nQ 46.484375 57.671875 42.71875 61.234375 \nQ 38.96875 64.796875 32.078125 64.796875 \nz\nM 9.8125 72.90625 \nL 32.078125 72.90625 \nQ 44.34375 72.90625 50.609375 67.359375 \nQ 56.890625 61.8125 56.890625 51.125 \nQ 56.890625 40.328125 50.609375 34.8125 \nQ 44.34375 29.296875 32.078125 29.296875 \nL 19.671875 29.296875 \nL 19.671875 0 \nL 9.8125 0 \nz\n\" id=\"DejaVuSans-80\"/>\n      <path d=\"M 41.109375 46.296875 \nQ 39.59375 47.171875 37.8125 47.578125 \nQ 36.03125 48 33.890625 48 \nQ 26.265625 48 22.1875 43.046875 \nQ 18.109375 38.09375 18.109375 28.8125 \nL 18.109375 0 \nL 9.078125 0 \nL 9.078125 54.6875 \nL 18.109375 54.6875 \nL 18.109375 46.1875 \nQ 20.953125 51.171875 25.484375 53.578125 \nQ 30.03125 56 36.53125 56 \nQ 37.453125 56 38.578125 55.875 \nQ 39.703125 55.765625 41.0625 55.515625 \nz\n\" id=\"DejaVuSans-114\"/>\n      <path d=\"M 9.421875 54.6875 \nL 18.40625 54.6875 \nL 18.40625 0 \nL 9.421875 0 \nz\nM 9.421875 75.984375 \nL 18.40625 75.984375 \nL 18.40625 64.59375 \nL 9.421875 64.59375 \nz\n\" id=\"DejaVuSans-105\"/>\n      <path d=\"M 52 44.1875 \nQ 55.375 50.25 60.0625 53.125 \nQ 64.75 56 71.09375 56 \nQ 79.640625 56 84.28125 50.015625 \nQ 88.921875 44.046875 88.921875 33.015625 \nL 88.921875 0 \nL 79.890625 0 \nL 79.890625 32.71875 \nQ 79.890625 40.578125 77.09375 44.375 \nQ 74.3125 48.1875 68.609375 48.1875 \nQ 61.625 48.1875 57.5625 43.546875 \nQ 53.515625 38.921875 53.515625 30.90625 \nL 53.515625 0 \nL 44.484375 0 \nL 44.484375 32.71875 \nQ 44.484375 40.625 41.703125 44.40625 \nQ 38.921875 48.1875 33.109375 48.1875 \nQ 26.21875 48.1875 22.15625 43.53125 \nQ 18.109375 38.875 18.109375 30.90625 \nL 18.109375 0 \nL 9.078125 0 \nL 9.078125 54.6875 \nL 18.109375 54.6875 \nL 18.109375 46.1875 \nQ 21.1875 51.21875 25.484375 53.609375 \nQ 29.78125 56 35.6875 56 \nQ 41.65625 56 45.828125 52.96875 \nQ 50 49.953125 52 44.1875 \nz\n\" id=\"DejaVuSans-109\"/>\n      <path d=\"M 50.984375 -16.609375 \nL 50.984375 -23.578125 \nL -0.984375 -23.578125 \nL -0.984375 -16.609375 \nz\n\" id=\"DejaVuSans-95\"/>\n      <path d=\"M 19.671875 64.796875 \nL 19.671875 8.109375 \nL 31.59375 8.109375 \nQ 46.6875 8.109375 53.6875 14.9375 \nQ 60.6875 21.78125 60.6875 36.53125 \nQ 60.6875 51.171875 53.6875 57.984375 \nQ 46.6875 64.796875 31.59375 64.796875 \nz\nM 9.8125 72.90625 \nL 30.078125 72.90625 \nQ 51.265625 72.90625 61.171875 64.09375 \nQ 71.09375 55.28125 71.09375 36.53125 \nQ 71.09375 17.671875 61.125 8.828125 \nQ 51.171875 0 30.078125 0 \nL 9.8125 0 \nz\n\" id=\"DejaVuSans-68\"/>\n      <path d=\"M 9.8125 72.90625 \nL 19.671875 72.90625 \nL 19.671875 0 \nL 9.8125 0 \nz\n\" id=\"DejaVuSans-73\"/>\n      <path d=\"M 28.609375 0 \nL 0.78125 72.90625 \nL 11.078125 72.90625 \nL 34.1875 11.53125 \nL 57.328125 72.90625 \nL 67.578125 72.90625 \nL 39.796875 0 \nz\n\" id=\"DejaVuSans-86\"/>\n      <path d=\"M 8.203125 72.90625 \nL 55.078125 72.90625 \nL 55.078125 68.703125 \nL 28.609375 0 \nL 18.3125 0 \nL 43.21875 64.59375 \nL 8.203125 64.59375 \nz\n\" id=\"DejaVuSans-55\"/>\n      <path id=\"DejaVuSans-32\"/>\n      <path d=\"M 9.8125 72.90625 \nL 55.90625 72.90625 \nL 55.90625 64.59375 \nL 19.671875 64.59375 \nL 19.671875 43.015625 \nL 54.390625 43.015625 \nL 54.390625 34.71875 \nL 19.671875 34.71875 \nL 19.671875 8.296875 \nL 56.78125 8.296875 \nL 56.78125 0 \nL 9.8125 0 \nz\n\" id=\"DejaVuSans-69\"/>\n      <path d=\"M 53.515625 70.515625 \nL 53.515625 60.890625 \nQ 47.90625 63.578125 42.921875 64.890625 \nQ 37.9375 66.21875 33.296875 66.21875 \nQ 25.25 66.21875 20.875 63.09375 \nQ 16.5 59.96875 16.5 54.203125 \nQ 16.5 49.359375 19.40625 46.890625 \nQ 22.3125 44.4375 30.421875 42.921875 \nL 36.375 41.703125 \nQ 47.40625 39.59375 52.65625 34.296875 \nQ 57.90625 29 57.90625 20.125 \nQ 57.90625 9.515625 50.796875 4.046875 \nQ 43.703125 -1.421875 29.984375 -1.421875 \nQ 24.8125 -1.421875 18.96875 -0.25 \nQ 13.140625 0.921875 6.890625 3.21875 \nL 6.890625 13.375 \nQ 12.890625 10.015625 18.65625 8.296875 \nQ 24.421875 6.59375 29.984375 6.59375 \nQ 38.421875 6.59375 43.015625 9.90625 \nQ 47.609375 13.234375 47.609375 19.390625 \nQ 47.609375 24.75 44.3125 27.78125 \nQ 41.015625 30.8125 33.5 32.328125 \nL 27.484375 33.5 \nQ 16.453125 35.6875 11.515625 40.375 \nQ 6.59375 45.0625 6.59375 53.421875 \nQ 6.59375 63.09375 13.40625 68.65625 \nQ 20.21875 74.21875 32.171875 74.21875 \nQ 37.3125 74.21875 42.625 73.28125 \nQ 47.953125 72.359375 53.515625 70.515625 \nz\n\" id=\"DejaVuSans-83\"/>\n      <path d=\"M 59.515625 10.40625 \nL 59.515625 29.984375 \nL 43.40625 29.984375 \nL 43.40625 38.09375 \nL 69.28125 38.09375 \nL 69.28125 6.78125 \nQ 63.578125 2.734375 56.6875 0.65625 \nQ 49.8125 -1.421875 42 -1.421875 \nQ 24.90625 -1.421875 15.25 8.5625 \nQ 5.609375 18.5625 5.609375 36.375 \nQ 5.609375 54.25 15.25 64.234375 \nQ 24.90625 74.21875 42 74.21875 \nQ 49.125 74.21875 55.546875 72.453125 \nQ 61.96875 70.703125 67.390625 67.28125 \nL 67.390625 56.78125 \nQ 61.921875 61.421875 55.765625 63.765625 \nQ 49.609375 66.109375 42.828125 66.109375 \nQ 29.4375 66.109375 22.71875 58.640625 \nQ 16.015625 51.171875 16.015625 36.375 \nQ 16.015625 21.625 22.71875 14.15625 \nQ 29.4375 6.6875 42.828125 6.6875 \nQ 48.046875 6.6875 52.140625 7.59375 \nQ 56.25 8.5 59.515625 10.40625 \nz\n\" id=\"DejaVuSans-71\"/>\n      <path d=\"M 9.8125 72.90625 \nL 23.09375 72.90625 \nL 55.421875 11.921875 \nL 55.421875 72.90625 \nL 64.984375 72.90625 \nL 64.984375 0 \nL 51.703125 0 \nL 19.390625 60.984375 \nL 19.390625 0 \nL 9.8125 0 \nz\n\" id=\"DejaVuSans-78\"/>\n     </defs>\n     <use xlink:href=\"#DejaVuSans-80\"/>\n     <use x=\"58.552734\" xlink:href=\"#DejaVuSans-114\"/>\n     <use x=\"99.666016\" xlink:href=\"#DejaVuSans-105\"/>\n     <use x=\"127.449219\" xlink:href=\"#DejaVuSans-109\"/>\n     <use x=\"224.861328\" xlink:href=\"#DejaVuSans-48\"/>\n     <use x=\"288.484375\" xlink:href=\"#DejaVuSans-49\"/>\n     <use x=\"352.107422\" xlink:href=\"#DejaVuSans-46\"/>\n     <use x=\"383.894531\" xlink:href=\"#DejaVuSans-50\"/>\n     <use x=\"447.517578\" xlink:href=\"#DejaVuSans-95\"/>\n     <use x=\"497.517578\" xlink:href=\"#DejaVuSans-68\"/>\n     <use x=\"574.519531\" xlink:href=\"#DejaVuSans-73\"/>\n     <use x=\"604.011719\" xlink:href=\"#DejaVuSans-86\"/>\n     <use x=\"672.419922\" xlink:href=\"#DejaVuSans-55\"/>\n     <use x=\"736.042969\" xlink:href=\"#DejaVuSans-32\"/>\n     <use x=\"767.830078\" xlink:href=\"#DejaVuSans-68\"/>\n     <use x=\"844.832031\" xlink:href=\"#DejaVuSans-69\"/>\n     <use x=\"908.015625\" xlink:href=\"#DejaVuSans-83\"/>\n     <use x=\"971.492188\" xlink:href=\"#DejaVuSans-73\"/>\n     <use x=\"1000.984375\" xlink:href=\"#DejaVuSans-71\"/>\n     <use x=\"1078.474609\" xlink:href=\"#DejaVuSans-78\"/>\n    </g>\n   </g>\n  </g>\n </g>\n <defs>\n  <clipPath id=\"p2245b8c63b\">\n   <rect height=\"217.44\" width=\"334.8\" x=\"30.103125\" y=\"22.318125\"/>\n  </clipPath>\n </defs>\n</svg>\n",
      "image/png": "[encoded data removed]"
     },
     "metadata": {
      "needs_background": "light"
     }
    }
   ],
   "source": [
    "all_metrics = pd.read_csv(f'{dest_dir}/{lbl}_metrics.csv', index_col=(0,1)).iloc[:,0]\n",
    "print(all_metrics)\n",
    "\n",
    "designs = all_metrics.index.unique('design')\n",
    "# for Prim1.2\n",
    "designs = [3,2,1,0,4,5]\n",
    "\n",
    "%matplotlib inline\n",
    "\n",
    "plt.title(lbl+' DESIGN')\n",
    "for xloc, d in enumerate(designs):\n",
    "    print(xloc, d)\n",
    "    design_metrics = all_metrics[d]\n",
    "    median = design_metrics.median()\n",
    "    xlocs = [xloc]*len(design_metrics)\n",
    "    \n",
    "    plt.scatter(xlocs, design_metrics, s=10)\n",
    "    plt.scatter(xloc, median, marker='_', s=500, color='k')\n",
    "\n",
    "\n",
    "\n",
    "\n"
   ]
  },
  {
   "cell_type": "code",
   "execution_count": null,
   "metadata": {},
   "outputs": [],
   "source": []
  }
 ]
}