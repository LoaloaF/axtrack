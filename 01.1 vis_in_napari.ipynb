{
 "cells": [
  {
   "cell_type": "markdown",
   "metadata": {},
   "source": [
    "Playground for trying things out, and doing inital data exploration"
   ]
  },
  {
   "cell_type": "code",
   "execution_count": 1,
   "metadata": {},
   "outputs": [],
   "source": [
    "import napari\n",
    "from tifffile import imread\n",
    "import numpy as np\n",
    "import numpy.random\n",
    "import pandas as pd\n",
    "# from process_raw import humanbytes\n",
    "\n",
    "import matplotlib.pyplot as plt\n",
    "from skimage.util import img_as_uint\n",
    "from skimage.util import img_as_float32\n",
    "from skimage.util import img_as_ubyte\n",
    "\n",
    "from skimage import filters\n",
    "from skimage import morphology\n",
    "import pickle\n",
    "\n",
    "from skimage.draw import rectangle_perimeter\n",
    "from skimage.draw import rectangle\n",
    "from skimage.draw import circle_perimeter\n",
    "from skimage.draw import line_aa\n",
    "\n",
    "import time\n",
    "import os\n",
    "import pandas as pd\n",
    "\n",
    "from dask_image.imread import imread as dask_imread\n",
    "\n",
    "%gui qt"
   ]
  },
  {
   "cell_type": "code",
   "execution_count": 20,
   "metadata": {},
   "outputs": [
    {
     "output_type": "stream",
     "name": "stdout",
     "text": [
      "(100, 2920, 4816)\n(100, 2920, 4816)\n"
     ]
    }
   ],
   "source": [
    "which_data = 'timelapse1_40_min_processed'\n",
    "# which_data = 'timelapse13_onemonthlater_processed/'\n",
    "# which_data = 'timelapse4_processed'\n",
    "# which_data = 'timelapse5d_processed'\n",
    "\n",
    "area = 'D01_G005'\n",
    "area2 = 'G001'\n",
    "# area = 'G003'\n",
    "# area = 'G004'\n",
    "# area = 'G005'\n",
    "# area = 'G006'\n",
    "\n",
    "inp_path2 = '/run/media/loaloa/portable_ssd/'\n",
    "inp_path = '/run/media/loaloa/portable_SSD/primitives_local_processed/'\n",
    "\n",
    "tranl_file = inp_path + f'{area}_Transmission_compr.deflate.tif'\n",
    "red_file = inp_path + f'{area}_RFP_compr.deflate.tif'\n",
    "green_file = inp_path + f'{area}_GFP_compr.deflate.tif'\n",
    "\n",
    "# tranl_file2 = inp_path + f'G001_red_compr.deflate.tif'\n",
    "# red_file2 = inp_path2 + f'G001_red_compr.deflate.tif'\n",
    "\n",
    "\n",
    "greychannel = imread(tranl_file)\n",
    "greenchannel = imread(green_file)\n",
    "redchannel = imread(red_file)\n",
    "greychannel = np.stack([greychannel]*len(redchannel))[:,0]\n",
    "print(greychannel.shape)\n",
    "print(redchannel.shape)\n",
    "\n",
    "\n",
    "# redchannel = dask_imread(red_file)\n",
    "# greenchannel = dask_imread(green_file)"
   ]
  },
  {
   "cell_type": "code",
   "execution_count": 8,
   "metadata": {},
   "outputs": [
    {
     "output_type": "stream",
     "name": "stderr",
     "text": [
      "ERROR:tornado.general:Uncaught exception in ZMQStream callback\n",
      "Traceback (most recent call last):\n",
      "  File \"/home/loaloa/programs/anaconda3/envs/bioMEA/lib/python3.8/site-packages/zmq/eventloop/zmqstream.py\", line 431, in _run_callback\n",
      "    callback(*args, **kwargs)\n",
      "  File \"/home/loaloa/programs/anaconda3/envs/bioMEA/lib/python3.8/site-packages/jupyter_client/threaded.py\", line 121, in _handle_recv\n",
      "    msg_list = self.ioloop._asyncio_event_loop.run_until_complete(get_msg(future_msg))\n",
      "  File \"/home/loaloa/programs/anaconda3/envs/bioMEA/lib/python3.8/asyncio/base_events.py\", line 592, in run_until_complete\n",
      "    self._check_running()\n",
      "  File \"/home/loaloa/programs/anaconda3/envs/bioMEA/lib/python3.8/asyncio/base_events.py\", line 554, in _check_running\n",
      "    raise RuntimeError(\n",
      "RuntimeError: Cannot run the event loop while another loop is running\n",
      "ERROR:tornado.general:Uncaught exception in zmqstream callback\n",
      "Traceback (most recent call last):\n",
      "  File \"/home/loaloa/programs/anaconda3/envs/bioMEA/lib/python3.8/site-packages/zmq/eventloop/zmqstream.py\", line 448, in _handle_events\n",
      "    self._handle_recv()\n",
      "  File \"/home/loaloa/programs/anaconda3/envs/bioMEA/lib/python3.8/site-packages/zmq/eventloop/zmqstream.py\", line 477, in _handle_recv\n",
      "    self._run_callback(callback, msg)\n",
      "  File \"/home/loaloa/programs/anaconda3/envs/bioMEA/lib/python3.8/site-packages/zmq/eventloop/zmqstream.py\", line 431, in _run_callback\n",
      "    callback(*args, **kwargs)\n",
      "  File \"/home/loaloa/programs/anaconda3/envs/bioMEA/lib/python3.8/site-packages/jupyter_client/threaded.py\", line 121, in _handle_recv\n",
      "    msg_list = self.ioloop._asyncio_event_loop.run_until_complete(get_msg(future_msg))\n",
      "  File \"/home/loaloa/programs/anaconda3/envs/bioMEA/lib/python3.8/asyncio/base_events.py\", line 592, in run_until_complete\n",
      "    self._check_running()\n",
      "  File \"/home/loaloa/programs/anaconda3/envs/bioMEA/lib/python3.8/asyncio/base_events.py\", line 554, in _check_running\n",
      "    raise RuntimeError(\n",
      "RuntimeError: Cannot run the event loop while another loop is running\n",
      "Exception in callback BaseAsyncIOLoop._handle_events(80, 1)\n",
      "handle: <Handle BaseAsyncIOLoop._handle_events(80, 1)>\n",
      "Traceback (most recent call last):\n",
      "  File \"/home/loaloa/programs/anaconda3/envs/bioMEA/lib/python3.8/asyncio/events.py\", line 81, in _run\n",
      "    self._context.run(self._callback, *self._args)\n",
      "  File \"/home/loaloa/programs/anaconda3/envs/bioMEA_pt/lib/python3.8/site-packages/tornado/platform/asyncio.py\", line 189, in _handle_events\n",
      "    handler_func(fileobj, events)\n",
      "  File \"/home/loaloa/programs/anaconda3/envs/bioMEA/lib/python3.8/site-packages/zmq/eventloop/zmqstream.py\", line 448, in _handle_events\n",
      "    self._handle_recv()\n",
      "  File \"/home/loaloa/programs/anaconda3/envs/bioMEA/lib/python3.8/site-packages/zmq/eventloop/zmqstream.py\", line 477, in _handle_recv\n",
      "    self._run_callback(callback, msg)\n",
      "  File \"/home/loaloa/programs/anaconda3/envs/bioMEA/lib/python3.8/site-packages/zmq/eventloop/zmqstream.py\", line 431, in _run_callback\n",
      "    callback(*args, **kwargs)\n",
      "  File \"/home/loaloa/programs/anaconda3/envs/bioMEA/lib/python3.8/site-packages/jupyter_client/threaded.py\", line 121, in _handle_recv\n",
      "    msg_list = self.ioloop._asyncio_event_loop.run_until_complete(get_msg(future_msg))\n",
      "  File \"/home/loaloa/programs/anaconda3/envs/bioMEA/lib/python3.8/asyncio/base_events.py\", line 592, in run_until_complete\n",
      "    self._check_running()\n",
      "  File \"/home/loaloa/programs/anaconda3/envs/bioMEA/lib/python3.8/asyncio/base_events.py\", line 554, in _check_running\n",
      "    raise RuntimeError(\n",
      "RuntimeError: Cannot run the event loop while another loop is running\n",
      "Exception in callback BaseAsyncIOLoop._handle_events(113, 1)\n",
      "handle: <Handle BaseAsyncIOLoop._handle_events(113, 1)>\n",
      "Traceback (most recent call last):\n",
      "  File \"/home/loaloa/programs/anaconda3/envs/bioMEA/lib/python3.8/asyncio/events.py\", line 81, in _run\n",
      "    self._context.run(self._callback, *self._args)\n",
      "  File \"/home/loaloa/programs/anaconda3/envs/bioMEA_pt/lib/python3.8/site-packages/tornado/platform/asyncio.py\", line 189, in _handle_events\n",
      "    handler_func(fileobj, events)\n",
      "  File \"/home/loaloa/programs/anaconda3/envs/bioMEA/lib/python3.8/site-packages/zmq/eventloop/zmqstream.py\", line 448, in _handle_events\n",
      "    self._handle_recv()\n",
      "  File \"/home/loaloa/programs/anaconda3/envs/bioMEA/lib/python3.8/site-packages/zmq/eventloop/zmqstream.py\", line 477, in _handle_recv\n",
      "    self._run_callback(callback, msg)\n",
      "  File \"/home/loaloa/programs/anaconda3/envs/bioMEA/lib/python3.8/site-packages/zmq/eventloop/zmqstream.py\", line 431, in _run_callback\n",
      "    callback(*args, **kwargs)\n",
      "  File \"/home/loaloa/programs/anaconda3/envs/bioMEA/lib/python3.8/site-packages/jupyter_client/threaded.py\", line 121, in _handle_recv\n",
      "    msg_list = self.ioloop._asyncio_event_loop.run_until_complete(get_msg(future_msg))\n",
      "  File \"/home/loaloa/programs/anaconda3/envs/bioMEA/lib/python3.8/asyncio/base_events.py\", line 592, in run_until_complete\n",
      "    self._check_running()\n",
      "  File \"/home/loaloa/programs/anaconda3/envs/bioMEA/lib/python3.8/asyncio/base_events.py\", line 554, in _check_running\n",
      "    raise RuntimeError(\n",
      "RuntimeError: Cannot run the event loop while another loop is running\n"
     ]
    }
   ],
   "source": [
    "with napari.gui_qt():\n",
    "    viewer = napari.Viewer()"
   ]
  },
  {
   "cell_type": "code",
   "execution_count": 21,
   "metadata": {},
   "outputs": [],
   "source": [
    "\n",
    "if 'redchannel' in locals():\n",
    "    viewer.add_image(redchannel, name='redchannel')\n",
    "    viewer.layers['redchannel'].blending = 'additive'\n",
    "    viewer.layers['redchannel'].colormap = 'red'\n",
    "    # viewer.layers['redchannel'].contrast_limits = [0,2700]\n",
    "\n",
    "if 'greenchannel' in locals():\n",
    "    viewer.add_image(greenchannel, name='greenchannel')\n",
    "    viewer.layers['greenchannel'].blending = 'additive'\n",
    "    viewer.layers['greenchannel'].colormap = 'green'\n",
    "    # viewer.layers['greenchannel'].contrast_limits = [0,2700]\n",
    "\n",
    "viewer.add_image(greychannel)\n",
    "viewer.layers['greychannel'].blending='additive'\n",
    "# viewer.layers['greychannel'].opacity = .3\n",
    "# viewer.layers['greychannel'].gamma = .6"
   ]
  },
  {
   "cell_type": "code",
   "execution_count": 10,
   "metadata": {},
   "outputs": [],
   "source": [
    "from skimage.exposure import equalize_hist\n",
    "motion_det = img_as_float32(equalize_hist(redchannel))"
   ]
  },
  {
   "cell_type": "code",
   "execution_count": 11,
   "metadata": {},
   "outputs": [
    {
     "data": {
      "text/plain": [
       "<Image layer 'motion_det [1]' at 0x7feea0147040>"
      ]
     },
     "execution_count": 11,
     "metadata": {},
     "output_type": "execute_result"
    }
   ],
   "source": [
    "motion_det = np.stack([motion_det[i]-motion_det[i-1] if i else np.zeros(motion_det.shape[1:], dtype=np.float32) for i in range(motion_det.shape[0]) ])+.5\n",
    "viewer.add_image(motion_det, blending='additive')"
   ]
  },
  {
   "cell_type": "code",
   "execution_count": 18,
   "metadata": {},
   "outputs": [],
   "source": [
    "motion_det_blur = np.stack([filters.gaussian(motion_det[t], 3) for t in range(motion_det.shape[0])])\n",
    "motion_det_blur[:,~mask.astype(bool)] = 0.45\n",
    "viewer.add_image(motion_det_blur, blending='additive')\n"
   ]
  },
  {
   "cell_type": "code",
   "execution_count": 9,
   "metadata": {},
   "outputs": [
    {
     "data": {
      "text/plain": [
       "<Image layer 'motion_det_blur [1]' at 0x7feea00194f0>"
      ]
     },
     "execution_count": 9,
     "metadata": {},
     "output_type": "execute_result"
    }
   ],
   "source": [
    "motion_det_blur_one = motion_det_blur.copy()\n",
    "motion_det_blur_one[motion_det_blur_one < .5] = .5\n",
    "viewer.add_image(motion_det_blur, blending='additive')\n"
   ]
  },
  {
   "cell_type": "code",
   "execution_count": 8,
   "metadata": {},
   "outputs": [
    {
     "name": "stdout",
     "output_type": "stream",
     "text": [
      "Didnt find  Axon_000\n"
     ]
    }
   ],
   "source": [
    "for i in range(1):\n",
    "    axon = f'Axon_{i:0>3}'\n",
    "    try:\n",
    "        img = np.load(f'../outputdata/axon_distances/{axon}_distance_img.npy')\n",
    "        print('Found', axon)\n",
    "    except FileNotFoundError:\n",
    "        print('Didnt find ', axon)\n",
    "        continue\n",
    "    viewer.add_image(img, name=axon, colormap='fire')\n",
    "    del img\n",
    "\n",
    "    if i >20:\n",
    "        break\n",
    "    "
   ]
  }
 ],
 "metadata": {
  "kernelspec": {
   "display_name": "Python 3.8.11 64-bit ('bioMEA': conda)",
   "language": "python",
   "name": "python381164bitbiomeacondae971a44a5ce445a4a65f580b8ea92122"
  },
  "language_info": {
   "codemirror_mode": {
    "name": "ipython",
    "version": 3
   },
   "file_extension": ".py",
   "mimetype": "text/x-python",
   "name": "python",
   "nbconvert_exporter": "python",
   "pygments_lexer": "ipython3",
   "version": "3.8.11-final"
  }
 },
 "nbformat": 4,
 "nbformat_minor": 2
}