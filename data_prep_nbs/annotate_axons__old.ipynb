{
 "cells": [
  {
   "cell_type": "markdown",
   "metadata": {},
   "source": [
    "Annotate the growth cones in the timelapse. Load the signal channel and background, save an rgb .npy array for visualizing later. Main purpose here is however to label growth cones. Create some empty shapes layers in napari, then label manually. After that, run the SAVE axon labels cells. One can also read in already labelled axons using the LOAD cell. This also checks if a sequence of detections is continueos (no timepoints skipped)."
   ]
  },
  {
   "cell_type": "code",
   "execution_count": 1,
   "metadata": {},
   "outputs": [],
   "source": [
    "import os\n",
    "import glob\n",
    "\n",
    "import numpy as np\n",
    "import pandas as pd\n",
    "import matplotlib.pyplot as plt\n",
    "\n",
    "from tifffile import imsave\n",
    "\n",
    "import napari"
   ]
  },
  {
   "cell_type": "code",
   "execution_count": 2,
   "metadata": {
    "scrolled": true
   },
   "outputs": [
    {
     "name": "stdout",
     "output_type": "stream",
     "text": [
      "Loaded functions `load_timelapse`, `load_mask` successfully.\n"
     ]
    },
    {
     "ename": "SystemExit",
     "evalue": "Function `load_axonIDs` `timelapse2gui` loaded successfully.",
     "output_type": "error",
     "traceback": [
      "An exception has occurred, use %tb to see the full traceback.\n",
      "\u001b[0;31mSystemExit\u001b[0m\u001b[0;31m:\u001b[0m Function `load_axonIDs` `timelapse2gui` loaded successfully.\n"
     ]
    },
    {
     "name": "stderr",
     "output_type": "stream",
     "text": [
      "/home/loaloa/programs/anaconda3/envs/napari-env-2/lib/python3.9/site-packages/IPython/core/interactiveshell.py:3465: UserWarning: To exit: use 'exit', 'quit', or Ctrl-D.\n",
      "  warn(\"To exit: use 'exit', 'quit', or Ctrl-D.\", stacklevel=1)\n"
     ]
    },
    {
     "ename": "SystemExit",
     "evalue": "Function `load_axonIDs` `timelapse2gui` loaded successfully.",
     "output_type": "error",
     "traceback": [
      "An exception has occurred, use %tb to see the full traceback.\n",
      "\u001b[0;31mSystemExit\u001b[0m\u001b[0;31m:\u001b[0m Function `load_axonIDs` `timelapse2gui` loaded successfully.\n"
     ]
    }
   ],
   "source": [
    "# get the load_timelapse and load_mask function\n",
    "%run 01_process_training_timelapses.ipynb\n",
    "# get the load_axonIDs function\n",
    "%run 02_label_training_timelapses.ipynb"
   ]
  },
  {
   "cell_type": "code",
   "execution_count": 3,
   "metadata": {},
   "outputs": [],
   "source": [
    "plt.style.use('dark_background')\n",
    "viewer = napari.Viewer()"
   ]
  },
  {
   "cell_type": "code",
   "execution_count": 4,
   "metadata": {},
   "outputs": [],
   "source": [
    "data_path = '/run/media/loaloa/lbbSSD/training_data/'\n",
    "tlapse_names = ['D00_G001', 'D04_G004', 'D19_G035']\n"
   ]
  },
  {
   "cell_type": "code",
   "execution_count": 11,
   "metadata": {},
   "outputs": [],
   "source": [
    "def load_all_training_data(tlapse_names):\n",
    "    signals, masks, lbls = [], [], []\n",
    "    for i in range(len(tlapse_names)):\n",
    "        basename = tlapse_names[i]\n",
    "        signals.append(load_timelapse(basename, postfix=''))\n",
    "        masks.append(load_timelapse_mask(basename, postfix=''))\n",
    "        lbls.append(merge_axonID_files(basename))\n",
    "    return signals, masks, lbls"
   ]
  },
  {
   "cell_type": "code",
   "execution_count": 6,
   "metadata": {},
   "outputs": [],
   "source": [
    "def merge_all_training_data(signals, masks, lbls):\n",
    "    last_t, last_ID = 0, 0\n",
    "    final_lbls_adjusted, final_masks = [], []\n",
    "    for i in range(len(signals)):\n",
    "        ntimepoints = signals[i].shape[0]\n",
    "        lbl = lbls[i].copy()\n",
    "        # fix timepoints for concatenated data\n",
    "        lbl.index += last_t\n",
    "        # fix the axon names (count up)\n",
    "        cols = [(f'Axon_{int(ax[-3:])+last_ID:0>3}', anch) for ax, anch in lbl.columns]\n",
    "        lbl.columns = pd.MultiIndex.from_tuples(cols)\n",
    "        \n",
    "        # have the mask match the frames \n",
    "        final_masks.extend([masks[i] for _ in range(ntimepoints)])\n",
    "        \n",
    "        last_t += ntimepoints\n",
    "        last_ID += len(lbl.columns.unique(0))\n",
    "        final_lbls_adjusted.append(lbl)\n",
    "    # merge everything\n",
    "    final_lbls = pd.concat(final_lbls_adjusted, axis=1)\n",
    "    final_signal = np.concatenate(signals, axis=0)\n",
    "    final_mask = np.stack(final_masks, axis=0)\n",
    "    return final_signal, final_mask, final_lbls"
   ]
  },
  {
   "cell_type": "code",
   "execution_count": 7,
   "metadata": {},
   "outputs": [],
   "source": [
    "def save_all_training_data(all_signals, all_masks, all_lbls):\n",
    "    print(f'Saving timelapse, masks and labels at {path}')\n",
    "    imsave(all_signals, f'{data_path}/training_timelapse.tif')\n",
    "    np.save(all_masks, f'{data_path}/training_mask.npy')\n",
    "    pd.to_csv(all_lbls, f'{data_path}/training_labels.csv')"
   ]
  },
  {
   "cell_type": "code",
   "execution_count": 15,
   "metadata": {},
   "outputs": [],
   "source": [
    "def validate_training_data(all_signals, all_masks, all_lbls, viewer):\n",
    "    print(all_signals.shape)\n",
    "    print(all_masks.shape)\n",
    "    \n",
    "    viewer.add_image(all_signals, contrast_limits=(0, 2**10))\n",
    "    viewer.add_image(all_masks)\n",
    "#     axonIDs2gui(all_lbls, viewer)\n",
    "    "
   ]
  },
  {
   "cell_type": "code",
   "execution_count": 9,
   "metadata": {},
   "outputs": [
    {
     "name": "stdout",
     "output_type": "stream",
     "text": [
      "Loaded functions `load_timelapse`, `load_mask` successfully.\n"
     ]
    },
    {
     "ename": "SystemExit",
     "evalue": "Function `load_axonIDs` `timelapse2gui` loaded successfully.",
     "output_type": "error",
     "traceback": [
      "An exception has occurred, use %tb to see the full traceback.\n",
      "\u001b[0;31mSystemExit\u001b[0m\u001b[0;31m:\u001b[0m Function `load_axonIDs` `timelapse2gui` loaded successfully.\n"
     ]
    },
    {
     "name": "stderr",
     "output_type": "stream",
     "text": [
      "/home/loaloa/programs/anaconda3/envs/napari-env-2/lib/python3.9/site-packages/IPython/core/interactiveshell.py:3465: UserWarning: To exit: use 'exit', 'quit', or Ctrl-D.\n",
      "  warn(\"To exit: use 'exit', 'quit', or Ctrl-D.\", stacklevel=1)\n"
     ]
    },
    {
     "ename": "SystemExit",
     "evalue": "Function `load_axonIDs` `timelapse2gui` loaded successfully.",
     "output_type": "error",
     "traceback": [
      "An exception has occurred, use %tb to see the full traceback.\n",
      "\u001b[0;31mSystemExit\u001b[0m\u001b[0;31m:\u001b[0m Function `load_axonIDs` `timelapse2gui` loaded successfully.\n"
     ]
    }
   ],
   "source": [
    "# get the load_timelapse and load_mask function\n",
    "%run 01_process_training_timelapses.ipynb\n",
    "# get the load_axonIDs function\n",
    "%run 02_label_training_timelapses.ipynb\n",
    "\n",
    "plt.style.use('dark_background')\n",
    "viewer = napari.Viewer()\n",
    "\n",
    "data_path = '/run/media/loaloa/lbbSSD/training_data/'\n",
    "tlapse_names = ['D00_G001', 'D04_G004', 'D19_G035']\n"
   ]
  },
  {
   "cell_type": "code",
   "execution_count": 12,
   "metadata": {},
   "outputs": [
    {
     "name": "stdout",
     "output_type": "stream",
     "text": [
      "\n",
      "\n",
      "=== `D00_G001` tif loaded ===\n",
      "TxHxW: 37x2080x5764\n",
      "dtype: uint16\n",
      "min:0, max:4095\n",
      "Frame wise min: [0 0 0 0 0 0 0 0 0 0 0 0 0 0 0 0 0 0 0 0 0 0 0 0 0 0 0 0 0 0 0 0 0 0 0 0 0]\n"
     ]
    },
    {
     "data": {
      "image/png": "[encoded data removed]",
      "text/plain": [
       "<Figure size 432x288 with 1 Axes>"
      ]
     },
     "metadata": {},
     "output_type": "display_data"
    },
    {
     "name": "stdout",
     "output_type": "stream",
     "text": [
      "=== `D00_G001` npy mask loaded ===\n",
      "HxW: 2080x5764\n",
      "\n",
      "Loading labels for D00_G001. Found the following files: ['/run/media/loaloa/lbbSSD/training_data//all_labels_csvs/D00_G001_labels_IDs_000-099.csv']\n",
      "Adding    Axon_000 Axon_001 Axon_002 Axon_003 Axon_004 Axon_005 Axon_006 Axon_007  \\\n",
      "   anchor_y anchor_y anchor_y anchor_y anchor_y anchor_y anchor_y anchor_y   \n",
      "0    1180.0   1284.0     1159     1168   1168.0      NaN      NaN      NaN   \n",
      "1    1205.0   1226.0     1159     1174   1173.0      NaN      NaN      NaN   \n",
      "2    1256.0   1309.0     1164     1212   1212.0      NaN      NaN      NaN   \n",
      "3    1325.0   1379.0     1159     1249   1273.0      NaN      NaN      NaN   \n",
      "4    1420.0   1469.0     1162     1294   1282.0      NaN      NaN      NaN   \n",
      "5    1476.0   1521.0     1164     1343   1343.0      NaN   1890.0      NaN   \n",
      "6    1561.0   1588.0     1169     1395   1398.0      NaN   1886.0      NaN   \n",
      "7    1645.0   1640.0     1172     1442   1450.0      NaN   1900.0      NaN   \n",
      "8    1689.0   1711.0     1176     1501   1423.0      NaN   1882.0      NaN   \n",
      "9    1749.0   1754.0     1173     1550   1471.0      NaN   1886.0      NaN   \n",
      "10   1820.0   1795.0     1171     1610   1513.0      NaN   1893.0      NaN   \n",
      "11   1875.0   1802.0     1174     1652   1612.0      NaN   1892.0   1165.0   \n",
      "12   1902.0   1829.0     1180     1703   1677.0      NaN   1885.0   1168.0   \n",
      "13      NaN   1848.0     1188     1783   1703.0      NaN   1901.0   1173.0   \n",
      "14      NaN   1854.0     1186     1808   1722.0      NaN   1877.0   1182.0   \n",
      "15      NaN   1859.0     1187     1818   1725.0      NaN   1872.0   1181.0   \n",
      "16      NaN      NaN     1182     1825   1755.0      NaN   1844.0   1219.0   \n",
      "17      NaN      NaN     1191     1834   1786.0      NaN   1844.0   1321.0   \n",
      "18      NaN      NaN     1196     1850   1782.0   1158.0   1860.0   1404.0   \n",
      "19      NaN      NaN     1203     1862   1782.0   1165.0   1841.0   1481.0   \n",
      "20      NaN      NaN     1207     1855   1805.0   1169.0   1851.0   1584.0   \n",
      "21      NaN      NaN     1210     1830   1811.0   1172.0   1854.0   1615.0   \n",
      "22      NaN      NaN     1206     1831   1804.0   1191.0   1856.0   1683.0   \n",
      "23      NaN      NaN     1212     1846   1790.0   1206.0   1834.0   1775.0   \n",
      "24      NaN      NaN     1210     1863   1791.0   1312.0   1856.0   1839.0   \n",
      "25      NaN      NaN     1205     1886   1809.0   1348.0   1876.0      NaN   \n",
      "26      NaN      NaN     1200     1895   1822.0   1418.0   1849.0      NaN   \n",
      "27      NaN      NaN     1188     1904   1847.0   1532.0   1849.0      NaN   \n",
      "28      NaN      NaN     1192     1892      NaN   1594.0   1819.0      NaN   \n",
      "29      NaN      NaN     1177     1903      NaN   1631.0   1806.0      NaN   \n",
      "30      NaN      NaN     1173     1894      NaN   1648.0   1761.0      NaN   \n",
      "31      NaN      NaN     1171     1898      NaN   1689.0   1724.0      NaN   \n",
      "32      NaN      NaN     1160     1895      NaN   1715.0   1657.0      NaN   \n",
      "33      NaN      NaN     1162     1898      NaN   1727.0   1595.0      NaN   \n",
      "34      NaN      NaN     1160     1896      NaN   1760.0   1572.0      NaN   \n",
      "35      NaN      NaN     1136     1900      NaN   1748.0   1512.0      NaN   \n",
      "36      NaN      NaN     1133     1890      NaN   1772.0   1446.0      NaN   \n",
      "\n",
      "   Axon_008 Axon_009  ... Axon_090 Axon_091 Axon_092 Axon_093 Axon_094  \\\n",
      "   anchor_y anchor_y  ... anchor_x anchor_x anchor_x anchor_x anchor_x   \n",
      "0       NaN      NaN  ...      NaN      NaN      NaN      NaN      NaN   \n",
      "1       NaN      NaN  ...      NaN      NaN      NaN      NaN      NaN   \n",
      "2       NaN      NaN  ...      NaN      NaN      NaN      NaN      NaN   \n",
      "3       NaN      NaN  ...      NaN      NaN      NaN      NaN      NaN   \n",
      "4       NaN      NaN  ...      NaN      NaN      NaN      NaN      NaN   \n",
      "5       NaN      NaN  ...      NaN      NaN      NaN      NaN      NaN   \n",
      "6       NaN      NaN  ...      NaN   1214.0      NaN      NaN      NaN   \n",
      "7       NaN   1476.0  ...      NaN   1200.0      NaN      NaN      NaN   \n",
      "8       NaN   1296.0  ...      NaN   1102.0      NaN      NaN      NaN   \n",
      "9       NaN   1243.0  ...      NaN   1122.0      NaN      NaN      NaN   \n",
      "10      NaN   1196.0  ...      NaN   1099.0      NaN      NaN      NaN   \n",
      "11      NaN   1151.0  ...      NaN   1094.0      NaN      NaN      NaN   \n",
      "12      NaN   1134.0  ...      NaN   1096.0      NaN      NaN      NaN   \n",
      "13      NaN   1147.0  ...      NaN   1088.0      NaN      NaN      NaN   \n",
      "14      NaN   1146.0  ...      NaN   1093.0      NaN   2354.0      NaN   \n",
      "15      NaN   1145.0  ...      NaN   1112.0      NaN   2354.0      NaN   \n",
      "16      NaN   1161.0  ...      NaN   1129.0      NaN   2374.0      NaN   \n",
      "17      NaN   1164.0  ...      NaN   1127.0      NaN   2419.0      NaN   \n",
      "18      NaN   1171.0  ...      NaN   1172.0      NaN   2421.0      NaN   \n",
      "19      NaN   1169.0  ...      NaN   1219.0      NaN   2420.0      NaN   \n",
      "20      NaN   1181.0  ...      NaN   1245.0      NaN   2417.0      NaN   \n",
      "21      NaN   1178.0  ...      NaN      NaN      NaN   2414.0      NaN   \n",
      "22      NaN   1175.0  ...      NaN      NaN   1319.0   2423.0      NaN   \n",
      "23      NaN   1180.0  ...   1182.0      NaN   1289.0   2423.0      NaN   \n",
      "24      NaN   1194.0  ...   1080.0      NaN   1275.0   2419.0      NaN   \n",
      "25      NaN   1199.0  ...    949.0      NaN   1280.0   2420.0      NaN   \n",
      "26      NaN   1197.0  ...    840.0      NaN   1302.0   2427.0      NaN   \n",
      "27      NaN   1203.0  ...    769.0      NaN   1316.0   2422.0      NaN   \n",
      "28      NaN   1200.0  ...    730.0      NaN   1327.0   2429.0      NaN   \n",
      "29   1874.0   1198.0  ...    708.0      NaN      NaN   2423.0      NaN   \n",
      "30   1834.0   1199.0  ...    664.0      NaN      NaN   2425.0      NaN   \n",
      "31   1732.0   1196.0  ...    555.0      NaN      NaN   2419.0      NaN   \n",
      "32   1678.0   1195.0  ...    559.0      NaN      NaN   2425.0   1315.0   \n",
      "33   1625.0   1195.0  ...    559.0      NaN      NaN   2423.0   1293.0   \n",
      "34   1538.0   1197.0  ...    561.0      NaN      NaN   2417.0   1283.0   \n",
      "35   1465.0   1193.0  ...    560.0      NaN      NaN   2419.0   1282.0   \n",
      "36      NaN   1195.0  ...    559.0      NaN      NaN   2422.0   1314.0   \n",
      "\n",
      "   Axon_095 Axon_096 Axon_097 Axon_098 Axon_099  \n",
      "   anchor_x anchor_x anchor_x anchor_x anchor_x  \n",
      "0       NaN      NaN      NaN      NaN      NaN  \n",
      "1       NaN      NaN      NaN      NaN      NaN  \n",
      "2       NaN      NaN      NaN      NaN      NaN  \n",
      "3       NaN      NaN      NaN      NaN      NaN  \n",
      "4       NaN      NaN      NaN      NaN      NaN  \n",
      "5       NaN      NaN      NaN      NaN      NaN  \n",
      "6       NaN      NaN      NaN      NaN      NaN  \n",
      "7       NaN      NaN      NaN      NaN      NaN  \n",
      "8       NaN      NaN      NaN      NaN      NaN  \n",
      "9       NaN      NaN      NaN      NaN      NaN  \n",
      "10      NaN      NaN      NaN      NaN      NaN  \n",
      "11      NaN      NaN      NaN      NaN      NaN  \n",
      "12      NaN      NaN      NaN      NaN      NaN  \n",
      "13      NaN      NaN      NaN      NaN      NaN  \n",
      "14      NaN      NaN      NaN      NaN      NaN  \n",
      "15      NaN      NaN      NaN      NaN      NaN  \n",
      "16      NaN      NaN      NaN      NaN      NaN  \n",
      "17      NaN      NaN      NaN      NaN   2062.0  \n",
      "18      NaN      NaN      NaN      NaN   1999.0  \n",
      "19      NaN      NaN      NaN      NaN   1879.0  \n",
      "20      NaN      NaN      NaN      NaN   1843.0  \n",
      "21   1547.0      NaN      NaN      NaN   1861.0  \n",
      "22   1551.0      NaN      NaN      NaN   1889.0  \n",
      "23   1580.0      NaN      NaN      NaN   1886.0  \n",
      "24   1681.0      NaN      NaN      NaN   1905.0  \n",
      "25   1711.0      NaN      NaN      NaN   1941.0  \n",
      "26   1742.0      NaN      NaN      NaN   1978.0  \n",
      "27   1747.0      NaN      NaN      NaN   2008.0  \n",
      "28   1750.0      NaN   2123.0      NaN   2018.0  \n",
      "29   1706.0      NaN   2116.0      NaN   2022.0  \n",
      "30   1697.0      NaN   2100.0      NaN   1989.0  \n",
      "31   1621.0      NaN   2044.0      NaN   2003.0  \n",
      "32   1600.0   2409.0   1958.0      NaN   1993.0  \n",
      "33   1715.0   2414.0   1944.0   1983.0   1989.0  \n",
      "34   1758.0   2408.0   1938.0   2001.0   1972.0  \n",
      "35   1800.0   2406.0   1940.0   2032.0   1991.0  \n",
      "36   1804.0   2470.0   1925.0   2064.0   1995.0  \n",
      "\n",
      "[37 rows x 200 columns]\n",
      "\n",
      "\n",
      "=== `D04_G004` tif loaded ===\n",
      "TxHxW: 80x2080x5764\n",
      "dtype: uint16\n",
      "min:0, max:3974\n",
      "Frame wise min: [0 0 0 0 0 0 0 0 0 0 0 0 0 0 0 0 0 0 0 0 0 0 0 0 0 0 0 0 0 0 0 0 0 0 0 0 0\n",
      " 0 0 0 0 0 0 0 0 0 0 0 0 0 0 0 0 0 0 0 0 0 0 0 0 0 0 0 0 0 0 0 0 0 0 0 0 0\n",
      " 0 0 0 0 0 0]\n"
     ]
    },
    {
     "data": {
      "image/png": "[encoded data removed]",
      "text/plain": [
       "<Figure size 432x288 with 1 Axes>"
      ]
     },
     "metadata": {},
     "output_type": "display_data"
    },
    {
     "name": "stdout",
     "output_type": "stream",
     "text": [
      "=== `D04_G004` npy mask loaded ===\n",
      "HxW: 2080x5764\n",
      "\n",
      "Loading labels for D04_G004. Found the following files: ['/run/media/loaloa/lbbSSD/training_data//all_labels_csvs/D04_G004_labels_IDs_000-066.csv']\n",
      "Adding    Axon_000          Axon_001          Axon_002          Axon_003           \\\n",
      "   anchor_y anchor_x anchor_y anchor_x anchor_y anchor_x anchor_y anchor_x   \n",
      "0    1651.0   1965.0      NaN      NaN      NaN      NaN      NaN      NaN   \n",
      "1    1633.0   1954.0      NaN      NaN      NaN      NaN      NaN      NaN   \n",
      "2    1605.0   1962.0      NaN      NaN      NaN      NaN      NaN      NaN   \n",
      "3    1581.0   1978.0      NaN      NaN      NaN      NaN   1977.0   1620.0   \n",
      "4    1574.0   1978.0      NaN      NaN      NaN      NaN   1969.0   1622.0   \n",
      "..      ...      ...      ...      ...      ...      ...      ...      ...   \n",
      "76   1309.0   2743.0      NaN      NaN   1325.0   2562.0   1449.0   1728.0   \n",
      "77   1306.0   2744.0      NaN      NaN   1323.0   2558.0   1455.0   1730.0   \n",
      "78   1310.0   2747.0      NaN      NaN   1323.0   2564.0   1446.0   1729.0   \n",
      "79   1311.0   2748.0      NaN      NaN   1321.0   2560.0   1451.0   1727.0   \n",
      "80      NaN      NaN      NaN      NaN   1325.0   2561.0   1451.0   1727.0   \n",
      "\n",
      "   Axon_004           ... Axon_062          Axon_063          Axon_064  \\\n",
      "   anchor_y anchor_x  ... anchor_y anchor_x anchor_y anchor_x anchor_y   \n",
      "0    1735.0   1192.0  ...      NaN      NaN      NaN      NaN      NaN   \n",
      "1    1729.0   1195.0  ...      NaN      NaN      NaN      NaN      NaN   \n",
      "2    1713.0   1197.0  ...      NaN      NaN      NaN      NaN      NaN   \n",
      "3    1672.0   1200.0  ...      NaN      NaN      NaN      NaN      NaN   \n",
      "4    1575.0   1202.0  ...      NaN      NaN      NaN      NaN      NaN   \n",
      "..      ...      ...  ...      ...      ...      ...      ...      ...   \n",
      "76      NaN      NaN  ...      NaN      NaN      NaN      NaN      NaN   \n",
      "77      NaN      NaN  ...      NaN      NaN      NaN      NaN      NaN   \n",
      "78      NaN      NaN  ...      NaN      NaN      NaN      NaN      NaN   \n",
      "79      NaN      NaN  ...      NaN      NaN      NaN      NaN      NaN   \n",
      "80      NaN      NaN  ...      NaN      NaN      NaN      NaN      NaN   \n",
      "\n",
      "            Axon_065          Axon_066           \n",
      "   anchor_x anchor_y anchor_x anchor_y anchor_x  \n",
      "0       NaN      NaN      NaN      NaN      NaN  \n",
      "1       NaN      NaN      NaN      NaN      NaN  \n",
      "2       NaN      NaN      NaN      NaN      NaN  \n",
      "3       NaN      NaN      NaN      NaN      NaN  \n",
      "4       NaN      NaN      NaN      NaN      NaN  \n",
      "..      ...      ...      ...      ...      ...  \n",
      "76      NaN   1657.0   3077.0      NaN      NaN  \n",
      "77      NaN   1648.0   3053.0      NaN      NaN  \n",
      "78      NaN   1647.0   3050.0      NaN      NaN  \n",
      "79      NaN   1647.0   3044.0   1883.0   3200.0  \n",
      "80      NaN   1645.0   3040.0   1859.0   3195.0  \n",
      "\n",
      "[81 rows x 134 columns]\n",
      "\n",
      "\n",
      "=== `D19_G035` tif loaded ===\n",
      "TxHxW: 210x2080x5764\n",
      "dtype: uint16\n",
      "min:0, max:3974\n",
      "Frame wise min: [0 0 0 0 0 0 0 0 0 0 0 0 0 0 0 0 0 0 0 0 0 0 0 0 0 0 0 0 0 0 0 0 0 0 0 0 0\n",
      " 0 0 0 0 0 0 0 0 0 0 0 0 0 0 0 0 0 0 0 0 0 0 0 0 0 0 0 0 0 0 0 0 0 0 0 0 0\n",
      " 0 0 0 0 0 0 0 0 0 0 0 0 0 0 0 0 0 0 0 0 0 0 0 0 0 0 0 0 0 0 0 0 0 0 0 0 0\n",
      " 0 0 0 0 0 0 0 0 0 0 0 0 0 0 0 0 0 0 0 0 0 0 0 0 0 0 0 0 0 0 0 0 0 0 0 0 0\n",
      " 0 0 0 0 0 0 0 0 0 0 0 0 0 0 0 0 0 0 0 0 0 0 0 0 0 0 0 0 0 0 0 0 0 0 0 0 0\n",
      " 0 0 0 0 0 0 0 0 0 0 0 0 0 0 0 0 0 0 0 0 0 0 0 0 0]\n"
     ]
    },
    {
     "data": {
      "image/png": "[encoded data removed]",
      "text/plain": [
       "<Figure size 432x288 with 1 Axes>"
      ]
     },
     "metadata": {},
     "output_type": "display_data"
    },
    {
     "name": "stdout",
     "output_type": "stream",
     "text": [
      "=== `D19_G035` npy mask loaded ===\n",
      "HxW: 2080x5764\n",
      "\n",
      "Loading labels for D19_G035. Found the following files: ['/run/media/loaloa/lbbSSD/training_data//all_labels_csvs/D19_G035_labels_IDs_000-132.csv']\n",
      "Adding       Axon_000          Axon_001          Axon_002          Axon_003           \\\n",
      "      anchor_y anchor_x anchor_y anchor_x anchor_y anchor_x anchor_y anchor_x   \n",
      "0.0        NaN      NaN      NaN      NaN      NaN      NaN      NaN      NaN   \n",
      "1.0        NaN      NaN      NaN      NaN      NaN      NaN      NaN      NaN   \n",
      "2.0        NaN      NaN      NaN      NaN      NaN      NaN      NaN      NaN   \n",
      "3.0        NaN      NaN      NaN      NaN      NaN      NaN      NaN      NaN   \n",
      "4.0        NaN      NaN      NaN      NaN      NaN      NaN      NaN      NaN   \n",
      "...        ...      ...      ...      ...      ...      ...      ...      ...   \n",
      "205.0      NaN      NaN   1102.0    955.0      NaN      NaN      NaN      NaN   \n",
      "206.0      NaN      NaN   1105.0    955.0      NaN      NaN      NaN      NaN   \n",
      "207.0      NaN      NaN   1107.0    955.0      NaN      NaN      NaN      NaN   \n",
      "208.0      NaN      NaN   1072.0    952.0      NaN      NaN      NaN      NaN   \n",
      "209.0      NaN      NaN   1087.0    950.0      NaN      NaN      NaN      NaN   \n",
      "\n",
      "      Axon_004           ... Axon_128          Axon_129          Axon_130  \\\n",
      "      anchor_y anchor_x  ... anchor_y anchor_x anchor_y anchor_x anchor_y   \n",
      "0.0        NaN      NaN  ...      NaN      NaN      NaN      NaN      NaN   \n",
      "1.0        NaN      NaN  ...      NaN      NaN      NaN      NaN      NaN   \n",
      "2.0        NaN      NaN  ...      NaN      NaN      NaN      NaN      NaN   \n",
      "3.0        NaN      NaN  ...      NaN      NaN      NaN      NaN      NaN   \n",
      "4.0        NaN      NaN  ...      NaN      NaN      NaN      NaN      NaN   \n",
      "...        ...      ...  ...      ...      ...      ...      ...      ...   \n",
      "205.0      NaN      NaN  ...      NaN      NaN      NaN      NaN    602.0   \n",
      "206.0      NaN      NaN  ...      NaN      NaN      NaN      NaN    603.0   \n",
      "207.0      NaN      NaN  ...      NaN      NaN      NaN      NaN    601.0   \n",
      "208.0      NaN      NaN  ...      NaN      NaN      NaN      NaN    603.0   \n",
      "209.0      NaN      NaN  ...      NaN      NaN      NaN      NaN    600.0   \n",
      "\n",
      "               Axon_131          Axon_132           \n",
      "      anchor_x anchor_y anchor_x anchor_y anchor_x  \n",
      "0.0        NaN      NaN      NaN      NaN      NaN  \n",
      "1.0        NaN      NaN      NaN      NaN      NaN  \n",
      "2.0        NaN      NaN      NaN      NaN      NaN  \n",
      "3.0        NaN      NaN      NaN      NaN      NaN  \n",
      "4.0        NaN      NaN      NaN      NaN      NaN  \n",
      "...        ...      ...      ...      ...      ...  \n",
      "205.0   2639.0      NaN      NaN      NaN      NaN  \n",
      "206.0   2625.0      NaN      NaN      NaN      NaN  \n",
      "207.0   2629.0      NaN      NaN      NaN      NaN  \n",
      "208.0   2629.0      NaN      NaN      NaN      NaN  \n",
      "209.0   2630.0      NaN      NaN      NaN      NaN  \n",
      "\n",
      "[210 rows x 266 columns]\n"
     ]
    }
   ],
   "source": [
    "signals, masks, lbls = load_all_training_data(tlapse_names)"
   ]
  },
  {
   "cell_type": "code",
   "execution_count": null,
   "metadata": {},
   "outputs": [],
   "source": []
  },
  {
   "cell_type": "code",
   "execution_count": null,
   "metadata": {},
   "outputs": [],
   "source": []
  },
  {
   "cell_type": "code",
   "execution_count": 13,
   "metadata": {
    "scrolled": false
   },
   "outputs": [],
   "source": [
    "all_signals, all_masks, all_lbls = merge_all_training_data(signals, masks, lbls)"
   ]
  },
  {
   "cell_type": "code",
   "execution_count": 16,
   "metadata": {},
   "outputs": [
    {
     "name": "stdout",
     "output_type": "stream",
     "text": [
      "(327, 2080, 5764)\n",
      "(327, 2080, 5764)\n"
     ]
    }
   ],
   "source": [
    "validate_training_data(all_signals, all_masks, all_lbls, viewer)"
   ]
  },
  {
   "cell_type": "code",
   "execution_count": null,
   "metadata": {},
   "outputs": [],
   "source": []
  },
  {
   "cell_type": "code",
   "execution_count": null,
   "metadata": {},
   "outputs": [],
   "source": []
  },
  {
   "cell_type": "code",
   "execution_count": null,
   "metadata": {},
   "outputs": [],
   "source": [
    "# timelapse 01\n",
    "inp_path = '/home/loaloa/Documents/training_data/'\n",
    "signal_tl140_file = inp_path+'D00_G001_RFP_compr.deflate.tif'\n",
    "signal_tl140 = imread(signal_tl140_file)\n",
    "H, W = signal_tl140.shape[1:]\n",
    "\n",
    "mask_tl140_file = inp_path+'D00_G001_Transmission_compr.deflate_mask1.npy'\n",
    "mask_tl140 = np.load(mask_tl140_file).astype(bool)\n",
    "print(mask_tl140.shape)\n",
    "\n",
    "# signal_tl140[:, ~mask_tl140] = 0"
   ]
  },
  {
   "cell_type": "code",
   "execution_count": null,
   "metadata": {},
   "outputs": [],
   "source": [
    "# timelapse 13 design 04_G001\n",
    "signal_tl13_D04_file = inp_path+'D04_G004_GFP_compr.deflate.tif'\n",
    "signal_tl13_D04 = imread(signal_tl13_D04_file)[:80]\n",
    "print(signal_tl13_D04.min())\n",
    "signal_tl13_D04 -= 121\n",
    "signal_tl13_D04[signal_tl13_D04<0] = 0\n",
    "print(signal_tl13_D04.shape)\n",
    "H_D04, W_D04 = signal_tl13_D04.shape[1:]\n",
    "\n",
    "print(signal_tl13_D04.shape)\n",
    "signal_tl13_D04 = np.pad(signal_tl13_D04, ((0,0),((H-H_D04)//2,(H-H_D04)//2),((W-W_D04)//2,(W-W_D04)//2)), mode='constant') \n",
    "print(signal_tl13_D04.shape)\n",
    "\n",
    "\n",
    "mask_tl13_D04_file = inp_path+'D04_G004_Transmission_compr.deflate_mask1.npy'\n",
    "mask_tl13_D04 = np.load(mask_tl13_D04_file).astype(bool)\n",
    "print(mask_tl13_D04.shape)\n",
    "mask_tl13_D04 = np.pad(mask_tl13_D04, (((H-H_D04)//2,(H-H_D04)//2), ((W-W_D04)//2,(W-W_D04)//2)), mode='constant') \n",
    "print(mask_tl13_D04.shape)\n",
    "\n",
    "# signal_tl13_D04[:, ~mask_tl13_D04] = 0"
   ]
  },
  {
   "cell_type": "code",
   "execution_count": null,
   "metadata": {},
   "outputs": [],
   "source": [
    "# timelapse 13 design 19_G035\n",
    "signal_tl13_D19_file = inp_path+'D19_G035_GFP_compr.deflate.tif'\n",
    "signal_tl13_D19 = imread(signal_tl13_D19_file)\n",
    "signal_tl13_D19 -= 121\n",
    "signal_tl13_D19[signal_tl13_D19<0] = 0\n",
    "\n",
    "print(signal_tl13_D19.shape)\n",
    "H_D19, W_D19 = signal_tl13_D19.shape[1:]\n",
    "# viewer.add_image(signal_tl13_D19)\n",
    "\n",
    "# %matplotlib qt\n",
    "# plt.hist(np.random.choice(signal_tl13_D19[200].flatten(), 100000), bins=1095, range=(0,1095), label='tl1_last', alpha=.5)\n",
    "# print('1')\n",
    "# plt.hist(np.random.choice(signal_tl13_D19[0].flatten(), 100000), bins=1095, range=(0,1095), label='tl1_first', alpha=.5)\n",
    "# print('1')"
   ]
  },
  {
   "cell_type": "code",
   "execution_count": null,
   "metadata": {},
   "outputs": [],
   "source": [
    "viewer = napari.Viewer()\n",
    "viewer.add_image(signal_tl13_D19)"
   ]
  },
  {
   "cell_type": "code",
   "execution_count": null,
   "metadata": {},
   "outputs": [],
   "source": [
    "mask = viewer.layers['Labels'].data.astype(bool)[0]\n",
    "print(mask.shape)\n",
    "# only a region of the timelapse was labelled. mask here\n",
    "signal_tl13_D19[:, mask] = 0"
   ]
  },
  {
   "cell_type": "code",
   "execution_count": null,
   "metadata": {},
   "outputs": [],
   "source": [
    "signal_tl13_D19 = np.pad(signal_tl13_D19, ((0,0),((H-H_D19)//2,(H-H_D19)//2),((W-W_D19)//2,(W-W_D19)//2)), mode='constant') \n",
    "print(signal_tl13_D19.shape)\n",
    "\n",
    "mask_tl13_D19_file = inp_path+'D19_G035_Transmission_compr.deflate_mask1.npy'\n",
    "mask_tl13_D19 = np.load(mask_tl13_D19_file).astype(bool)\n",
    "print(mask_tl13_D19.shape)\n",
    "mask_tl13_D19 = np.pad(mask_tl13_D19, (((H-H_D19)//2,(H-H_D19)//2), ((W-W_D19)//2,(W-W_D19)//2)), mode='constant') \n",
    "print(mask_tl13_D19.shape)\n",
    "\n",
    "# signal_tl13_D19[:, ~mask_tl13_D19] = 0"
   ]
  },
  {
   "cell_type": "code",
   "execution_count": null,
   "metadata": {},
   "outputs": [],
   "source": [
    "# glue all dataobjects together to one tif\n",
    "print(len(signal_tl140))\n",
    "print(len(signal_tl13_D04))\n",
    "print(len(signal_tl13_D19))\n",
    "final_img = np.concatenate([signal_tl140, signal_tl13_D04, signal_tl13_D19], axis=0)\n",
    "final_img.shape"
   ]
  },
  {
   "cell_type": "code",
   "execution_count": null,
   "metadata": {},
   "outputs": [],
   "source": [
    "\n",
    "ymin, ymax = 420, 2500\n",
    "# Y crop\n",
    "# final_img = final_img[:, ymin:ymax, :]\n",
    "# print(final_img.shape)\n",
    "fname = f'{inp_path}/training_timelapse.tif'\n",
    "# imsave(fname, final_img, photometric='minisblack', compression='deflate', bigtiff=True)\n",
    "final_img = imread(fname)\n",
    "\n",
    "print(final_img.shape)\n",
    "# viewer.add_image(final_img)"
   ]
  },
  {
   "cell_type": "code",
   "execution_count": null,
   "metadata": {},
   "outputs": [],
   "source": [
    "# labels\n",
    "bboxinfo_cols = ['anchor_x', 'anchor_y']\n",
    "\n",
    "tl140_labels_fname = inp_path+'D00_G001_labels_IDs_000-099.csv'\n",
    "tl140_labels = pd.read_csv(tl140_labels_fname, index_col=0, header=[0,1])\n",
    "for col in bboxinfo_cols:\n",
    "    ypad = -ymin\n",
    "    tl140_labels.loc[:, (slice(None), col)] += ypad if 'y' in col else 0\n",
    "\n",
    "ntimepoints = tl140_labels.shape[0]\n",
    "print(ntimepoints)\n",
    "\n",
    "\n",
    "tl13_D04_labels_fname = inp_path+'D04_G004_labels_IDs_100-166.csv'\n",
    "tl13_D04_labels = pd.read_csv(tl13_D04_labels_fname, index_col=0, header=[0,1])[:-1]\n",
    "# fix labels....\n",
    "tl13_D04_labels.columns = pd.MultiIndex.from_tuples([(axon, coo.replace('y','x') if coo.endswith('y') else coo.replace('x','y')) for axon,coo in    tl13_D04_labels.columns])\n",
    "# print(tl13_D04_labels)\n",
    "for col in bboxinfo_cols:\n",
    "    ypad = (H-H_D04)//2 -ymin\n",
    "    xpad = (W-W_D04)//2\n",
    "    tl13_D04_labels.loc[:, (slice(None), col)] += ypad if 'y' in col else xpad\n",
    "tl13_D04_labels.index += ntimepoints\n",
    "print(tl13_D04_labels.iloc[:,0])\n",
    "\n",
    "ntimepoints += tl13_D04_labels.shape[0]\n",
    "print(ntimepoints)\n",
    "\n",
    "tl13_D19_labels_fname = inp_path+'D19_G035_labels_IDs_167-299.csv'\n",
    "tl13_D19_labels = pd.read_csv(tl13_D19_labels_fname, index_col=0, header=[0,1])\n",
    "# fix labels\n",
    "tl13_D19_labels.columns = pd.MultiIndex.from_tuples([(axon, coo.replace('y','x') if coo.endswith('y') else coo.replace('x','y')) for axon,coo in    tl13_D19_labels.columns])\n",
    "for col in bboxinfo_cols:\n",
    "    ypad = (H-H_D19)//2 -ymin\n",
    "    xpad = (W-W_D19)//2\n",
    "    tl13_D19_labels.loc[:, (slice(None), col)] += ypad if 'y' in col else xpad\n",
    "tl13_D19_labels.index += ntimepoints\n",
    "print(tl13_D19_labels.iloc[:,0])\n",
    "\n",
    "\n",
    "\n",
    "all_labels = pd.concat([tl140_labels, tl13_D04_labels, tl13_D19_labels])\n",
    "print(all_labels)\n",
    "check = all_labels.loc[:,(slice(None),'anchor_x')].fillna(False).astype(bool)\n",
    "plt.imshow(check)\n",
    "\n",
    "all_labels.to_csv(inp_path+'axon_anchor_labels.csv')"
   ]
  },
  {
   "cell_type": "code",
   "execution_count": null,
   "metadata": {},
   "outputs": [],
   "source": [
    "#masks\n",
    "witht_mask_tl140 = np.stack([mask_tl140[ymin:ymax]]*len(signal_tl140))\n",
    "witht_mask_tl13_D04 = np.stack([mask_tl13_D04[ymin:ymax]]*len(signal_tl13_D04))\n",
    "witht_mask_tl13_D19 = np.stack([mask_tl13_D19[ymin:ymax]]*len(signal_tl13_D19))\n",
    "print(witht_mask_tl13_D19.shape)\n",
    "\n",
    "final_mask = np.concatenate([witht_mask_tl140, witht_mask_tl13_D04, witht_mask_tl13_D19], axis=0).astype(bool)\n",
    "print(final_mask.shape)\n",
    "fname = f'{inp_path}/training_mask.npy'\n",
    "np.save(fname, final_mask)\n",
    "\n",
    "f= np.load(fname)\n",
    "print(f)\n",
    "print(f.shape)"
   ]
  },
  {
   "cell_type": "code",
   "execution_count": null,
   "metadata": {},
   "outputs": [],
   "source": [
    "all_labels = pd.read_csv(inp_path+'axon_anchor_labels.csv', header=[0,1], index_col=0)\n",
    "print(all_labels)\n",
    "# final_img = imread(inp_path+'training_timelapse.tif')\n",
    "# print(final_img.shape)\n",
    "# mask = np.load(f'{inp_path}/training_mask.npy')\n",
    "# print(mask.shape)\n"
   ]
  },
  {
   "cell_type": "code",
   "execution_count": null,
   "metadata": {},
   "outputs": [],
   "source": [
    "import config\n",
    "from matplotlib.colors import ListedColormap\n",
    "from models.v1model import utils\n",
    "\n",
    "sort = False\n",
    "subtr_t0 = False\n",
    "utils.turn_tex('on')\n",
    "show = False\n",
    "\n",
    "id_lifetime = all_labels.loc[:, (slice(None), 'anchor_y')].fillna(0).astype(bool).T\n",
    "print(id_lifetime.shape)\n",
    "\n",
    "# option to sort by ID lifetime length and to left-align the data to t0\n",
    "if sort:\n",
    "    id_lifetime = id_lifetime[np.argsort(id_lifetime.sum(1))]\n",
    "if subtr_t0:\n",
    "    id_lifetime_new = np.zeros_like(id_lifetime, bool)\n",
    "    for i, axon_row in enumerate(id_lifetime):\n",
    "        id_lives = np.where(axon_row)[0]\n",
    "        id_lifetime_new[i, id_lives-id_lives[0]] = True\n",
    "    id_lifetime = id_lifetime_new\n",
    "\n",
    "fig, ax = plt.subplots(figsize=config.MEDIUM_FIGSIZE)\n",
    "fig.subplots_adjust(left=.15)\n",
    "# colormap that is white for False (ID not present at t) and green for True\n",
    "ax.imshow(id_lifetime, cmap=ListedColormap([config.WHITE, config.DEFAULT_COLORS[0]]))\n",
    "ax.set_title(f'ID lifetime - training data', fontsize=config.FONTS)\n",
    "# if draw_verticle_lineat:\n",
    "#     ax.vlines(draw_verticle_lineat, 0, id_lifetime.shape[0]-1, linewidth=.5, color='k')\n",
    "\n",
    "# x, y axis setup\n",
    "ax.tick_params(labelsize=config.SMALL_FONTS)\n",
    "ax.set_xticks(np.arange(0,id_lifetime.shape[1], 40))\n",
    "ax.set_xlabel('timepoint', fontsize=config.FONTS)\n",
    "ax.set_yticks(np.arange(0,id_lifetime.shape[0], 40))\n",
    "ax.set_ylabel('Axon ID', fontsize=config.FONTS)\n",
    "\n",
    "if show:\n",
    "    plt.show()\n",
    "fname = f'../master_thesis/methods_figures/ID_lifetime_taindata.svg'\n",
    "plt.savefig(fname)\n",
    "plt.close()"
   ]
  },
  {
   "cell_type": "code",
   "execution_count": null,
   "metadata": {},
   "outputs": [],
   "source": [
    "final_img[~mask] = 0"
   ]
  },
  {
   "cell_type": "code",
   "execution_count": null,
   "metadata": {},
   "outputs": [],
   "source": [
    "n = 0\n",
    "# viewer.add_image(signal_tl140, colormap='red')\n",
    "# viewer.add_image(signal_tl13_D04, colormap='green')\n",
    "# viewer.add_image(signal_tl13_D19, colormap='green')\n",
    "viewer.add_image(final_img, colormap='red')\n",
    "\n",
    "# tl13_D04_labels = pd.read_csv(tl13_D04_labels_fname, index_col=0, header=[0,1])\n",
    "\n",
    "for axon in all_labels.columns.unique(0):\n",
    "    if not int(axon[-3:])%13:\n",
    "        print(axon)\n",
    "        ax_data = all_labels.loc[:, (axon,['anchor_y','anchor_x'])]\n",
    "        dat = np.concatenate([all_labels.index.values[:, np.newaxis]-n, ax_data], axis=-1)\n",
    "\n",
    "        col = np.random.rand(1,3)\n",
    "        viewer.add_points(name=axon, data=dat, size=40, opacity=.25, face_color=col, ndim=3)\n"
   ]
  },
  {
   "cell_type": "code",
   "execution_count": null,
   "metadata": {},
   "outputs": [],
   "source": [
    "%gui qt"
   ]
  },
  {
   "cell_type": "code",
   "execution_count": null,
   "metadata": {},
   "outputs": [],
   "source": [
    "import napari\n",
    "viewer = napari.Viewer()"
   ]
  },
  {
   "cell_type": "code",
   "execution_count": null,
   "metadata": {},
   "outputs": [],
   "source": [
    "viewer.add_image(final_img)"
   ]
  },
  {
   "cell_type": "code",
   "execution_count": null,
   "metadata": {},
   "outputs": [],
   "source": [
    "overflow_mask = final_img>4095\n",
    "print(overflow_mask.sum())\n",
    "final_img[overflow_mask] = 0\n"
   ]
  },
  {
   "cell_type": "code",
   "execution_count": null,
   "metadata": {},
   "outputs": [],
   "source": [
    "%matplotlib qt\n",
    "\n",
    "plt.hist(np.random.choice(final_img[36].flatten(), 100000), bins=1095, range=(0,4095), label='tl1_last', alpha=.5)\n",
    "print(final_img[36].min())\n",
    "print(final_img[36].max())\n",
    "\n",
    "plt.hist(np.random.choice(final_img[0].flatten(), 100000), bins=1095, range=(0,4095), label='tl1_first', alpha=.5)\n",
    "print(final_img[0].min())\n",
    "print(final_img[0].max())\n",
    "\n",
    "\n",
    "plt.hist(np.random.choice(final_img[115].flatten(), 100000), bins=1095, range=(0,4095), label='tl13_80_last', alpha=.5)\n",
    "print(final_img[115].min())\n",
    "print(final_img[115].max())\n",
    "plt.hist(np.random.choice(final_img[38].flatten(), 100000), bins=1095, range=(0,4095), label='tl13_80_first', alpha=.5)\n",
    "print(final_img[38].min())\n",
    "print(final_img[38].max())\n",
    "\n",
    "\n",
    "plt.hist(np.random.choice(final_img[120].flatten(), 100000), bins=1095, range=(0,4095), label='tl13_220_first', alpha=.5)\n",
    "print(final_img[120].min())\n",
    "print(final_img[120].max())\n",
    "plt.hist(np.random.choice(final_img[324].flatten(), 100000), bins=1095, range=(0,4095), label='tl13_220_last', alpha=.5)\n",
    "print(final_img[324].min())\n",
    "print(final_img[324].max())\n",
    "\n",
    "plt.legend()\n"
   ]
  },
  {
   "cell_type": "code",
   "execution_count": null,
   "metadata": {},
   "outputs": [],
   "source": [
    "viewer.add_image(redchannel3)\n",
    "viewer.layers['redchannel3'].blending = 'additive'\n",
    "viewer.layers['redchannel3'].colormap = 'red'\n",
    "viewer.layers['redchannel3'].contrast_limits = [0,2700]\n",
    "\n",
    "# viewer.add_image(greychannel)\n",
    "# viewer.layers['greychannel'].blending='additive'\n",
    "# viewer.layers['greychannel'].opacity = .1\n",
    "# viewer.layers['greychannel'].gamma = .6\n",
    "\n",
    "dest_dir = '/home/loaloa/Documents/D19_G035_labels'"
   ]
  },
  {
   "cell_type": "code",
   "execution_count": null,
   "metadata": {},
   "outputs": [],
   "source": [
    "# compute motion and add to viewer\n",
    "blur_strength = 3\n",
    "lowerlim = 100\n",
    "print(f'Calculating motion (clip lower lim: {lowerlim}) + '\n",
    "      f'Gaussian filtering (std: {blur_strength})...', end='')\n",
    "\n",
    "from skimage.filters import gaussian\n",
    "\n",
    "pos_motion_seq = [np.zeros((sizey, sizex), float)]\n",
    "neg_motion_seq = [np.zeros((sizey, sizex), float)]\n",
    "# first timepoint has no t-1, set to all 0. Recommend to not use t=0\n",
    "print()\n",
    "for t in range(1, sizet):\n",
    "    motion_frame = redchannel[t].astype(float) - redchannel[t-1].astype(float)\n",
    "    motion_frame = gaussian(motion_frame.astype(float), blur_strength)\n",
    "        \n",
    "    # clipping\n",
    "    motion_frame[np.abs(motion_frame)<lowerlim] = 0\n",
    "\n",
    "    pos_motion = np.where(motion_frame>0, motion_frame, 0).astype(np.uint16)\n",
    "    neg_motion = np.where(motion_frame<0, motion_frame*-1, 0).astype(np.uint16)\n",
    "    \n",
    "    pos_motion_seq.append(pos_motion)\n",
    "    neg_motion_seq.append(neg_motion)\n",
    "    \n",
    "print('Done.')\n",
    "\n",
    "pos_motion_seq = np.stack(pos_motion_seq).astype(np.uint16)\n",
    "neg_motion_seq = np.stack(neg_motion_seq).astype(np.uint16)"
   ]
  },
  {
   "cell_type": "code",
   "execution_count": null,
   "metadata": {},
   "outputs": [],
   "source": [
    "viewer.add_image(pos_motion_seq)\n",
    "viewer.layers['pos_motion_seq'].blending = 'additive'\n",
    "viewer.layers['pos_motion_seq'].colormap = 'green'\n",
    "viewer.layers['pos_motion_seq'].contrast_limits = [0,2700]\n",
    "\n",
    "viewer.add_image(neg_motion_seq)\n",
    "viewer.layers['neg_motion_seq'].blending = 'additive'\n",
    "viewer.layers['neg_motion_seq'].colormap = 'blue'\n",
    "viewer.layers['neg_motion_seq'].contrast_limits = [0,2700]\n"
   ]
  },
  {
   "cell_type": "code",
   "execution_count": null,
   "metadata": {},
   "outputs": [],
   "source": [
    "# CREATE EMPTY AXON LABELS\n",
    "axons_index = range(290,300)\n",
    "\n",
    "for ax_i in axons_index:\n",
    "    name = f'Axon_{ax_i:0>3}'\n",
    "    col = np.random.rand(1,3)\n",
    "\n",
    "    # edge coloring doesn't work unfortunately, do manually in gui\n",
    "    viewer.add_points(name=name, edge_color=col, face_color=col, opacity=.25, size=35, ndim=3)"
   ]
  },
  {
   "cell_type": "code",
   "execution_count": null,
   "metadata": {
    "tags": []
   },
   "outputs": [],
   "source": [
    "# save labels\n",
    "axons_index = range(259,300)\n",
    "\n",
    "all_axons_data = []\n",
    "for ax_i in axons_index:\n",
    "    name = f'Axon_{ax_i:0>3}'\n",
    "    dat = viewer.layers[name].data\n",
    "    idx = pd.MultiIndex.from_product([(name,), ('anchor_x', 'anchor_y')])\n",
    "    data = pd.DataFrame(dat[:,1:], index=dat[:,0], columns=idx, dtype=int)\n",
    "    \n",
    "    if ax_i == 137:\n",
    "        print(data.to_string())\n",
    "    if data.empty:\n",
    "        print(dat)\n",
    "        print(name)\n",
    "    # print(data)\n",
    "    all_axons_data.append(data)\n",
    "\n",
    "# print(all_axons_data)\n",
    "all_axons_data = pd.concat(all_axons_data, axis=1)\n",
    "\n",
    "fname = f'{dest_dir}/labels_ID{axons_index[0]}-{axons_index[-1]}.csv'\n",
    "all_axons_data.to_csv(fname) \n",
    "print(fname)\n",
    "all_axons_data"
   ]
  },
  {
   "cell_type": "code",
   "execution_count": null,
   "metadata": {},
   "outputs": [],
   "source": [
    "# save labels\n",
    "all_axons_indices = [range(167,220), range(220,259), range(259,300)]\n",
    "# os.listdir(dest_dir)\n",
    "\n",
    "all_axons_data = []\n",
    "for axons_index in all_axons_indices:\n",
    "    data = pd.read_csv(f'{dest_dir}/labels_ID{axons_index[0]}-{axons_index[-1]}.csv', header=[0,1], index_col=0)\n",
    "    all_axons_data.append(data)\n",
    "    \n",
    "    print(data)\n",
    "all_axons_data = pd.concat(all_axons_data, axis=1)\n",
    "\n",
    "\n",
    "all_axons_data.to_csv(f'{dest_dir}/labels_ID_all{all_axons_indices[0][0]}-{all_axons_indices[-1][-1]}.csv')\n",
    "\n",
    "all_axons_data\n"
   ]
  },
  {
   "cell_type": "code",
   "execution_count": null,
   "metadata": {
    "tags": []
   },
   "outputs": [],
   "source": [
    "for axon in all_axons_data.columns.unique(0):\n",
    "    ax_data = all_axons_data[axon]\n",
    "    print(ax_data.shape)\n",
    "    print(all_axons_data.index.values[:, np.newaxis].shape)\n",
    "    dat = np.concatenate([all_axons_data.index.values[:, np.newaxis], ax_data], axis=-1)\n",
    "    viewer.add_points(name=axon, data=dat)\n"
   ]
  },
  {
   "cell_type": "code",
   "execution_count": null,
   "metadata": {
    "scrolled": true,
    "tags": []
   },
   "outputs": [],
   "source": [
    "# SAVE AXONS\n",
    "print('SAVING...')\n",
    "axons_index = range(100)\n",
    "\n",
    "# backup for safety always created new\n",
    "dir_name = f'{outp_path}/labelled_axons_backup/labelled_axons n{len(axons_index)}.{time.ctime(time.time())}'\n",
    "os.makedirs(dir_name, exist_ok=True)\n",
    "\n",
    "all_axons_df = []\n",
    "for ax_i in axons_index:\n",
    "    name = f'Axon_{ax_i:0>3}'\n",
    "    # old labelling, save base object as .npy, Used for loading axon bboxes in this script\n",
    "    labels = np.array(viewer.layers[name].data)\n",
    "    np.save(f'{dir_name}/{name}.npy', labels)   # safety backup\n",
    "    np.save(f'{outp_path}/labelled_axons/{name}.npy', labels)   # what's actually used\n",
    "\n",
    "    # make dataframe to save all information\n",
    "    timepoints = labels[:,0,0].astype(int)\n",
    "    print(f'{name} n={viewer.layers[name].nshapes}...', end='')\n",
    "    # create a pandas dataframe for this specific axons\n",
    "    idx = pd.MultiIndex.from_product([(name,),\n",
    "                                    ('anchor_x', 'anchor_y', 'extend', \n",
    "                                     'topleft_x', 'topleft_y', \n",
    "                                     'bottomright_x', 'bottomright_y', \n",
    "                                     'distance', 'rel_distance',\n",
    "                                     'col_r', 'col_g', 'col_b',)])\n",
    "    dat = pd.DataFrame(index=range(sizet), columns=idx)\n",
    "    \n",
    "    # populate the dataframe with all the relvent bbox information\n",
    "    color = viewer.layers[name].edge_color\n",
    "    dat.loc[timepoints, (name, ['col_r', 'col_g', 'col_b'])] = color[:,:-1]\n",
    "        \n",
    "    start = labels[:, :,1:].min(axis=1).astype(int)\n",
    "    end = labels[:,:,1:].max(axis=1).astype(int)\n",
    "    dat.loc[timepoints, (name, 'topleft_x')] = start[:, 1]\n",
    "    dat.loc[timepoints, (name, 'topleft_y')] = start[:, 0]\n",
    "    dat.loc[timepoints, (name, 'bottomright_x')] = end[:, 1]\n",
    "    dat.loc[timepoints, (name, 'bottomright_y')] = end[:, 0]\n",
    "\n",
    "    x_dist, y_dist = end[:,1]-start[:,1], end[:,0]-start[:,0]\n",
    "    extend = ((x_dist+y_dist)//4).astype(int)\n",
    "    dat.loc[timepoints, (name, 'extend')] = extend\n",
    "\n",
    "    anchor_x = (start[:,1] + extend).astype(int)\n",
    "    anchor_y = (start[:,0] + extend).astype(int)\n",
    "    dat.loc[timepoints, (name, 'anchor_x')] = anchor_x\n",
    "    dat.loc[timepoints, (name, 'anchor_y')] = anchor_y\n",
    "    # this is the old way of computing distance: simply eucl. \n",
    "    dist = np.sqrt((anchor_x-target[1])**2 + (anchor_y-target[0])**2)\n",
    "    dat.loc[timepoints, (name, 'distance')] = dist\n",
    "    dat.loc[timepoints, (name, 'rel_distance')] = dist[np.where(timepoints == min(timepoints))] - dist\n",
    "\n",
    "    all_axons_df.append(dat)\n",
    "    print('Ok.')\n",
    "all_axons_df = pd.concat(all_axons_df, axis=1).sort_index(axis=1)\n",
    "all_axons_df.to_csv(f'{outp_path}/labelled_axons_eucldists_new.csv')\n"
   ]
  },
  {
   "cell_type": "code",
   "execution_count": null,
   "metadata": {},
   "outputs": [],
   "source": [
    "from skimage.color import gray2rgb\n",
    "from skimage import img_as_float\n",
    "from skimage.draw import rectangle_perimeter\n",
    "from skimage import img_as_uint\n",
    "\n",
    "redchannel_float = img_as_float(redchannel)"
   ]
  },
  {
   "cell_type": "code",
   "execution_count": null,
   "metadata": {},
   "outputs": [],
   "source": [
    "rgb_image = np.zeros((sizet, sizey, sizex, 3), float)\n",
    "rgb_image[:,:,:,0] = redchannel_float\n",
    "rgb_image /= rgb_image.max()"
   ]
  },
  {
   "cell_type": "code",
   "execution_count": null,
   "metadata": {},
   "outputs": [],
   "source": [
    "# LOAD AXONS AS LAYERS, or rgb image, show which timepoint is lablled \n",
    "as_shapes = True\n",
    "print('LOADING axon bboxes....')\n",
    "load_axons_range = range(100)\n",
    "\n",
    "labelled = np.zeros((load_axons_range[-1]+1,sizet))\n",
    "for i in load_axons_range:\n",
    "    name = f'Axon_{i:0>3}'\n",
    "    print(f'{name}...', end='')\n",
    "    col = np.random.rand(1,3)\n",
    "    dat = np.load(f'{outp_path}/labelled_axons/{name}.npy', )\n",
    "    labelled[i,:] = [1 if t in dat[:,:,0].flatten() else 0 for t in range(sizet)]   # for plotting\n",
    "    # dat[:,:,1] -= ymin\n",
    "    # dat[:,:,2] -= xmin\n",
    "    \n",
    "    if not dat.size:\n",
    "        print('!!!Empty!!!\\n')\n",
    "        continue\n",
    "    dupl_label = any([(dat[:,:,0]==t).sum()>4 for t in range(sizet)])\n",
    "    if dupl_label:\n",
    "        [print(f't: {t} - More than one label!') for t in range(sizet) if (dat[:,:,0]==t).sum()>4]        \n",
    "        print()\n",
    "    else:\n",
    "        print('Ok')\n",
    "    if as_shapes:\n",
    "        viewer.add_shapes(dat, name=name, shape_type='rectangle', edge_color=col, face_color=np.array([1,1,1,.9]), edge_width=5, visible=True, opacity=.9)\n",
    "    else:\n",
    "        start = dat[:, :,1:].min(axis=1).astype(int)\n",
    "        end = dat[:,:,1:].max(axis=1).astype(int)\n",
    "        x_start = start[:, 1]\n",
    "        y_start = start[:, 0]\n",
    "        x_end = end[:, 1]\n",
    "        y_end = end[:, 0]\n",
    "        \n",
    "#         col = 1 - .35*(1-col) \n",
    "        axon_timepoints = dat[:,:,0].astype(int)\n",
    "        for i, t in enumerate(range(axon_timepoints.min(), axon_timepoints.max()+1)):\n",
    "            for w in range(2):\n",
    "                rr, cc = rectangle_perimeter((y_start[i]+w, x_start[i]+w), end=(y_end[i]+w, x_end[i]+w), \n",
    "                                             shape=rgb_image.shape[1:])\n",
    "                rgb_image[t-1, rr, cc] = col\n",
    "\n",
    "plt.figure(figsize=(13,7), facecolor='k')\n",
    "plt.imshow(labelled.T, cmap=plt.get_cmap('cividis'))\n",
    "ax = plt.gca()\n",
    "\n",
    "ax.set_yticks(np.arange(sizet))\n",
    "ax.set_yticklabels(['' if t%5 else t for t in range(sizet)], color='white')\n",
    "ax.set_ylabel('timepoint', color='white', fontsize=14)\n",
    "\n",
    "ax.set_xticks(np.arange(load_axons_range[-1]+1))\n",
    "ax.set_xticklabels(['' if t%2 else t for t in range(load_axons_range[-1]+1)], color='white')\n",
    "ax.set_xlabel('Axon ID', color='white', fontsize=14)\n",
    "\n",
    "ax.set_title('Yellow means there is an axon label for this timepoint', color='white', fontsize=18)\n",
    "ax.set_yticks(np.arange(sizet))\n",
    "ax.set_yticklabels(['' if t%4 else t+1 for t in range(sizet)], color='white')\n",
    "ax.set_ylabel('timepoint', color='white', fontsize=14)"
   ]
  },
  {
   "cell_type": "code",
   "execution_count": null,
   "metadata": {},
   "outputs": [],
   "source": [
    "viewer.add_image(rgb_image)"
   ]
  },
  {
   "cell_type": "code",
   "execution_count": null,
   "metadata": {},
   "outputs": [],
   "source": []
  }
 ],
 "metadata": {
  "kernelspec": {
   "display_name": "Python 3 (ipykernel)",
   "language": "python",
   "name": "python3"
  },
  "language_info": {
   "codemirror_mode": {
    "name": "ipython",
    "version": 3
   },
   "file_extension": ".py",
   "mimetype": "text/x-python",
   "name": "python",
   "nbconvert_exporter": "python",
   "pygments_lexer": "ipython3",
   "version": "3.9.9"
  }
 },
 "nbformat": 4,
 "nbformat_minor": 2
}
