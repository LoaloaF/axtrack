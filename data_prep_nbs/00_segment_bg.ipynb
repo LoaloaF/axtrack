{
 "cells": [
  {
   "cell_type": "markdown",
   "metadata": {},
   "source": [
    "### Mask out regions of the microscope timelpase. Here, PDMS microchannels.\n",
    "\n",
    "This notebook guides through the process of semi-manually segmenting the microchannels from the microscope transmission channel. The obtained mask sparsifies the timelapse data significantly and is needed for computing A* distances through the microstructure. First load the transmission channel into napari, the image viewer gui. Perform prewitt edge detection, gaussian denoising, binarize using otsu, run binary closing. Then comes the manual part where the channels are filled using the bucket tool. Once the has been done, use flood to clean the PDMS structure channels."
   ]
  },
  {
   "cell_type": "code",
   "execution_count": 1,
   "metadata": {},
   "outputs": [],
   "source": [
    "import napari\n",
    "from tifffile import imread\n",
    "\n",
    "import numpy as np\n",
    "import pandas as pd\n",
    "\n",
    "from skimage import filters\n",
    "from skimage import morphology\n",
    "from skimage.filters import threshold_otsu\n",
    "from skimage.segmentation import flood\n",
    "\n",
    "import matplotlib.pyplot as plt"
   ]
  },
  {
   "cell_type": "code",
   "execution_count": 2,
   "metadata": {},
   "outputs": [],
   "source": [
    "def load_transmission_channel(basename, postfix='_Transmission_compr.deflate'):\n",
    "    \"\"\"\n",
    "    Load the tif transmission channel of a timelapse recording. Will try to get\n",
    "    the file {data_path}/{basename}{postfix}.tif.\n",
    "    \n",
    "    Arguments\n",
    "    ---------\n",
    "        basename: str\n",
    "            The basename of the transmission channel/ timelapse to load. This\n",
    "            prefix is consistent for all types of data corresponding to this\n",
    "            microscope timelapse.\n",
    "        postfix: str\n",
    "            Load a file that ends with postfix (excluding file extension), by\n",
    "            default `_Transmission_compr.deflate`.\n",
    "    Returns\n",
    "    -------\n",
    "        transm_chnl: np.array of shape [HxW], dtype uint16\n",
    "            The loaded transmission channel.\n",
    "    \"\"\"\n",
    "    transm_chnl_fname = f'{data_path}/{basename}{postfix}.tif'\n",
    "    print(f'Loading transmission channel for {basename}: {transm_chnl_fname}')\n",
    "    transm_chnl = imread(transm_chnl_fname)\n",
    "    if transm_chnl.ndim == 3:\n",
    "        print(f'Transmission channel had temporal dim [{transm_chnl.shape[0]}].'\n",
    "              f' Slicing to t=0')\n",
    "        transm_chnl = transm_chnl[0]\n",
    "    return transm_chnl"
   ]
  },
  {
   "cell_type": "code",
   "execution_count": 3,
   "metadata": {},
   "outputs": [],
   "source": [
    "def transmission_channel2gui(transm_chnl):\n",
    "    \"\"\"\n",
    "    Load the transmission channel numpy array into the image viewer. Will get \n",
    "    the name `0_original`.\n",
    "    \n",
    "    Arguments\n",
    "    ---------\n",
    "        transm_chnl: np.array of shape [HxW], dtype uint16\n",
    "            The transmission channel to be loaded into the GUI.\n",
    "    \"\"\"\n",
    "    viewer.add_image(transm_chnl, name='0_original', blending='additive', \n",
    "                     opacity=.7, gamma=.72)"
   ]
  },
  {
   "cell_type": "code",
   "execution_count": 4,
   "metadata": {},
   "outputs": [],
   "source": [
    "def segment_microchannels(transm_chnl, gaussion_sigma=1, bin_closing_dim=4):\n",
    "    \"\"\"\n",
    "    Segment the microchannels using filters. Performs prewitt edge detection,\n",
    "    gaussian denoising, binarize using otsu, and finally binary closing. Loads\n",
    "    the in-between results into the image viewer as well. Returns the initial\n",
    "    mask segmentation.\n",
    "    \n",
    "    Arguments\n",
    "    ---------\n",
    "        transm_chnl: np.array of shape [HxW], dtype uint16\n",
    "            The transmission channel to segment.\n",
    "        gaussion_sigma: int\n",
    "            The stregth of gaussion smoothing post edge detection. Defaults to\n",
    "            1.\n",
    "        binary_closing_dim: int\n",
    "            The extend of binary clossing. Increase if edges have frequent gaps.\n",
    "            Decrease if edge are frequently merged together. Defaults to 4.\n",
    "    Returns\n",
    "    -------\n",
    "        initial_mask: np.array of shape [HxW], dtype bool\n",
    "            The inital mask obtained from filtering.\n",
    "    \"\"\"\n",
    "    print('Detecting edges using prewitt filter', end='...')\n",
    "    # perform edge detection\n",
    "    prewitt = filters.prewitt(transm_chnl)\n",
    "    viewer.add_image(prewitt, visible=False, name='1_prewitt_edge_detection')\n",
    "    \n",
    "    print('smoothing edges using gaussion filter', end='...')\n",
    "    # perform guassian smoothing on edge filtered image\n",
    "    prewitt_gaussian = filters.gaussian(prewitt, sigma=gaussion_sigma)\n",
    "    viewer.add_image(prewitt_gaussian, name='2_smoothed_edges', visible=False)\n",
    "    \n",
    "    print('threshold using otsu', end='...')\n",
    "    # binarize image\n",
    "    prewitt_bin = prewitt > threshold_otsu(prewitt_gaussian)\n",
    "    viewer.add_image(prewitt_bin, name='3_otsu_threshold', visible=False)\n",
    "    \n",
    "    print('binary closing', end='...')\n",
    "    # close edges as good as possible\n",
    "    square = morphology.square(bin_closing_dim)\n",
    "    initial_mask = morphology.binary_closing(prewitt_bin, square)\n",
    "    viewer.add_labels(initial_mask, name='4_bin_closing_initial_mask')\n",
    "    \n",
    "    print('Done.')\n",
    "    return initial_mask\n",
    "    "
   ]
  },
  {
   "cell_type": "code",
   "execution_count": 5,
   "metadata": {},
   "outputs": [],
   "source": [
    "def add_floodpoint_layer():\n",
    "    \"\"\"\n",
    "    Add a points-layer to the viewer. Manually set the flood point after adding\n",
    "    this.\n",
    "    \"\"\"\n",
    "    viewer.add_points(name='flood_point')"
   ]
  },
  {
   "cell_type": "code",
   "execution_count": 6,
   "metadata": {},
   "outputs": [],
   "source": [
    "def get_floodpoint():\n",
    "    \"\"\"\n",
    "    Get the flood point from the previously added points-layer.\n",
    "    \n",
    "    Returns\n",
    "    -------\n",
    "        floodpoint: (int, int)\n",
    "            XY coordinate from which to flood.\n",
    "    \"\"\"\n",
    "    floodpoint = viewer.layers['flood_point'].data\n",
    "    return tuple(floodpoint[0].astype(int))"
   ]
  },
  {
   "cell_type": "code",
   "execution_count": 7,
   "metadata": {},
   "outputs": [],
   "source": [
    "def flood_initial_mask(floodpoint):\n",
    "    \"\"\"\n",
    "    Flood the manually cleaned segmentation from a passed point. This ensures\n",
    "    that everything is connected.\n",
    "    \n",
    "    Arguments\n",
    "    ---------\n",
    "        floodpoint: (int, int)\n",
    "            XY coordinate from which to flood.\n",
    "    \"\"\"\n",
    "    filled_mask = viewer.layers['4_bin_closing_initial_mask'].data    \n",
    "    filled_mask_flooded = flood(filled_mask, floodpoint)\n",
    "    viewer.add_labels(filled_mask_flooded, name='5_filled_mask_flooded')"
   ]
  },
  {
   "cell_type": "code",
   "execution_count": 22,
   "metadata": {},
   "outputs": [],
   "source": [
    "def save_final_mask(basename, postfix='_Transmission_compr.deflate_mask1'):\n",
    "    \"\"\"\n",
    "    Save the final mask from the image viewer by its name:\n",
    "    `5_filled_mask_flooded`. Filename will be\n",
    "    {data_path}/{basename}{postfix}.npy.\n",
    "    \n",
    "    Arguments\n",
    "    ---------\n",
    "        basename: str\n",
    "            The basename of the transmission channel/ timelapse to save. This\n",
    "            prefix is consistent for all types of data corresponding to this\n",
    "            microscope timelapse.\n",
    "        postfix: str\n",
    "            Save a file that ends with postfix (excluding file extension), by\n",
    "            default `_Transmission_compr.deflate_mask1`.\n",
    "    \"\"\"\n",
    "    final_mask = viewer.layers['5_filled_mask_flooded'].data.astype(bool)\n",
    "    print(final_mask)\n",
    "    fname = f'{data_path}/{basename}{postfix}.npy'\n",
    "    print(f'Saving mask: {fname}')\n",
    "    np.save(fname, final_mask)"
   ]
  },
  {
   "cell_type": "markdown",
   "metadata": {},
   "source": [
    "### Run below for segmentation"
   ]
  },
  {
   "cell_type": "code",
   "execution_count": 9,
   "metadata": {},
   "outputs": [
    {
     "name": "stdout",
     "output_type": "stream",
     "text": [
      "Loaded functions `load_timelapse`, `load_mask` successfully.\n"
     ]
    }
   ],
   "source": [
    "# get the load_mask function\n",
    "%run 01_process_training_timelapses.ipynb"
   ]
  },
  {
   "cell_type": "code",
   "execution_count": 10,
   "metadata": {},
   "outputs": [],
   "source": [
    "# create the viewer for segmentation\n",
    "viewer = napari.Viewer()"
   ]
  },
  {
   "cell_type": "code",
   "execution_count": 11,
   "metadata": {},
   "outputs": [],
   "source": [
    "# set the dataset names\n",
    "# data_path = '/run/media/loaloa/lbbSSD/training_data/'\n",
    "data_path = '/run/media/loaloa/lbbSSD/test_axtrack_inference/'\n",
    "# tlapse_names = ['D00_G001', 'D04_G004', 'D19_G035']\n",
    "tlapse_names = ['timelapse42',]\n",
    "\n",
    "\n",
    "# segment dataset at index \n",
    "index = 0\n",
    "basename = tlapse_names[index]"
   ]
  },
  {
   "cell_type": "code",
   "execution_count": 13,
   "metadata": {},
   "outputs": [
    {
     "name": "stdout",
     "output_type": "stream",
     "text": [
      "Loading transmission channel for timelapse42: /run/media/loaloa/lbbSSD/test_axtrack_inference//timelapse42_Transmission_compr.deflate.tif\n",
      "Transmission channel had temporal dim [1]. Slicing to t=0\n"
     ]
    }
   ],
   "source": [
    "# load the transmission tif file and put in in the gui\n",
    "transm_chnl = load_transmission_channel(basename)\n",
    "transmission_channel2gui(transm_chnl)"
   ]
  },
  {
   "cell_type": "code",
   "execution_count": 14,
   "metadata": {},
   "outputs": [
    {
     "name": "stdout",
     "output_type": "stream",
     "text": [
      "Detecting edges using prewitt filter...smoothing edges using gaussion filter...threshold using otsu...binary closing...Done.\n"
     ]
    }
   ],
   "source": [
    "# do a sequence of classic image preprocessing to segment the micro channels\n",
    "gaussion_sigma = 1    # for smoothing after edge detection\n",
    "bin_closing_dim = 4     # how strongly to close binarized edges\n",
    "inital_mask = segment_microchannels(transm_chnl, gaussion_sigma, bin_closing_dim)"
   ]
  },
  {
   "cell_type": "markdown",
   "metadata": {},
   "source": [
    "### Now use the bucket tool to fill the microchannels inside. Close edges where neseccary.\n"
   ]
  },
  {
   "cell_type": "code",
   "execution_count": 15,
   "metadata": {},
   "outputs": [],
   "source": [
    "# next set a point to fill from \n",
    "add_floodpoint_layer()"
   ]
  },
  {
   "cell_type": "code",
   "execution_count": 16,
   "metadata": {},
   "outputs": [],
   "source": [
    "# fill from set point to create one all-connected channel system\n",
    "fp = get_floodpoint()\n",
    "flood_initial_mask(fp)"
   ]
  },
  {
   "cell_type": "code",
   "execution_count": 23,
   "metadata": {},
   "outputs": [
    {
     "name": "stdout",
     "output_type": "stream",
     "text": [
      "[[False False False ... False False False]\n",
      " [False False False ... False False False]\n",
      " [False False False ... False False False]\n",
      " ...\n",
      " [ True  True  True ... False False False]\n",
      " [ True  True  True ... False False False]\n",
      " [ True  True  True ... False False False]]\n",
      "Saving mask: /run/media/loaloa/lbbSSD/test_axtrack_inference//timelapse42_Transmission_compr.deflate_mask1.npy\n"
     ]
    }
   ],
   "source": [
    "# save the final mask\n",
    "save_final_mask(basename)"
   ]
  },
  {
   "cell_type": "code",
   "execution_count": null,
   "metadata": {},
   "outputs": [],
   "source": []
  }
 ],
 "metadata": {
  "kernelspec": {
   "display_name": "Python 3 (ipykernel)",
   "language": "python",
   "name": "python3"
  },
  "language_info": {
   "codemirror_mode": {
    "name": "ipython",
    "version": 3
   },
   "file_extension": ".py",
   "mimetype": "text/x-python",
   "name": "python",
   "nbconvert_exporter": "python",
   "pygments_lexer": "ipython3",
   "version": "3.8.3"
  }
 },
 "nbformat": 4,
 "nbformat_minor": 4
}
