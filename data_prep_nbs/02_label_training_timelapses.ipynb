{
 "cells": [
  {
   "cell_type": "markdown",
   "metadata": {},
   "source": [
    "### Annotate growth cones in timelapse sequences\n",
    "\n",
    "This second notebook for training data creation facilitates axon growth cone\n",
    "labeling using the napari ImageViewer. Label layers are added from this\n",
    "notebook, then axon labels are manually assigned. In an iterative process this\n",
    "yields growth cone label CSV files for all timelapses. "
   ]
  },
  {
   "cell_type": "code",
   "execution_count": 1,
   "metadata": {},
   "outputs": [],
   "source": [
    "import os\n",
    "import glob\n",
    "\n",
    "import numpy as np\n",
    "import pandas as pd\n",
    "import matplotlib.pyplot as plt\n",
    "\n",
    "import napari"
   ]
  },
  {
   "cell_type": "code",
   "execution_count": 2,
   "metadata": {},
   "outputs": [],
   "source": [
    "def timelapse2gui(basename, viewer):\n",
    "    \"\"\"\n",
    "    Load a timelapse into the GUI (napari) using it's basename.\n",
    "    \n",
    "    Arguments\n",
    "    ---------\n",
    "        basename: str\n",
    "            The base filename of the timelapse.\n",
    "        viewer: napari.ImageViewer\n",
    "            The GUI instance.\n",
    "    \"\"\"\n",
    "    signal = load_timelapse(basename, postfix='', plot_distr=True)\n",
    "    viewer.add_image(signal, contrast_limits=(0,2**10))"
   ]
  },
  {
   "cell_type": "code",
   "execution_count": 3,
   "metadata": {},
   "outputs": [],
   "source": [
    "def add_empty_labels(indices):\n",
    "    \"\"\"\n",
    "    Add a collection of empty points-layers in napari representing axon\n",
    "    identities/ labels. If the points-layer /axon ID already exists it won't \n",
    "    be added to the viewer.\n",
    "    \n",
    "    Arguments\n",
    "    ---------\n",
    "        indices: [int, int, ...]\n",
    "            The IDs to add. Should be between 0 and 999.\n",
    "    \"\"\"\n",
    "    print(f'\\nCreating empty axon labels: {indices}')\n",
    "    for ax_i in indices:\n",
    "        name = f'Axon_{ax_i:0>3}'\n",
    "        if name in viewer.layers:\n",
    "            print(f'Cannot add {name} - Point layer already exists!')\n",
    "        else:\n",
    "            col = np.random.rand(1,3)\n",
    "            viewer.add_points(name=name, edge_color=col, face_color=col, \n",
    "                              opacity=.25, size=35, ndim=3)"
   ]
  },
  {
   "cell_type": "code",
   "execution_count": 4,
   "metadata": {},
   "outputs": [],
   "source": [
    "def axon_labels2dataframe(indices):\n",
    "    \"\"\"\n",
    "    Convert a set of axon labels identified by passed indices from points-layers\n",
    "    in the GUI to a pd.DataFrame. Returns the DataFrame with rows represeting\n",
    "    timepoints/ corresponding frames and columns referring to axon IDs plus X,Y\n",
    "    coordinates. \n",
    "    \n",
    "    Arguments\n",
    "    ---------\n",
    "        indices: [int, int, ...]\n",
    "            The axon IDs to convert. If these indices are not found as\n",
    "            points-layers, they won't be added to the DataFrame. Also, if the\n",
    "            points-layer is empty (no-label), timepoints contain more than one\n",
    "            xy-coordinate (duplicate-label) or the label-timpoints are not\n",
    "            continuous (label-gaps) the ID won't be added to the DataFrame. All\n",
    "            these instances of invalid labeling are printed out. Note that\n",
    "            DataFrames with discontinuous IDs (due to errors mentioned before)\n",
    "            will not save to csv using the `save_axon_ID_data` function.\n",
    "    Returns\n",
    "    -------\n",
    "        all_axons_data: pd.DataFrame of shape [ntimpoints, nIDs*2]\n",
    "            DataFrame with rows represeting timepoints/ corresponding frames and\n",
    "            columns referring to axon IDs with X,Y coordinates.\n",
    "    \"\"\"\n",
    "    print(f'\\nSaving axon labels: {indices}')\n",
    "\n",
    "    all_axons_data = []\n",
    "    for ax_i in indices:\n",
    "        name = f'Axon_{ax_i:0>3}'\n",
    "        idx = pd.MultiIndex.from_product([(name,), ('anchor_y', 'anchor_x')])\n",
    "        dat = viewer.layers[name].data\n",
    "        data = pd.DataFrame(dat[:,1:], index=(dat[:,0]).astype(int), \n",
    "                            columns=idx, dtype=int)\n",
    "\n",
    "        if data.empty:\n",
    "            print(f'{name} - point layer was empty! - Skipping.')\n",
    "            continue\n",
    "        \n",
    "        double_lbl = data.index[data.index.duplicated()]\n",
    "        if double_lbl.any():\n",
    "            print(f'{name} - point layer has timepoints with more than '\n",
    "                  f'one anchor, t: {double_lbl.values} - Skipping.')\n",
    "            continue\n",
    "        \n",
    "        cont = data.shape[0] == len(range(data.index.min(), data.index.max()+1))\n",
    "        if not cont:\n",
    "            print(f'{name} - Not a continuous series of labels! Check '\n",
    "                  f'timepoints: {data.index.values} - Skipping.')\n",
    "            continue\n",
    "        \n",
    "        print(f'{name} - all good.')\n",
    "        all_axons_data.append(data)\n",
    "    all_axons_data = pd.concat(all_axons_data, axis=1)\n",
    "    return all_axons_data"
   ]
  },
  {
   "cell_type": "code",
   "execution_count": 5,
   "metadata": {},
   "outputs": [],
   "source": [
    "def save_axonID_data(axonIDs_data, basename):\n",
    "    \"\"\"\n",
    "    Save a set of axon labels in a pd.DataFrame to a csv. IDs in the DataFrame\n",
    "    must be continuous (no gaps) and there cannot be an existing CSV file with\n",
    "    overlapping IDs. The CSV will be saved as\n",
    "    {data_path}/all_labels_csvs/{basname}_labels_{firstID}_{lastID}.csv. The\n",
    "    final label file will be constructed from the set of all these CSV files.\n",
    "    \n",
    "    Arguments\n",
    "    ---------\n",
    "        axonID_data: pd.DataFrame of shape [ntimpoints, nIDs*2]\n",
    "            DataFrame with rows represeting timepoints/ corresponding frames and\n",
    "            columns referring to axon IDs with X,Y coordinates.\n",
    "    \"\"\"\n",
    "    # get the IDs to add from string Axon_042 to int 42\n",
    "    IDs_to_add = [int(ID[-3:]) for ID in axonIDs_data.columns.unique(0)]\n",
    "    cont_IDs = len(IDs_to_add) == len(range(min(IDs_to_add), max(IDs_to_add)+1))\n",
    "    \n",
    "    # get all the existing files and infer the already labelled IDs from range\n",
    "    existing_IDs_files = glob.glob(f'{data_path}/all_labels_csvs/{basename}*.csv')\n",
    "    existing_IDs_str = [fname[fname.rfind('_')+1:-4].split('-') \n",
    "                        for fname in existing_IDs_files]\n",
    "    existing_IDs = [i for start, stop in existing_IDs_str \n",
    "                    for i in range(int(start), int(stop))]\n",
    "    \n",
    "    print(f'\\nTrying to save axon IDs: {IDs_to_add}\\n'\n",
    "          f'Existing IDs ranges: {existing_IDs_str}, full list: {existing_IDs}')\n",
    "    \n",
    "    dupl_ID = [i for i in IDs_to_add if i in existing_IDs]\n",
    "    if dupl_ID:\n",
    "        print(f'Indices countains IDs that already exists for {basename}: '\n",
    "              f'{dupl_ID}. Won\\'t save.')\n",
    "        return\n",
    "    \n",
    "    if not cont_IDs:\n",
    "        print(f'Axon IDs for  {basename} are not continuous. Fix the gaps:'\n",
    "              f'{IDs_to_add}. Won\\'t save.')\n",
    "        return\n",
    "    \n",
    "    # last axon id is INCLUDED\n",
    "    name = f'{basename}_labels_IDs_{IDs_to_add[0]:0>3}-{IDs_to_add[-1]:0>3}'\n",
    "    fname = f'{data_path}/all_labels_csvs/{name}.csv'\n",
    "    print(f'Saving IDs: {fname}')\n",
    "    axonIDs_data.to_csv(fname)"
   ]
  },
  {
   "cell_type": "code",
   "execution_count": 6,
   "metadata": {},
   "outputs": [],
   "source": [
    "def merge_axonID_files(basename):\n",
    "    \"\"\"\n",
    "    Merge the set of all CSV label files matching the passed basename. Returns a\n",
    "    pd.DataFrame of shape [ntimpoints, nIDs*2]. DataFrame with rows represeting\n",
    "    timepoints/ corresponding frames and columns referring to axon IDs with X,Y\n",
    "    coordinates.\n",
    "    \n",
    "    Arguments\n",
    "    ---------\n",
    "        str: basename\n",
    "            The basename to identify labels in the all_labels_csvs directory.\n",
    "    Returns\n",
    "    -------\n",
    "        axonIDs: pd.DataFrame of shape [ntimpoints, nIDs*2]\n",
    "            DataFrame with rows represeting timepoints/ corresponding frames and\n",
    "            columns referring to axon IDs with X,Y coordinates.\n",
    "    \"\"\"\n",
    "    existing_IDs_files = glob.glob(f'{data_path}/all_labels_csvs/{basename}*.csv')\n",
    "    print(f'Loading labels for {basename}. Found the following files: '\n",
    "          f'{existing_IDs_files}')\n",
    "    axonIDs = [pd.read_csv(fname, header=[0,1], index_col=0) \n",
    "               for fname in existing_IDs_files]\n",
    "    axonIDs = pd.concat(axonIDs, axis=1)\n",
    "    print(axonIDs)\n",
    "    return axonIDs"
   ]
  },
  {
   "cell_type": "code",
   "execution_count": 7,
   "metadata": {},
   "outputs": [],
   "source": [
    "def axonIDs2gui(axonIDs, viewer):\n",
    "    \"\"\"\n",
    "    Load the axon IDs from a pd.DataFrame into the viewer.\n",
    "    \n",
    "    Arguments\n",
    "    ---------\n",
    "        axonIDs: pd.DataFrame of shape [ntimpoints, nIDs*2]\n",
    "            The DataFrame with the labels to load. If the ID exist already\n",
    "            as a points-layer it won't be added to the viewer.\n",
    "    \"\"\"\n",
    "    print('Adding', end=' ')\n",
    "    for axonID in axonIDs.columns.unique(0):\n",
    "        print(axonID, end='...')\n",
    "        if axonID not in viewer.layers:\n",
    "            dat = axonIDs.loc[:, (axonID, ['anchor_y','anchor_x'])].reset_index().dropna()\n",
    "            col = np.random.rand(1,3)\n",
    "            viewer.add_points(name=axonID, edge_color=col, face_color=col, \n",
    "                              opacity=.25, size=35, ndim=3)\n",
    "            viewer.layers[axonID].data = dat.values.astype(int)\n",
    "        else:\n",
    "            print('exists already, skipping', end='...')"
   ]
  },
  {
   "cell_type": "code",
   "execution_count": 8,
   "metadata": {},
   "outputs": [
    {
     "name": "stdout",
     "output_type": "stream",
     "text": [
      "Loaded functions `load_timelapse`, `load_mask` successfully.\n"
     ]
    }
   ],
   "source": [
    "if (__name__ == '__main__' and '__file__' not in globals()):\n",
    "    plt.style.use('dark_background')\n",
    "    %run '01_process_training_timelapses.ipynb'\n",
    "else:\n",
    "    raise SystemExit(\"Function `load_axonIDs` `timelapse2gui` loaded successfully.\")"
   ]
  },
  {
   "cell_type": "code",
   "execution_count": 9,
   "metadata": {},
   "outputs": [],
   "source": [
    "# create the GUI object for labelling\n",
    "viewer = napari.Viewer()"
   ]
  },
  {
   "cell_type": "markdown",
   "metadata": {},
   "source": [
    "### Set the names of the files to label. Once done with a timelapse sequence update the index and move on to the next video sequence."
   ]
  },
  {
   "cell_type": "code",
   "execution_count": 10,
   "metadata": {
    "scrolled": false
   },
   "outputs": [
    {
     "name": "stdout",
     "output_type": "stream",
     "text": [
      "\n",
      "\n",
      "=== `D00_G001` tif loaded ===\n",
      "TxHxW: 37x2080x5764\n",
      "dtype: uint16\n",
      "min:0, max:4095\n",
      "Frame wise min: [0 0 0 0 0 0 0 0 0 0 0 0 0 0 0 0 0 0 0 0 0 0 0 0 0 0 0 0 0 0 0 0 0 0 0 0 0]\n"
     ]
    },
    {
     "data": {
      "image/png": "[encoded data removed]",
      "text/plain": [
       "<Figure size 432x288 with 1 Axes>"
      ]
     },
     "metadata": {},
     "output_type": "display_data"
    }
   ],
   "source": [
    "data_path = '/run/media/loaloa/lbbSSD/training_data/'\n",
    "tlapse_names = ['D00_G001', 'D04_G004', 'D19_G035']\n",
    "\n",
    "# which dataset to label\n",
    "index = 0\n",
    "basename = tlapse_names[index]\n",
    "# load the video into the gui\n",
    "timelapse2gui(basename, viewer)"
   ]
  },
  {
   "cell_type": "markdown",
   "metadata": {},
   "source": [
    "### Labelling workflow: \n",
    "1. Add empty labels layers and annotate growth cones through time.\n",
    "2. Convert the points-layers in napari to a DataFrame. Check label validity,\n",
    "   then save this set of labels to a CSV\n",
    "3. When all valid, remove the points-layers from the GUI and return to 1.\n",
    "4. When all growth cones are labelled, do a test merge and load them into the GUI\n",
    "to confirm validity."
   ]
  },
  {
   "cell_type": "code",
   "execution_count": 13,
   "metadata": {},
   "outputs": [
    {
     "name": "stdout",
     "output_type": "stream",
     "text": [
      "\n",
      "Creating empty axon labels: range(0, 20)\n"
     ]
    }
   ],
   "source": [
    "# Step 1\n",
    "indices = range(20)\n",
    "add_empty_labels(indices)\n",
    "# Have fun labelling:)"
   ]
  },
  {
   "cell_type": "code",
   "execution_count": null,
   "metadata": {},
   "outputs": [],
   "source": [
    "# Step 2\n",
    "axonIDs_data = axon_labels2dataframe(indices)\n",
    "save_axonID_data(axonIDs_data, basename)"
   ]
  },
  {
   "cell_type": "code",
   "execution_count": null,
   "metadata": {},
   "outputs": [],
   "source": [
    "# step 4\n",
    "axonIDs_data = merge_axonID_files(basename)\n",
    "axonIDs2gui(axonIDs_data, viewer)"
   ]
  }
 ],
 "metadata": {
  "kernelspec": {
   "display_name": "Python 3 (ipykernel)",
   "language": "python",
   "name": "python3"
  },
  "language_info": {
   "codemirror_mode": {
    "name": "ipython",
    "version": 3
   },
   "file_extension": ".py",
   "mimetype": "text/x-python",
   "name": "python",
   "nbconvert_exporter": "python",
   "pygments_lexer": "ipython3",
   "version": "3.9.9"
  }
 },
 "nbformat": 4,
 "nbformat_minor": 2
}
