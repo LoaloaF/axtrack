{
 "cells": [
  {
   "cell_type": "markdown",
   "metadata": {},
   "source": [
    "### Unifies timelapses to merge them into one dataset\n",
    "First (ish) notebook to process training data. After setting a data path and a\n",
    "set of filenames, this notebook will unify the timelapse to the same shape, mask\n",
    "videos if necessary, and finally save single timelapses and segmentation masks\n",
    "as .tif and .npy files."
   ]
  },
  {
   "cell_type": "code",
   "execution_count": 1,
   "metadata": {},
   "outputs": [],
   "source": [
    "import os\n",
    "\n",
    "import numpy as np\n",
    "import matplotlib.pyplot as plt\n",
    "\n",
    "from tifffile import imread\n",
    "from tifffile import imsave"
   ]
  },
  {
   "cell_type": "code",
   "execution_count": 2,
   "metadata": {},
   "outputs": [],
   "source": [
    "def load_timelapse(basename, timeslice=None, postfix='_GFP_compr.deflate', \n",
    "                   plot_distr=True):\n",
    "    \"\"\"\n",
    "    Load a timelapse 3D tif using it's name. Will try to get the file\n",
    "    {data_path}/{basename}{postfix}.tif\n",
    "    \n",
    "    Arguments\n",
    "    ---------\n",
    "        basename: str\n",
    "            The basename of the timelapse to load. This prefix is consistent for\n",
    "            all types of data corresponding to this microscope timelapse.\n",
    "        postfix: str\n",
    "            Load a file that ends with postfix (excluding file extension), by\n",
    "            default `_GFP_compr.deflate`.\n",
    "        timeslice: (int, int)\n",
    "            Option to slice the temporal dimension in the timelapse. Used as\n",
    "            start and stop index. Defaults to None.\n",
    "        plot_distr: bool\n",
    "            Wheather to draw the distribution of pixel intensities. Defaults to\n",
    "            True.\n",
    "    Returns\n",
    "    -------\n",
    "        signal_chnl: np.array of shape [TxHxW], dtype uint16\n",
    "            The loaded timelapse.\n",
    "    \"\"\"\n",
    "    signal_chnl_fname = f'{data_path}/{basename}{postfix}.tif'\n",
    "    signal_chnl = imread(signal_chnl_fname)\n",
    "    assert signal_chnl.dtype == np.uint16, 'Tif must be unsigned 16 bit integer!'\n",
    "    if timeslice is not None:\n",
    "        signal_chnl = signal_chnl[timeslice[0]:timeslice[1]]\n",
    "\n",
    "    T, H, W = signal_chnl.shape\n",
    "    framw_min = np.min(signal_chnl, axis=(1,2))\n",
    "    print(f'\\n\\n=== `{basename}` tif loaded ===\\nTxHxW: {T}x{H}x{W}\\n'\n",
    "          f'dtype: {signal_chnl.dtype}\\nmin:{signal_chnl.min()}, '\n",
    "          f'max:{signal_chnl.max()}\\nFrame wise min: {framw_min}')\n",
    "\n",
    "    if plot_distr:\n",
    "        make_hist_plots(signal_chnl, (0, -1), title='Initial tif')\n",
    "    return signal_chnl"
   ]
  },
  {
   "cell_type": "code",
   "execution_count": 3,
   "metadata": {},
   "outputs": [],
   "source": [
    "\n",
    "def load_timelapse_mask(basename, postfix='_Transmission_compr.deflate_mask1'):\n",
    "    \"\"\"\n",
    "    Load a 2D npy mask using it's name. Will try to get the file\n",
    "    {data_path}/{basename}{postfix}.npy. Mask may corresbond to micro channel\n",
    "    segmentation from `00_segment_bg.ipynb` script.\n",
    "    \n",
    "    Arguments\n",
    "    ---------\n",
    "        basename: str\n",
    "            The basename of the mask to load. This prefix is consistent for all\n",
    "            types of data corresponding to this microscope timelapse.\n",
    "        postfix: str\n",
    "            Load a file that ends with postfix (excluding file extension), by\n",
    "            default `Transmission_compr.deflate_mask1`.\n",
    "    Returns\n",
    "    -------\n",
    "        mask: np.array of shape [HxW], dtype bool\n",
    "            The loaded mask.\n",
    "    \"\"\"\n",
    "    mask_fname = f'{data_path}/{basename}{postfix}.npy'\n",
    "    if not os.path.exists(mask_fname):\n",
    "        print(f'Mask file not found: {mask_fname}')\n",
    "        return None\n",
    "    mask = np.load(mask_fname)\n",
    "    H, W = mask.shape\n",
    "    print(f'=== `{basename}` npy mask loaded ===\\nHxW: {H}x{W}\\n')\n",
    "    return mask"
   ]
  },
  {
   "cell_type": "code",
   "execution_count": 4,
   "metadata": {},
   "outputs": [],
   "source": [
    "def make_hist_plots(signal_chnl, frame_indxs, title='', new_fig=True, show=True):\n",
    "    \"\"\"\n",
    "    Create a matplotlib figure with two histograms corresponding to two frames\n",
    "    pixel intensity distribution.\n",
    "    \n",
    "    Arguments\n",
    "    ---------\n",
    "        signal_chnl: np.array of shape [TxHxW] of dtype uint16\n",
    "            The loaded timelapse.\n",
    "        frame_indxs: (int, int)\n",
    "            The two frame indices.\n",
    "        title: str\n",
    "            The title of the plot. Defaults to ''.\n",
    "        new_fig: bool\n",
    "            Wheather to draw on existing figure or make a new one. Defaults to\n",
    "            True.\n",
    "        show: bool\n",
    "            Run plt.show() of not. Defaults to True.\n",
    "    \"\"\"\n",
    "    if new_fig:\n",
    "        plt.figure()\n",
    "    [hist(signal_chnl[i], f'frame t_{i}') for i in frame_indxs]\n",
    "    plt.xscale('log')\n",
    "    plt.yscale('log')\n",
    "    plt.xlim(.9, 5000)\n",
    "    plt.xlabel('Pixel intensity (u16bit int)')\n",
    "    plt.ylabel('Count')\n",
    "    plt.title(title)\n",
    "    plt.legend()\n",
    "    if show:\n",
    "        plt.show()"
   ]
  },
  {
   "cell_type": "code",
   "execution_count": 5,
   "metadata": {},
   "outputs": [],
   "source": [
    "def hist(frame_data, lbl=''):\n",
    "    \"\"\"\n",
    "    Draw one histogram from frame data on currently active figure. Samples\n",
    "    100,000 pixel values.\n",
    "    \n",
    "    Arguments\n",
    "    ---------\n",
    "        frame_data: np.array of shape [H,W]\n",
    "            Array representing one frame.\n",
    "        lbl: str\n",
    "            Label for legend.\n",
    "    \"\"\"\n",
    "    frame_data_subs = np.random.choice(frame_data.flatten(), 100000)\n",
    "    plt.hist(frame_data_subs, bins=int(2**10), label=lbl, alpha=.5)"
   ]
  },
  {
   "cell_type": "code",
   "execution_count": 6,
   "metadata": {},
   "outputs": [],
   "source": [
    "def mask_timelapse(signal_chnl, mask):\n",
    "    \"\"\"\n",
    "    Masks a timelapse using a passed mask.\n",
    "    \n",
    "    Arguments\n",
    "    ---------\n",
    "        signal_chnl: np.array of shape [TxHxW] \n",
    "            The unmasked timelapse.\n",
    "        mask: np.array of shape [HxW]\n",
    "            The boolean mask where False values will be set to black in the\n",
    "            timelapse. May also be None in which case no masking is performed.\n",
    "    Returns\n",
    "    -------\n",
    "        mask: np.array of shape [TxHxW]\n",
    "            The masked timelapse.\n",
    "    \"\"\"\n",
    "    if mask is not None:\n",
    "        signal_chnl[:, ~mask] = 0\n",
    "        print('Masking timelapse.')\n",
    "    else:\n",
    "        print('Mask was `None` - no masking.')\n",
    "    return signal_chnl"
   ]
  },
  {
   "cell_type": "code",
   "execution_count": 7,
   "metadata": {},
   "outputs": [],
   "source": [
    "def offset_intensity(signal_chnl, offset_intensity):\n",
    "    \"\"\"\n",
    "    Offset the intensity of a timelapse towards zero. \n",
    "    \n",
    "    Arguments\n",
    "    ---------\n",
    "        signal_chnl: np.array of shape [TxHxW] \n",
    "            The timelapse.\n",
    "        offset_intensity: int\n",
    "            The value that will be subtracted from the timelapse. Values smaller\n",
    "            than the offset will be capped to 0.\n",
    "    Returns\n",
    "    -------\n",
    "        signal_chnl: np.array of shape [TxHxW] \n",
    "            The timelapse.\n",
    "    \"\"\"\n",
    "    blw_mask = signal_chnl < offset_intensity\n",
    "    print(f'Offsetting by {offset_intensity}. {blw_mask.sum()}'\n",
    "          f'({blw_mask.sum()/blw_mask.size}) pixels (prop) below offset value.')\n",
    "    signal_chnl[blw_mask] = offset_intensity # to avoid overflow\n",
    "    signal_chnl -= offset_intensity\n",
    "    return signal_chnl"
   ]
  },
  {
   "cell_type": "code",
   "execution_count": 8,
   "metadata": {},
   "outputs": [],
   "source": [
    "def adjust_timelapse_shape(signal_chnl, mask=None, to_shape=(2920, 5764), \n",
    "                           H_slice=(420, 2500), W_slice=None, plot_distr=False):\n",
    "    \"\"\"\n",
    "    Adjust the timelapse shape, and potentially the mask correspondingly. \n",
    "    \n",
    "    Arguments\n",
    "    ---------\n",
    "        signal_chnl: np.array of shape [TxHxW] \n",
    "            The timelapse to adjust.\n",
    "        mask: np.array of shape [HxW]\n",
    "            The mask to adjust in the same way as the timelapse. Defaults be\n",
    "            None. \n",
    "        to_shape: (int, int)    \n",
    "            The target height and width. Timelapse should be smaller than these\n",
    "            values - this is padding the timelapse (and mask).\n",
    "        H_slice: (int, int)\n",
    "            The height (Y-dim) to slice to. This is post padding. Passed values \n",
    "            are used as start and stop indices.\n",
    "        W_slice: (int, int)\n",
    "            The width (X-dim) to slice to. This is post padding. Passed values \n",
    "            are used as start and stop indices.\n",
    "        plot_distr: bool\n",
    "            Wheather to draw the distribution of pixel intensities. Defaults to\n",
    "            True.\n",
    "    Returns\n",
    "    -------\n",
    "        signal_chnl, mask: np.array of shape [TxHxW], \n",
    "                           np.array of shape [H,W]\n",
    "            The shape-adjusted timelapse and mask.\n",
    "    \"\"\"\n",
    "    print(f'Padding timelapse to shape {to_shape}', end='...')\n",
    "    # pad the timelapse and matching mask to a given shape\n",
    "    toH, toW = to_shape\n",
    "    H, W = signal_chnl.shape[1:]\n",
    "    padH, padW = (toH-H)//2, (toW-W)//2\n",
    "    signal_chnl = np.pad(signal_chnl, ((0,0), (padH,padH), (padW,padW)), mode='constant') \n",
    "    if mask is not None:\n",
    "        mask = np.pad(mask, ((padH,padH), (padW,padW)), mode='constant') \n",
    "    \n",
    "    if H_slice is not None:\n",
    "        print(f'slicing height to {H_slice}', end='...')\n",
    "        signal_chnl = signal_chnl[:, H_slice[0]:H_slice[1]]\n",
    "        if mask is not None:\n",
    "            mask = mask[H_slice[0]:H_slice[1]]\n",
    "    \n",
    "    if W_slice is not None:\n",
    "        print(f'slicing width to {W_slice}', end='...')\n",
    "        signal_chnl = signal_chnl[:, :, W_slice[0]:W_slice[1]]\n",
    "        if mask is not None:\n",
    "            mask = mask[:, W_slice[0]:W_slice[1]]\n",
    "    \n",
    "    print('Done.')\n",
    "    if plot_distr:\n",
    "        make_hist_plots(signal_chnl, (0, -1), title='Post processing')\n",
    "    return signal_chnl, mask"
   ]
  },
  {
   "cell_type": "code",
   "execution_count": 9,
   "metadata": {},
   "outputs": [],
   "source": [
    "def save_timelapse_and_mask(signal_chnl, mask, basename):\n",
    "    \"\"\"\n",
    "    Save the passed timelase and mask using the basename only (without a\n",
    "    postfix).\n",
    "    \n",
    "    Arguments\n",
    "    ---------\n",
    "        signal_chnl: np.array of shape [TxHxW] \n",
    "            The timelapse to save {data_path}/{basename}.tif\n",
    "        mask: np.array of shape [HxW]\n",
    "            The mask to save {data_path}/{basename}.npy. May be None. \n",
    "        basename: str\n",
    "            The basename of the timelapse and mask to save. This prefix is\n",
    "            consistent for all types of data corresponding to this microscope\n",
    "            timelapse.\n",
    "    \"\"\"\n",
    "    fname =f'{data_path}/{basename}.tif'\n",
    "    print(f'Saving adjusted timelapse: {fname}')\n",
    "    imsave(fname, signal_chnl, photometric='minisblack', \n",
    "           compression='deflate', bigtiff=True)\n",
    "    if mask is not None:\n",
    "        fname = fname.replace('.tif', '.npy')\n",
    "        print(f'Saving adjusted mask: {fname}')\n",
    "        np.save(fname, mask)"
   ]
  },
  {
   "cell_type": "code",
   "execution_count": 10,
   "metadata": {},
   "outputs": [],
   "source": [
    "def process_timelapses(tlapse_names, timelslices, scnd_maskings, offsets, plot_distr):\n",
    "    \"\"\"\n",
    "    The base function that will process a list of microscope timelapses\n",
    "    identified by a list of basenames.\n",
    "    \n",
    "    Arguments\n",
    "    ---------\n",
    "        tlapse_names: [str, str, ...]\n",
    "            The basenames of the timelapses to iterate.\n",
    "        timelslices: [(int,int), (int,int), ...]\n",
    "            The timeslices corresbonding to a basename. Pass None to keep all\n",
    "            frames.\n",
    "        scnd_maskings: [bool, bool, ...]\n",
    "            Whether to look for a second mask with postfix `_second_mask`\n",
    "            corresbonding to a basename. Timelapse will be masked a second time.\n",
    "        offsets: [int, int, ...]\n",
    "            Pixel intensity offsets matching a basename/ microscope timelapse. \n",
    "        plot_distr: bool\n",
    "            Weather to plot the pixel distribution throughout preprocessing.\n",
    "    \"\"\"\n",
    "    for i in range(len(tlapse_names)):\n",
    "        basename, timelslice = tlapse_names[i], timelslices[i]\n",
    "        scnd_masking, offset = scnd_maskings[i], offsets[i]\n",
    "        signal = load_timelapse(basename, timeslice=timelslice, plot_distr=plot_distr)\n",
    "        signal = offset_intensity(signal, offset)\n",
    "\n",
    "        if scnd_masking:\n",
    "            sncd_mask = load_timelapse_mask(basename, postfix='_second_mask')\n",
    "            signal = mask_timelapse(signal, sncd_mask)\n",
    "\n",
    "        mask = load_timelapse_mask(basename)\n",
    "        signal = mask_timelapse(signal, mask)\n",
    "\n",
    "        signal, mask = adjust_timelapse_shape(signal, mask, plot_distr=plot_distr)\n",
    "        save_timelapse_and_mask(signal, mask, basename)"
   ]
  },
  {
   "cell_type": "markdown",
   "metadata": {},
   "source": [
    "### Run below to process list of microscope timelapses \n"
   ]
  },
  {
   "cell_type": "code",
   "execution_count": 11,
   "metadata": {
    "scrolled": true
   },
   "outputs": [],
   "source": [
    "if __name__ == '__main__' and '__file__' not in globals():\n",
    "    plt.style.use('dark_background')\n",
    "    %matplotlib inline\n",
    "    # %matplotlib qt5\n",
    "else:\n",
    "    print('Loaded functions `load_timelapse`, `load_mask` successfully.')"
   ]
  },
  {
   "cell_type": "code",
   "execution_count": 12,
   "metadata": {
    "scrolled": true
   },
   "outputs": [
    {
     "name": "stdout",
     "output_type": "stream",
     "text": [
      "\n",
      "\n",
      "=== `D00_G001` tif loaded ===\n",
      "TxHxW: 37x2920x5764\n",
      "dtype: uint16\n",
      "min:0, max:4095\n",
      "Frame wise min: [0 0 0 0 0 0 0 0 0 0 0 0 0 0 0 0 0 0 0 0 0 0 0 0 0 0 0 0 0 0 0 0 0 0 0 0 0]\n"
     ]
    },
    {
     "data": {
      "image/png": "[encoded data removed]",
      "text/plain": [
       "<Figure size 432x288 with 1 Axes>"
      ]
     },
     "metadata": {
      "needs_background": "dark"
     },
     "output_type": "display_data"
    },
    {
     "name": "stdout",
     "output_type": "stream",
     "text": [
      "Offsetting by 0. 0(0.0) pixels (prop) below offset value.\n",
      "=== `D00_G001` npy mask loaded ===\n",
      "HxW: 2920x5764\n",
      "\n",
      "Masking timelapse.\n",
      "Padding timelapse to shape (2920, 5764)...slicing height to (420, 2500)...Done.\n"
     ]
    },
    {
     "data": {
      "image/png": "[encoded data removed]",
      "text/plain": [
       "<Figure size 432x288 with 1 Axes>"
      ]
     },
     "metadata": {
      "needs_background": "dark"
     },
     "output_type": "display_data"
    },
    {
     "name": "stdout",
     "output_type": "stream",
     "text": [
      "Saving adjusted timelapse: /run/media/loaloa/lbbSSD/training_data//D00_G001.tif\n",
      "(2080, 5764)\n",
      "Saving adjusted mask: /run/media/loaloa/lbbSSD/training_data//D00_G001.npy\n",
      "\n",
      "\n",
      "=== `D04_G004` tif loaded ===\n",
      "TxHxW: 80x1972x3868\n",
      "dtype: uint16\n",
      "min:121, max:4095\n",
      "Frame wise min: [132 131 132 131 133 133 121 131 132 130 131 132 131 131 132 133 131 129\n",
      " 129 131 132 130 133 129 131 132 130 124 131 129 130 130 131 129 129 128\n",
      " 131 131 129 130 128 130 130 130 130 129 131 130 131 130 129 128 128 131\n",
      " 128 129 130 129 130 128 127 129 130 131 130 127 129 129 131 130 129 129\n",
      " 129 129 129 129 130 130 130 129]\n"
     ]
    },
    {
     "data": {
      "image/png": "[encoded data removed]",
      "text/plain": [
       "<Figure size 432x288 with 1 Axes>"
      ]
     },
     "metadata": {
      "needs_background": "dark"
     },
     "output_type": "display_data"
    },
    {
     "name": "stdout",
     "output_type": "stream",
     "text": [
      "Offsetting by 121. 0(0.0) pixels (prop) below offset value.\n",
      "=== `D04_G004` npy mask loaded ===\n",
      "HxW: 1972x3868\n",
      "\n",
      "Masking timelapse.\n",
      "Padding timelapse to shape (2920, 5764)...slicing height to (420, 2500)...Done.\n"
     ]
    },
    {
     "data": {
      "image/png": "[encoded data removed]",
      "text/plain": [
       "<Figure size 432x288 with 1 Axes>"
      ]
     },
     "metadata": {
      "needs_background": "dark"
     },
     "output_type": "display_data"
    },
    {
     "name": "stdout",
     "output_type": "stream",
     "text": [
      "Saving adjusted timelapse: /run/media/loaloa/lbbSSD/training_data//D04_G004.tif\n",
      "(2080, 5764)\n",
      "Saving adjusted mask: /run/media/loaloa/lbbSSD/training_data//D04_G004.npy\n",
      "\n",
      "\n",
      "=== `D19_G035` tif loaded ===\n",
      "TxHxW: 210x1972x3868\n",
      "dtype: uint16\n",
      "min:6, max:4095\n",
      "Frame wise min: [131 132 114 131 132 130 132 131 132 130 132 131 132 129 130 131 132 132\n",
      " 132 131 131 130 131 129 128 130 132 131 129 131 129 132 130 130 129 131\n",
      " 127 130 131 130 131 130 130 131 130 130 131 129 130 128 131 130 130 130\n",
      " 129 130 116 130 124 131 129 130 129 130 130 125 130 131 125 130 129 130\n",
      " 130 129 130 122 130 130 127 130  96 129 121 128 129 130 131 128 129 131\n",
      " 131 129 130 128 130 130 129 130 122   6 129 128 122 116 128 130 129 130\n",
      " 128 129 130 131 128 129 129 129 128 128 127 130 130 125 131 129 129 129\n",
      " 130 130 129 127 129 130 129 127 128 130 128 128 126 129 126 128 130 129\n",
      " 129 127 129  78 130 130 127 128 130 113 128 129 128 129 129 120 129 130\n",
      " 128 128 130 129 130 130 130 130 127 127 128 130 128 128 131 130 129 130\n",
      " 126 129 130 130 128 128 129 129 129 129 129 128 130 127 128 130 128 129\n",
      " 130 130 129 131 128 128 130 129 128 130 129 129]\n"
     ]
    },
    {
     "data": {
      "image/png": "[encoded data removed]",
      "text/plain": [
       "<Figure size 432x288 with 1 Axes>"
      ]
     },
     "metadata": {
      "needs_background": "dark"
     },
     "output_type": "display_data"
    },
    {
     "name": "stdout",
     "output_type": "stream",
     "text": [
      "Offsetting by 121. 8(4.9943309349557316e-09) pixels (prop) below offset value.\n",
      "=== `D19_G035` npy mask loaded ===\n",
      "HxW: 1972x3868\n",
      "\n",
      "Masking timelapse.\n",
      "=== `D19_G035` npy mask loaded ===\n",
      "HxW: 1972x3868\n",
      "\n",
      "Masking timelapse.\n",
      "Padding timelapse to shape (2920, 5764)...slicing height to (420, 2500)...Done.\n"
     ]
    },
    {
     "data": {
      "image/png": "[encoded data removed]",
      "text/plain": [
       "<Figure size 432x288 with 1 Axes>"
      ]
     },
     "metadata": {
      "needs_background": "dark"
     },
     "output_type": "display_data"
    },
    {
     "name": "stdout",
     "output_type": "stream",
     "text": [
      "Saving adjusted timelapse: /run/media/loaloa/lbbSSD/training_data//D19_G035.tif\n",
      "(2080, 5764)\n",
      "Saving adjusted mask: /run/media/loaloa/lbbSSD/training_data//D19_G035.npy\n"
     ]
    }
   ],
   "source": [
    "if __name__ == '__main__' and '__file__' not in globals():\n",
    "    data_path = '/run/media/loaloa/lbbSSD/training_data/'\n",
    "    tlapse_names = ['D00_G001', 'D04_G004', 'D19_G035']\n",
    "    timelslices = [None, (0,80), None]\n",
    "    scnd_maskings = [False, False, True]\n",
    "    offsets = [0, 121, 121]\n",
    "    plot_distr = True\n",
    "\n",
    "    process_timelapses(tlapse_names, timelslices, scnd_maskings, offsets, plot_distr)"
   ]
  }
 ],
 "metadata": {
  "kernelspec": {
   "display_name": "Python 3 (ipykernel)",
   "language": "python",
   "name": "python3"
  },
  "language_info": {
   "codemirror_mode": {
    "name": "ipython",
    "version": 3
   },
   "file_extension": ".py",
   "mimetype": "text/x-python",
   "name": "python",
   "nbconvert_exporter": "python",
   "pygments_lexer": "ipython3",
   "version": "3.9.9"
  }
 },
 "nbformat": 4,
 "nbformat_minor": 2
}
