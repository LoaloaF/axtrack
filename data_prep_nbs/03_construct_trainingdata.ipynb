{
 "cells": [
  {
   "cell_type": "markdown",
   "metadata": {},
   "source": [
    "### Merge annotated timelapse into one dataset\n",
    "Last notebook to create training data. After setting a data path and a set of\n",
    "filenames, this notebook will load the unified timelapses (and potentially\n",
    "masks) from 01_process_training_timelapses.ipynb and labels created by\n",
    "02_label_training_timelapses.ipynb. The merged timelapse, merged masks and\n",
    "merged labels are saved in the end.\n",
    "\n"
   ]
  },
  {
   "cell_type": "code",
   "execution_count": 1,
   "metadata": {},
   "outputs": [],
   "source": [
    "import os\n",
    "import glob\n",
    "\n",
    "import numpy as np\n",
    "import pandas as pd\n",
    "import matplotlib.pyplot as plt\n",
    "\n",
    "from tifffile import imsave\n",
    "\n",
    "import napari\n",
    "plt.style.use('dark_background')"
   ]
  },
  {
   "cell_type": "code",
   "execution_count": 2,
   "metadata": {},
   "outputs": [],
   "source": [
    "def load_all_training_data(tlapse_names):\n",
    "    \"\"\"\n",
    "    From a set of basenames, load the three elements of training data: the\n",
    "    timelapse itself, a matching segmentation mask (may be None), and the \n",
    "    matching growth cone labels. \n",
    "    \n",
    "    Arguments\n",
    "    ---------\n",
    "        tlapse_names: [str, str, ...]\n",
    "            The basenames to load the training data pieces.\n",
    "    Returns\n",
    "    -------\n",
    "        signals, masks, lbls: np.array of shape [txHxW] of dtype uint16\n",
    "                              np.array of shape [HxW] of dtype bool\n",
    "                              pd.DataFrame of shape [t, nIDs*2]\n",
    "            timelapse, segmentation mask, and growth cone labels. All have the \n",
    "            same length as the passed `tlapse_names`.\n",
    "    \"\"\"\n",
    "    signals, masks, lbls = [], [], []\n",
    "    for i in range(len(tlapse_names)):\n",
    "        basename = tlapse_names[i]\n",
    "        signals.append(load_timelapse(basename, postfix=''))\n",
    "        masks.append(load_timelapse_mask(basename, postfix=''))\n",
    "        lbls.append(merge_axonID_files(basename))\n",
    "    return signals, masks, lbls"
   ]
  },
  {
   "cell_type": "code",
   "execution_count": 3,
   "metadata": {},
   "outputs": [],
   "source": [
    "def merge_all_training_data(signals, masks, lbls):\n",
    "    \"\"\"\n",
    "    Merge together the training data from a list of labelled timelapses.\n",
    "    \n",
    "    Arguments\n",
    "    ---------\n",
    "        signals: [np.array of shape [txHxW] of dtype uint16, ...]\n",
    "            The list of timelapses. \n",
    "        masks: [np.array of shape [HxW] of dtype bool, ...]\n",
    "            The list of masks. If masks are None use a np.ones mask (keep all).\n",
    "        lbls: [pd.DataFrame of shape [t, nIDs*2], ...]\n",
    "            The list of labels. Labels are adjusted to match the merged time\n",
    "            series and avoid axon ID duplicates.\n",
    "                              \n",
    "    Returns\n",
    "    -------\n",
    "        final_signals, final_masks, final_lbls: np.array of shape [TxHxW], uint16\n",
    "                                                np.array of shape [TxHxW], bool\n",
    "                                                pd.DataFrame of shape [T, nIDs*2]\n",
    "            Merged timelapse, segmentation mask, and growth cone labels. The\n",
    "            final temporal dimension T follows from the sum of [t, ...] in the\n",
    "            timelapses.\n",
    "    \"\"\"\n",
    "    last_t, last_ID = 0, 0\n",
    "    final_lbls_adjusted, final_masks = [], []\n",
    "    for i in range(len(signals)):\n",
    "        ntimepoints = signals[i].shape[0]\n",
    "        lbl = lbls[i].copy()\n",
    "        # fix timepoints for concatenated data\n",
    "        lbl.index += last_t\n",
    "        # fix the axon names (count up)\n",
    "        cols = [(f'Axon_{int(ax[-3:])+last_ID:0>3}', anch) for ax, anch in lbl.columns]\n",
    "        lbl.columns = pd.MultiIndex.from_tuples(cols)\n",
    "        \n",
    "        # have the mask match the frames temporal dim\n",
    "        mask = np.ones(signals[i].shape[1:]) if masks[i] is None else masks[i]\n",
    "        final_masks.extend([mask for _ in range(ntimepoints)])\n",
    "        \n",
    "        last_t += ntimepoints\n",
    "        last_ID += len(lbl.columns.unique(0))\n",
    "        final_lbls_adjusted.append(lbl)\n",
    "    # merge everything\n",
    "    final_signal = np.concatenate(signals, axis=0)\n",
    "    final_mask = np.stack(final_masks, axis=0)\n",
    "    final_lbls = pd.concat(final_lbls_adjusted, axis=1)\n",
    "    return final_signal, final_mask, final_lbls"
   ]
  },
  {
   "cell_type": "code",
   "execution_count": 4,
   "metadata": {},
   "outputs": [],
   "source": [
    "def validate_training_data(final_signal, final_mask, final_lbls, viewer, \n",
    "                           skip_lbls=False):\n",
    "    \"\"\"\n",
    "    Load the timelapse, segmentation mask and labels into the GUI to confirm\n",
    "    correct merging.\n",
    "    \n",
    "    Arguments\n",
    "    ---------\n",
    "        tlapse_names: [str, str, ...]\n",
    "            The basenames to load the training data pieces.\n",
    "    Returns\n",
    "    -------\n",
    "        final_signal: np.array of shape [TxHxW] of dtype uint16 \n",
    "            The merged timelapse to load.\n",
    "        \n",
    "        final_mask: np.array of shape [TxHxW] of dtype bool\n",
    "            The merged segmentation mask to load.\n",
    "        \n",
    "        final_lbls: pd.DataFrame of shape [T, nIDs*2]\n",
    "            The merged growth cone labels to load.\n",
    "\n",
    "        viewer: napari.ImageViewer\n",
    "            The viewer instance used to load the training data.\n",
    "\n",
    "        skip_lbls: bool\n",
    "            Wheather to load the labels or not. Can e slow. Defaults to False.\n",
    "                              \n",
    "    \"\"\"\n",
    "    viewer.add_image(final_signal, contrast_limits=(0, 2**10))\n",
    "    viewer.add_image(final_mask)\n",
    "    if not skip_lbls:\n",
    "        axonIDs2gui(final_lbls, viewer)"
   ]
  },
  {
   "cell_type": "code",
   "execution_count": 6,
   "metadata": {},
   "outputs": [
    {
     "ename": "IndentationError",
     "evalue": "unindent does not match any outer indentation level (<tokenize>, line 18)",
     "output_type": "error",
     "traceback": [
      "\u001b[0;36m  File \u001b[0;32m\"<tokenize>\"\u001b[0;36m, line \u001b[0;32m18\u001b[0m\n\u001b[0;31m    print(f'Saving timelapse, masks and labels at {data_path}')\u001b[0m\n\u001b[0m    ^\u001b[0m\n\u001b[0;31mIndentationError\u001b[0m\u001b[0;31m:\u001b[0m unindent does not match any outer indentation level\n"
     ]
    }
   ],
   "source": [
    "def save_all_training_data(final_signal, final_mask, final_lbls):\n",
    "           \"\"\"\n",
    "    Save the training data consisting of timelapse, segmentation mask and labels\n",
    "    to matching files. Files are saved into the data_path directory.\n",
    "    \n",
    "    Arguments\n",
    "    ---------\n",
    "        final_signal: np.array of shape [TxHxW] of dtype uint16 \n",
    "            The merged timelapse to save.\n",
    "        \n",
    "        final_mask: np.array of shape [TxHxW] of dtype bool\n",
    "            The merged segmentation mask to save.\n",
    "        \n",
    "        final_lbls: pd.DataFrame of shape [T, nIDs*2]\n",
    "            The merged growth cone labels to save.\n",
    "                              \n",
    "    \"\"\"\n",
    "    print(f'Saving timelapse, masks and labels at {data_path}')\n",
    "    imsave(f'{data_path}/training_timelapse.tif', final_signal, \n",
    "           photometric='minisblack', compression='deflate', bigtiff=True)\n",
    "    np.save(f'{data_path}/training_mask.npy', final_mask)\n",
    "    final_lbls.to_csv(f'{data_path}/training_labels.csv')"
   ]
  },
  {
   "cell_type": "markdown",
   "metadata": {},
   "source": [
    "### Run below to merge labelled training data"
   ]
  },
  {
   "cell_type": "code",
   "execution_count": 7,
   "metadata": {},
   "outputs": [
    {
     "name": "stdout",
     "output_type": "stream",
     "text": [
      "Loaded functions `load_timelapse`, `load_mask` successfully.\n"
     ]
    },
    {
     "ename": "SystemExit",
     "evalue": "Function `load_axonIDs` `timelapse2gui` loaded successfully.",
     "output_type": "error",
     "traceback": [
      "An exception has occurred, use %tb to see the full traceback.\n",
      "\u001b[0;31mSystemExit\u001b[0m\u001b[0;31m:\u001b[0m Function `load_axonIDs` `timelapse2gui` loaded successfully.\n"
     ]
    },
    {
     "name": "stderr",
     "output_type": "stream",
     "text": [
      "/home/loaloa/programs/anaconda3/envs/napari-env-2/lib/python3.9/site-packages/IPython/core/interactiveshell.py:3465: UserWarning: To exit: use 'exit', 'quit', or Ctrl-D.\n",
      "  warn(\"To exit: use 'exit', 'quit', or Ctrl-D.\", stacklevel=1)\n"
     ]
    },
    {
     "ename": "SystemExit",
     "evalue": "Function `load_axonIDs` `timelapse2gui` loaded successfully.",
     "output_type": "error",
     "traceback": [
      "An exception has occurred, use %tb to see the full traceback.\n",
      "\u001b[0;31mSystemExit\u001b[0m\u001b[0;31m:\u001b[0m Function `load_axonIDs` `timelapse2gui` loaded successfully.\n"
     ]
    }
   ],
   "source": [
    "# get the load_timelapse and load_mask function\n",
    "%run 01_process_training_timelapses.ipynb\n",
    "# get the load_axonIDs function\n",
    "%run 02_label_training_timelapses.ipynb"
   ]
  },
  {
   "cell_type": "code",
   "execution_count": 8,
   "metadata": {},
   "outputs": [],
   "source": [
    "# create the viewer for later\n",
    "viewer = napari.Viewer()"
   ]
  },
  {
   "cell_type": "code",
   "execution_count": 9,
   "metadata": {},
   "outputs": [],
   "source": [
    "# set the dataset names\n",
    "data_path = '/run/media/loaloa/lbbSSD/training_data/'\n",
    "tlapse_names = ['D00_G001', 'D04_G004', 'D19_G035']"
   ]
  },
  {
   "cell_type": "code",
   "execution_count": 10,
   "metadata": {},
   "outputs": [
    {
     "name": "stdout",
     "output_type": "stream",
     "text": [
      "\n",
      "\n",
      "=== `D00_G001` tif loaded ===\n",
      "TxHxW: 37x2080x5764\n",
      "dtype: uint16\n",
      "min:0, max:4095\n",
      "Frame wise min: [0 0 0 0 0 0 0 0 0 0 0 0 0 0 0 0 0 0 0 0 0 0 0 0 0 0 0 0 0 0 0 0 0 0 0 0 0]\n"
     ]
    },
    {
     "data": {
      "image/png": "[encoded data removed]",
      "text/plain": [
       "<Figure size 432x288 with 1 Axes>"
      ]
     },
     "metadata": {},
     "output_type": "display_data"
    },
    {
     "name": "stdout",
     "output_type": "stream",
     "text": [
      "Mask file not found: /run/media/loaloa/lbbSSD/training_data//D00_G001.npy\n",
      "Loading labels for D00_G001. Found the following files: ['/run/media/loaloa/lbbSSD/training_data//all_labels_csvs/D00_G001_labels_IDs_000-099.csv']\n",
      "   Axon_000 Axon_001 Axon_002 Axon_003 Axon_004 Axon_005 Axon_006 Axon_007  \\\n",
      "   anchor_y anchor_y anchor_y anchor_y anchor_y anchor_y anchor_y anchor_y   \n",
      "0    1180.0   1284.0     1159     1168   1168.0      NaN      NaN      NaN   \n",
      "1    1205.0   1226.0     1159     1174   1173.0      NaN      NaN      NaN   \n",
      "2    1256.0   1309.0     1164     1212   1212.0      NaN      NaN      NaN   \n",
      "3    1325.0   1379.0     1159     1249   1273.0      NaN      NaN      NaN   \n",
      "4    1420.0   1469.0     1162     1294   1282.0      NaN      NaN      NaN   \n",
      "5    1476.0   1521.0     1164     1343   1343.0      NaN   1890.0      NaN   \n",
      "6    1561.0   1588.0     1169     1395   1398.0      NaN   1886.0      NaN   \n",
      "7    1645.0   1640.0     1172     1442   1450.0      NaN   1900.0      NaN   \n",
      "8    1689.0   1711.0     1176     1501   1423.0      NaN   1882.0      NaN   \n",
      "9    1749.0   1754.0     1173     1550   1471.0      NaN   1886.0      NaN   \n",
      "10   1820.0   1795.0     1171     1610   1513.0      NaN   1893.0      NaN   \n",
      "11   1875.0   1802.0     1174     1652   1612.0      NaN   1892.0   1165.0   \n",
      "12   1902.0   1829.0     1180     1703   1677.0      NaN   1885.0   1168.0   \n",
      "13      NaN   1848.0     1188     1783   1703.0      NaN   1901.0   1173.0   \n",
      "14      NaN   1854.0     1186     1808   1722.0      NaN   1877.0   1182.0   \n",
      "15      NaN   1859.0     1187     1818   1725.0      NaN   1872.0   1181.0   \n",
      "16      NaN      NaN     1182     1825   1755.0      NaN   1844.0   1219.0   \n",
      "17      NaN      NaN     1191     1834   1786.0      NaN   1844.0   1321.0   \n",
      "18      NaN      NaN     1196     1850   1782.0   1158.0   1860.0   1404.0   \n",
      "19      NaN      NaN     1203     1862   1782.0   1165.0   1841.0   1481.0   \n",
      "20      NaN      NaN     1207     1855   1805.0   1169.0   1851.0   1584.0   \n",
      "21      NaN      NaN     1210     1830   1811.0   1172.0   1854.0   1615.0   \n",
      "22      NaN      NaN     1206     1831   1804.0   1191.0   1856.0   1683.0   \n",
      "23      NaN      NaN     1212     1846   1790.0   1206.0   1834.0   1775.0   \n",
      "24      NaN      NaN     1210     1863   1791.0   1312.0   1856.0   1839.0   \n",
      "25      NaN      NaN     1205     1886   1809.0   1348.0   1876.0      NaN   \n",
      "26      NaN      NaN     1200     1895   1822.0   1418.0   1849.0      NaN   \n",
      "27      NaN      NaN     1188     1904   1847.0   1532.0   1849.0      NaN   \n",
      "28      NaN      NaN     1192     1892      NaN   1594.0   1819.0      NaN   \n",
      "29      NaN      NaN     1177     1903      NaN   1631.0   1806.0      NaN   \n",
      "30      NaN      NaN     1173     1894      NaN   1648.0   1761.0      NaN   \n",
      "31      NaN      NaN     1171     1898      NaN   1689.0   1724.0      NaN   \n",
      "32      NaN      NaN     1160     1895      NaN   1715.0   1657.0      NaN   \n",
      "33      NaN      NaN     1162     1898      NaN   1727.0   1595.0      NaN   \n",
      "34      NaN      NaN     1160     1896      NaN   1760.0   1572.0      NaN   \n",
      "35      NaN      NaN     1136     1900      NaN   1748.0   1512.0      NaN   \n",
      "36      NaN      NaN     1133     1890      NaN   1772.0   1446.0      NaN   \n",
      "\n",
      "   Axon_008 Axon_009  ... Axon_090 Axon_091 Axon_092 Axon_093 Axon_094  \\\n",
      "   anchor_y anchor_y  ... anchor_x anchor_x anchor_x anchor_x anchor_x   \n",
      "0       NaN      NaN  ...      NaN      NaN      NaN      NaN      NaN   \n",
      "1       NaN      NaN  ...      NaN      NaN      NaN      NaN      NaN   \n",
      "2       NaN      NaN  ...      NaN      NaN      NaN      NaN      NaN   \n",
      "3       NaN      NaN  ...      NaN      NaN      NaN      NaN      NaN   \n",
      "4       NaN      NaN  ...      NaN      NaN      NaN      NaN      NaN   \n",
      "5       NaN      NaN  ...      NaN      NaN      NaN      NaN      NaN   \n",
      "6       NaN      NaN  ...      NaN   1214.0      NaN      NaN      NaN   \n",
      "7       NaN   1476.0  ...      NaN   1200.0      NaN      NaN      NaN   \n",
      "8       NaN   1296.0  ...      NaN   1102.0      NaN      NaN      NaN   \n",
      "9       NaN   1243.0  ...      NaN   1122.0      NaN      NaN      NaN   \n",
      "10      NaN   1196.0  ...      NaN   1099.0      NaN      NaN      NaN   \n",
      "11      NaN   1151.0  ...      NaN   1094.0      NaN      NaN      NaN   \n",
      "12      NaN   1134.0  ...      NaN   1096.0      NaN      NaN      NaN   \n",
      "13      NaN   1147.0  ...      NaN   1088.0      NaN      NaN      NaN   \n",
      "14      NaN   1146.0  ...      NaN   1093.0      NaN   2354.0      NaN   \n",
      "15      NaN   1145.0  ...      NaN   1112.0      NaN   2354.0      NaN   \n",
      "16      NaN   1161.0  ...      NaN   1129.0      NaN   2374.0      NaN   \n",
      "17      NaN   1164.0  ...      NaN   1127.0      NaN   2419.0      NaN   \n",
      "18      NaN   1171.0  ...      NaN   1172.0      NaN   2421.0      NaN   \n",
      "19      NaN   1169.0  ...      NaN   1219.0      NaN   2420.0      NaN   \n",
      "20      NaN   1181.0  ...      NaN   1245.0      NaN   2417.0      NaN   \n",
      "21      NaN   1178.0  ...      NaN      NaN      NaN   2414.0      NaN   \n",
      "22      NaN   1175.0  ...      NaN      NaN   1319.0   2423.0      NaN   \n",
      "23      NaN   1180.0  ...   1182.0      NaN   1289.0   2423.0      NaN   \n",
      "24      NaN   1194.0  ...   1080.0      NaN   1275.0   2419.0      NaN   \n",
      "25      NaN   1199.0  ...    949.0      NaN   1280.0   2420.0      NaN   \n",
      "26      NaN   1197.0  ...    840.0      NaN   1302.0   2427.0      NaN   \n",
      "27      NaN   1203.0  ...    769.0      NaN   1316.0   2422.0      NaN   \n",
      "28      NaN   1200.0  ...    730.0      NaN   1327.0   2429.0      NaN   \n",
      "29   1874.0   1198.0  ...    708.0      NaN      NaN   2423.0      NaN   \n",
      "30   1834.0   1199.0  ...    664.0      NaN      NaN   2425.0      NaN   \n",
      "31   1732.0   1196.0  ...    555.0      NaN      NaN   2419.0      NaN   \n",
      "32   1678.0   1195.0  ...    559.0      NaN      NaN   2425.0   1315.0   \n",
      "33   1625.0   1195.0  ...    559.0      NaN      NaN   2423.0   1293.0   \n",
      "34   1538.0   1197.0  ...    561.0      NaN      NaN   2417.0   1283.0   \n",
      "35   1465.0   1193.0  ...    560.0      NaN      NaN   2419.0   1282.0   \n",
      "36      NaN   1195.0  ...    559.0      NaN      NaN   2422.0   1314.0   \n",
      "\n",
      "   Axon_095 Axon_096 Axon_097 Axon_098 Axon_099  \n",
      "   anchor_x anchor_x anchor_x anchor_x anchor_x  \n",
      "0       NaN      NaN      NaN      NaN      NaN  \n",
      "1       NaN      NaN      NaN      NaN      NaN  \n",
      "2       NaN      NaN      NaN      NaN      NaN  \n",
      "3       NaN      NaN      NaN      NaN      NaN  \n",
      "4       NaN      NaN      NaN      NaN      NaN  \n",
      "5       NaN      NaN      NaN      NaN      NaN  \n",
      "6       NaN      NaN      NaN      NaN      NaN  \n",
      "7       NaN      NaN      NaN      NaN      NaN  \n",
      "8       NaN      NaN      NaN      NaN      NaN  \n",
      "9       NaN      NaN      NaN      NaN      NaN  \n",
      "10      NaN      NaN      NaN      NaN      NaN  \n",
      "11      NaN      NaN      NaN      NaN      NaN  \n",
      "12      NaN      NaN      NaN      NaN      NaN  \n",
      "13      NaN      NaN      NaN      NaN      NaN  \n",
      "14      NaN      NaN      NaN      NaN      NaN  \n",
      "15      NaN      NaN      NaN      NaN      NaN  \n",
      "16      NaN      NaN      NaN      NaN      NaN  \n",
      "17      NaN      NaN      NaN      NaN   2062.0  \n",
      "18      NaN      NaN      NaN      NaN   1999.0  \n",
      "19      NaN      NaN      NaN      NaN   1879.0  \n",
      "20      NaN      NaN      NaN      NaN   1843.0  \n",
      "21   1547.0      NaN      NaN      NaN   1861.0  \n",
      "22   1551.0      NaN      NaN      NaN   1889.0  \n",
      "23   1580.0      NaN      NaN      NaN   1886.0  \n",
      "24   1681.0      NaN      NaN      NaN   1905.0  \n",
      "25   1711.0      NaN      NaN      NaN   1941.0  \n",
      "26   1742.0      NaN      NaN      NaN   1978.0  \n",
      "27   1747.0      NaN      NaN      NaN   2008.0  \n",
      "28   1750.0      NaN   2123.0      NaN   2018.0  \n",
      "29   1706.0      NaN   2116.0      NaN   2022.0  \n",
      "30   1697.0      NaN   2100.0      NaN   1989.0  \n",
      "31   1621.0      NaN   2044.0      NaN   2003.0  \n",
      "32   1600.0   2409.0   1958.0      NaN   1993.0  \n",
      "33   1715.0   2414.0   1944.0   1983.0   1989.0  \n",
      "34   1758.0   2408.0   1938.0   2001.0   1972.0  \n",
      "35   1800.0   2406.0   1940.0   2032.0   1991.0  \n",
      "36   1804.0   2470.0   1925.0   2064.0   1995.0  \n",
      "\n",
      "[37 rows x 200 columns]\n",
      "\n",
      "\n",
      "=== `D04_G004` tif loaded ===\n",
      "TxHxW: 80x2080x5764\n",
      "dtype: uint16\n",
      "min:0, max:3974\n",
      "Frame wise min: [0 0 0 0 0 0 0 0 0 0 0 0 0 0 0 0 0 0 0 0 0 0 0 0 0 0 0 0 0 0 0 0 0 0 0 0 0\n",
      " 0 0 0 0 0 0 0 0 0 0 0 0 0 0 0 0 0 0 0 0 0 0 0 0 0 0 0 0 0 0 0 0 0 0 0 0 0\n",
      " 0 0 0 0 0 0]\n"
     ]
    },
    {
     "data": {
      "image/png": "[encoded data removed]",
      "text/plain": [
       "<Figure size 432x288 with 1 Axes>"
      ]
     },
     "metadata": {},
     "output_type": "display_data"
    },
    {
     "name": "stdout",
     "output_type": "stream",
     "text": [
      "=== `D04_G004` npy mask loaded ===\n",
      "HxW: 2080x5764\n",
      "\n",
      "Loading labels for D04_G004. Found the following files: ['/run/media/loaloa/lbbSSD/training_data//all_labels_csvs/D04_G004_labels_IDs_000-066.csv']\n",
      "   Axon_000          Axon_001          Axon_002          Axon_003           \\\n",
      "   anchor_y anchor_x anchor_y anchor_x anchor_y anchor_x anchor_y anchor_x   \n",
      "0    1651.0   1965.0      NaN      NaN      NaN      NaN      NaN      NaN   \n",
      "1    1633.0   1954.0      NaN      NaN      NaN      NaN      NaN      NaN   \n",
      "2    1605.0   1962.0      NaN      NaN      NaN      NaN      NaN      NaN   \n",
      "3    1581.0   1978.0      NaN      NaN      NaN      NaN   1977.0   1620.0   \n",
      "4    1574.0   1978.0      NaN      NaN      NaN      NaN   1969.0   1622.0   \n",
      "..      ...      ...      ...      ...      ...      ...      ...      ...   \n",
      "76   1309.0   2743.0      NaN      NaN   1325.0   2562.0   1449.0   1728.0   \n",
      "77   1306.0   2744.0      NaN      NaN   1323.0   2558.0   1455.0   1730.0   \n",
      "78   1310.0   2747.0      NaN      NaN   1323.0   2564.0   1446.0   1729.0   \n",
      "79   1311.0   2748.0      NaN      NaN   1321.0   2560.0   1451.0   1727.0   \n",
      "80      NaN      NaN      NaN      NaN   1325.0   2561.0   1451.0   1727.0   \n",
      "\n",
      "   Axon_004           ... Axon_062          Axon_063          Axon_064  \\\n",
      "   anchor_y anchor_x  ... anchor_y anchor_x anchor_y anchor_x anchor_y   \n",
      "0    1735.0   1192.0  ...      NaN      NaN      NaN      NaN      NaN   \n",
      "1    1729.0   1195.0  ...      NaN      NaN      NaN      NaN      NaN   \n",
      "2    1713.0   1197.0  ...      NaN      NaN      NaN      NaN      NaN   \n",
      "3    1672.0   1200.0  ...      NaN      NaN      NaN      NaN      NaN   \n",
      "4    1575.0   1202.0  ...      NaN      NaN      NaN      NaN      NaN   \n",
      "..      ...      ...  ...      ...      ...      ...      ...      ...   \n",
      "76      NaN      NaN  ...      NaN      NaN      NaN      NaN      NaN   \n",
      "77      NaN      NaN  ...      NaN      NaN      NaN      NaN      NaN   \n",
      "78      NaN      NaN  ...      NaN      NaN      NaN      NaN      NaN   \n",
      "79      NaN      NaN  ...      NaN      NaN      NaN      NaN      NaN   \n",
      "80      NaN      NaN  ...      NaN      NaN      NaN      NaN      NaN   \n",
      "\n",
      "            Axon_065          Axon_066           \n",
      "   anchor_x anchor_y anchor_x anchor_y anchor_x  \n",
      "0       NaN      NaN      NaN      NaN      NaN  \n",
      "1       NaN      NaN      NaN      NaN      NaN  \n",
      "2       NaN      NaN      NaN      NaN      NaN  \n",
      "3       NaN      NaN      NaN      NaN      NaN  \n",
      "4       NaN      NaN      NaN      NaN      NaN  \n",
      "..      ...      ...      ...      ...      ...  \n",
      "76      NaN   1657.0   3077.0      NaN      NaN  \n",
      "77      NaN   1648.0   3053.0      NaN      NaN  \n",
      "78      NaN   1647.0   3050.0      NaN      NaN  \n",
      "79      NaN   1647.0   3044.0   1883.0   3200.0  \n",
      "80      NaN   1645.0   3040.0   1859.0   3195.0  \n",
      "\n",
      "[81 rows x 134 columns]\n",
      "\n",
      "\n",
      "=== `D19_G035` tif loaded ===\n",
      "TxHxW: 210x2080x5764\n",
      "dtype: uint16\n",
      "min:0, max:3974\n",
      "Frame wise min: [0 0 0 0 0 0 0 0 0 0 0 0 0 0 0 0 0 0 0 0 0 0 0 0 0 0 0 0 0 0 0 0 0 0 0 0 0\n",
      " 0 0 0 0 0 0 0 0 0 0 0 0 0 0 0 0 0 0 0 0 0 0 0 0 0 0 0 0 0 0 0 0 0 0 0 0 0\n",
      " 0 0 0 0 0 0 0 0 0 0 0 0 0 0 0 0 0 0 0 0 0 0 0 0 0 0 0 0 0 0 0 0 0 0 0 0 0\n",
      " 0 0 0 0 0 0 0 0 0 0 0 0 0 0 0 0 0 0 0 0 0 0 0 0 0 0 0 0 0 0 0 0 0 0 0 0 0\n",
      " 0 0 0 0 0 0 0 0 0 0 0 0 0 0 0 0 0 0 0 0 0 0 0 0 0 0 0 0 0 0 0 0 0 0 0 0 0\n",
      " 0 0 0 0 0 0 0 0 0 0 0 0 0 0 0 0 0 0 0 0 0 0 0 0 0]\n"
     ]
    },
    {
     "data": {
      "image/png": "[encoded data removed]",
      "text/plain": [
       "<Figure size 432x288 with 1 Axes>"
      ]
     },
     "metadata": {},
     "output_type": "display_data"
    },
    {
     "name": "stdout",
     "output_type": "stream",
     "text": [
      "=== `D19_G035` npy mask loaded ===\n",
      "HxW: 2080x5764\n",
      "\n",
      "Loading labels for D19_G035. Found the following files: ['/run/media/loaloa/lbbSSD/training_data//all_labels_csvs/D19_G035_labels_IDs_000-132.csv']\n",
      "      Axon_000          Axon_001          Axon_002          Axon_003           \\\n",
      "      anchor_y anchor_x anchor_y anchor_x anchor_y anchor_x anchor_y anchor_x   \n",
      "0.0        NaN      NaN      NaN      NaN      NaN      NaN      NaN      NaN   \n",
      "1.0        NaN      NaN      NaN      NaN      NaN      NaN      NaN      NaN   \n",
      "2.0        NaN      NaN      NaN      NaN      NaN      NaN      NaN      NaN   \n",
      "3.0        NaN      NaN      NaN      NaN      NaN      NaN      NaN      NaN   \n",
      "4.0        NaN      NaN      NaN      NaN      NaN      NaN      NaN      NaN   \n",
      "...        ...      ...      ...      ...      ...      ...      ...      ...   \n",
      "205.0      NaN      NaN   1102.0    955.0      NaN      NaN      NaN      NaN   \n",
      "206.0      NaN      NaN   1105.0    955.0      NaN      NaN      NaN      NaN   \n",
      "207.0      NaN      NaN   1107.0    955.0      NaN      NaN      NaN      NaN   \n",
      "208.0      NaN      NaN   1072.0    952.0      NaN      NaN      NaN      NaN   \n",
      "209.0      NaN      NaN   1087.0    950.0      NaN      NaN      NaN      NaN   \n",
      "\n",
      "      Axon_004           ... Axon_128          Axon_129          Axon_130  \\\n",
      "      anchor_y anchor_x  ... anchor_y anchor_x anchor_y anchor_x anchor_y   \n",
      "0.0        NaN      NaN  ...      NaN      NaN      NaN      NaN      NaN   \n",
      "1.0        NaN      NaN  ...      NaN      NaN      NaN      NaN      NaN   \n",
      "2.0        NaN      NaN  ...      NaN      NaN      NaN      NaN      NaN   \n",
      "3.0        NaN      NaN  ...      NaN      NaN      NaN      NaN      NaN   \n",
      "4.0        NaN      NaN  ...      NaN      NaN      NaN      NaN      NaN   \n",
      "...        ...      ...  ...      ...      ...      ...      ...      ...   \n",
      "205.0      NaN      NaN  ...      NaN      NaN      NaN      NaN    602.0   \n",
      "206.0      NaN      NaN  ...      NaN      NaN      NaN      NaN    603.0   \n",
      "207.0      NaN      NaN  ...      NaN      NaN      NaN      NaN    601.0   \n",
      "208.0      NaN      NaN  ...      NaN      NaN      NaN      NaN    603.0   \n",
      "209.0      NaN      NaN  ...      NaN      NaN      NaN      NaN    600.0   \n",
      "\n",
      "               Axon_131          Axon_132           \n",
      "      anchor_x anchor_y anchor_x anchor_y anchor_x  \n",
      "0.0        NaN      NaN      NaN      NaN      NaN  \n",
      "1.0        NaN      NaN      NaN      NaN      NaN  \n",
      "2.0        NaN      NaN      NaN      NaN      NaN  \n",
      "3.0        NaN      NaN      NaN      NaN      NaN  \n",
      "4.0        NaN      NaN      NaN      NaN      NaN  \n",
      "...        ...      ...      ...      ...      ...  \n",
      "205.0   2639.0      NaN      NaN      NaN      NaN  \n",
      "206.0   2625.0      NaN      NaN      NaN      NaN  \n",
      "207.0   2629.0      NaN      NaN      NaN      NaN  \n",
      "208.0   2629.0      NaN      NaN      NaN      NaN  \n",
      "209.0   2630.0      NaN      NaN      NaN      NaN  \n",
      "\n",
      "[210 rows x 266 columns]\n"
     ]
    }
   ],
   "source": [
    "# Load the timelapses and merge them\n",
    "signals, masks, lbls = load_all_training_data(tlapse_names)\n",
    "all_signals, all_masks, all_lbls = merge_all_training_data(signals, masks, lbls)"
   ]
  },
  {
   "cell_type": "code",
   "execution_count": 11,
   "metadata": {},
   "outputs": [],
   "source": [
    "# load whole training data into viewer to ensure corretness before final save\n",
    "validate_training_data(all_signals, all_masks, all_lbls, viewer, skip_lbls=True)"
   ]
  },
  {
   "cell_type": "code",
   "execution_count": 18,
   "metadata": {},
   "outputs": [
    {
     "name": "stdout",
     "output_type": "stream",
     "text": [
      "Saving timelapse, masks and labels at /run/media/loaloa/lbbSSD/training_data/\n"
     ]
    }
   ],
   "source": [
    "# finally save the training data\n",
    "save_all_training_data(all_signals, all_masks, all_lbls)"
   ]
  }
 ],
 "metadata": {
  "kernelspec": {
   "display_name": "Python 3 (ipykernel)",
   "language": "python",
   "name": "python3"
  },
  "language_info": {
   "codemirror_mode": {
    "name": "ipython",
    "version": 3
   },
   "file_extension": ".py",
   "mimetype": "text/x-python",
   "name": "python",
   "nbconvert_exporter": "python",
   "pygments_lexer": "ipython3",
   "version": "3.9.9"
  }
 },
 "nbformat": 4,
 "nbformat_minor": 2
}
