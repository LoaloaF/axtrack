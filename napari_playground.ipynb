{
 "metadata": {
  "language_info": {
   "codemirror_mode": {
    "name": "ipython",
    "version": 3
   },
   "file_extension": ".py",
   "mimetype": "text/x-python",
   "name": "python",
   "nbconvert_exporter": "python",
   "pygments_lexer": "ipython3",
   "version": "3.8.11-final"
  },
  "orig_nbformat": 2,
  "kernelspec": {
   "name": "python381164bitbiomeacondae971a44a5ce445a4a65f580b8ea92122",
   "display_name": "Python 3.8.11 64-bit ('bioMEA': conda)"
  }
 },
 "nbformat": 4,
 "nbformat_minor": 2,
 "cells": [
  {
   "cell_type": "code",
   "execution_count": 1,
   "metadata": {},
   "outputs": [],
   "source": [
    "import napari\n",
    "from tifffile import imread\n",
    "import numpy as np\n",
    "import numpy.random\n",
    "import pandas as pd\n",
    "# from process_raw import humanbytes\n",
    "\n",
    "import matplotlib.pyplot as plt\n",
    "from skimage.util import img_as_uint\n",
    "from skimage.util import img_as_float32\n",
    "from skimage.util import img_as_ubyte\n",
    "\n",
    "from skimage import filters\n",
    "from skimage import morphology\n",
    "import pickle\n",
    "\n",
    "from skimage.draw import rectangle_perimeter\n",
    "from skimage.draw import rectangle\n",
    "from skimage.draw import circle_perimeter\n",
    "from skimage.draw import line_aa\n",
    "\n",
    "import time\n",
    "import os\n",
    "import pandas as pd\n",
    "\n",
    "from dask_image.imread import imread as dask_imread\n",
    "\n",
    "%gui qt"
   ]
  },
  {
   "cell_type": "code",
   "execution_count": 16,
   "metadata": {},
   "outputs": [
    {
     "output_type": "stream",
     "name": "stdout",
     "text": [
      "[ 0  2  4  6  8 10 12 14  9 11 13 15  1  3  5  7 16 18 20 22 26 28 29 31\n 27 23 30 32 17 19 21 25 24 34 36 38 33 35 37 39 40]\n"
     ]
    },
    {
     "output_type": "execute_result",
     "data": {
      "text/plain": [
       "['D01_G001',\n",
       " 'D02_G002',\n",
       " 'D03_G004',\n",
       " 'D04_G005',\n",
       " 'D05_G006',\n",
       " 'D06_G007',\n",
       " 'D07_G008',\n",
       " 'D08_G009',\n",
       " 'D05_G010',\n",
       " 'D06_G011',\n",
       " 'D07_G012',\n",
       " 'D08_G013',\n",
       " 'D01_G014',\n",
       " 'D02_G015',\n",
       " 'D03_G016',\n",
       " 'D04_G017',\n",
       " 'D09_G018',\n",
       " 'D10_G019',\n",
       " 'D11_G020',\n",
       " 'D12_G021',\n",
       " 'D13_G022',\n",
       " 'D14_G023',\n",
       " 'D15_G024',\n",
       " 'D16_G025',\n",
       " 'D13_G026',\n",
       " 'D14_G027',\n",
       " 'D15_G028',\n",
       " 'D16_G029',\n",
       " 'D09_G030',\n",
       " 'D10_G031',\n",
       " 'D11_G032',\n",
       " 'D12_G033',\n",
       " 'D17_G034',\n",
       " 'D18_G035',\n",
       " 'D19_G036',\n",
       " 'D20_G037',\n",
       " 'D17_G038',\n",
       " 'D18_G039',\n",
       " 'D19_G040',\n",
       " 'D20_G041',\n",
       " 'D21_G042']"
      ]
     },
     "metadata": {},
     "execution_count": 16
    }
   ],
   "source": [
    "inp_path = '/run/media/loaloa/lbb_ssd/timelapse14_processed/'\n",
    "transl_files = [f for f in os.listdir(inp_path) if '_Transmission_compr.deflate.tif' in f]\n",
    "names = [n[:8] for n in transl_files]\n",
    "order = np.argsort([n[3:] for n in names])\n",
    "\n",
    "print(order)\n",
    "\n",
    "names = [names[i] for i in order]\n",
    "transl_files = [transl_files[i] for i in order]\n",
    "\n",
    "grey_chnls = [imread(inp_path+f) for f in transl_files]\n",
    "\n",
    "names"
   ]
  },
  {
   "cell_type": "code",
   "execution_count": 5,
   "metadata": {},
   "outputs": [],
   "source": [
    "with napari.gui_qt():\n",
    "    viewer = napari.Viewer()"
   ]
  },
  {
   "cell_type": "code",
   "execution_count": 17,
   "metadata": {},
   "outputs": [],
   "source": [
    "for i in range(len(grey_chnls)):\n",
    "    viewer.add_image(grey_chnls[i], name=names[i], visible=False)"
   ]
  }
 ]
}