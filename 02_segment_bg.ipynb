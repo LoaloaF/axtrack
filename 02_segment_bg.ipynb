{
 "cells": [
  {
   "source": [
    "This notebook guides through the process of semi-manually segmenting the background of the Transmission channel. The obtained mask sparsifies the image data significantly and is needed for computing astar distances through the microstructure. First load the Transmission channel into napari. Perform prewitt edge detection, gaussian denoising, binarize using otsu, run binary closing. Then comes the manual part where one needs to close all the edges. Once the has been done, use flood to segement the PDMS structure channels. Two masks are saved, one with the explant wel included, one with them excluded."
   ],
   "cell_type": "markdown",
   "metadata": {}
  },
  {
   "cell_type": "code",
   "execution_count": 2,
   "metadata": {},
   "outputs": [],
   "source": [
    "import napari\n",
    "from tifffile import imread\n",
    "import numpy as np\n",
    "\n",
    "from skimage import filters\n",
    "from skimage import morphology\n",
    "from skimage.filters import threshold_otsu\n",
    "from skimage.segmentation import flood\n",
    "\n",
    "import pandas as pd"
   ]
  },
  {
   "cell_type": "code",
   "execution_count": 4,
   "metadata": {
    "tags": []
   },
   "outputs": [],
   "source": [
    "%gui qt\n",
    "\n",
    "inp_path = '/run/media/loaloa/lbb_ssd/timelapse13_processed/'\n",
    "inp_path = '/home/loaloa/Documents/timelapse13_processed/'\n",
    "\n",
    "name = 'D06_G022'\n",
    "# name = 'D15_G031'\n",
    "\n",
    "\n",
    "fname = f'{name}_Transmission_compr.deflate.tif'\n",
    "mask_fname = fname.replace('.tif', '_mask1.npy')\n",
    "metadata_fname = fname.replace('.tif', '_metadata.csv')\n",
    "\n",
    "tranl_file = inp_path+fname\n",
    "transl_ch = imread(tranl_file)[0]"
   ]
  },
  {
   "cell_type": "code",
   "execution_count": 5,
   "metadata": {},
   "outputs": [],
   "source": [
    "with napari.gui_qt():\n",
    "    viewer = napari.Viewer()"
   ]
  },
  {
   "cell_type": "code",
   "execution_count": 6,
   "metadata": {},
   "outputs": [],
   "source": [
    "# load transmission channel\n",
    "viewer.add_image(transl_ch, name=name)\n",
    "viewer.layers[name].blending='additive'\n",
    "# viewer.layers['transl_ch'].contrast_limits = [.007*2**16, .0191*2**16]\n",
    "viewer.layers[name].opacity = .7\n",
    "viewer.layers[name].gamma = .72"
   ]
  },
  {
   "source": [
    "## If old mask0 (or mask1) already exists, load it here. \n"
   ],
   "cell_type": "markdown",
   "metadata": {}
  },
  {
   "cell_type": "code",
   "execution_count": 7,
   "metadata": {},
   "outputs": [
    {
     "output_type": "execute_result",
     "data": {
      "text/plain": [
       "<Labels layer 'inital_mask' at 0x7fa822061ca0>"
      ]
     },
     "metadata": {},
     "execution_count": 7
    }
   ],
   "source": [
    "# mask1\n",
    "which_mask = 'mask1'\n",
    "mask_fname = f'{name}_Transmission_compr.deflate_{which_mask}.npy'\n",
    "mask_file = inp_path+mask_fname\n",
    "\n",
    "mask = np.load(mask_file)\n",
    "viewer.add_labels(mask, name='inital_mask')"
   ]
  },
  {
   "source": [
    "# Load from gimp segmentation "
   ],
   "cell_type": "markdown",
   "metadata": {}
  },
  {
   "cell_type": "code",
   "execution_count": 49,
   "metadata": {},
   "outputs": [
    {
     "output_type": "stream",
     "name": "stderr",
     "text": [
      "Shaped series: series shape does not match page shape\n",
      "[[False False False ... False False False]\n",
      " [False False False ... False False False]\n",
      " [False False False ... False False False]\n",
      " ...\n",
      " [False False False ... False False False]\n",
      " [False False False ... False False False]\n",
      " [False False False ... False False False]]\n",
      "(1972, 3868)\n"
     ]
    },
    {
     "output_type": "execute_result",
     "data": {
      "text/plain": [
       "<Labels layer 'inital_mask' at 0x7f4cbda3c130>"
      ]
     },
     "metadata": {},
     "execution_count": 49
    }
   ],
   "source": [
    "# mask0\n",
    "which_mask = 'mask0'\n",
    "mask_fname = f'{name}_Transmission_compr.deflate_{which_mask}.tif'\n",
    "mask_file = inp_path+mask_fname\n",
    "\n",
    "mask = imread(mask_file)[:,:,0].astype(bool)\n",
    "print(mask)\n",
    "print(mask.shape)\n",
    "viewer.add_labels(mask, name='inital_mask')"
   ]
  },
  {
   "cell_type": "code",
   "execution_count": 68,
   "metadata": {},
   "outputs": [
    {
     "output_type": "execute_result",
     "data": {
      "text/plain": [
       "<Labels layer 'inital_mask' at 0x7fc687f08490>"
      ]
     },
     "metadata": {},
     "execution_count": 68
    }
   ],
   "source": [
    "# edge detection\n",
    "prewitt = filters.prewitt(transl_ch)\n",
    "viewer.add_image(prewitt, visible=False)\n",
    "# perform guassian smoothing on edge filtered image\n",
    "prewitt_gaussian = filters.gaussian(prewitt, sigma=1)\n",
    "viewer.add_image(prewitt_gaussian, visible=False)\n",
    "# binarize image\n",
    "prewitt_bin = prewitt > threshold_otsu(prewitt_gaussian)\n",
    "viewer.add_image(prewitt_bin, visible=False)\n",
    "# Run this, then use the bucket tool to fill everything. \n",
    "# Play with sigma and solem diameter if things look bad.\n",
    "# delete parts ofthe image where channels almost touch each other\n",
    "diameter = 6\n",
    "selem = morphology.selem.square(diameter) \n",
    "prewitt_bin_closed = morphology.binary_closing(prewitt_bin, selem)\n",
    "viewer.add_labels(prewitt_bin_closed, name='inital_mask')"
   ]
  },
  {
   "cell_type": "code",
   "execution_count": 51,
   "metadata": {},
   "outputs": [
    {
     "output_type": "execute_result",
     "data": {
      "text/plain": [
       "<Labels layer 'inital_mask [2]' at 0x7f4ceaaf9f40>"
      ]
     },
     "metadata": {},
     "execution_count": 51
    }
   ],
   "source": [
    "# merge with gimp mask:\n",
    "prewitt_bin_closed = mask | prewitt_bin_closed\n",
    "viewer.add_labels(prewitt_bin_closed, name='inital_mask')\n"
   ]
  },
  {
   "cell_type": "code",
   "execution_count": 9,
   "metadata": {},
   "outputs": [
    {
     "output_type": "execute_result",
     "data": {
      "text/plain": [
       "target                               (0, 1900)\n",
       "notes              right container no channels\n",
       "design                                       6\n",
       "CLSM_area                                   22\n",
       "dt                                          31\n",
       "which_tl                                 tl`13\n",
       "incubation_time                           3120\n",
       "pixelsize                                 0.62\n",
       "dtype: object"
      ]
     },
     "metadata": {},
     "execution_count": 9
    }
   ],
   "source": [
    "target = (0,1900)\n",
    "notes = 'right container no channels'\n",
    "design = int(name[1:3])\n",
    "CLSM_area = int(name[5:8])\n",
    "dt = 31 # in minutes\n",
    "pixelsize = 0.62  #in um\n",
    "# which_tl = 'tl14'\n",
    "# incubation_time = 32*60   # aggrowell incubation, seeded incubation, imaged incubation\n",
    "which_tl = 'tl`13'\n",
    "incubation_time = 52*60\n",
    "\n",
    "\n",
    "metadata = pd.Series({'target': target,\n",
    "                      'notes': notes,\n",
    "                      'design': design,\n",
    "                      'CLSM_area': CLSM_area,\n",
    "                      'dt': dt,\n",
    "                      'which_tl': which_tl,\n",
    "                      'incubation_time': incubation_time,\n",
    "                      'pixelsize': pixelsize,\n",
    "                })\n",
    "                \n",
    "metadata"
   ]
  },
  {
   "cell_type": "code",
   "execution_count": 70,
   "metadata": {
    "scrolled": true
   },
   "outputs": [
    {
     "output_type": "stream",
     "name": "stdout",
     "text": [
      "(1972, 3868)\n"
     ]
    },
    {
     "output_type": "execute_result",
     "data": {
      "text/plain": [
       "<Labels layer 'before_clean' at 0x7fc6cec5b2e0>"
      ]
     },
     "metadata": {},
     "execution_count": 70
    }
   ],
   "source": [
    "# flood \n",
    "prewitt_bin_closed = viewer.layers['inital_mask'].data\n",
    "print(prewitt_bin_closed.shape)\n",
    "prewitt_bin_closed_flooded = flood(prewitt_bin_closed, target) \n",
    "# prewitt_bin_closed_flooded2 = flood(prewitt_bin_closed, (0,1720))\n",
    "# prewitt_bin_closed_flooded = prewitt_bin_closed_flooded |prewitt_bin_closed_flooded2\n",
    "viewer.add_labels(prewitt_bin_closed_flooded, name='before_clean')"
   ]
  },
  {
   "cell_type": "code",
   "execution_count": 71,
   "metadata": {},
   "outputs": [
    {
     "output_type": "execute_result",
     "data": {
      "text/plain": [
       "<Labels layer 'final' at 0x7fc686578940>"
      ]
     },
     "metadata": {},
     "execution_count": 71
    }
   ],
   "source": [
    "prewitt_bin_closed_flooded = viewer.layers['before_clean'].data\n",
    "selem = morphology.selem.diamond(3)\n",
    "final = filters.median(prewitt_bin_closed_flooded, selem)\n",
    "# final fixing\n",
    "viewer.add_labels(final, name='final')"
   ]
  },
  {
   "source": [
    "------------------------------------"
   ],
   "cell_type": "markdown",
   "metadata": {}
  },
  {
   "cell_type": "code",
   "execution_count": 72,
   "metadata": {},
   "outputs": [
    {
     "output_type": "execute_result",
     "data": {
      "text/plain": [
       "<Labels layer 'start_mask' at 0x7fc686578dc0>"
      ]
     },
     "metadata": {},
     "execution_count": 72
    }
   ],
   "source": [
    "# final mask\n",
    "mask = viewer.layers['final'].data.astype(bool)\n",
    "# segment target and starts\n",
    "viewer.add_labels(np.zeros_like(mask), name='goal_mask')\n",
    "viewer.add_labels(np.zeros_like(mask), name='start_mask')"
   ]
  },
  {
   "cell_type": "code",
   "execution_count": 73,
   "metadata": {},
   "outputs": [],
   "source": [
    "goal_mask = viewer.layers['goal_mask'].data & mask\n",
    "start_mask = viewer.layers['start_mask'].data & mask"
   ]
  },
  {
   "cell_type": "code",
   "execution_count": 74,
   "metadata": {},
   "outputs": [],
   "source": [
    "np.save(tranl_file.replace('.tif', '_mask1.npy'), mask)\n",
    "np.save(tranl_file.replace('.tif', '_mask1_goal.npy'), start_mask)\n",
    "np.save(tranl_file.replace('.tif', '_mask1_start.npy'), goal_mask)\n",
    "metadata.to_csv(inp_path+metadata_fname)"
   ]
  },
  {
   "cell_type": "code",
   "execution_count": 75,
   "metadata": {},
   "outputs": [
    {
     "output_type": "execute_result",
     "data": {
      "text/plain": [
       "<Image layer 'start_mask [1]' at 0x7fc687c9f250>"
      ]
     },
     "metadata": {},
     "execution_count": 75
    }
   ],
   "source": [
    "# check\n",
    "mask = np.load(tranl_file.replace('.tif', '_mask1.npy'))\n",
    "viewer.add_image(mask, opacity=.5)\n",
    "goal_mask = np.load(tranl_file.replace('.tif', '_mask1_goal.npy'))\n",
    "viewer.add_image(goal_mask, opacity=.5)\n",
    "start_mask = np.load(tranl_file.replace('.tif', '_mask1_start.npy'))\n",
    "viewer.add_image(start_mask, opacity=.5)"
   ]
  },
  {
   "cell_type": "code",
   "execution_count": null,
   "metadata": {},
   "outputs": [],
   "source": []
  }
 ],
 "metadata": {
  "kernelspec": {
   "display_name": "Python 3.8.5 64-bit ('bioMEA': conda)",
   "language": "python",
   "name": "python38564bitbiomeaconda2da277ab1d6c4c229b349af03aeb16fd"
  },
  "language_info": {
   "codemirror_mode": {
    "name": "ipython",
    "version": 3
   },
   "file_extension": ".py",
   "mimetype": "text/x-python",
   "name": "python",
   "nbconvert_exporter": "python",
   "pygments_lexer": "ipython3",
   "version": "3.8.11-final"
  }
 },
 "nbformat": 4,
 "nbformat_minor": 4
}