{
 "cells": [
  {
   "source": [
    "This notebook guides through the process of semi-manually segmenting the background of the Transmission channel. The obtained mask sparsifies the image data significantly and is needed for computing astar distances through the microstructure. First load the Transmission channel into napari. Perform prewitt edge detection, gaussian denoising, binarize using otsu, run binary closing. Then comes the manual part where one needs to close all the edges. Once the has been done, use flood to segement the PDMS structure channels. Two masks are saved, one with the explant wel included, one with them excluded."
   ],
   "cell_type": "markdown",
   "metadata": {}
  },
  {
   "cell_type": "code",
   "execution_count": 1,
   "metadata": {},
   "outputs": [],
   "source": [
    "import napari\n",
    "from tifffile import imread\n",
    "import numpy as np\n",
    "\n",
    "from skimage import filters\n",
    "from skimage import morphology\n",
    "from skimage.filters import threshold_otsu\n",
    "from skimage.segmentation import flood\n"
   ]
  },
  {
   "cell_type": "code",
   "execution_count": 38,
   "metadata": {},
   "outputs": [],
   "source": [
    "%gui qt\n",
    "\n",
    "inp_path = '/run/media/loaloa/lbb_ssd/timelapse13_processed/'\n",
    "# outp_path = '/run/media/loaloa/lbb_ssd/timelapse13_processed/'\n",
    "tranl_file = inp_path+'D07_G019_Transmission_compr.deflate.tif'\n",
    "transl_ch = imread(tranl_file)[0]"
   ]
  },
  {
   "cell_type": "code",
   "execution_count": 39,
   "metadata": {},
   "outputs": [
    {
     "output_type": "stream",
     "name": "stderr",
     "text": [
      "WARNING: Failed to register window menu, reason: org.freedesktop.DBus.Error.ServiceUnknown (\"The name com.canonical.AppMenu.Registrar was not provided by any .service files\")\n",
      "WARNING: Failed to unregister window menu, reason: org.freedesktop.DBus.Error.ServiceUnknown (\"The name com.canonical.AppMenu.Registrar was not provided by any .service files\")\n",
      "WARNING: Failed to register window menu, reason: org.freedesktop.DBus.Error.ServiceUnknown (\"The name com.canonical.AppMenu.Registrar was not provided by any .service files\")\n"
     ]
    }
   ],
   "source": [
    "with napari.gui_qt():\n",
    "    viewer = napari.Viewer()\n",
    "\n",
    "    viewer.add_image(transl_ch)\n",
    "    viewer.layers['transl_ch'].blending='additive'\n",
    "    viewer.layers['transl_ch'].contrast_limits = [.007*2**16, .0191*2**16]\n",
    "    viewer.layers['transl_ch'].opacity = .7\n",
    "    viewer.layers['transl_ch'].gamma = .72"
   ]
  },
  {
   "cell_type": "code",
   "execution_count": 40,
   "metadata": {},
   "outputs": [
    {
     "output_type": "execute_result",
     "data": {
      "text/plain": [
       "<Image layer 'prewitt' at 0x7f17159a26a0>"
      ]
     },
     "metadata": {},
     "execution_count": 40
    }
   ],
   "source": [
    "# edge detection\n",
    "prewitt = filters.prewitt(transl_ch)\n",
    "viewer.add_image(prewitt)"
   ]
  },
  {
   "cell_type": "code",
   "execution_count": 41,
   "metadata": {},
   "outputs": [
    {
     "output_type": "execute_result",
     "data": {
      "text/plain": [
       "<Image layer 'prewitt_gaussian' at 0x7f17154ef8b0>"
      ]
     },
     "metadata": {},
     "execution_count": 41
    }
   ],
   "source": [
    "# perform guassian smoothing on edge filtered image\n",
    "prewitt_gaussian = filters.gaussian(prewitt, sigma=1)\n",
    "viewer.add_image(prewitt_gaussian)"
   ]
  },
  {
   "cell_type": "code",
   "execution_count": 42,
   "metadata": {
    "scrolled": true
   },
   "outputs": [
    {
     "output_type": "execute_result",
     "data": {
      "text/plain": [
       "<Image layer 'prewitt_bin' at 0x7f17154efaf0>"
      ]
     },
     "metadata": {},
     "execution_count": 42
    }
   ],
   "source": [
    "# binarize image\n",
    "prewitt_bin = prewitt > threshold_otsu(prewitt_gaussian)\n",
    "viewer.add_image(prewitt_bin)"
   ]
  },
  {
   "cell_type": "code",
   "execution_count": 43,
   "metadata": {},
   "outputs": [
    {
     "output_type": "execute_result",
     "data": {
      "text/plain": [
       "<Labels layer 'inital_mask' at 0x7f171547c3a0>"
      ]
     },
     "metadata": {},
     "execution_count": 43
    }
   ],
   "source": [
    "# Run this, then use the bucket tool to fill everything. \n",
    "# Play with sigma and solem diameter if things look bad.\n",
    "# delete parts ofthe image where channels almost touch each other\n",
    "diameter = 4\n",
    "selem = morphology.selem.square(diameter) \n",
    "prewitt_bin_closed = morphology.binary_closing(prewitt_bin, selem)\n",
    "viewer.add_labels(prewitt_bin_closed, name='inital_mask')"
   ]
  },
  {
   "cell_type": "code",
   "execution_count": 32,
   "metadata": {
    "scrolled": true
   },
   "outputs": [
    {
     "output_type": "execute_result",
     "data": {
      "text/plain": [
       "<Labels layer 'before_clean' at 0x7f1717bb6070>"
      ]
     },
     "metadata": {},
     "execution_count": 32
    }
   ],
   "source": [
    "# Flood (1000,2700) is the start point\n",
    "prewitt_bin_closed = viewer.layers['inital_mask'].data\n",
    "prewitt_bin_closed_flooded = flood(prewitt_bin_closed, (50  ,2000))\n",
    "# fill wells afterwards and drawy cutoff segmentation\n",
    "viewer.add_labels(prewitt_bin_closed_flooded, name='before_clean')\n",
    "# viewer.add_labels(np.zeros_like(prewitt), name='y_cutoff')"
   ]
  },
  {
   "cell_type": "code",
   "execution_count": 33,
   "metadata": {},
   "outputs": [
    {
     "output_type": "execute_result",
     "data": {
      "text/plain": [
       "<Labels layer 'final' at 0x7f1715ebb820>"
      ]
     },
     "metadata": {},
     "execution_count": 33
    }
   ],
   "source": [
    "prewitt_bin_closed_flooded = viewer.layers['before_clean'].data\n",
    "selem = morphology.selem.diamond(5)\n",
    "final = filters.median(prewitt_bin_closed_flooded, selem)\n",
    "# final fixing\n",
    "viewer.add_labels(final, name='final')"
   ]
  },
  {
   "cell_type": "code",
   "execution_count": 34,
   "metadata": {},
   "outputs": [],
   "source": [
    "np.save(tranl_file.replace('.tif', '_mask1.npy'), viewer.layers['before_clean'].data.astype(bool))\n"
   ]
  },
  {
   "cell_type": "code",
   "execution_count": null,
   "metadata": {},
   "outputs": [],
   "source": []
  }
 ],
 "metadata": {
  "kernelspec": {
   "display_name": "Python 3.8.5 64-bit ('bioMEA': conda)",
   "language": "python",
   "name": "python38564bitbiomeaconda2da277ab1d6c4c229b349af03aeb16fd"
  },
  "language_info": {
   "codemirror_mode": {
    "name": "ipython",
    "version": 3
   },
   "file_extension": ".py",
   "mimetype": "text/x-python",
   "name": "python",
   "nbconvert_exporter": "python",
   "pygments_lexer": "ipython3",
   "version": "3.8.11-final"
  }
 },
 "nbformat": 4,
 "nbformat_minor": 4
}