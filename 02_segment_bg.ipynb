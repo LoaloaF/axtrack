{
 "cells": [
  {
   "source": [
    "This notebook guides through the process of semi-manually segmenting the background of the Transmission channel. The obtained mask sparsifies the image data significantly and is needed for computing astar distances through the microstructure. First load the Transmission channel into napari. Perform prewitt edge detection, gaussian denoising, binarize using otsu, run binary closing. Then comes the manual part where one needs to close all the edges. Once the has been done, use flood to segement the PDMS structure channels. Two masks are saved, one with the explant wel included, one with them excluded."
   ],
   "cell_type": "markdown",
   "metadata": {}
  },
  {
   "cell_type": "code",
   "execution_count": 3,
   "metadata": {},
   "outputs": [],
   "source": [
    "import napari\n",
    "from tifffile import imread\n",
    "import numpy as np\n",
    "\n",
    "from skimage import filters\n",
    "from skimage import morphology\n",
    "from skimage.filters import threshold_otsu\n",
    "from skimage.segmentation import flood\n"
   ]
  },
  {
   "cell_type": "code",
   "execution_count": 4,
   "metadata": {},
   "outputs": [],
   "source": [
    "%gui qt\n",
    "\n",
    "inp_path = '/run/media/loaloa/lbb_ssd/timelapse1_40_min_processed/'\n",
    "outp_path = '../tl140_outputdata/'\n",
    "tranl_file = inp_path+'G001_grey_compr.deflate.tif'\n",
    "transl_ch = imread(tranl_file)[0]"
   ]
  },
  {
   "cell_type": "code",
   "execution_count": 5,
   "metadata": {},
   "outputs": [],
   "source": [
    "with napari.gui_qt():\n",
    "    viewer = napari.Viewer()\n",
    "\n",
    "    viewer.add_image(transl_ch)\n",
    "    viewer.layers['transl_ch'].blending='additive'\n",
    "    viewer.layers['transl_ch'].contrast_limits = [.007*2**16, .0191*2**16]\n",
    "    viewer.layers['transl_ch'].opacity = .7\n",
    "    viewer.layers['transl_ch'].gamma = .72"
   ]
  },
  {
   "cell_type": "code",
   "execution_count": 6,
   "metadata": {},
   "outputs": [
    {
     "output_type": "execute_result",
     "data": {
      "text/plain": [
       "<Image layer 'prewitt' at 0x7fa42b2ea340>"
      ]
     },
     "metadata": {},
     "execution_count": 6
    }
   ],
   "source": [
    "# edge detection\n",
    "prewitt = filters.prewitt(transl_ch)\n",
    "viewer.add_image(prewitt)"
   ]
  },
  {
   "cell_type": "code",
   "execution_count": 7,
   "metadata": {},
   "outputs": [
    {
     "output_type": "execute_result",
     "data": {
      "text/plain": [
       "<Image layer 'prewitt_gaussian' at 0x7fa444050d30>"
      ]
     },
     "metadata": {},
     "execution_count": 7
    }
   ],
   "source": [
    "# perform guassian smoothing on edge filtered image\n",
    "prewitt_gaussian = filters.gaussian(prewitt, sigma=1)\n",
    "viewer.add_image(prewitt_gaussian)"
   ]
  },
  {
   "cell_type": "code",
   "execution_count": 8,
   "metadata": {
    "scrolled": true
   },
   "outputs": [
    {
     "output_type": "execute_result",
     "data": {
      "text/plain": [
       "<Image layer 'prewitt_bin' at 0x7fa438581f40>"
      ]
     },
     "metadata": {},
     "execution_count": 8
    }
   ],
   "source": [
    "# binarize image\n",
    "prewitt_bin = prewitt > threshold_otsu(prewitt_gaussian)\n",
    "viewer.add_image(prewitt_bin)"
   ]
  },
  {
   "cell_type": "code",
   "execution_count": 11,
   "metadata": {},
   "outputs": [
    {
     "output_type": "execute_result",
     "data": {
      "text/plain": [
       "<Labels layer 'prewitt_bin_closed [1]' at 0x7fa42867bc70>"
      ]
     },
     "metadata": {},
     "execution_count": 11
    }
   ],
   "source": [
    "# Run this, then use the bucket tool to fill everything. \n",
    "# Play with sigma and solem diameter if things look bad.\n",
    "# delete parts ofthe image where channels almost touch each other\n",
    "diameter = 4\n",
    "selem = morphology.selem.square(diameter)\n",
    "prewitt_bin_closed = morphology.binary_closing(prewitt_bin, selem)\n",
    "viewer.add_labels(prewitt_bin_closed)"
   ]
  },
  {
   "cell_type": "code",
   "execution_count": 12,
   "metadata": {},
   "outputs": [
    {
     "output_type": "execute_result",
     "data": {
      "text/plain": [
       "<Labels layer 'prewitt_bin_closed [1]' at 0x7fa4283b12b0>"
      ]
     },
     "metadata": {},
     "execution_count": 12
    }
   ],
   "source": [
    "# # If the data was already filled, load the mask like that\n",
    "# prewitt_bin_closed = np.load(f\"{outp_path}structure_mask.npy\")\n",
    "# viewer.add_labels(prewitt_bin_closed)\n",
    "\n",
    "# Or save below:\n",
    "np.save(f\"{outp_path}structure_mask.npy\")"
   ]
  },
  {
   "cell_type": "code",
   "execution_count": 14,
   "metadata": {
    "scrolled": true
   },
   "outputs": [
    {
     "output_type": "execute_result",
     "data": {
      "text/plain": [
       "<Labels layer 'y_cutoff' at 0x7fa41ff01820>"
      ]
     },
     "metadata": {},
     "execution_count": 14
    }
   ],
   "source": [
    "# Flood (1000,2700) is the start point\n",
    "prewitt_bin_closed_flooded = flood(prewitt_bin_closed, (1000,2700))\n",
    "# fill wells afterwards and drawy cutoff segmentation\n",
    "viewer.add_labels(prewitt_bin_closed_flooded, name='wells_incl')\n",
    "viewer.add_labels(np.zeros_like(prewitt), name='y_cutoff')"
   ]
  },
  {
   "cell_type": "code",
   "execution_count": 19,
   "metadata": {},
   "outputs": [
    {
     "output_type": "stream",
     "name": "stdout",
     "text": [
      "(2920, 5764)\n",
      "bool\n",
      "(2920, 5764)\n",
      "bool\n"
     ]
    }
   ],
   "source": [
    "wells_incl_mask = viewer.layers['wells_incl'].data\n",
    "wells_excl_mask = prewitt_bin_closed_flooded.copy()\n",
    "wells_excl_mask[viewer.layers['y_cutoff'].data.astype(bool)] = 0\n",
    "\n",
    "selem = morphology.selem.diamond(8)\n",
    "wells_incl_mask_clean = filters.median(wells_incl_mask, selem)\n",
    "wells_excl_mask_clean = filters.median(wells_excl_mask, selem)\n",
    "# final fixing\n",
    "viewer.add_labels(wells_incl_mask_clean, name='final_incl')\n",
    "viewer.add_labels(wells_excl_mask_clean, name='final_excl')"
   ]
  },
  {
   "cell_type": "code",
   "execution_count": 21,
   "metadata": {},
   "outputs": [],
   "source": [
    "np.save(f\"{outp_path}mask_wells_incl.npy\", viewer.layers['final_excl'].data)\n",
    "np.save(f\"{outp_path}mask_wells_excl.npy\", viewer.layers['final_excl'].data)"
   ]
  }
 ],
 "metadata": {
  "kernelspec": {
   "display_name": "Python 3.8.5 64-bit ('bioMEA': conda)",
   "language": "python",
   "name": "python38564bitbiomeaconda2da277ab1d6c4c229b349af03aeb16fd"
  },
  "language_info": {
   "codemirror_mode": {
    "name": "ipython",
    "version": 3
   },
   "file_extension": ".py",
   "mimetype": "text/x-python",
   "name": "python",
   "nbconvert_exporter": "python",
   "pygments_lexer": "ipython3",
   "version": "3.8.8-final"
  }
 },
 "nbformat": 4,
 "nbformat_minor": 4
}