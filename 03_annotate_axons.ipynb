{
 "cells": [
  {
   "cell_type": "markdown",
   "metadata": {},
   "source": [
    "Annotate the growth cones in the timelapse. Load the signal channel and background, save an rgb .npy array for visualizing later. Main purpose here is however to label growth cones. Create some empty shapes layers in napari, then label manually. After that, run the SAVE axon labels cells. One can also read in already labelled axons using the LOAD cell. This also checks if a sequence of detections is continueos (no timepoints skipped)."
   ]
  },
  {
   "cell_type": "code",
   "execution_count": 22,
   "metadata": {},
   "outputs": [],
   "source": [
    "import napari\n",
    "from tifffile import imread\n",
    "from tifffile import imsave\n",
    "%gui qt\n",
    "\n",
    "import numpy as np\n",
    "import pandas as pd\n",
    "import matplotlib.pyplot as plt\n",
    "\n",
    "import time\n",
    "import os"
   ]
  },
  {
   "cell_type": "code",
   "execution_count": 3,
   "metadata": {},
   "outputs": [
    {
     "output_type": "stream",
     "name": "stdout",
     "text": [
      "(2920, 5764)\n"
     ]
    }
   ],
   "source": [
    "# timelapse 01\n",
    "inp_path = '/home/loaloa/Documents/training_data/'\n",
    "signal_tl140_file = inp_path+'D00_G001_RFP_compr.deflate.tif'\n",
    "signal_tl140 = imread(signal_tl140_file)\n",
    "H, W = signal_tl140.shape[1:]\n",
    "\n",
    "mask_tl140_file = inp_path+'D00_G001_Transmission_compr.deflate_mask1.npy'\n",
    "mask_tl140 = np.load(mask_tl140_file).astype(bool)\n",
    "print(mask_tl140.shape)\n",
    "\n",
    "signal_tl140[:, ~mask_tl140] = 0"
   ]
  },
  {
   "cell_type": "code",
   "execution_count": 14,
   "metadata": {},
   "outputs": [
    {
     "output_type": "stream",
     "name": "stdout",
     "text": [
      "(80, 1972, 3868)\n",
      "(80, 2920, 5764)\n",
      "(1972, 3868)\n",
      "(2920, 5764)\n"
     ]
    }
   ],
   "source": [
    "# timelapse 13 design 04_G001\n",
    "signal_tl13_D04_file = inp_path+'D04_G004_GFP_compr.deflate.tif'\n",
    "signal_tl13_D04 = imread(signal_tl13_D04_file)[:80]\n",
    "signal_tl13_D04 -= signal_tl13_D04.min()\n",
    "print(signal_tl13_D04.shape)\n",
    "H2, W2 = signal_tl13_D04.shape[1:]\n",
    "\n",
    "signal_tl13_D04 = np.pad(signal_tl13_D04, ((0,0),((H-H2)//2,(H-H2)//2),((W-W2)//2,(W-W2)//2)), mode='constant') \n",
    "print(signal_tl13_D04.shape)\n",
    "\n",
    "\n",
    "mask_tl13_D04_file = inp_path+'D04_G004_Transmission_compr.deflate_mask1.npy'\n",
    "mask_tl13_D04 = np.load(mask_tl13_D04_file).astype(bool)\n",
    "print(mask_tl13_D04.shape)\n",
    "mask_tl13_D04 = np.pad(mask_tl13_D04, (((H-H2)//2,(H-H2)//2), ((W-W2)//2,(W-W2)//2)), mode='constant') \n",
    "print(mask_tl13_D04.shape)\n",
    "\n",
    "signal_tl13_D04[:, ~mask_tl13_D04] = 0"
   ]
  },
  {
   "cell_type": "code",
   "execution_count": 15,
   "metadata": {},
   "outputs": [
    {
     "output_type": "stream",
     "name": "stdout",
     "text": [
      "(210, 1972, 3868)\n"
     ]
    },
    {
     "output_type": "execute_result",
     "data": {
      "text/plain": [
       "<Image layer 'signal_tl13_D19 [1]' at 0x7f3f657ec070>"
      ]
     },
     "metadata": {},
     "execution_count": 15
    }
   ],
   "source": [
    "# timelapse 13 design 19_G035\n",
    "signal_tl13_D19_file = inp_path+'D19_G035_GFP_compr.deflate.tif'\n",
    "signal_tl13_D19 = imread(signal_tl13_D19_file)\n",
    "signal_tl13_D19 -= signal_tl13_D19.min()\n",
    "print(signal_tl13_D19.shape)\n",
    "H2, W2 = signal_tl13_D19.shape[1:]\n",
    "viewer.add_image(signal_tl13_D19)"
   ]
  },
  {
   "cell_type": "code",
   "execution_count": 13,
   "metadata": {},
   "outputs": [],
   "source": [
    "mask = viewer.layers['Labels'].data.astype(bool)[0]"
   ]
  },
  {
   "cell_type": "code",
   "execution_count": 16,
   "metadata": {},
   "outputs": [
    {
     "output_type": "stream",
     "name": "stdout",
     "text": [
      "(210, 2920, 5764)\n",
      "(1972, 3868)\n",
      "(2920, 5764)\n"
     ]
    }
   ],
   "source": [
    "# only a region of the timelapse was labelled. mask here\n",
    "signal_tl13_D19[:, mask] = 0\n",
    "\n",
    "signal_tl13_D19 = np.pad(signal_tl13_D19, ((0,0),((H-H2)//2,(H-H2)//2),((W-W2)//2,(W-W2)//2)), mode='constant') \n",
    "print(signal_tl13_D19.shape)\n",
    "\n",
    "\n",
    "mask_tl13_D19_file = inp_path+'D19_G035_Transmission_compr.deflate_mask1.npy'\n",
    "mask_tl13_D19 = np.load(mask_tl13_D19_file).astype(bool)\n",
    "print(mask_tl13_D19.shape)\n",
    "mask_tl13_D19 = np.pad(mask_tl13_D19, (((H-H2)//2,(H-H2)//2), ((W-W2)//2,(W-W2)//2)), mode='constant') \n",
    "print(mask_tl13_D19.shape)\n",
    "\n",
    "signal_tl13_D19[:, ~mask_tl13_D19] = 0\n"
   ]
  },
  {
   "cell_type": "code",
   "execution_count": 17,
   "metadata": {},
   "outputs": [
    {
     "output_type": "stream",
     "name": "stdout",
     "text": [
      "37\n80\n210\n"
     ]
    }
   ],
   "source": [
    "# glue all dataobjects together to one tif\n",
    "print(len(signal_tl140))\n",
    "print(len(signal_tl13_D04))\n",
    "print(len(signal_tl13_D19))\n",
    "final_img = np.concatenate([signal_tl140, signal_tl13_D04, signal_tl13_D19], axis=0)"
   ]
  },
  {
   "cell_type": "code",
   "execution_count": 23,
   "metadata": {},
   "outputs": [],
   "source": [
    "fname = f'{inp_path}/training_timelapse.tif'\n",
    "# imsave(fname, final_img, photometric='minisblack', compression='deflate', bigtiff=True)\n",
    "final_img = imread(signal_tl140_file)\n",
    "\n",
    "print(final_img.shape)\n",
    "# viewer.add_image(final_img)"
   ]
  },
  {
   "cell_type": "code",
   "execution_count": 21,
   "metadata": {},
   "outputs": [
    {
     "output_type": "stream",
     "name": "stdout",
     "text": [
      "37\n81\n210\n      Axon_000                                                           \\\n      anchor_x anchor_y bottomright_x bottomright_y     col_b     col_g   \n0.0      221.0   1600.0         252.0        1627.0  0.570632  0.126446   \n1.0      144.0   1625.0         170.0        1645.0  0.570632  0.126446   \n2.0       83.0   1676.0         104.0        1703.0  0.570632  0.126446   \n3.0      169.0   1745.0         187.0        1764.0  0.570632  0.126446   \n4.0      162.0   1840.0         181.0        1861.0  0.570632  0.126446   \n...        ...      ...           ...           ...       ...       ...   \n286.0      NaN      NaN           NaN           NaN       NaN       NaN   \n287.0      NaN      NaN           NaN           NaN       NaN       NaN   \n288.0      NaN      NaN           NaN           NaN       NaN       NaN   \n289.0      NaN      NaN           NaN           NaN       NaN       NaN   \n290.0      NaN      NaN           NaN           NaN       NaN       NaN   \n\n                                              ... Axon_295          Axon_296  \\\n          col_r distance extend rel_distance  ... anchor_x anchor_y anchor_x   \n0.0    0.174816   3135.0   28.0          0.0  ...      NaN      NaN      NaN   \n1.0    0.174816   3237.0   23.0       -102.0  ...      NaN      NaN      NaN   \n2.0    0.174816   3349.0   24.0       -214.0  ...      NaN      NaN      NaN   \n3.0    0.174816   3500.0   18.0       -365.0  ...      NaN      NaN      NaN   \n4.0    0.174816   3618.0   20.0       -483.0  ...      NaN      NaN      NaN   \n...         ...      ...    ...          ...  ...      ...      ...      ...   \n286.0       NaN      NaN    NaN          NaN  ...      NaN      NaN      NaN   \n287.0       NaN      NaN    NaN          NaN  ...      NaN      NaN      NaN   \n288.0       NaN      NaN    NaN          NaN  ...      NaN      NaN      NaN   \n289.0       NaN      NaN    NaN          NaN  ...      NaN      NaN      NaN   \n290.0       NaN      NaN    NaN          NaN  ...      NaN      NaN      NaN   \n\n               Axon_297          Axon_298          Axon_299           \n      anchor_y anchor_x anchor_y anchor_x anchor_y anchor_x anchor_y  \n0.0        NaN      NaN      NaN      NaN      NaN      NaN      NaN  \n1.0        NaN      NaN      NaN      NaN      NaN      NaN      NaN  \n2.0        NaN      NaN      NaN      NaN      NaN      NaN      NaN  \n3.0        NaN      NaN      NaN      NaN      NaN      NaN      NaN  \n4.0        NaN      NaN      NaN      NaN      NaN      NaN      NaN  \n...        ...      ...      ...      ...      ...      ...      ...  \n286.0      NaN    546.0   1691.0      NaN      NaN      NaN      NaN  \n287.0      NaN    547.0   1677.0      NaN      NaN      NaN      NaN  \n288.0      NaN    545.0   1681.0      NaN      NaN      NaN      NaN  \n289.0      NaN    547.0   1681.0      NaN      NaN      NaN      NaN  \n290.0      NaN    544.0   1682.0      NaN      NaN      NaN      NaN  \n\n[328 rows x 1600 columns]\n"
     ]
    }
   ],
   "source": [
    "# labels\n",
    "tl140_labels_fname = inp_path+'D00_G001_labels_IDs_000-099.csv'\n",
    "tl140_labels = pd.read_csv(tl140_labels_fname, index_col=0, header=[0,1])\n",
    "ntimepoints = tl140_labels.shape[0]\n",
    "print(ntimepoints)\n",
    "\n",
    "\n",
    "tl13_D04_labels_fname = inp_path+'D04_G004_labels_IDs_100-166.csv'\n",
    "tl13_D04_labels = pd.read_csv(tl13_D04_labels_fname, index_col=0, header=[0,1])\n",
    "\n",
    "tl13_D04_labels.index += ntimepoints\n",
    "\n",
    "ntimepoints = tl13_D04_labels.shape[0]\n",
    "print(ntimepoints)\n",
    "\n",
    "tl13_D19_labels_fname = inp_path+'D19_G035_labels_IDs_167-299.csv'\n",
    "tl13_D19_labels = pd.read_csv(tl13_D19_labels_fname, index_col=0, header=[0,1])\n",
    "\n",
    "tl13_D19_labels.index += ntimepoints\n",
    "\n",
    "ntimepoints = tl13_D19_labels.shape[0]\n",
    "print(ntimepoints)\n",
    "\n",
    "all_labels = pd.concat([tl140_labels, tl13_D04_labels, tl13_D19_labels])\n",
    "print(all_labels)\n",
    "check = all_labels.loc[:,(slice(None),'anchor_x')].fillna(False).astype(bool)\n",
    "# plt.imshow(check)\n",
    "\n",
    "all_labels.to_csv(inp_path+'axon_anchor_labels.csv')\n",
    "\n",
    "\n"
   ]
  },
  {
   "cell_type": "code",
   "execution_count": 7,
   "metadata": {},
   "outputs": [],
   "source": [
    "inp_path = '/run/media/loaloa/lbb_ssd/timelapse01_40_min_processed/'\n",
    "inp_path2 = '/home/loaloa/Documents/timelapse13_processed/'\n",
    "# inp_path = '/home/loaloa/ETZ_drive/biohybrid-signal-p/timelapse02_processed/'\n",
    "\n",
    "# dest_dir = '/home/loaloa/Documents/tl13_D04_04_labels'\n",
    "# inp_path = '/home/loaloa/Documents/'\n",
    "# outp_path = '../tl140_outputdata'\n",
    "\n",
    "# red_file = inp_path+'G001_red_compr.deflate.tif'\n",
    "# red_file2 = inp_path2+'D04_G004_GFP_compr.deflate.tif'\n",
    "red_file3 = inp_path2+'D19_G035_GFP_compr.deflate.tif'\n",
    "\n",
    "# redchannel = imread(red_file)\n",
    "# redchannel2 = imread(red_file2)\n",
    "redchannel3 = imread(red_file3)\n",
    "\n",
    "\n",
    "# redchannel2 -= redchannel2.min()\n",
    "# redchannel2 = np.pad(redchannel2, ((0,0),((W-W2)//2,(W-W2)//2),((H-H2)//2,(H-H2)//2)), mode='constant') \n",
    "\n",
    "# tranl_file = inp_path+'G001_grey_compr.deflate.tif'\n",
    "# tranl_file2 = inp_path2+'D04_G004_Transmission_compr.deflate.tif'\n",
    "tranl_file3 = inp_path2+'D19_G035_Transmission_compr.deflate.tif'\n",
    "\n",
    "# greychannel = imread(tranl_file)[0]\n",
    "greychannel3 = imread(tranl_file3)[0]"
   ]
  },
  {
   "cell_type": "code",
   "execution_count": 63,
   "metadata": {},
   "outputs": [
    {
     "output_type": "stream",
     "name": "stdout",
     "text": [
      "(210, 1972, 1820)\n"
     ]
    }
   ],
   "source": [
    "# final = np.concatenate([redchannel, redchannel2, redchannel3])\n",
    "# print(final.shape)\n",
    "# viewer.add_image(final)\n",
    "\n",
    "# maskfile = inp_path2+'D19_G035_Transmission_compr.deflate_mask1.npy'\n",
    "# mask = np.load(maskfile)\n",
    "# redchannel3[:, ~mask] = 0\n",
    "# redchannel3 = redchannel3[:,:,:1820]\n",
    "\n",
    "redchannel3 = np.pad(redchannel3, ((0,0),((W-W2)//2,(W-W2)//2),((H-H2)//2,(H-H2)//2)), mode='constant') \n",
    "\n"
   ]
  },
  {
   "cell_type": "code",
   "execution_count": 4,
   "metadata": {},
   "outputs": [],
   "source": [
    "%gui qt"
   ]
  },
  {
   "cell_type": "code",
   "execution_count": 6,
   "metadata": {},
   "outputs": [],
   "source": [
    "import napari\n",
    "viewer = napari.Viewer()"
   ]
  },
  {
   "cell_type": "code",
   "execution_count": 64,
   "metadata": {},
   "outputs": [
    {
     "output_type": "error",
     "ename": "KeyError",
     "evalue": "\"'redchannel' is not in list\"",
     "traceback": [
      "\u001b[0;31m---------------------------------------------------------------------------\u001b[0m",
      "\u001b[0;31mValueError\u001b[0m                                Traceback (most recent call last)",
      "\u001b[0;32m~/programs/anaconda3/envs/bioMEA/lib/python3.8/site-packages/napari/utils/events/containers/_typed.py\u001b[0m in \u001b[0;36m__getitem__\u001b[0;34m(self, key)\u001b[0m\n\u001b[1;32m    144\u001b[0m             \u001b[0;32mtry\u001b[0m\u001b[0;34m:\u001b[0m\u001b[0;34m\u001b[0m\u001b[0;34m\u001b[0m\u001b[0m\n\u001b[0;32m--> 145\u001b[0;31m                 \u001b[0;32mreturn\u001b[0m \u001b[0mself\u001b[0m\u001b[0;34m.\u001b[0m\u001b[0m__getitem__\u001b[0m\u001b[0;34m(\u001b[0m\u001b[0mself\u001b[0m\u001b[0;34m.\u001b[0m\u001b[0mindex\u001b[0m\u001b[0;34m(\u001b[0m\u001b[0mkey\u001b[0m\u001b[0;34m)\u001b[0m\u001b[0;34m)\u001b[0m\u001b[0;34m\u001b[0m\u001b[0;34m\u001b[0m\u001b[0m\n\u001b[0m\u001b[1;32m    146\u001b[0m             \u001b[0;32mexcept\u001b[0m \u001b[0mValueError\u001b[0m \u001b[0;32mas\u001b[0m \u001b[0me\u001b[0m\u001b[0;34m:\u001b[0m\u001b[0;34m\u001b[0m\u001b[0;34m\u001b[0m\u001b[0m\n",
      "\u001b[0;32m~/programs/anaconda3/envs/bioMEA/lib/python3.8/site-packages/napari/utils/events/containers/_typed.py\u001b[0m in \u001b[0;36mindex\u001b[0;34m(self, value, start, stop)\u001b[0m\n\u001b[1;32m    237\u001b[0m \u001b[0;34m\u001b[0m\u001b[0m\n\u001b[0;32m--> 238\u001b[0;31m         raise ValueError(\n\u001b[0m\u001b[1;32m    239\u001b[0m             trans._(\n",
      "\u001b[0;31mValueError\u001b[0m: 'redchannel' is not in list",
      "\nThe above exception was the direct cause of the following exception:\n",
      "\u001b[0;31mKeyError\u001b[0m                                  Traceback (most recent call last)",
      "\u001b[0;32m/tmp/ipykernel_5020/887428684.py\u001b[0m in \u001b[0;36m<module>\u001b[0;34m\u001b[0m\n\u001b[1;32m      2\u001b[0m \u001b[0mviewer\u001b[0m\u001b[0;34m.\u001b[0m\u001b[0mlayers\u001b[0m\u001b[0;34m[\u001b[0m\u001b[0;34m'redchannel3'\u001b[0m\u001b[0;34m]\u001b[0m\u001b[0;34m.\u001b[0m\u001b[0mblending\u001b[0m \u001b[0;34m=\u001b[0m \u001b[0;34m'additive'\u001b[0m\u001b[0;34m\u001b[0m\u001b[0;34m\u001b[0m\u001b[0m\n\u001b[1;32m      3\u001b[0m \u001b[0mviewer\u001b[0m\u001b[0;34m.\u001b[0m\u001b[0mlayers\u001b[0m\u001b[0;34m[\u001b[0m\u001b[0;34m'redchannel3'\u001b[0m\u001b[0;34m]\u001b[0m\u001b[0;34m.\u001b[0m\u001b[0mcolormap\u001b[0m \u001b[0;34m=\u001b[0m \u001b[0;34m'red'\u001b[0m\u001b[0;34m\u001b[0m\u001b[0;34m\u001b[0m\u001b[0m\n\u001b[0;32m----> 4\u001b[0;31m \u001b[0mviewer\u001b[0m\u001b[0;34m.\u001b[0m\u001b[0mlayers\u001b[0m\u001b[0;34m[\u001b[0m\u001b[0;34m'redchannel'\u001b[0m\u001b[0;34m]\u001b[0m\u001b[0;34m.\u001b[0m\u001b[0mcontrast_limits\u001b[0m \u001b[0;34m=\u001b[0m \u001b[0;34m[\u001b[0m\u001b[0;36m0\u001b[0m\u001b[0;34m,\u001b[0m\u001b[0;36m2700\u001b[0m\u001b[0;34m]\u001b[0m\u001b[0;34m\u001b[0m\u001b[0;34m\u001b[0m\u001b[0m\n\u001b[0m\u001b[1;32m      5\u001b[0m \u001b[0;34m\u001b[0m\u001b[0m\n\u001b[1;32m      6\u001b[0m \u001b[0;31m# viewer.add_image(greychannel)\u001b[0m\u001b[0;34m\u001b[0m\u001b[0;34m\u001b[0m\u001b[0;34m\u001b[0m\u001b[0m\n",
      "\u001b[0;32m~/programs/anaconda3/envs/bioMEA/lib/python3.8/site-packages/napari/utils/events/containers/_typed.py\u001b[0m in \u001b[0;36m__getitem__\u001b[0;34m(self, key)\u001b[0m\n\u001b[1;32m    145\u001b[0m                 \u001b[0;32mreturn\u001b[0m \u001b[0mself\u001b[0m\u001b[0;34m.\u001b[0m\u001b[0m__getitem__\u001b[0m\u001b[0;34m(\u001b[0m\u001b[0mself\u001b[0m\u001b[0;34m.\u001b[0m\u001b[0mindex\u001b[0m\u001b[0;34m(\u001b[0m\u001b[0mkey\u001b[0m\u001b[0;34m)\u001b[0m\u001b[0;34m)\u001b[0m\u001b[0;34m\u001b[0m\u001b[0;34m\u001b[0m\u001b[0m\n\u001b[1;32m    146\u001b[0m             \u001b[0;32mexcept\u001b[0m \u001b[0mValueError\u001b[0m \u001b[0;32mas\u001b[0m \u001b[0me\u001b[0m\u001b[0;34m:\u001b[0m\u001b[0;34m\u001b[0m\u001b[0;34m\u001b[0m\u001b[0m\n\u001b[0;32m--> 147\u001b[0;31m                 \u001b[0;32mraise\u001b[0m \u001b[0mKeyError\u001b[0m\u001b[0;34m(\u001b[0m\u001b[0mstr\u001b[0m\u001b[0;34m(\u001b[0m\u001b[0me\u001b[0m\u001b[0;34m)\u001b[0m\u001b[0;34m)\u001b[0m \u001b[0;32mfrom\u001b[0m \u001b[0me\u001b[0m\u001b[0;34m\u001b[0m\u001b[0;34m\u001b[0m\u001b[0m\n\u001b[0m\u001b[1;32m    148\u001b[0m \u001b[0;34m\u001b[0m\u001b[0m\n\u001b[1;32m    149\u001b[0m         \u001b[0mresult\u001b[0m \u001b[0;34m=\u001b[0m \u001b[0mself\u001b[0m\u001b[0;34m.\u001b[0m\u001b[0m_list\u001b[0m\u001b[0;34m[\u001b[0m\u001b[0mkey\u001b[0m\u001b[0;34m]\u001b[0m\u001b[0;34m\u001b[0m\u001b[0;34m\u001b[0m\u001b[0m\n",
      "\u001b[0;31mKeyError\u001b[0m: \"'redchannel' is not in list\""
     ]
    }
   ],
   "source": [
    "viewer.add_image(redchannel3)\n",
    "viewer.layers['redchannel3'].blending = 'additive'\n",
    "viewer.layers['redchannel3'].colormap = 'red'\n",
    "viewer.layers['redchannel3'].contrast_limits = [0,2700]\n",
    "\n",
    "# viewer.add_image(greychannel)\n",
    "# viewer.layers['greychannel'].blending='additive'\n",
    "# viewer.layers['greychannel'].opacity = .1\n",
    "# viewer.layers['greychannel'].gamma = .6\n",
    "\n",
    "dest_dir = '/home/loaloa/Documents/D19_G035_labels'"
   ]
  },
  {
   "cell_type": "code",
   "execution_count": 85,
   "metadata": {},
   "outputs": [
    {
     "output_type": "stream",
     "name": "stdout",
     "text": [
      "Calculating motion (clip lower lim: 100) + Gaussian filtering (std: 3)...\n"
     ]
    },
    {
     "output_type": "error",
     "ename": "KeyboardInterrupt",
     "evalue": "",
     "traceback": [
      "\u001b[0;31m---------------------------------------------------------------------------\u001b[0m",
      "\u001b[0;31mKeyboardInterrupt\u001b[0m                         Traceback (most recent call last)",
      "\u001b[0;32m/tmp/ipykernel_15485/1049679834.py\u001b[0m in \u001b[0;36m<module>\u001b[0;34m\u001b[0m\n\u001b[1;32m     19\u001b[0m \u001b[0;34m\u001b[0m\u001b[0m\n\u001b[1;32m     20\u001b[0m     \u001b[0mpos_motion\u001b[0m \u001b[0;34m=\u001b[0m \u001b[0mnp\u001b[0m\u001b[0;34m.\u001b[0m\u001b[0mwhere\u001b[0m\u001b[0;34m(\u001b[0m\u001b[0mmotion_frame\u001b[0m\u001b[0;34m>\u001b[0m\u001b[0;36m0\u001b[0m\u001b[0;34m,\u001b[0m \u001b[0mmotion_frame\u001b[0m\u001b[0;34m,\u001b[0m \u001b[0;36m0\u001b[0m\u001b[0;34m)\u001b[0m\u001b[0;34m.\u001b[0m\u001b[0mastype\u001b[0m\u001b[0;34m(\u001b[0m\u001b[0mnp\u001b[0m\u001b[0;34m.\u001b[0m\u001b[0muint16\u001b[0m\u001b[0;34m)\u001b[0m\u001b[0;34m\u001b[0m\u001b[0;34m\u001b[0m\u001b[0m\n\u001b[0;32m---> 21\u001b[0;31m     \u001b[0mneg_motion\u001b[0m \u001b[0;34m=\u001b[0m \u001b[0mnp\u001b[0m\u001b[0;34m.\u001b[0m\u001b[0mwhere\u001b[0m\u001b[0;34m(\u001b[0m\u001b[0mmotion_frame\u001b[0m\u001b[0;34m<\u001b[0m\u001b[0;36m0\u001b[0m\u001b[0;34m,\u001b[0m \u001b[0mmotion_frame\u001b[0m\u001b[0;34m*\u001b[0m\u001b[0;34m-\u001b[0m\u001b[0;36m1\u001b[0m\u001b[0;34m,\u001b[0m \u001b[0;36m0\u001b[0m\u001b[0;34m)\u001b[0m\u001b[0;34m.\u001b[0m\u001b[0mastype\u001b[0m\u001b[0;34m(\u001b[0m\u001b[0mnp\u001b[0m\u001b[0;34m.\u001b[0m\u001b[0muint16\u001b[0m\u001b[0;34m)\u001b[0m\u001b[0;34m\u001b[0m\u001b[0;34m\u001b[0m\u001b[0m\n\u001b[0m\u001b[1;32m     22\u001b[0m \u001b[0;34m\u001b[0m\u001b[0m\n\u001b[1;32m     23\u001b[0m     \u001b[0mpos_motion_seq\u001b[0m\u001b[0;34m.\u001b[0m\u001b[0mappend\u001b[0m\u001b[0;34m(\u001b[0m\u001b[0mpos_motion\u001b[0m\u001b[0;34m)\u001b[0m\u001b[0;34m\u001b[0m\u001b[0;34m\u001b[0m\u001b[0m\n",
      "\u001b[0;31mKeyboardInterrupt\u001b[0m: "
     ]
    }
   ],
   "source": [
    "# compute motion and add to viewer\n",
    "blur_strength = 3\n",
    "lowerlim = 100\n",
    "print(f'Calculating motion (clip lower lim: {lowerlim}) + '\n",
    "      f'Gaussian filtering (std: {blur_strength})...', end='')\n",
    "\n",
    "from skimage.filters import gaussian\n",
    "\n",
    "pos_motion_seq = [np.zeros((sizey, sizex), float)]\n",
    "neg_motion_seq = [np.zeros((sizey, sizex), float)]\n",
    "# first timepoint has no t-1, set to all 0. Recommend to not use t=0\n",
    "print()\n",
    "for t in range(1, sizet):\n",
    "    motion_frame = redchannel[t].astype(float) - redchannel[t-1].astype(float)\n",
    "    motion_frame = gaussian(motion_frame.astype(float), blur_strength)\n",
    "        \n",
    "    # clipping\n",
    "    motion_frame[np.abs(motion_frame)<lowerlim] = 0\n",
    "\n",
    "    pos_motion = np.where(motion_frame>0, motion_frame, 0).astype(np.uint16)\n",
    "    neg_motion = np.where(motion_frame<0, motion_frame*-1, 0).astype(np.uint16)\n",
    "    \n",
    "    pos_motion_seq.append(pos_motion)\n",
    "    neg_motion_seq.append(neg_motion)\n",
    "    \n",
    "print('Done.')\n",
    "\n",
    "pos_motion_seq = np.stack(pos_motion_seq).astype(np.uint16)\n",
    "neg_motion_seq = np.stack(neg_motion_seq).astype(np.uint16)"
   ]
  },
  {
   "cell_type": "code",
   "execution_count": null,
   "metadata": {},
   "outputs": [],
   "source": [
    "viewer.add_image(pos_motion_seq)\n",
    "viewer.layers['pos_motion_seq'].blending = 'additive'\n",
    "viewer.layers['pos_motion_seq'].colormap = 'green'\n",
    "viewer.layers['pos_motion_seq'].contrast_limits = [0,2700]\n",
    "\n",
    "viewer.add_image(neg_motion_seq)\n",
    "viewer.layers['neg_motion_seq'].blending = 'additive'\n",
    "viewer.layers['neg_motion_seq'].colormap = 'blue'\n",
    "viewer.layers['neg_motion_seq'].contrast_limits = [0,2700]\n"
   ]
  },
  {
   "cell_type": "code",
   "execution_count": 57,
   "metadata": {},
   "outputs": [],
   "source": [
    "# CREATE EMPTY AXON LABELS\n",
    "axons_index = range(290,300)\n",
    "\n",
    "for ax_i in axons_index:\n",
    "    name = f'Axon_{ax_i:0>3}'\n",
    "    col = np.random.rand(1,3)\n",
    "\n",
    "    # edge coloring doesn't work unfortunately, do manually in gui\n",
    "    viewer.add_points(name=name, edge_color=col, face_color=col, opacity=.25, size=35, ndim=3)"
   ]
  },
  {
   "cell_type": "code",
   "execution_count": 58,
   "metadata": {
    "tags": []
   },
   "outputs": [
    {
     "output_type": "stream",
     "name": "stdout",
     "text": [
      "/home/loaloa/Documents/D19_G035_labels/labels_ID259-299.csv\n"
     ]
    },
    {
     "output_type": "execute_result",
     "data": {
      "text/plain": [
       "      Axon_259          Axon_260          Axon_261          Axon_262           \\\n",
       "      anchor_x anchor_y anchor_x anchor_y anchor_x anchor_y anchor_x anchor_y   \n",
       "0.0      503.0   1747.0    964.0   1691.0      NaN      NaN      NaN      NaN   \n",
       "1.0      506.0   1748.0    938.0   1693.0      NaN      NaN      NaN      NaN   \n",
       "2.0      503.0   1747.0    873.0   1681.0      NaN      NaN      NaN      NaN   \n",
       "3.0      505.0   1748.0    838.0   1693.0      NaN      NaN      NaN      NaN   \n",
       "4.0      491.0   1746.0    819.0   1726.0      NaN      NaN      NaN      NaN   \n",
       "...        ...      ...      ...      ...      ...      ...      ...      ...   \n",
       "205.0      NaN      NaN      NaN      NaN      NaN      NaN      NaN      NaN   \n",
       "206.0      NaN      NaN      NaN      NaN      NaN      NaN      NaN      NaN   \n",
       "207.0      NaN      NaN      NaN      NaN      NaN      NaN      NaN      NaN   \n",
       "208.0      NaN      NaN      NaN      NaN      NaN      NaN      NaN      NaN   \n",
       "209.0      NaN      NaN      NaN      NaN      NaN      NaN      NaN      NaN   \n",
       "\n",
       "      Axon_263           ... Axon_295          Axon_296          Axon_297  \\\n",
       "      anchor_x anchor_y  ... anchor_x anchor_y anchor_x anchor_y anchor_x   \n",
       "0.0        NaN      NaN  ...      NaN      NaN      NaN      NaN      NaN   \n",
       "1.0        NaN      NaN  ...      NaN      NaN      NaN      NaN      NaN   \n",
       "2.0        NaN      NaN  ...      NaN      NaN      NaN      NaN      NaN   \n",
       "3.0        NaN      NaN  ...      NaN      NaN      NaN      NaN      NaN   \n",
       "4.0        NaN      NaN  ...      NaN      NaN      NaN      NaN      NaN   \n",
       "...        ...      ...  ...      ...      ...      ...      ...      ...   \n",
       "205.0      NaN      NaN  ...      NaN      NaN      NaN      NaN    546.0   \n",
       "206.0      NaN      NaN  ...      NaN      NaN      NaN      NaN    547.0   \n",
       "207.0      NaN      NaN  ...      NaN      NaN      NaN      NaN    545.0   \n",
       "208.0      NaN      NaN  ...      NaN      NaN      NaN      NaN    547.0   \n",
       "209.0      NaN      NaN  ...      NaN      NaN      NaN      NaN    544.0   \n",
       "\n",
       "               Axon_298          Axon_299           \n",
       "      anchor_y anchor_x anchor_y anchor_x anchor_y  \n",
       "0.0        NaN      NaN      NaN      NaN      NaN  \n",
       "1.0        NaN      NaN      NaN      NaN      NaN  \n",
       "2.0        NaN      NaN      NaN      NaN      NaN  \n",
       "3.0        NaN      NaN      NaN      NaN      NaN  \n",
       "4.0        NaN      NaN      NaN      NaN      NaN  \n",
       "...        ...      ...      ...      ...      ...  \n",
       "205.0   1691.0      NaN      NaN      NaN      NaN  \n",
       "206.0   1677.0      NaN      NaN      NaN      NaN  \n",
       "207.0   1681.0      NaN      NaN      NaN      NaN  \n",
       "208.0   1681.0      NaN      NaN      NaN      NaN  \n",
       "209.0   1682.0      NaN      NaN      NaN      NaN  \n",
       "\n",
       "[210 rows x 82 columns]"
      ],
      "text/html": "<div>\n<style scoped>\n    .dataframe tbody tr th:only-of-type {\n        vertical-align: middle;\n    }\n\n    .dataframe tbody tr th {\n        vertical-align: top;\n    }\n\n    .dataframe thead tr th {\n        text-align: left;\n    }\n</style>\n<table border=\"1\" class=\"dataframe\">\n  <thead>\n    <tr>\n      <th></th>\n      <th colspan=\"2\" halign=\"left\">Axon_259</th>\n      <th colspan=\"2\" halign=\"left\">Axon_260</th>\n      <th colspan=\"2\" halign=\"left\">Axon_261</th>\n      <th colspan=\"2\" halign=\"left\">Axon_262</th>\n      <th colspan=\"2\" halign=\"left\">Axon_263</th>\n      <th>...</th>\n      <th colspan=\"2\" halign=\"left\">Axon_295</th>\n      <th colspan=\"2\" halign=\"left\">Axon_296</th>\n      <th colspan=\"2\" halign=\"left\">Axon_297</th>\n      <th colspan=\"2\" halign=\"left\">Axon_298</th>\n      <th colspan=\"2\" halign=\"left\">Axon_299</th>\n    </tr>\n    <tr>\n      <th></th>\n      <th>anchor_x</th>\n      <th>anchor_y</th>\n      <th>anchor_x</th>\n      <th>anchor_y</th>\n      <th>anchor_x</th>\n      <th>anchor_y</th>\n      <th>anchor_x</th>\n      <th>anchor_y</th>\n      <th>anchor_x</th>\n      <th>anchor_y</th>\n      <th>...</th>\n      <th>anchor_x</th>\n      <th>anchor_y</th>\n      <th>anchor_x</th>\n      <th>anchor_y</th>\n      <th>anchor_x</th>\n      <th>anchor_y</th>\n      <th>anchor_x</th>\n      <th>anchor_y</th>\n      <th>anchor_x</th>\n      <th>anchor_y</th>\n    </tr>\n  </thead>\n  <tbody>\n    <tr>\n      <th>0.0</th>\n      <td>503.0</td>\n      <td>1747.0</td>\n      <td>964.0</td>\n      <td>1691.0</td>\n      <td>NaN</td>\n      <td>NaN</td>\n      <td>NaN</td>\n      <td>NaN</td>\n      <td>NaN</td>\n      <td>NaN</td>\n      <td>...</td>\n      <td>NaN</td>\n      <td>NaN</td>\n      <td>NaN</td>\n      <td>NaN</td>\n      <td>NaN</td>\n      <td>NaN</td>\n      <td>NaN</td>\n      <td>NaN</td>\n      <td>NaN</td>\n      <td>NaN</td>\n    </tr>\n    <tr>\n      <th>1.0</th>\n      <td>506.0</td>\n      <td>1748.0</td>\n      <td>938.0</td>\n      <td>1693.0</td>\n      <td>NaN</td>\n      <td>NaN</td>\n      <td>NaN</td>\n      <td>NaN</td>\n      <td>NaN</td>\n      <td>NaN</td>\n      <td>...</td>\n      <td>NaN</td>\n      <td>NaN</td>\n      <td>NaN</td>\n      <td>NaN</td>\n      <td>NaN</td>\n      <td>NaN</td>\n      <td>NaN</td>\n      <td>NaN</td>\n      <td>NaN</td>\n      <td>NaN</td>\n    </tr>\n    <tr>\n      <th>2.0</th>\n      <td>503.0</td>\n      <td>1747.0</td>\n      <td>873.0</td>\n      <td>1681.0</td>\n      <td>NaN</td>\n      <td>NaN</td>\n      <td>NaN</td>\n      <td>NaN</td>\n      <td>NaN</td>\n      <td>NaN</td>\n      <td>...</td>\n      <td>NaN</td>\n      <td>NaN</td>\n      <td>NaN</td>\n      <td>NaN</td>\n      <td>NaN</td>\n      <td>NaN</td>\n      <td>NaN</td>\n      <td>NaN</td>\n      <td>NaN</td>\n      <td>NaN</td>\n    </tr>\n    <tr>\n      <th>3.0</th>\n      <td>505.0</td>\n      <td>1748.0</td>\n      <td>838.0</td>\n      <td>1693.0</td>\n      <td>NaN</td>\n      <td>NaN</td>\n      <td>NaN</td>\n      <td>NaN</td>\n      <td>NaN</td>\n      <td>NaN</td>\n      <td>...</td>\n      <td>NaN</td>\n      <td>NaN</td>\n      <td>NaN</td>\n      <td>NaN</td>\n      <td>NaN</td>\n      <td>NaN</td>\n      <td>NaN</td>\n      <td>NaN</td>\n      <td>NaN</td>\n      <td>NaN</td>\n    </tr>\n    <tr>\n      <th>4.0</th>\n      <td>491.0</td>\n      <td>1746.0</td>\n      <td>819.0</td>\n      <td>1726.0</td>\n      <td>NaN</td>\n      <td>NaN</td>\n      <td>NaN</td>\n      <td>NaN</td>\n      <td>NaN</td>\n      <td>NaN</td>\n      <td>...</td>\n      <td>NaN</td>\n      <td>NaN</td>\n      <td>NaN</td>\n      <td>NaN</td>\n      <td>NaN</td>\n      <td>NaN</td>\n      <td>NaN</td>\n      <td>NaN</td>\n      <td>NaN</td>\n      <td>NaN</td>\n    </tr>\n    <tr>\n      <th>...</th>\n      <td>...</td>\n      <td>...</td>\n      <td>...</td>\n      <td>...</td>\n      <td>...</td>\n      <td>...</td>\n      <td>...</td>\n      <td>...</td>\n      <td>...</td>\n      <td>...</td>\n      <td>...</td>\n      <td>...</td>\n      <td>...</td>\n      <td>...</td>\n      <td>...</td>\n      <td>...</td>\n      <td>...</td>\n      <td>...</td>\n      <td>...</td>\n      <td>...</td>\n      <td>...</td>\n    </tr>\n    <tr>\n      <th>205.0</th>\n      <td>NaN</td>\n      <td>NaN</td>\n      <td>NaN</td>\n      <td>NaN</td>\n      <td>NaN</td>\n      <td>NaN</td>\n      <td>NaN</td>\n      <td>NaN</td>\n      <td>NaN</td>\n      <td>NaN</td>\n      <td>...</td>\n      <td>NaN</td>\n      <td>NaN</td>\n      <td>NaN</td>\n      <td>NaN</td>\n      <td>546.0</td>\n      <td>1691.0</td>\n      <td>NaN</td>\n      <td>NaN</td>\n      <td>NaN</td>\n      <td>NaN</td>\n    </tr>\n    <tr>\n      <th>206.0</th>\n      <td>NaN</td>\n      <td>NaN</td>\n      <td>NaN</td>\n      <td>NaN</td>\n      <td>NaN</td>\n      <td>NaN</td>\n      <td>NaN</td>\n      <td>NaN</td>\n      <td>NaN</td>\n      <td>NaN</td>\n      <td>...</td>\n      <td>NaN</td>\n      <td>NaN</td>\n      <td>NaN</td>\n      <td>NaN</td>\n      <td>547.0</td>\n      <td>1677.0</td>\n      <td>NaN</td>\n      <td>NaN</td>\n      <td>NaN</td>\n      <td>NaN</td>\n    </tr>\n    <tr>\n      <th>207.0</th>\n      <td>NaN</td>\n      <td>NaN</td>\n      <td>NaN</td>\n      <td>NaN</td>\n      <td>NaN</td>\n      <td>NaN</td>\n      <td>NaN</td>\n      <td>NaN</td>\n      <td>NaN</td>\n      <td>NaN</td>\n      <td>...</td>\n      <td>NaN</td>\n      <td>NaN</td>\n      <td>NaN</td>\n      <td>NaN</td>\n      <td>545.0</td>\n      <td>1681.0</td>\n      <td>NaN</td>\n      <td>NaN</td>\n      <td>NaN</td>\n      <td>NaN</td>\n    </tr>\n    <tr>\n      <th>208.0</th>\n      <td>NaN</td>\n      <td>NaN</td>\n      <td>NaN</td>\n      <td>NaN</td>\n      <td>NaN</td>\n      <td>NaN</td>\n      <td>NaN</td>\n      <td>NaN</td>\n      <td>NaN</td>\n      <td>NaN</td>\n      <td>...</td>\n      <td>NaN</td>\n      <td>NaN</td>\n      <td>NaN</td>\n      <td>NaN</td>\n      <td>547.0</td>\n      <td>1681.0</td>\n      <td>NaN</td>\n      <td>NaN</td>\n      <td>NaN</td>\n      <td>NaN</td>\n    </tr>\n    <tr>\n      <th>209.0</th>\n      <td>NaN</td>\n      <td>NaN</td>\n      <td>NaN</td>\n      <td>NaN</td>\n      <td>NaN</td>\n      <td>NaN</td>\n      <td>NaN</td>\n      <td>NaN</td>\n      <td>NaN</td>\n      <td>NaN</td>\n      <td>...</td>\n      <td>NaN</td>\n      <td>NaN</td>\n      <td>NaN</td>\n      <td>NaN</td>\n      <td>544.0</td>\n      <td>1682.0</td>\n      <td>NaN</td>\n      <td>NaN</td>\n      <td>NaN</td>\n      <td>NaN</td>\n    </tr>\n  </tbody>\n</table>\n<p>210 rows × 82 columns</p>\n</div>"
     },
     "metadata": {},
     "execution_count": 58
    }
   ],
   "source": [
    "# save labels\n",
    "axons_index = range(259,300)\n",
    "\n",
    "all_axons_data = []\n",
    "for ax_i in axons_index:\n",
    "    name = f'Axon_{ax_i:0>3}'\n",
    "    dat = viewer.layers[name].data\n",
    "    idx = pd.MultiIndex.from_product([(name,), ('anchor_x', 'anchor_y')])\n",
    "    data = pd.DataFrame(dat[:,1:], index=dat[:,0], columns=idx, dtype=int)\n",
    "    \n",
    "    if ax_i == 137:\n",
    "        print(data.to_string())\n",
    "    if data.empty:\n",
    "        print(dat)\n",
    "        print(name)\n",
    "    # print(data)\n",
    "    all_axons_data.append(data)\n",
    "\n",
    "# print(all_axons_data)\n",
    "all_axons_data = pd.concat(all_axons_data, axis=1)\n",
    "\n",
    "fname = f'{dest_dir}/labels_ID{axons_index[0]}-{axons_index[-1]}.csv'\n",
    "all_axons_data.to_csv(fname) \n",
    "print(fname)\n",
    "all_axons_data"
   ]
  },
  {
   "cell_type": "code",
   "execution_count": 59,
   "metadata": {},
   "outputs": [
    {
     "output_type": "stream",
     "name": "stdout",
     "text": [
      "      Axon_167          Axon_168          Axon_169          Axon_170           \\\n      anchor_x anchor_y anchor_x anchor_y anchor_x anchor_y anchor_x anchor_y   \n0.0        NaN      NaN      NaN      NaN      NaN      NaN      NaN      NaN   \n1.0        NaN      NaN      NaN      NaN      NaN      NaN      NaN      NaN   \n2.0        NaN      NaN      NaN      NaN      NaN      NaN      NaN      NaN   \n3.0        NaN      NaN      NaN      NaN      NaN      NaN      NaN      NaN   \n4.0        NaN      NaN      NaN      NaN      NaN      NaN      NaN      NaN   \n...        ...      ...      ...      ...      ...      ...      ...      ...   \n205.0      NaN      NaN   1046.0      7.0      NaN      NaN      NaN      NaN   \n206.0      NaN      NaN   1049.0      7.0      NaN      NaN      NaN      NaN   \n207.0      NaN      NaN   1051.0      7.0      NaN      NaN      NaN      NaN   \n208.0      NaN      NaN   1016.0      4.0      NaN      NaN      NaN      NaN   \n209.0      NaN      NaN   1031.0      2.0      NaN      NaN      NaN      NaN   \n\n      Axon_171           ... Axon_215          Axon_216          Axon_217  \\\n      anchor_x anchor_y  ... anchor_x anchor_y anchor_x anchor_y anchor_x   \n0.0        NaN      NaN  ...      NaN      NaN      NaN      NaN      NaN   \n1.0        NaN      NaN  ...      NaN      NaN      NaN      NaN      NaN   \n2.0        NaN      NaN  ...      NaN      NaN      NaN      NaN      NaN   \n3.0        NaN      NaN  ...      NaN      NaN      NaN      NaN      NaN   \n4.0        NaN      NaN  ...      NaN      NaN      NaN      NaN      NaN   \n...        ...      ...  ...      ...      ...      ...      ...      ...   \n205.0      NaN      NaN  ...      NaN      NaN    694.0   1029.0    738.0   \n206.0      NaN      NaN  ...      NaN      NaN    693.0   1011.0    734.0   \n207.0      NaN      NaN  ...      NaN      NaN    706.0   1003.0    738.0   \n208.0      NaN      NaN  ...      NaN      NaN    713.0   1004.0    744.0   \n209.0      NaN      NaN  ...      NaN      NaN    741.0   1055.0    740.0   \n\n               Axon_218          Axon_219           \n      anchor_y anchor_x anchor_y anchor_x anchor_y  \n0.0        NaN      NaN      NaN      NaN      NaN  \n1.0        NaN      NaN      NaN      NaN      NaN  \n2.0        NaN      NaN      NaN      NaN      NaN  \n3.0        NaN      NaN      NaN      NaN      NaN  \n4.0        NaN      NaN      NaN      NaN      NaN  \n...        ...      ...      ...      ...      ...  \n205.0   1635.0    672.0   1426.0      NaN      NaN  \n206.0   1632.0    670.0   1426.0      NaN      NaN  \n207.0   1651.0    695.0   1500.0      NaN      NaN  \n208.0   1675.0    707.0   1528.0      NaN      NaN  \n209.0   1693.0    730.0   1599.0      NaN      NaN  \n\n[210 rows x 106 columns]\n      Axon_220          Axon_221          Axon_222          Axon_223           \\\n      anchor_x anchor_y anchor_x anchor_y anchor_x anchor_y anchor_x anchor_y   \n0.0     1322.0   1004.0      NaN      NaN   1754.0    925.0      NaN      NaN   \n1.0     1286.0    998.0      NaN      NaN   1693.0    920.0      NaN      NaN   \n2.0     1225.0    991.0      NaN      NaN   1587.0    964.0      NaN      NaN   \n3.0     1185.0    975.0      NaN      NaN   1528.0   1008.0      NaN      NaN   \n4.0     1149.0    956.0      NaN      NaN   1465.0   1010.0      NaN      NaN   \n...        ...      ...      ...      ...      ...      ...      ...      ...   \n204.0      NaN      NaN      NaN      NaN      NaN      NaN      NaN      NaN   \n205.0      NaN      NaN      NaN      NaN      NaN      NaN      NaN      NaN   \n206.0      NaN      NaN      NaN      NaN      NaN      NaN      NaN      NaN   \n207.0      NaN      NaN      NaN      NaN      NaN      NaN      NaN      NaN   \n208.0      NaN      NaN      NaN      NaN      NaN      NaN      NaN      NaN   \n\n      Axon_224           ... Axon_254          Axon_255          Axon_256  \\\n      anchor_x anchor_y  ... anchor_x anchor_y anchor_x anchor_y anchor_x   \n0.0        NaN      NaN  ...   1220.0   1089.0      NaN      NaN      NaN   \n1.0        NaN      NaN  ...   1224.0   1088.0      NaN      NaN      NaN   \n2.0        NaN      NaN  ...   1255.0   1088.0      NaN      NaN      NaN   \n3.0        NaN      NaN  ...   1276.0   1091.0      NaN      NaN      NaN   \n4.0        NaN      NaN  ...   1281.0   1100.0      NaN      NaN      NaN   \n...        ...      ...  ...      ...      ...      ...      ...      ...   \n204.0      NaN      NaN  ...      NaN      NaN      NaN      NaN      NaN   \n205.0      NaN      NaN  ...      NaN      NaN      NaN      NaN      NaN   \n206.0      NaN      NaN  ...      NaN      NaN      NaN      NaN      NaN   \n207.0      NaN      NaN  ...      NaN      NaN      NaN      NaN      NaN   \n208.0      NaN      NaN  ...      NaN      NaN      NaN      NaN      NaN   \n\n               Axon_257          Axon_258           \n      anchor_y anchor_x anchor_y anchor_x anchor_y  \n0.0        NaN      NaN      NaN      NaN      NaN  \n1.0        NaN      NaN      NaN      NaN      NaN  \n2.0        NaN      NaN      NaN      NaN      NaN  \n3.0        NaN      NaN      NaN      NaN      NaN  \n4.0        NaN      NaN      NaN      NaN      NaN  \n...        ...      ...      ...      ...      ...  \n204.0      NaN      NaN      NaN   1657.0   1141.0  \n205.0      NaN      NaN      NaN   1648.0   1130.0  \n206.0      NaN      NaN      NaN   1638.0   1102.0  \n207.0      NaN      NaN      NaN   1629.0   1078.0  \n208.0      NaN      NaN      NaN   1626.0   1052.0  \n\n[195 rows x 78 columns]\n      Axon_259          Axon_260          Axon_261          Axon_262           \\\n      anchor_x anchor_y anchor_x anchor_y anchor_x anchor_y anchor_x anchor_y   \n0.0      503.0   1747.0    964.0   1691.0      NaN      NaN      NaN      NaN   \n1.0      506.0   1748.0    938.0   1693.0      NaN      NaN      NaN      NaN   \n2.0      503.0   1747.0    873.0   1681.0      NaN      NaN      NaN      NaN   \n3.0      505.0   1748.0    838.0   1693.0      NaN      NaN      NaN      NaN   \n4.0      491.0   1746.0    819.0   1726.0      NaN      NaN      NaN      NaN   \n...        ...      ...      ...      ...      ...      ...      ...      ...   \n205.0      NaN      NaN      NaN      NaN      NaN      NaN      NaN      NaN   \n206.0      NaN      NaN      NaN      NaN      NaN      NaN      NaN      NaN   \n207.0      NaN      NaN      NaN      NaN      NaN      NaN      NaN      NaN   \n208.0      NaN      NaN      NaN      NaN      NaN      NaN      NaN      NaN   \n209.0      NaN      NaN      NaN      NaN      NaN      NaN      NaN      NaN   \n\n      Axon_263           ... Axon_295          Axon_296          Axon_297  \\\n      anchor_x anchor_y  ... anchor_x anchor_y anchor_x anchor_y anchor_x   \n0.0        NaN      NaN  ...      NaN      NaN      NaN      NaN      NaN   \n1.0        NaN      NaN  ...      NaN      NaN      NaN      NaN      NaN   \n2.0        NaN      NaN  ...      NaN      NaN      NaN      NaN      NaN   \n3.0        NaN      NaN  ...      NaN      NaN      NaN      NaN      NaN   \n4.0        NaN      NaN  ...      NaN      NaN      NaN      NaN      NaN   \n...        ...      ...  ...      ...      ...      ...      ...      ...   \n205.0      NaN      NaN  ...      NaN      NaN      NaN      NaN    546.0   \n206.0      NaN      NaN  ...      NaN      NaN      NaN      NaN    547.0   \n207.0      NaN      NaN  ...      NaN      NaN      NaN      NaN    545.0   \n208.0      NaN      NaN  ...      NaN      NaN      NaN      NaN    547.0   \n209.0      NaN      NaN  ...      NaN      NaN      NaN      NaN    544.0   \n\n               Axon_298          Axon_299           \n      anchor_y anchor_x anchor_y anchor_x anchor_y  \n0.0        NaN      NaN      NaN      NaN      NaN  \n1.0        NaN      NaN      NaN      NaN      NaN  \n2.0        NaN      NaN      NaN      NaN      NaN  \n3.0        NaN      NaN      NaN      NaN      NaN  \n4.0        NaN      NaN      NaN      NaN      NaN  \n...        ...      ...      ...      ...      ...  \n205.0   1691.0      NaN      NaN      NaN      NaN  \n206.0   1677.0      NaN      NaN      NaN      NaN  \n207.0   1681.0      NaN      NaN      NaN      NaN  \n208.0   1681.0      NaN      NaN      NaN      NaN  \n209.0   1682.0      NaN      NaN      NaN      NaN  \n\n[210 rows x 82 columns]\n"
     ]
    },
    {
     "output_type": "execute_result",
     "data": {
      "text/plain": [
       "      Axon_167          Axon_168          Axon_169          Axon_170           \\\n",
       "      anchor_x anchor_y anchor_x anchor_y anchor_x anchor_y anchor_x anchor_y   \n",
       "0.0        NaN      NaN      NaN      NaN      NaN      NaN      NaN      NaN   \n",
       "1.0        NaN      NaN      NaN      NaN      NaN      NaN      NaN      NaN   \n",
       "2.0        NaN      NaN      NaN      NaN      NaN      NaN      NaN      NaN   \n",
       "3.0        NaN      NaN      NaN      NaN      NaN      NaN      NaN      NaN   \n",
       "4.0        NaN      NaN      NaN      NaN      NaN      NaN      NaN      NaN   \n",
       "...        ...      ...      ...      ...      ...      ...      ...      ...   \n",
       "205.0      NaN      NaN   1046.0      7.0      NaN      NaN      NaN      NaN   \n",
       "206.0      NaN      NaN   1049.0      7.0      NaN      NaN      NaN      NaN   \n",
       "207.0      NaN      NaN   1051.0      7.0      NaN      NaN      NaN      NaN   \n",
       "208.0      NaN      NaN   1016.0      4.0      NaN      NaN      NaN      NaN   \n",
       "209.0      NaN      NaN   1031.0      2.0      NaN      NaN      NaN      NaN   \n",
       "\n",
       "      Axon_171           ... Axon_295          Axon_296          Axon_297  \\\n",
       "      anchor_x anchor_y  ... anchor_x anchor_y anchor_x anchor_y anchor_x   \n",
       "0.0        NaN      NaN  ...      NaN      NaN      NaN      NaN      NaN   \n",
       "1.0        NaN      NaN  ...      NaN      NaN      NaN      NaN      NaN   \n",
       "2.0        NaN      NaN  ...      NaN      NaN      NaN      NaN      NaN   \n",
       "3.0        NaN      NaN  ...      NaN      NaN      NaN      NaN      NaN   \n",
       "4.0        NaN      NaN  ...      NaN      NaN      NaN      NaN      NaN   \n",
       "...        ...      ...  ...      ...      ...      ...      ...      ...   \n",
       "205.0      NaN      NaN  ...      NaN      NaN      NaN      NaN    546.0   \n",
       "206.0      NaN      NaN  ...      NaN      NaN      NaN      NaN    547.0   \n",
       "207.0      NaN      NaN  ...      NaN      NaN      NaN      NaN    545.0   \n",
       "208.0      NaN      NaN  ...      NaN      NaN      NaN      NaN    547.0   \n",
       "209.0      NaN      NaN  ...      NaN      NaN      NaN      NaN    544.0   \n",
       "\n",
       "               Axon_298          Axon_299           \n",
       "      anchor_y anchor_x anchor_y anchor_x anchor_y  \n",
       "0.0        NaN      NaN      NaN      NaN      NaN  \n",
       "1.0        NaN      NaN      NaN      NaN      NaN  \n",
       "2.0        NaN      NaN      NaN      NaN      NaN  \n",
       "3.0        NaN      NaN      NaN      NaN      NaN  \n",
       "4.0        NaN      NaN      NaN      NaN      NaN  \n",
       "...        ...      ...      ...      ...      ...  \n",
       "205.0   1691.0      NaN      NaN      NaN      NaN  \n",
       "206.0   1677.0      NaN      NaN      NaN      NaN  \n",
       "207.0   1681.0      NaN      NaN      NaN      NaN  \n",
       "208.0   1681.0      NaN      NaN      NaN      NaN  \n",
       "209.0   1682.0      NaN      NaN      NaN      NaN  \n",
       "\n",
       "[210 rows x 266 columns]"
      ],
      "text/html": "<div>\n<style scoped>\n    .dataframe tbody tr th:only-of-type {\n        vertical-align: middle;\n    }\n\n    .dataframe tbody tr th {\n        vertical-align: top;\n    }\n\n    .dataframe thead tr th {\n        text-align: left;\n    }\n</style>\n<table border=\"1\" class=\"dataframe\">\n  <thead>\n    <tr>\n      <th></th>\n      <th colspan=\"2\" halign=\"left\">Axon_167</th>\n      <th colspan=\"2\" halign=\"left\">Axon_168</th>\n      <th colspan=\"2\" halign=\"left\">Axon_169</th>\n      <th colspan=\"2\" halign=\"left\">Axon_170</th>\n      <th colspan=\"2\" halign=\"left\">Axon_171</th>\n      <th>...</th>\n      <th colspan=\"2\" halign=\"left\">Axon_295</th>\n      <th colspan=\"2\" halign=\"left\">Axon_296</th>\n      <th colspan=\"2\" halign=\"left\">Axon_297</th>\n      <th colspan=\"2\" halign=\"left\">Axon_298</th>\n      <th colspan=\"2\" halign=\"left\">Axon_299</th>\n    </tr>\n    <tr>\n      <th></th>\n      <th>anchor_x</th>\n      <th>anchor_y</th>\n      <th>anchor_x</th>\n      <th>anchor_y</th>\n      <th>anchor_x</th>\n      <th>anchor_y</th>\n      <th>anchor_x</th>\n      <th>anchor_y</th>\n      <th>anchor_x</th>\n      <th>anchor_y</th>\n      <th>...</th>\n      <th>anchor_x</th>\n      <th>anchor_y</th>\n      <th>anchor_x</th>\n      <th>anchor_y</th>\n      <th>anchor_x</th>\n      <th>anchor_y</th>\n      <th>anchor_x</th>\n      <th>anchor_y</th>\n      <th>anchor_x</th>\n      <th>anchor_y</th>\n    </tr>\n  </thead>\n  <tbody>\n    <tr>\n      <th>0.0</th>\n      <td>NaN</td>\n      <td>NaN</td>\n      <td>NaN</td>\n      <td>NaN</td>\n      <td>NaN</td>\n      <td>NaN</td>\n      <td>NaN</td>\n      <td>NaN</td>\n      <td>NaN</td>\n      <td>NaN</td>\n      <td>...</td>\n      <td>NaN</td>\n      <td>NaN</td>\n      <td>NaN</td>\n      <td>NaN</td>\n      <td>NaN</td>\n      <td>NaN</td>\n      <td>NaN</td>\n      <td>NaN</td>\n      <td>NaN</td>\n      <td>NaN</td>\n    </tr>\n    <tr>\n      <th>1.0</th>\n      <td>NaN</td>\n      <td>NaN</td>\n      <td>NaN</td>\n      <td>NaN</td>\n      <td>NaN</td>\n      <td>NaN</td>\n      <td>NaN</td>\n      <td>NaN</td>\n      <td>NaN</td>\n      <td>NaN</td>\n      <td>...</td>\n      <td>NaN</td>\n      <td>NaN</td>\n      <td>NaN</td>\n      <td>NaN</td>\n      <td>NaN</td>\n      <td>NaN</td>\n      <td>NaN</td>\n      <td>NaN</td>\n      <td>NaN</td>\n      <td>NaN</td>\n    </tr>\n    <tr>\n      <th>2.0</th>\n      <td>NaN</td>\n      <td>NaN</td>\n      <td>NaN</td>\n      <td>NaN</td>\n      <td>NaN</td>\n      <td>NaN</td>\n      <td>NaN</td>\n      <td>NaN</td>\n      <td>NaN</td>\n      <td>NaN</td>\n      <td>...</td>\n      <td>NaN</td>\n      <td>NaN</td>\n      <td>NaN</td>\n      <td>NaN</td>\n      <td>NaN</td>\n      <td>NaN</td>\n      <td>NaN</td>\n      <td>NaN</td>\n      <td>NaN</td>\n      <td>NaN</td>\n    </tr>\n    <tr>\n      <th>3.0</th>\n      <td>NaN</td>\n      <td>NaN</td>\n      <td>NaN</td>\n      <td>NaN</td>\n      <td>NaN</td>\n      <td>NaN</td>\n      <td>NaN</td>\n      <td>NaN</td>\n      <td>NaN</td>\n      <td>NaN</td>\n      <td>...</td>\n      <td>NaN</td>\n      <td>NaN</td>\n      <td>NaN</td>\n      <td>NaN</td>\n      <td>NaN</td>\n      <td>NaN</td>\n      <td>NaN</td>\n      <td>NaN</td>\n      <td>NaN</td>\n      <td>NaN</td>\n    </tr>\n    <tr>\n      <th>4.0</th>\n      <td>NaN</td>\n      <td>NaN</td>\n      <td>NaN</td>\n      <td>NaN</td>\n      <td>NaN</td>\n      <td>NaN</td>\n      <td>NaN</td>\n      <td>NaN</td>\n      <td>NaN</td>\n      <td>NaN</td>\n      <td>...</td>\n      <td>NaN</td>\n      <td>NaN</td>\n      <td>NaN</td>\n      <td>NaN</td>\n      <td>NaN</td>\n      <td>NaN</td>\n      <td>NaN</td>\n      <td>NaN</td>\n      <td>NaN</td>\n      <td>NaN</td>\n    </tr>\n    <tr>\n      <th>...</th>\n      <td>...</td>\n      <td>...</td>\n      <td>...</td>\n      <td>...</td>\n      <td>...</td>\n      <td>...</td>\n      <td>...</td>\n      <td>...</td>\n      <td>...</td>\n      <td>...</td>\n      <td>...</td>\n      <td>...</td>\n      <td>...</td>\n      <td>...</td>\n      <td>...</td>\n      <td>...</td>\n      <td>...</td>\n      <td>...</td>\n      <td>...</td>\n      <td>...</td>\n      <td>...</td>\n    </tr>\n    <tr>\n      <th>205.0</th>\n      <td>NaN</td>\n      <td>NaN</td>\n      <td>1046.0</td>\n      <td>7.0</td>\n      <td>NaN</td>\n      <td>NaN</td>\n      <td>NaN</td>\n      <td>NaN</td>\n      <td>NaN</td>\n      <td>NaN</td>\n      <td>...</td>\n      <td>NaN</td>\n      <td>NaN</td>\n      <td>NaN</td>\n      <td>NaN</td>\n      <td>546.0</td>\n      <td>1691.0</td>\n      <td>NaN</td>\n      <td>NaN</td>\n      <td>NaN</td>\n      <td>NaN</td>\n    </tr>\n    <tr>\n      <th>206.0</th>\n      <td>NaN</td>\n      <td>NaN</td>\n      <td>1049.0</td>\n      <td>7.0</td>\n      <td>NaN</td>\n      <td>NaN</td>\n      <td>NaN</td>\n      <td>NaN</td>\n      <td>NaN</td>\n      <td>NaN</td>\n      <td>...</td>\n      <td>NaN</td>\n      <td>NaN</td>\n      <td>NaN</td>\n      <td>NaN</td>\n      <td>547.0</td>\n      <td>1677.0</td>\n      <td>NaN</td>\n      <td>NaN</td>\n      <td>NaN</td>\n      <td>NaN</td>\n    </tr>\n    <tr>\n      <th>207.0</th>\n      <td>NaN</td>\n      <td>NaN</td>\n      <td>1051.0</td>\n      <td>7.0</td>\n      <td>NaN</td>\n      <td>NaN</td>\n      <td>NaN</td>\n      <td>NaN</td>\n      <td>NaN</td>\n      <td>NaN</td>\n      <td>...</td>\n      <td>NaN</td>\n      <td>NaN</td>\n      <td>NaN</td>\n      <td>NaN</td>\n      <td>545.0</td>\n      <td>1681.0</td>\n      <td>NaN</td>\n      <td>NaN</td>\n      <td>NaN</td>\n      <td>NaN</td>\n    </tr>\n    <tr>\n      <th>208.0</th>\n      <td>NaN</td>\n      <td>NaN</td>\n      <td>1016.0</td>\n      <td>4.0</td>\n      <td>NaN</td>\n      <td>NaN</td>\n      <td>NaN</td>\n      <td>NaN</td>\n      <td>NaN</td>\n      <td>NaN</td>\n      <td>...</td>\n      <td>NaN</td>\n      <td>NaN</td>\n      <td>NaN</td>\n      <td>NaN</td>\n      <td>547.0</td>\n      <td>1681.0</td>\n      <td>NaN</td>\n      <td>NaN</td>\n      <td>NaN</td>\n      <td>NaN</td>\n    </tr>\n    <tr>\n      <th>209.0</th>\n      <td>NaN</td>\n      <td>NaN</td>\n      <td>1031.0</td>\n      <td>2.0</td>\n      <td>NaN</td>\n      <td>NaN</td>\n      <td>NaN</td>\n      <td>NaN</td>\n      <td>NaN</td>\n      <td>NaN</td>\n      <td>...</td>\n      <td>NaN</td>\n      <td>NaN</td>\n      <td>NaN</td>\n      <td>NaN</td>\n      <td>544.0</td>\n      <td>1682.0</td>\n      <td>NaN</td>\n      <td>NaN</td>\n      <td>NaN</td>\n      <td>NaN</td>\n    </tr>\n  </tbody>\n</table>\n<p>210 rows × 266 columns</p>\n</div>"
     },
     "metadata": {},
     "execution_count": 59
    }
   ],
   "source": [
    "# save labels\n",
    "all_axons_indices = [range(167,220), range(220,259), range(259,300)]\n",
    "# os.listdir(dest_dir)\n",
    "\n",
    "all_axons_data = []\n",
    "for axons_index in all_axons_indices:\n",
    "    data = pd.read_csv(f'{dest_dir}/labels_ID{axons_index[0]}-{axons_index[-1]}.csv', header=[0,1], index_col=0)\n",
    "    all_axons_data.append(data)\n",
    "    \n",
    "    print(data)\n",
    "all_axons_data = pd.concat(all_axons_data, axis=1)\n",
    "\n",
    "\n",
    "all_axons_data.to_csv(f'{dest_dir}/labels_ID_all{all_axons_indices[0][0]}-{all_axons_indices[-1][-1]}.csv')\n",
    "\n",
    "all_axons_data\n"
   ]
  },
  {
   "cell_type": "code",
   "execution_count": 28,
   "metadata": {
    "tags": []
   },
   "outputs": [
    {
     "output_type": "stream",
     "name": "stdout",
     "text": [
      "(101, 2)\n",
      "(101, 1)\n",
      "(101, 2)\n",
      "(101, 1)\n",
      "(101, 2)\n",
      "(101, 1)\n",
      "(101, 2)\n",
      "(101, 1)\n",
      "(101, 2)\n",
      "(101, 1)\n",
      "(101, 2)\n",
      "(101, 1)\n",
      "(101, 2)\n",
      "(101, 1)\n",
      "(101, 2)\n",
      "(101, 1)\n",
      "(101, 2)\n",
      "(101, 1)\n",
      "(101, 2)\n",
      "(101, 1)\n",
      "(101, 2)\n",
      "(101, 1)\n",
      "(101, 2)\n",
      "(101, 1)\n",
      "(101, 2)\n",
      "(101, 1)\n",
      "(101, 2)\n",
      "(101, 1)\n",
      "(101, 2)\n",
      "(101, 1)\n",
      "(101, 2)\n",
      "(101, 1)\n",
      "(101, 2)\n",
      "(101, 1)\n",
      "(101, 2)\n",
      "(101, 1)\n",
      "(101, 2)\n",
      "(101, 1)\n",
      "(101, 2)\n",
      "(101, 1)\n",
      "(101, 2)\n",
      "(101, 1)\n",
      "(101, 2)\n",
      "(101, 1)\n",
      "(101, 2)\n",
      "(101, 1)\n",
      "(101, 2)\n",
      "(101, 1)\n",
      "(101, 2)\n",
      "(101, 1)\n",
      "(101, 2)\n",
      "(101, 1)\n",
      "(101, 2)\n",
      "(101, 1)\n",
      "(101, 2)\n",
      "(101, 1)\n",
      "(101, 2)\n",
      "(101, 1)\n",
      "(101, 2)\n",
      "(101, 1)\n",
      "(101, 2)\n",
      "(101, 1)\n",
      "(101, 2)\n",
      "(101, 1)\n",
      "(101, 2)\n",
      "(101, 1)\n",
      "(101, 2)\n",
      "(101, 1)\n",
      "(101, 2)\n",
      "(101, 1)\n",
      "(101, 2)\n",
      "(101, 1)\n",
      "(101, 2)\n",
      "(101, 1)\n",
      "(101, 2)\n",
      "(101, 1)\n",
      "(101, 2)\n",
      "(101, 1)\n",
      "(101, 2)\n",
      "(101, 1)\n",
      "(101, 2)\n",
      "(101, 1)\n",
      "(101, 2)\n",
      "(101, 1)\n",
      "(101, 2)\n",
      "(101, 1)\n",
      "(101, 2)\n",
      "(101, 1)\n",
      "(101, 2)\n",
      "(101, 1)\n",
      "(101, 2)\n",
      "(101, 1)\n",
      "(101, 2)\n",
      "(101, 1)\n",
      "(101, 2)\n",
      "(101, 1)\n",
      "(101, 2)\n",
      "(101, 1)\n",
      "(101, 2)\n",
      "(101, 1)\n",
      "(101, 2)\n",
      "(101, 1)\n",
      "(101, 2)\n",
      "(101, 1)\n",
      "(101, 2)\n",
      "(101, 1)\n",
      "(101, 2)\n",
      "(101, 1)\n",
      "(101, 2)\n",
      "(101, 1)\n",
      "(101, 2)\n",
      "(101, 1)\n",
      "(101, 2)\n",
      "(101, 1)\n",
      "(101, 2)\n",
      "(101, 1)\n",
      "(101, 2)\n",
      "(101, 1)\n",
      "(101, 2)\n",
      "(101, 1)\n",
      "(101, 2)\n",
      "(101, 1)\n",
      "(101, 2)\n",
      "(101, 1)\n",
      "(101, 2)\n",
      "(101, 1)\n",
      "(101, 2)\n",
      "(101, 1)\n",
      "(101, 2)\n",
      "(101, 1)\n",
      "(101, 2)\n",
      "(101, 1)\n",
      "(101, 2)\n",
      "(101, 1)\n"
     ]
    }
   ],
   "source": [
    "for axon in all_axons_data.columns.unique(0):\n",
    "    ax_data = all_axons_data[axon]\n",
    "    print(ax_data.shape)\n",
    "    print(all_axons_data.index.values[:, np.newaxis].shape)\n",
    "    dat = np.concatenate([all_axons_data.index.values[:, np.newaxis], ax_data], axis=-1)\n",
    "    viewer.add_points(name=axon, data=dat)\n"
   ]
  },
  {
   "cell_type": "code",
   "execution_count": null,
   "metadata": {
    "scrolled": true,
    "tags": []
   },
   "outputs": [],
   "source": [
    "# SAVE AXONS\n",
    "print('SAVING...')\n",
    "axons_index = range(100)\n",
    "\n",
    "# backup for safety always created new\n",
    "dir_name = f'{outp_path}/labelled_axons_backup/labelled_axons n{len(axons_index)}.{time.ctime(time.time())}'\n",
    "os.makedirs(dir_name, exist_ok=True)\n",
    "\n",
    "all_axons_df = []\n",
    "for ax_i in axons_index:\n",
    "    name = f'Axon_{ax_i:0>3}'\n",
    "    # old labelling, save base object as .npy, Used for loading axon bboxes in this script\n",
    "    labels = np.array(viewer.layers[name].data)\n",
    "    np.save(f'{dir_name}/{name}.npy', labels)   # safety backup\n",
    "    np.save(f'{outp_path}/labelled_axons/{name}.npy', labels)   # what's actually used\n",
    "\n",
    "    # make dataframe to save all information\n",
    "    timepoints = labels[:,0,0].astype(int)\n",
    "    print(f'{name} n={viewer.layers[name].nshapes}...', end='')\n",
    "    # create a pandas dataframe for this specific axons\n",
    "    idx = pd.MultiIndex.from_product([(name,),\n",
    "                                    ('anchor_x', 'anchor_y', 'extend', \n",
    "                                     'topleft_x', 'topleft_y', \n",
    "                                     'bottomright_x', 'bottomright_y', \n",
    "                                     'distance', 'rel_distance',\n",
    "                                     'col_r', 'col_g', 'col_b',)])\n",
    "    dat = pd.DataFrame(index=range(sizet), columns=idx)\n",
    "    \n",
    "    # populate the dataframe with all the relvent bbox information\n",
    "    color = viewer.layers[name].edge_color\n",
    "    dat.loc[timepoints, (name, ['col_r', 'col_g', 'col_b'])] = color[:,:-1]\n",
    "        \n",
    "    start = labels[:, :,1:].min(axis=1).astype(int)\n",
    "    end = labels[:,:,1:].max(axis=1).astype(int)\n",
    "    dat.loc[timepoints, (name, 'topleft_x')] = start[:, 1]\n",
    "    dat.loc[timepoints, (name, 'topleft_y')] = start[:, 0]\n",
    "    dat.loc[timepoints, (name, 'bottomright_x')] = end[:, 1]\n",
    "    dat.loc[timepoints, (name, 'bottomright_y')] = end[:, 0]\n",
    "\n",
    "    x_dist, y_dist = end[:,1]-start[:,1], end[:,0]-start[:,0]\n",
    "    extend = ((x_dist+y_dist)//4).astype(int)\n",
    "    dat.loc[timepoints, (name, 'extend')] = extend\n",
    "\n",
    "    anchor_x = (start[:,1] + extend).astype(int)\n",
    "    anchor_y = (start[:,0] + extend).astype(int)\n",
    "    dat.loc[timepoints, (name, 'anchor_x')] = anchor_x\n",
    "    dat.loc[timepoints, (name, 'anchor_y')] = anchor_y\n",
    "    # this is the old way of computing distance: simply eucl. \n",
    "    dist = np.sqrt((anchor_x-target[1])**2 + (anchor_y-target[0])**2)\n",
    "    dat.loc[timepoints, (name, 'distance')] = dist\n",
    "    dat.loc[timepoints, (name, 'rel_distance')] = dist[np.where(timepoints == min(timepoints))] - dist\n",
    "\n",
    "    all_axons_df.append(dat)\n",
    "    print('Ok.')\n",
    "all_axons_df = pd.concat(all_axons_df, axis=1).sort_index(axis=1)\n",
    "all_axons_df.to_csv(f'{outp_path}/labelled_axons_eucldists_new.csv')\n"
   ]
  },
  {
   "cell_type": "code",
   "execution_count": null,
   "metadata": {},
   "outputs": [],
   "source": [
    "from skimage.color import gray2rgb\n",
    "from skimage import img_as_float\n",
    "from skimage.draw import rectangle_perimeter\n",
    "from skimage import img_as_uint\n",
    "\n",
    "redchannel_float = img_as_float(redchannel)"
   ]
  },
  {
   "cell_type": "code",
   "execution_count": null,
   "metadata": {},
   "outputs": [],
   "source": [
    "rgb_image = np.zeros((sizet, sizey, sizex, 3), float)\n",
    "rgb_image[:,:,:,0] = redchannel_float\n",
    "rgb_image /= rgb_image.max()"
   ]
  },
  {
   "cell_type": "code",
   "execution_count": null,
   "metadata": {},
   "outputs": [],
   "source": [
    "# LOAD AXONS AS LAYERS, or rgb image, show which timepoint is lablled \n",
    "as_shapes = True\n",
    "print('LOADING axon bboxes....')\n",
    "load_axons_range = range(100)\n",
    "\n",
    "labelled = np.zeros((load_axons_range[-1]+1,sizet))\n",
    "for i in load_axons_range:\n",
    "    name = f'Axon_{i:0>3}'\n",
    "    print(f'{name}...', end='')\n",
    "    col = np.random.rand(1,3)\n",
    "    dat = np.load(f'{outp_path}/labelled_axons/{name}.npy', )\n",
    "    labelled[i,:] = [1 if t in dat[:,:,0].flatten() else 0 for t in range(sizet)]   # for plotting\n",
    "    # dat[:,:,1] -= ymin\n",
    "    # dat[:,:,2] -= xmin\n",
    "    \n",
    "    if not dat.size:\n",
    "        print('!!!Empty!!!\\n')\n",
    "        continue\n",
    "    dupl_label = any([(dat[:,:,0]==t).sum()>4 for t in range(sizet)])\n",
    "    if dupl_label:\n",
    "        [print(f't: {t} - More than one label!') for t in range(sizet) if (dat[:,:,0]==t).sum()>4]        \n",
    "        print()\n",
    "    else:\n",
    "        print('Ok')\n",
    "    if as_shapes:\n",
    "        viewer.add_shapes(dat, name=name, shape_type='rectangle', edge_color=col, face_color=np.array([1,1,1,.9]), edge_width=5, visible=True, opacity=.9)\n",
    "    else:\n",
    "        start = dat[:, :,1:].min(axis=1).astype(int)\n",
    "        end = dat[:,:,1:].max(axis=1).astype(int)\n",
    "        x_start = start[:, 1]\n",
    "        y_start = start[:, 0]\n",
    "        x_end = end[:, 1]\n",
    "        y_end = end[:, 0]\n",
    "        \n",
    "#         col = 1 - .35*(1-col) \n",
    "        axon_timepoints = dat[:,:,0].astype(int)\n",
    "        for i, t in enumerate(range(axon_timepoints.min(), axon_timepoints.max()+1)):\n",
    "            for w in range(2):\n",
    "                rr, cc = rectangle_perimeter((y_start[i]+w, x_start[i]+w), end=(y_end[i]+w, x_end[i]+w), \n",
    "                                             shape=rgb_image.shape[1:])\n",
    "                rgb_image[t-1, rr, cc] = col\n",
    "\n",
    "plt.figure(figsize=(13,7), facecolor='k')\n",
    "plt.imshow(labelled.T, cmap=plt.get_cmap('cividis'))\n",
    "ax = plt.gca()\n",
    "\n",
    "ax.set_yticks(np.arange(sizet))\n",
    "ax.set_yticklabels(['' if t%5 else t for t in range(sizet)], color='white')\n",
    "ax.set_ylabel('timepoint', color='white', fontsize=14)\n",
    "\n",
    "ax.set_xticks(np.arange(load_axons_range[-1]+1))\n",
    "ax.set_xticklabels(['' if t%2 else t for t in range(load_axons_range[-1]+1)], color='white')\n",
    "ax.set_xlabel('Axon ID', color='white', fontsize=14)\n",
    "\n",
    "ax.set_title('Yellow means there is an axon label for this timepoint', color='white', fontsize=18)\n",
    "ax.set_yticks(np.arange(sizet))\n",
    "ax.set_yticklabels(['' if t%4 else t+1 for t in range(sizet)], color='white')\n",
    "ax.set_ylabel('timepoint', color='white', fontsize=14)"
   ]
  },
  {
   "cell_type": "code",
   "execution_count": null,
   "metadata": {},
   "outputs": [],
   "source": [
    "viewer.add_image(rgb_image)"
   ]
  },
  {
   "cell_type": "code",
   "execution_count": null,
   "metadata": {},
   "outputs": [],
   "source": []
  }
 ],
 "metadata": {
  "kernelspec": {
   "display_name": "Python 3.8.5 64-bit ('bioMEA': conda)",
   "language": "python",
   "name": "python38564bitbiomeaconda2da277ab1d6c4c229b349af03aeb16fd"
  },
  "language_info": {
   "codemirror_mode": {
    "name": "ipython",
    "version": 3
   },
   "file_extension": ".py",
   "mimetype": "text/x-python",
   "name": "python",
   "nbconvert_exporter": "python",
   "pygments_lexer": "ipython3",
   "version": "3.8.11-final"
  }
 },
 "nbformat": 4,
 "nbformat_minor": 2
}