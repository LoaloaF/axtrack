{
 "cells": [
  {
   "cell_type": "markdown",
   "metadata": {},
   "source": [
    "Annotate the growth cones in the timelapse. Load the signal channel and background, save an rgb .npy array for visualizing later. Main purpose here is however to label growth cones. Create some empty shapes layers in napari, then label manually. After that, run the SAVE axon labels cells. One can also read in already labelled axons using the LOAD cell. This also checks if a sequence of detections is continueos (no timepoints skipped)."
   ]
  },
  {
   "cell_type": "code",
   "execution_count": 1,
   "metadata": {},
   "outputs": [],
   "source": [
    "import napari\n",
    "from tifffile import imread\n",
    "%gui qt\n",
    "\n",
    "import numpy as np\n",
    "import pandas as pd\n",
    "import matplotlib.pyplot as plt\n",
    "\n",
    "import time\n",
    "import os"
   ]
  },
  {
   "cell_type": "code",
   "execution_count": 2,
   "metadata": {},
   "outputs": [],
   "source": [
    "inp_path = '/run/media/loaloa/lbb_ssd/timelapse01_40_min_processed/'\n",
    "inp_path = '/home/loaloa/Documents/'\n",
    "outp_path = '../tl140_outputdata'\n",
    "\n",
    "red_file = inp_path+'G001_red_compr.deflate.tif'\n",
    "redchannel = imread(red_file)\n",
    "sizet, sizey, sizex = redchannel.shape\n",
    "ymin, ymax = 0, sizey\n",
    "xmin, xmax = 0, sizex\n",
    "\n",
    "# tranl_file = inp_path+'G001_grey_compr.deflate.tif'\n",
    "# greychannel = imread(tranl_file)[0]\n",
    "\n",
    "# viewer.add_points(name='outputchannel')\n",
    "target = (991, 2746)\n",
    "sizet = redchannel.shape[0]"
   ]
  },
  {
   "cell_type": "code",
   "execution_count": 3,
   "metadata": {},
   "outputs": [],
   "source": [
    "# mask image to relevant area\n",
    "excl_mask = np.load(f'{outp_path}/mask_wells_excl.npy')\n",
    "mask = np.load(f'{outp_path}/mask_wells_incl.npy')\n",
    "# greychannel[~mask.astype(bool)] = 0\n",
    "redchannel[:,~mask.astype(bool)] = 0"
   ]
  },
  {
   "cell_type": "code",
   "execution_count": null,
   "metadata": {},
   "outputs": [],
   "source": [
    "# create merged image (for showcasing results later)\n",
    "grey = greychannel*3\n",
    "rgb_image = np.stack([grey]*3, -1)\n",
    "rgb_image = np.stack([rgb_image]*redchannel.shape[0], 0)\n",
    "\n",
    "r = redchannel*13\n",
    "rgb_image[:,:,:,0] += r\n",
    "\n",
    "np.save(f'{outp_path}/rgb_seq_vanilla.npy', rgb_image)"
   ]
  },
  {
   "cell_type": "code",
   "execution_count": 5,
   "metadata": {},
   "outputs": [],
   "source": [
    "with napari.gui_qt():\n",
    "    viewer = napari.Viewer()"
   ]
  },
  {
   "cell_type": "code",
   "execution_count": null,
   "metadata": {},
   "outputs": [],
   "source": [
    "ymin, ymax = 1300, 2500\n",
    "xmin, xmax = 0, 2000\n",
    "redchannel = redchannel[:, ymin:ymax,xmin:xmax]\n",
    "sizey, sizex = redchannel.shape[1:]\n",
    "# greychannel = greychannel[1300:,:2000]\n"
   ]
  },
  {
   "cell_type": "code",
   "execution_count": 6,
   "metadata": {},
   "outputs": [],
   "source": [
    "viewer.add_image(redchannel)\n",
    "viewer.layers['redchannel'].blending = 'additive'\n",
    "viewer.layers['redchannel'].colormap = 'red'\n",
    "viewer.layers['redchannel'].contrast_limits = [0,2700]\n",
    "\n",
    "# viewer.add_image(greychannel)\n",
    "# viewer.layers['greychannel'].blending='additive'\n",
    "# viewer.layers['greychannel'].opacity = .1\n",
    "# viewer.layers['greychannel'].gamma = .6"
   ]
  },
  {
   "cell_type": "code",
   "execution_count": 7,
   "metadata": {},
   "outputs": [
    {
     "name": "stdout",
     "output_type": "stream",
     "text": [
      "Calculating motion (clip lower lim: 100) + Gaussian filtering (std: 3)...\n",
      "Done.\n"
     ]
    }
   ],
   "source": [
    "# compute motion and add to viewer\n",
    "blur_strength = 3\n",
    "lowerlim = 100\n",
    "print(f'Calculating motion (clip lower lim: {lowerlim}) + '\n",
    "      f'Gaussian filtering (std: {blur_strength})...', end='')\n",
    "\n",
    "from skimage.filters import gaussian\n",
    "\n",
    "pos_motion_seq = [np.zeros((sizey, sizex), float)]\n",
    "neg_motion_seq = [np.zeros((sizey, sizex), float)]\n",
    "# first timepoint has no t-1, set to all 0. Recommend to not use t=0\n",
    "print()\n",
    "for t in range(1, sizet):\n",
    "    motion_frame = redchannel[t].astype(float) - redchannel[t-1].astype(float)\n",
    "    motion_frame = gaussian(motion_frame.astype(float), blur_strength)\n",
    "        \n",
    "    # clipping\n",
    "    motion_frame[np.abs(motion_frame)<lowerlim] = 0\n",
    "\n",
    "    pos_motion = np.where(motion_frame>0, motion_frame, 0).astype(np.uint16)\n",
    "    neg_motion = np.where(motion_frame<0, motion_frame*-1, 0).astype(np.uint16)\n",
    "    \n",
    "    pos_motion_seq.append(pos_motion)\n",
    "    neg_motion_seq.append(neg_motion)\n",
    "    \n",
    "print('Done.')\n",
    "\n",
    "pos_motion_seq = np.stack(pos_motion_seq).astype(np.uint16)\n",
    "neg_motion_seq = np.stack(neg_motion_seq).astype(np.uint16)"
   ]
  },
  {
   "cell_type": "code",
   "execution_count": 8,
   "metadata": {},
   "outputs": [],
   "source": [
    "viewer.add_image(pos_motion_seq)\n",
    "viewer.layers['pos_motion_seq'].blending = 'additive'\n",
    "viewer.layers['pos_motion_seq'].colormap = 'green'\n",
    "viewer.layers['pos_motion_seq'].contrast_limits = [0,2700]\n",
    "\n",
    "viewer.add_image(neg_motion_seq)\n",
    "viewer.layers['neg_motion_seq'].blending = 'additive'\n",
    "viewer.layers['neg_motion_seq'].colormap = 'blue'\n",
    "viewer.layers['neg_motion_seq'].contrast_limits = [0,2700]\n"
   ]
  },
  {
   "cell_type": "code",
   "execution_count": null,
   "metadata": {},
   "outputs": [],
   "source": [
    "# CREATE EMPTY AXON LABELS\n",
    "axons_index = range(78,100)\n",
    "\n",
    "for ax_i in axons_index:\n",
    "    name = f'Axon_{ax_i:0>3}'\n",
    "    col = np.random.rand(1,3)\n",
    "    # edge coloring doesn't work unfortunately, do manually in gui\n",
    "    viewer.add_shapes(name=name, shape_type='rectangle', edge_color=col, face_color=np.array([1,1,1,.2]), opacity=.3)"
   ]
  },
  {
   "cell_type": "code",
   "execution_count": null,
   "metadata": {},
   "outputs": [],
   "source": [
    "# MAKE NEW AXON LABEL LAYERS\n",
    "mk_axons_index = range(75,76)\n",
    "for i in mk_axons_index:\n",
    "    name = f'axon_{i}'\n",
    "    col = np.random.rand(1,3)\n",
    "    init_data =  np.array([[0,0,0],\n",
    "                           [0,0,0],\n",
    "                           [0,0,0],\n",
    "                           [0,0,0]])\n",
    "    viewer.add_shapes(name=name, shape_type='rectangle', edge_color=col, face_color=np.array([1,1,1,.15]), edge_width=3)\n",
    "    viewer.layers[name].data = []"
   ]
  },
  {
   "cell_type": "code",
   "execution_count": null,
   "metadata": {
    "scrolled": true,
    "tags": []
   },
   "outputs": [],
   "source": [
    "# SAVE AXONS\n",
    "print('SAVING...')\n",
    "axons_index = range(100)\n",
    "\n",
    "# backup for safety always created new\n",
    "dir_name = f'{outp_path}/labelled_axons_backup/labelled_axons n{len(axons_index)}.{time.ctime(time.time())}'\n",
    "os.makedirs(dir_name, exist_ok=True)\n",
    "\n",
    "all_axons_df = []\n",
    "for ax_i in axons_index:\n",
    "    name = f'Axon_{ax_i:0>3}'\n",
    "    # old labelling, save base object as .npy, Used for loading axon bboxes in this script\n",
    "    labels = np.array(viewer.layers[name].data)\n",
    "    np.save(f'{dir_name}/{name}.npy', labels)   # safety backup\n",
    "    np.save(f'{outp_path}/labelled_axons/{name}.npy', labels)   # what's actually used\n",
    "\n",
    "    # make dataframe to save all information\n",
    "    timepoints = labels[:,0,0].astype(int)\n",
    "    print(f'{name} n={viewer.layers[name].nshapes}...', end='')\n",
    "    # create a pandas dataframe for this specific axons\n",
    "    idx = pd.MultiIndex.from_product([(name,),\n",
    "                                    ('anchor_x', 'anchor_y', 'extend', \n",
    "                                     'topleft_x', 'topleft_y', \n",
    "                                     'bottomright_x', 'bottomright_y', \n",
    "                                     'distance', 'rel_distance',\n",
    "                                     'col_r', 'col_g', 'col_b',)])\n",
    "    dat = pd.DataFrame(index=range(sizet), columns=idx)\n",
    "    \n",
    "    # populate the dataframe with all the relvent bbox information\n",
    "    color = viewer.layers[name].edge_color\n",
    "    dat.loc[timepoints, (name, ['col_r', 'col_g', 'col_b'])] = color[:,:-1]\n",
    "        \n",
    "    start = labels[:, :,1:].min(axis=1).astype(int)\n",
    "    end = labels[:,:,1:].max(axis=1).astype(int)\n",
    "    dat.loc[timepoints, (name, 'topleft_x')] = start[:, 1]\n",
    "    dat.loc[timepoints, (name, 'topleft_y')] = start[:, 0]\n",
    "    dat.loc[timepoints, (name, 'bottomright_x')] = end[:, 1]\n",
    "    dat.loc[timepoints, (name, 'bottomright_y')] = end[:, 0]\n",
    "\n",
    "    x_dist, y_dist = end[:,1]-start[:,1], end[:,0]-start[:,0]\n",
    "    extend = ((x_dist+y_dist)//4).astype(int)\n",
    "    dat.loc[timepoints, (name, 'extend')] = extend\n",
    "\n",
    "    anchor_x = (start[:,1] + extend).astype(int)\n",
    "    anchor_y = (start[:,0] + extend).astype(int)\n",
    "    dat.loc[timepoints, (name, 'anchor_x')] = anchor_x\n",
    "    dat.loc[timepoints, (name, 'anchor_y')] = anchor_y\n",
    "    # this is the old way of computing distance: simply eucl. \n",
    "    dist = np.sqrt((anchor_x-target[1])**2 + (anchor_y-target[0])**2)\n",
    "    dat.loc[timepoints, (name, 'distance')] = dist\n",
    "    dat.loc[timepoints, (name, 'rel_distance')] = dist[np.where(timepoints == min(timepoints))] - dist\n",
    "\n",
    "    all_axons_df.append(dat)\n",
    "    print('Ok.')\n",
    "all_axons_df = pd.concat(all_axons_df, axis=1).sort_index(axis=1)\n",
    "all_axons_df.to_csv(f'{outp_path}/labelled_axons_eucldists_new.csv')\n"
   ]
  },
  {
   "cell_type": "code",
   "execution_count": 9,
   "metadata": {},
   "outputs": [],
   "source": [
    "from skimage.color import gray2rgb\n",
    "from skimage import img_as_float\n",
    "from skimage.draw import rectangle_perimeter\n",
    "from skimage import img_as_uint\n",
    "\n",
    "redchannel_float = img_as_float(redchannel)"
   ]
  },
  {
   "cell_type": "code",
   "execution_count": 10,
   "metadata": {},
   "outputs": [],
   "source": [
    "rgb_image = np.zeros((sizet, sizey, sizex, 3), float)\n",
    "rgb_image[:,:,:,0] = redchannel_float\n",
    "rgb_image /= rgb_image.max()"
   ]
  },
  {
   "cell_type": "code",
   "execution_count": 11,
   "metadata": {},
   "outputs": [
    {
     "name": "stdout",
     "output_type": "stream",
     "text": [
      "LOADING axon bboxes....\n",
      "Axon_000...Ok\n",
      "Axon_001...Ok\n",
      "Axon_002...Ok\n",
      "Axon_003...Ok\n",
      "Axon_004...Ok\n",
      "Axon_005...Ok\n",
      "Axon_006...Ok\n",
      "Axon_007...Ok\n",
      "Axon_008...Ok\n",
      "Axon_009...Ok\n",
      "Axon_010...Ok\n",
      "Axon_011...Ok\n",
      "Axon_012...Ok\n",
      "Axon_013...Ok\n",
      "Axon_014...Ok\n",
      "Axon_015...Ok\n",
      "Axon_016...Ok\n",
      "Axon_017...Ok\n",
      "Axon_018...Ok\n",
      "Axon_019...Ok\n",
      "Axon_020...Ok\n",
      "Axon_021...Ok\n",
      "Axon_022...Ok\n",
      "Axon_023...Ok\n",
      "Axon_024...Ok\n",
      "Axon_025...Ok\n",
      "Axon_026...Ok\n",
      "Axon_027...Ok\n",
      "Axon_028...Ok\n",
      "Axon_029...Ok\n",
      "Axon_030...Ok\n",
      "Axon_031...Ok\n",
      "Axon_032...Ok\n",
      "Axon_033...Ok\n",
      "Axon_034...Ok\n",
      "Axon_035...Ok\n",
      "Axon_036...Ok\n",
      "Axon_037...Ok\n",
      "Axon_038...Ok\n",
      "Axon_039...Ok\n",
      "Axon_040...Ok\n",
      "Axon_041...Ok\n",
      "Axon_042...Ok\n",
      "Axon_043...Ok\n",
      "Axon_044...Ok\n",
      "Axon_045...Ok\n",
      "Axon_046...Ok\n",
      "Axon_047...Ok\n",
      "Axon_048...Ok\n",
      "Axon_049...Ok\n",
      "Axon_050...Ok\n",
      "Axon_051...Ok\n",
      "Axon_052...Ok\n",
      "Axon_053...Ok\n",
      "Axon_054...Ok\n",
      "Axon_055...Ok\n",
      "Axon_056...Ok\n",
      "Axon_057...Ok\n",
      "Axon_058...Ok\n",
      "Axon_059...Ok\n",
      "Axon_060...Ok\n",
      "Axon_061...Ok\n",
      "Axon_062...Ok\n",
      "Axon_063...Ok\n",
      "Axon_064...Ok\n",
      "Axon_065...Ok\n",
      "Axon_066...Ok\n",
      "Axon_067...Ok\n",
      "Axon_068...Ok\n",
      "Axon_069...Ok\n",
      "Axon_070...Ok\n",
      "Axon_071...Ok\n",
      "Axon_072...Ok\n",
      "Axon_073...Ok\n",
      "Axon_074...Ok\n",
      "Axon_075...Ok\n",
      "Axon_076...Ok\n",
      "Axon_077...Ok\n",
      "Axon_078...Ok\n",
      "Axon_079...Ok\n",
      "Axon_080...Ok\n",
      "Axon_081...Ok\n",
      "Axon_082...Ok\n",
      "Axon_083...Ok\n",
      "Axon_084...Ok\n",
      "Axon_085...Ok\n",
      "Axon_086...Ok\n",
      "Axon_087...Ok\n",
      "Axon_088...Ok\n",
      "Axon_089...Ok\n",
      "Axon_090...Ok\n",
      "Axon_091...Ok\n",
      "Axon_092...Ok\n",
      "Axon_093...Ok\n",
      "Axon_094...Ok\n",
      "Axon_095...Ok\n",
      "Axon_096...Ok\n",
      "Axon_097...Ok\n",
      "Axon_098...Ok\n",
      "Axon_099...Ok\n"
     ]
    },
    {
     "data": {
      "text/plain": [
       "Text(0, 0.5, 'timepoint')"
      ]
     },
     "execution_count": 11,
     "metadata": {},
     "output_type": "execute_result"
    },
    {
     "data": {
      "image/png": "[encoded data removed]",
      "text/plain": [
       "<Figure size 936x504 with 1 Axes>"
      ]
     },
     "metadata": {},
     "output_type": "display_data"
    }
   ],
   "source": [
    "# LOAD AXONS AS LAYERS, or rgb image, show which timepoint is lablled \n",
    "as_shapes = False\n",
    "print('LOADING axon bboxes....')\n",
    "load_axons_range = range(100)\n",
    "\n",
    "labelled = np.zeros((load_axons_range[-1]+1,sizet))\n",
    "for i in load_axons_range:\n",
    "    name = f'Axon_{i:0>3}'\n",
    "    print(f'{name}...', end='')\n",
    "    col = np.random.rand(1,3)\n",
    "    dat = np.load(f'{outp_path}/labelled_axons/{name}.npy', )\n",
    "    labelled[i,:] = [1 if t in dat[:,:,0].flatten() else 0 for t in range(sizet)]   # for plotting\n",
    "    dat[:,:,1] -= ymin\n",
    "    dat[:,:,2] -= xmin\n",
    "    \n",
    "    if not dat.size:\n",
    "        print('!!!Empty!!!\\n')\n",
    "        continue\n",
    "    dupl_label = any([(dat[:,:,0]==t).sum()>4 for t in range(sizet)])\n",
    "    if dupl_label:\n",
    "        [print(f't: {t} - More than one label!') for t in range(sizet) if (dat[:,:,0]==t).sum()>4]        \n",
    "        print()\n",
    "    else:\n",
    "        print('Ok')\n",
    "    if as_shapes:\n",
    "        viewer.add_shapes(dat, name=name, shape_type='rectangle', edge_color=col, face_color=np.array([1,1,1,.1]), edge_width=2, visible=True, opacity=.3)\n",
    "    else:\n",
    "        start = dat[:, :,1:].min(axis=1).astype(int)\n",
    "        end = dat[:,:,1:].max(axis=1).astype(int)\n",
    "        x_start = start[:, 1]\n",
    "        y_start = start[:, 0]\n",
    "        x_end = end[:, 1]\n",
    "        y_end = end[:, 0]\n",
    "        \n",
    "#         col = 1 - .35*(1-col) \n",
    "        axon_timepoints = dat[:,:,0].astype(int)\n",
    "        for i, t in enumerate(range(axon_timepoints.min(), axon_timepoints.max()+1)):\n",
    "            for w in range(2):\n",
    "                rr, cc = rectangle_perimeter((y_start[i]+w, x_start[i]+w), end=(y_end[i]+w, x_end[i]+w), \n",
    "                                             shape=rgb_image.shape[1:])\n",
    "                rgb_image[t-1, rr, cc] = col\n",
    "\n",
    "plt.figure(figsize=(13,7), facecolor='k')\n",
    "plt.imshow(labelled.T, cmap=plt.get_cmap('cividis'))\n",
    "ax = plt.gca()\n",
    "\n",
    "ax.set_yticks(np.arange(sizet))\n",
    "ax.set_yticklabels(['' if t%5 else t for t in range(sizet)], color='white')\n",
    "ax.set_ylabel('timepoint', color='white', fontsize=14)\n",
    "\n",
    "ax.set_xticks(np.arange(load_axons_range[-1]+1))\n",
    "ax.set_xticklabels(['' if t%2 else t for t in range(load_axons_range[-1]+1)], color='white')\n",
    "ax.set_xlabel('Axon ID', color='white', fontsize=14)\n",
    "\n",
    "ax.set_title('Yellow means there is an axon label for this timepoint', color='white', fontsize=18)\n",
    "ax.set_yticks(np.arange(sizet))\n",
    "ax.set_yticklabels(['' if t%4 else t+1 for t in range(sizet)], color='white')\n",
    "ax.set_ylabel('timepoint', color='white', fontsize=14)"
   ]
  },
  {
   "cell_type": "code",
   "execution_count": 12,
   "metadata": {},
   "outputs": [
    {
     "data": {
      "text/plain": [
       "<Image layer 'rgb_image' at 0x7f64c2b87340>"
      ]
     },
     "execution_count": 12,
     "metadata": {},
     "output_type": "execute_result"
    }
   ],
   "source": [
    "viewer.add_image(rgb_image)"
   ]
  },
  {
   "cell_type": "code",
   "execution_count": null,
   "metadata": {},
   "outputs": [],
   "source": []
  }
 ],
 "metadata": {
  "kernelspec": {
   "display_name": "Python 3.8.8 64-bit ('napari-env': conda)",
   "language": "python",
   "name": "python38864bitnaparienvconda2f1eb6e3c8ff4ae4a67d15fd9665bac2"
  },
  "language_info": {
   "codemirror_mode": {
    "name": "ipython",
    "version": 3
   },
   "file_extension": ".py",
   "mimetype": "text/x-python",
   "name": "python",
   "nbconvert_exporter": "python",
   "pygments_lexer": "ipython3",
   "version": "3.8.8"
  }
 },
 "nbformat": 4,
 "nbformat_minor": 2
}
