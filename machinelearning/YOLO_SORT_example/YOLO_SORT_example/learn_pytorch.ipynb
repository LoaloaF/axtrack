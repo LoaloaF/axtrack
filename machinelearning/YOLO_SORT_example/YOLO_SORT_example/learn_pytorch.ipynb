{
 "metadata": {
  "language_info": {
   "codemirror_mode": {
    "name": "ipython",
    "version": 3
   },
   "file_extension": ".py",
   "mimetype": "text/x-python",
   "name": "python",
   "nbconvert_exporter": "python",
   "pygments_lexer": "ipython3",
   "version": "3.8.5-final"
  },
  "orig_nbformat": 2,
  "kernelspec": {
   "name": "python38564bitbiomeaconda2da277ab1d6c4c229b349af03aeb16fd",
   "display_name": "Python 3.8.5 64-bit ('bioMEA': conda)"
  }
 },
 "nbformat": 4,
 "nbformat_minor": 2,
 "cells": [
  {
   "cell_type": "code",
   "execution_count": 1,
   "metadata": {},
   "outputs": [],
   "source": [
    "import torch\n",
    "import numpy as np\n",
    "\n"
   ]
  },
  {
   "cell_type": "code",
   "execution_count": 180,
   "metadata": {},
   "outputs": [
    {
     "output_type": "stream",
     "name": "stdout",
     "text": [
      "tensor([ 0.4046,  0.3646, -1.3677], requires_grad=True)\ntensor([0.3274, 0.2659, 3.7412], grad_fn=<MulBackward0>)\nNone\ntensor([ 0.8092,  0.7293, -2.7354])\ntensor([ 0.4046,  0.3646, -1.3677], requires_grad=True)\ntensor([ 0.1618,  1.4585, -0.0055])\n"
     ]
    }
   ],
   "source": [
    "# everything is a tensor\n",
    "\n",
    "x = torch.randn(3, requires_grad=True)\n",
    "print(x)\n",
    "\n",
    "\n",
    "y = (x * 2 *x)\n",
    "print(y)\n",
    "print(x.grad)\n",
    "\n",
    "with torch.no_grad():\n",
    "    b = x+x\n",
    "    print(b)\n",
    "\n",
    "print(x)\n",
    "\n",
    "v = torch.tensor([.1, 1, .001], dtype=torch.float32)\n",
    "y.backward(v)\n",
    "print(x.grad)\n"
   ]
  },
  {
   "cell_type": "code",
   "execution_count": 88,
   "metadata": {},
   "outputs": [],
   "source": [
    "# reshape() is valled view()\n",
    "# view takes the shape. A dim  axis can be set to -1, which makes pytorch figure out this dimension on its own so it matches.\n",
    "# only one can be inferred. You can call reshape as well. Also, size() is equivalent to .shape -NICE!\n",
    "\n",
    "\n",
    "# print(x[:])\n",
    "# y = y.reshape((2,-1,2))\n",
    "\n",
    "# careful this creates a view, sharing memory. Not a copy.torch\n",
    "\n",
    "y_numpy = y.numpy()\n",
    "\n",
    "\n"
   ]
  },
  {
   "cell_type": "code",
   "execution_count": 123,
   "metadata": {},
   "outputs": [
    {
     "output_type": "stream",
     "name": "stdout",
     "text": [
      "Help on method backward in module torch.tensor:\n\nbackward(gradient=None, retain_graph=None, create_graph=False) method of torch.Tensor instance\n    Computes the gradient of current tensor w.r.t. graph leaves.\n    \n    The graph is differentiated using the chain rule. If the tensor is\n    non-scalar (i.e. its data has more than one element) and requires\n    gradient, the function additionally requires specifying ``gradient``.\n    It should be a tensor of matching type and location, that contains\n    the gradient of the differentiated function w.r.t. ``self``.\n    \n    This function accumulates gradients in the leaves - you might need to zero\n    ``.grad`` attributes or set them to ``None`` before calling it.\n    See :ref:`Default gradient layouts<default-grad-layouts>`\n    for details on the memory layout of accumulated gradients.\n    \n    Arguments:\n        gradient (Tensor or None): Gradient w.r.t. the\n            tensor. If it is a tensor, it will be automatically converted\n            to a Tensor that does not require grad unless ``create_graph`` is True.\n            None values can be specified for scalar Tensors or ones that\n            don't require grad. If a None value would be acceptable then\n            this argument is optional.\n        retain_graph (bool, optional): If ``False``, the graph used to compute\n            the grads will be freed. Note that in nearly all cases setting\n            this option to True is not needed and often can be worked around\n            in a much more efficient way. Defaults to the value of\n            ``create_graph``.\n        create_graph (bool, optional): If ``True``, graph of the derivative will\n            be constructed, allowing to compute higher order derivative\n            products. Defaults to ``False``.\n\n"
     ]
    }
   ],
   "source": [
    "help(y.backward)"
   ]
  },
  {
   "cell_type": "code",
   "execution_count": 120,
   "metadata": {},
   "outputs": [
    {
     "output_type": "stream",
     "name": "stdout",
     "text": [
      "[[[2.3306563 2.869709 ]\n  [2.9119813 2.0588164]\n  [2.1858974 2.575907 ]\n  [2.325669  2.0668252]]\n\n [[2.234551  2.8456798]\n  [2.3934216 2.854475 ]\n  [2.7995362 2.2161026]\n  [2.3276508 2.1408634]]\n\n [[2.8381882 2.1294775]\n  [2.9853559 2.0090108]\n  [2.2017255 2.1800888]\n  [2.6940227 2.801777 ]]\n\n [[2.524401  2.1162524]\n  [2.8681056 2.2842507]\n  [2.683022  2.7785275]\n  [2.2807288 2.202453 ]]]\n"
     ]
    }
   ],
   "source": [
    "y.add_(2)\n",
    "print(y_numpy)weight  =  torch.tensor(1.0, requires_grad=True)\n",
    "x  =  torch.tensor(1.0)\n",
    "y = torch.tensor(2.0)\n",
    "\n",
    "# forward\n",
    "y_hat = x*weight\n",
    "s = y_hat-y\n",
    "loss = s**2\n",
    "print(loss)\n",
    "\n",
    "# backward\n",
    "loss.backward()\n",
    "print(weight.grad)\n",
    "\n",
    "weight = .5 * weight.grad\n",
    "weight.grad.\n",
    "print(weight.grad)"
   ]
  },
  {
   "cell_type": "code",
   "execution_count": null,
   "metadata": {},
   "outputs": [],
   "source": [
    "# everything is a tensor\n",
    "\n",
    "weights = torch.ones(4, requires_grad=True)\n",
    "\n",
    "alpha=.01\n",
    "optimizer = torch.optim.SGD(weights, lr=alpha)\n",
    "for epoch in range( 2):\n",
    "    out = (weights*3).sum()\n",
    "    out.backward()\n",
    "\n",
    "    print(weights.grad)\n",
    "    optimizer.step()\n",
    "    # weights -= alpha*out.grad\n",
    "\n",
    "    weights.grad.zero_()\n",
    "\n",
    "\n",
    "\n"
   ]
  },
  {
   "cell_type": "code",
   "execution_count": 25,
   "metadata": {},
   "outputs": [
    {
     "output_type": "stream",
     "name": "stdout",
     "text": [
      "Epoch:0 Loss 15.535, w:tensor([ 0.2424,  0.0567,  0.3456, -0.0301], grad_fn=<SelectBackward>)\n\n\n\nEpoch:1 Loss 5.607, w:tensor([0.3722, 0.3164, 0.7351, 0.4892], grad_fn=<SelectBackward>)\n\n\n\nEpoch:2 Loss 5.035, w:tensor([0.3411, 0.2540, 0.6417, 0.3645], grad_fn=<SelectBackward>)\n\n\n\nEpoch:3 Loss 5.002, w:tensor([0.3485, 0.2690, 0.6641, 0.3945], grad_fn=<SelectBackward>)\n\n\n\nEpoch:4 Loss 5.000, w:tensor([0.3468, 0.2654, 0.6587, 0.3873], grad_fn=<SelectBackward>)\n\n\n\nEpoch:5 Loss 5.000, w:tensor([0.3472, 0.2663, 0.6600, 0.3890], grad_fn=<SelectBackward>)\n\n\n\nEpoch:6 Loss 5.000, w:tensor([0.3471, 0.2661, 0.6597, 0.3886], grad_fn=<SelectBackward>)\n\n\n\nEpoch:7 Loss 5.000, w:tensor([0.3471, 0.2661, 0.6598, 0.3887], grad_fn=<SelectBackward>)\n\n\n\nEpoch:8 Loss 5.000, w:tensor([0.3471, 0.2661, 0.6598, 0.3887], grad_fn=<SelectBackward>)\n\n\n\nEpoch:9 Loss 5.000, w:tensor([0.3471, 0.2661, 0.6598, 0.3887], grad_fn=<SelectBackward>)\n\n\n\nEpoch:10 Loss 5.000, w:tensor([0.3471, 0.2661, 0.6598, 0.3887], grad_fn=<SelectBackward>)\n\n\n\nEpoch:11 Loss 5.000, w:tensor([0.3471, 0.2661, 0.6598, 0.3887], grad_fn=<SelectBackward>)\n\n\n\nEpoch:12 Loss 5.000, w:tensor([0.3471, 0.2661, 0.6598, 0.3887], grad_fn=<SelectBackward>)\n\n\n\nEpoch:13 Loss 5.000, w:tensor([0.3471, 0.2661, 0.6598, 0.3887], grad_fn=<SelectBackward>)\n\n\n\nEpoch:14 Loss 5.000, w:tensor([0.3471, 0.2661, 0.6598, 0.3887], grad_fn=<SelectBackward>)\n\n\n\nEpoch:15 Loss 5.000, w:tensor([0.3471, 0.2661, 0.6598, 0.3887], grad_fn=<SelectBackward>)\n\n\n\nEpoch:16 Loss 5.000, w:tensor([0.3471, 0.2661, 0.6598, 0.3887], grad_fn=<SelectBackward>)\n\n\n\nEpoch:17 Loss 5.000, w:tensor([0.3471, 0.2661, 0.6598, 0.3887], grad_fn=<SelectBackward>)\n\n\n\nEpoch:18 Loss 5.000, w:tensor([0.3471, 0.2661, 0.6598, 0.3887], grad_fn=<SelectBackward>)\n\n\n\nEpoch:19 Loss 5.000, w:tensor([0.3471, 0.2661, 0.6598, 0.3887], grad_fn=<SelectBackward>)\n\n\n\nEpoch:20 Loss 5.000, w:tensor([0.3471, 0.2661, 0.6598, 0.3887], grad_fn=<SelectBackward>)\n\n\n\nEpoch:21 Loss 5.000, w:tensor([0.3471, 0.2661, 0.6598, 0.3887], grad_fn=<SelectBackward>)\n\n\n\nEpoch:22 Loss 5.000, w:tensor([0.3471, 0.2661, 0.6598, 0.3887], grad_fn=<SelectBackward>)\n\n\n\nEpoch:23 Loss 5.000, w:tensor([0.3471, 0.2661, 0.6598, 0.3887], grad_fn=<SelectBackward>)\n\n\n\nEpoch:24 Loss 5.000, w:tensor([0.3471, 0.2661, 0.6598, 0.3887], grad_fn=<SelectBackward>)\n\n\n\nEpoch:25 Loss 5.000, w:tensor([0.3471, 0.2661, 0.6598, 0.3887], grad_fn=<SelectBackward>)\n\n\n\nEpoch:26 Loss 5.000, w:tensor([0.3471, 0.2661, 0.6598, 0.3887], grad_fn=<SelectBackward>)\n\n\n\nEpoch:27 Loss 5.000, w:tensor([0.3471, 0.2661, 0.6598, 0.3887], grad_fn=<SelectBackward>)\n\n\n\nEpoch:28 Loss 5.000, w:tensor([0.3471, 0.2661, 0.6598, 0.3887], grad_fn=<SelectBackward>)\n\n\n\nEpoch:29 Loss 5.000, w:tensor([0.3471, 0.2661, 0.6598, 0.3887], grad_fn=<SelectBackward>)\n\n\n\nEpoch:30 Loss 5.000, w:tensor([0.3471, 0.2661, 0.6598, 0.3887], grad_fn=<SelectBackward>)\n\n\n\nEpoch:31 Loss 5.000, w:tensor([0.3471, 0.2661, 0.6598, 0.3887], grad_fn=<SelectBackward>)\n\n\n\nEpoch:32 Loss 5.000, w:tensor([0.3471, 0.2661, 0.6598, 0.3887], grad_fn=<SelectBackward>)\n\n\n\nEpoch:33 Loss 5.000, w:tensor([0.3471, 0.2661, 0.6598, 0.3887], grad_fn=<SelectBackward>)\n\n\n\nEpoch:34 Loss 5.000, w:tensor([0.3471, 0.2661, 0.6598, 0.3887], grad_fn=<SelectBackward>)\n\n\n\nEpoch:35 Loss 5.000, w:tensor([0.3471, 0.2661, 0.6598, 0.3887], grad_fn=<SelectBackward>)\n\n\n\nEpoch:36 Loss 5.000, w:tensor([0.3471, 0.2661, 0.6598, 0.3887], grad_fn=<SelectBackward>)\n\n\n\nEpoch:37 Loss 5.000, w:tensor([0.3471, 0.2661, 0.6598, 0.3887], grad_fn=<SelectBackward>)\n\n\n\nEpoch:38 Loss 5.000, w:tensor([0.3471, 0.2661, 0.6598, 0.3887], grad_fn=<SelectBackward>)\n\n\n\nEpoch:39 Loss 5.000, w:tensor([0.3471, 0.2661, 0.6598, 0.3887], grad_fn=<SelectBackward>)\n\n\n\nEpoch:40 Loss 5.000, w:tensor([0.3471, 0.2661, 0.6598, 0.3887], grad_fn=<SelectBackward>)\n\n\n\nEpoch:41 Loss 5.000, w:tensor([0.3471, 0.2661, 0.6598, 0.3887], grad_fn=<SelectBackward>)\n\n\n\nEpoch:42 Loss 5.000, w:tensor([0.3471, 0.2661, 0.6598, 0.3887], grad_fn=<SelectBackward>)\n\n\n\nEpoch:43 Loss 5.000, w:tensor([0.3471, 0.2661, 0.6598, 0.3887], grad_fn=<SelectBackward>)\n\n\n\nEpoch:44 Loss 5.000, w:tensor([0.3471, 0.2661, 0.6598, 0.3887], grad_fn=<SelectBackward>)\n\n\n\nEpoch:45 Loss 5.000, w:tensor([0.3471, 0.2661, 0.6598, 0.3887], grad_fn=<SelectBackward>)\n\n\n\nEpoch:46 Loss 5.000, w:tensor([0.3471, 0.2661, 0.6598, 0.3887], grad_fn=<SelectBackward>)\n\n\n\nEpoch:47 Loss 5.000, w:tensor([0.3471, 0.2661, 0.6598, 0.3887], grad_fn=<SelectBackward>)\n\n\n\nEpoch:48 Loss 5.000, w:tensor([0.3471, 0.2661, 0.6598, 0.3887], grad_fn=<SelectBackward>)\n\n\n\nEpoch:49 Loss 5.000, w:tensor([0.3471, 0.2661, 0.6598, 0.3887], grad_fn=<SelectBackward>)\n\n\n\nEpoch:50 Loss 5.000, w:tensor([0.3471, 0.2661, 0.6598, 0.3887], grad_fn=<SelectBackward>)\n\n\n\nEpoch:51 Loss 5.000, w:tensor([0.3471, 0.2661, 0.6598, 0.3887], grad_fn=<SelectBackward>)\n\n\n\nEpoch:52 Loss 5.000, w:tensor([0.3471, 0.2661, 0.6598, 0.3887], grad_fn=<SelectBackward>)\n\n\n\nEpoch:53 Loss 5.000, w:tensor([0.3471, 0.2661, 0.6598, 0.3887], grad_fn=<SelectBackward>)\n\n\n\nEpoch:54 Loss 5.000, w:tensor([0.3471, 0.2661, 0.6598, 0.3887], grad_fn=<SelectBackward>)\n\n\n\nEpoch:55 Loss 5.000, w:tensor([0.3471, 0.2661, 0.6598, 0.3887], grad_fn=<SelectBackward>)\n\n\n\nEpoch:56 Loss 5.000, w:tensor([0.3471, 0.2661, 0.6598, 0.3887], grad_fn=<SelectBackward>)\n\n\n\nEpoch:57 Loss 5.000, w:tensor([0.3471, 0.2661, 0.6598, 0.3887], grad_fn=<SelectBackward>)\n\n\n\nEpoch:58 Loss 5.000, w:tensor([0.3471, 0.2661, 0.6598, 0.3887], grad_fn=<SelectBackward>)\n\n\n\nEpoch:59 Loss 5.000, w:tensor([0.3471, 0.2661, 0.6598, 0.3887], grad_fn=<SelectBackward>)\n\n\n\nEpoch:60 Loss 5.000, w:tensor([0.3471, 0.2661, 0.6598, 0.3887], grad_fn=<SelectBackward>)\n\n\n\nEpoch:61 Loss 5.000, w:tensor([0.3471, 0.2661, 0.6598, 0.3887], grad_fn=<SelectBackward>)\n\n\n\nEpoch:62 Loss 5.000, w:tensor([0.3471, 0.2661, 0.6598, 0.3887], grad_fn=<SelectBackward>)\n\n\n\nEpoch:63 Loss 5.000, w:tensor([0.3471, 0.2661, 0.6598, 0.3887], grad_fn=<SelectBackward>)\n\n\n\nEpoch:64 Loss 5.000, w:tensor([0.3471, 0.2661, 0.6598, 0.3887], grad_fn=<SelectBackward>)\n\n\n\nEpoch:65 Loss 5.000, w:tensor([0.3471, 0.2661, 0.6598, 0.3887], grad_fn=<SelectBackward>)\n\n\n\nEpoch:66 Loss 5.000, w:tensor([0.3471, 0.2661, 0.6598, 0.3887], grad_fn=<SelectBackward>)\n\n\n\nEpoch:67 Loss 5.000, w:tensor([0.3471, 0.2661, 0.6598, 0.3887], grad_fn=<SelectBackward>)\n\n\n\nEpoch:68 Loss 5.000, w:tensor([0.3471, 0.2661, 0.6598, 0.3887], grad_fn=<SelectBackward>)\n\n\n\nEpoch:69 Loss 5.000, w:tensor([0.3471, 0.2661, 0.6598, 0.3887], grad_fn=<SelectBackward>)\n\n\n\nEpoch:70 Loss 5.000, w:tensor([0.3471, 0.2661, 0.6598, 0.3887], grad_fn=<SelectBackward>)\n\n\n\nEpoch:71 Loss 5.000, w:tensor([0.3471, 0.2661, 0.6598, 0.3887], grad_fn=<SelectBackward>)\n\n\n\nEpoch:72 Loss 5.000, w:tensor([0.3471, 0.2661, 0.6598, 0.3887], grad_fn=<SelectBackward>)\n\n\n\nEpoch:73 Loss 5.000, w:tensor([0.3471, 0.2661, 0.6598, 0.3887], grad_fn=<SelectBackward>)\n\n\n\nEpoch:74 Loss 5.000, w:tensor([0.3471, 0.2661, 0.6598, 0.3887], grad_fn=<SelectBackward>)\n\n\n\nEpoch:75 Loss 5.000, w:tensor([0.3471, 0.2661, 0.6598, 0.3887], grad_fn=<SelectBackward>)\n\n\n\nEpoch:76 Loss 5.000, w:tensor([0.3471, 0.2661, 0.6598, 0.3887], grad_fn=<SelectBackward>)\n\n\n\nEpoch:77 Loss 5.000, w:tensor([0.3471, 0.2661, 0.6598, 0.3887], grad_fn=<SelectBackward>)\n\n\n\nEpoch:78 Loss 5.000, w:tensor([0.3471, 0.2661, 0.6598, 0.3887], grad_fn=<SelectBackward>)\n\n\n\nEpoch:79 Loss 5.000, w:tensor([0.3471, 0.2661, 0.6598, 0.3887], grad_fn=<SelectBackward>)\n\n\n\nEpoch:80 Loss 5.000, w:tensor([0.3471, 0.2661, 0.6598, 0.3887], grad_fn=<SelectBackward>)\n\n\n\nEpoch:81 Loss 5.000, w:tensor([0.3471, 0.2661, 0.6598, 0.3887], grad_fn=<SelectBackward>)\n\n\n\nEpoch:82 Loss 5.000, w:tensor([0.3471, 0.2661, 0.6598, 0.3887], grad_fn=<SelectBackward>)\n\n\n\nEpoch:83 Loss 5.000, w:tensor([0.3471, 0.2661, 0.6598, 0.3887], grad_fn=<SelectBackward>)\n\n\n\nEpoch:84 Loss 5.000, w:tensor([0.3471, 0.2661, 0.6598, 0.3887], grad_fn=<SelectBackward>)\n\n\n\nEpoch:85 Loss 5.000, w:tensor([0.3471, 0.2661, 0.6598, 0.3887], grad_fn=<SelectBackward>)\n\n\n\nEpoch:86 Loss 5.000, w:tensor([0.3471, 0.2661, 0.6598, 0.3887], grad_fn=<SelectBackward>)\n\n\n\nEpoch:87 Loss 5.000, w:tensor([0.3471, 0.2661, 0.6598, 0.3887], grad_fn=<SelectBackward>)\n\n\n\nEpoch:88 Loss 5.000, w:tensor([0.3471, 0.2661, 0.6598, 0.3887], grad_fn=<SelectBackward>)\n\n\n\nEpoch:89 Loss 5.000, w:tensor([0.3471, 0.2661, 0.6598, 0.3887], grad_fn=<SelectBackward>)\n\n\n\nEpoch:90 Loss 5.000, w:tensor([0.3471, 0.2661, 0.6598, 0.3887], grad_fn=<SelectBackward>)\n\n\n\nEpoch:91 Loss 5.000, w:tensor([0.3471, 0.2661, 0.6598, 0.3887], grad_fn=<SelectBackward>)\n\n\n\nEpoch:92 Loss 5.000, w:tensor([0.3471, 0.2661, 0.6598, 0.3887], grad_fn=<SelectBackward>)\n\n\n\nEpoch:93 Loss 5.000, w:tensor([0.3471, 0.2661, 0.6598, 0.3887], grad_fn=<SelectBackward>)\n\n\n\nEpoch:94 Loss 5.000, w:tensor([0.3471, 0.2661, 0.6598, 0.3887], grad_fn=<SelectBackward>)\n\n\n\nEpoch:95 Loss 5.000, w:tensor([0.3471, 0.2661, 0.6598, 0.3887], grad_fn=<SelectBackward>)\n\n\n\nEpoch:96 Loss 5.000, w:tensor([0.3471, 0.2661, 0.6598, 0.3887], grad_fn=<SelectBackward>)\n\n\n\nEpoch:97 Loss 5.000, w:tensor([0.3471, 0.2661, 0.6598, 0.3887], grad_fn=<SelectBackward>)\n\n\n\nEpoch:98 Loss 5.000, w:tensor([0.3471, 0.2661, 0.6598, 0.3887], grad_fn=<SelectBackward>)\n\n\n\nEpoch:99 Loss 5.000, w:tensor([0.3471, 0.2661, 0.6598, 0.3887], grad_fn=<SelectBackward>)\n\n\n\n"
     ]
    }
   ],
   "source": [
    "import torch\n",
    "import torch.nn as nn\n",
    "\n",
    "\n",
    "X = torch.tensor([1,2,3,4], dtype=torch.float32)\n",
    "Y = torch.tensor([2,4,6,8], dtype=torch.float32)\n",
    "\n",
    "\n",
    "# manually\n",
    "# w = torch.tensor(0.8, requires_grad=True)\n",
    "# forward = lambda x: w*x\n",
    "model = nn.Linear(4,1)\n",
    "#manually:\n",
    "# loss = lambda y, y_hat: ((y-y_hat)**2).mean()\n",
    "loss = nn.MSELoss()\n",
    "optimizer = torch.optim.SGD(model.parameters(), .02)\n",
    "\n",
    "for epoch in range(100):\n",
    "    y_pred = model(X)\n",
    "    l = loss(y_pred, Y)\n",
    "    [w, b] = model.parameters()\n",
    "    print(f'Epoch:{epoch} Loss {l.item():.3f}, w:{w[0]}')\n",
    "\n",
    "    # either:\n",
    "    l.backward()\n",
    "    with torch.no_grad():\n",
    "        #manual\n",
    "        # w -= (.1 * w.grad)\n",
    "        optimizer.step()\n",
    "        optimizer.zero_grad()\n",
    "\n",
    "    # or manually:\n",
    "    # grad = lambda y_pred: np.dot(2*X, (y_pred-Y)).mean()\n",
    "    # g = grad(y_pred)\n",
    "\n",
    "\n",
    "\n",
    "    print()\n",
    "    print()\n",
    "    print()\n"
   ]
  },
  {
   "cell_type": "code",
   "execution_count": 9,
   "metadata": {
    "tags": [
     "outputPrepend"
    ]
   },
   "outputs": [
    {
     "output_type": "stream",
     "name": "stdout",
     "text": [
      "ights)\n |          Linear(in_features=2, out_features=2, bias=True)\n |          Parameter containing:\n |          tensor([[ 1.,  1.],\n |                  [ 1.,  1.]])\n |          Linear(in_features=2, out_features=2, bias=True)\n |          Parameter containing:\n |          tensor([[ 1.,  1.],\n |                  [ 1.,  1.]])\n |          Sequential(\n |            (0): Linear(in_features=2, out_features=2, bias=True)\n |            (1): Linear(in_features=2, out_features=2, bias=True)\n |          )\n |          Sequential(\n |            (0): Linear(in_features=2, out_features=2, bias=True)\n |            (1): Linear(in_features=2, out_features=2, bias=True)\n |          )\n |  \n |  bfloat16(self: ~T) -> ~T\n |      Casts all floating point parameters and buffers to ``bfloat16`` datatype.\n |      \n |      Returns:\n |          Module: self\n |  \n |  buffers(self, recurse: bool = True) -> Iterator[torch.Tensor]\n |      Returns an iterator over module buffers.\n |      \n |      Args:\n |          recurse (bool): if True, then yields buffers of this module\n |              and all submodules. Otherwise, yields only buffers that\n |              are direct members of this module.\n |      \n |      Yields:\n |          torch.Tensor: module buffer\n |      \n |      Example::\n |      \n |          >>> for buf in model.buffers():\n |          >>>     print(type(buf), buf.size())\n |          <class 'torch.Tensor'> (20L,)\n |          <class 'torch.Tensor'> (20L, 1L, 5L, 5L)\n |  \n |  children(self) -> Iterator[ForwardRef('Module')]\n |      Returns an iterator over immediate children modules.\n |      \n |      Yields:\n |          Module: a child module\n |  \n |  cpu(self: ~T) -> ~T\n |      Moves all model parameters and buffers to the CPU.\n |      \n |      Returns:\n |          Module: self\n |  \n |  cuda(self: ~T, device: Union[int, torch.device, NoneType] = None) -> ~T\n |      Moves all model parameters and buffers to the GPU.\n |      \n |      This also makes associated parameters and buffers different objects. So\n |      it should be called before constructing optimizer if the module will\n |      live on GPU while being optimized.\n |      \n |      Arguments:\n |          device (int, optional): if specified, all parameters will be\n |              copied to that device\n |      \n |      Returns:\n |          Module: self\n |  \n |  double(self: ~T) -> ~T\n |      Casts all floating point parameters and buffers to ``double`` datatype.\n |      \n |      Returns:\n |          Module: self\n |  \n |  eval(self: ~T) -> ~T\n |      Sets the module in evaluation mode.\n |      \n |      This has any effect only on certain modules. See documentations of\n |      particular modules for details of their behaviors in training/evaluation\n |      mode, if they are affected, e.g. :class:`Dropout`, :class:`BatchNorm`,\n |      etc.\n |      \n |      This is equivalent with :meth:`self.train(False) <torch.nn.Module.train>`.\n |      \n |      Returns:\n |          Module: self\n |  \n |  float(self: ~T) -> ~T\n |      Casts all floating point parameters and buffers to float datatype.\n |      \n |      Returns:\n |          Module: self\n |  \n |  half(self: ~T) -> ~T\n |      Casts all floating point parameters and buffers to ``half`` datatype.\n |      \n |      Returns:\n |          Module: self\n |  \n |  load_state_dict(self, state_dict: Dict[str, torch.Tensor], strict: bool = True)\n |      Copies parameters and buffers from :attr:`state_dict` into\n |      this module and its descendants. If :attr:`strict` is ``True``, then\n |      the keys of :attr:`state_dict` must exactly match the keys returned\n |      by this module's :meth:`~torch.nn.Module.state_dict` function.\n |      \n |      Arguments:\n |          state_dict (dict): a dict containing parameters and\n |              persistent buffers.\n |          strict (bool, optional): whether to strictly enforce that the keys\n |              in :attr:`state_dict` match the keys returned by this module's\n |              :meth:`~torch.nn.Module.state_dict` function. Default: ``True``\n |      \n |      Returns:\n |          ``NamedTuple`` with ``missing_keys`` and ``unexpected_keys`` fields:\n |              * **missing_keys** is a list of str containing the missing keys\n |              * **unexpected_keys** is a list of str containing the unexpected keys\n |  \n |  modules(self) -> Iterator[ForwardRef('Module')]\n |      Returns an iterator over all modules in the network.\n |      \n |      Yields:\n |          Module: a module in the network\n |      \n |      Note:\n |          Duplicate modules are returned only once. In the following\n |          example, ``l`` will be returned only once.\n |      \n |      Example::\n |      \n |          >>> l = nn.Linear(2, 2)\n |          >>> net = nn.Sequential(l, l)\n |          >>> for idx, m in enumerate(net.modules()):\n |                  print(idx, '->', m)\n |      \n |          0 -> Sequential(\n |            (0): Linear(in_features=2, out_features=2, bias=True)\n |            (1): Linear(in_features=2, out_features=2, bias=True)\n |          )\n |          1 -> Linear(in_features=2, out_features=2, bias=True)\n |  \n |  named_buffers(self, prefix: str = '', recurse: bool = True) -> Iterator[Tuple[str, torch.Tensor]]\n |      Returns an iterator over module buffers, yielding both the\n |      name of the buffer as well as the buffer itself.\n |      \n |      Args:\n |          prefix (str): prefix to prepend to all buffer names.\n |          recurse (bool): if True, then yields buffers of this module\n |              and all submodules. Otherwise, yields only buffers that\n |              are direct members of this module.\n |      \n |      Yields:\n |          (string, torch.Tensor): Tuple containing the name and buffer\n |      \n |      Example::\n |      \n |          >>> for name, buf in self.named_buffers():\n |          >>>    if name in ['running_var']:\n |          >>>        print(buf.size())\n |  \n |  named_children(self) -> Iterator[Tuple[str, ForwardRef('Module')]]\n |      Returns an iterator over immediate children modules, yielding both\n |      the name of the module as well as the module itself.\n |      \n |      Yields:\n |          (string, Module): Tuple containing a name and child module\n |      \n |      Example::\n |      \n |          >>> for name, module in model.named_children():\n |          >>>     if name in ['conv4', 'conv5']:\n |          >>>         print(module)\n |  \n |  named_modules(self, memo: Union[Set[ForwardRef('Module')], NoneType] = None, prefix: str = '')\n |      Returns an iterator over all modules in the network, yielding\n |      both the name of the module as well as the module itself.\n |      \n |      Yields:\n |          (string, Module): Tuple of name and module\n |      \n |      Note:\n |          Duplicate modules are returned only once. In the following\n |          example, ``l`` will be returned only once.\n |      \n |      Example::\n |      \n |          >>> l = nn.Linear(2, 2)\n |          >>> net = nn.Sequential(l, l)\n |          >>> for idx, m in enumerate(net.named_modules()):\n |                  print(idx, '->', m)\n |      \n |          0 -> ('', Sequential(\n |            (0): Linear(in_features=2, out_features=2, bias=True)\n |            (1): Linear(in_features=2, out_features=2, bias=True)\n |          ))\n |          1 -> ('0', Linear(in_features=2, out_features=2, bias=True))\n |  \n |  named_parameters(self, prefix: str = '', recurse: bool = True) -> Iterator[Tuple[str, torch.Tensor]]\n |      Returns an iterator over module parameters, yielding both the\n |      name of the parameter as well as the parameter itself.\n |      \n |      Args:\n |          prefix (str): prefix to prepend to all parameter names.\n |          recurse (bool): if True, then yields parameters of this module\n |              and all submodules. Otherwise, yields only parameters that\n |              are direct members of this module.\n |      \n |      Yields:\n |          (string, Parameter): Tuple containing the name and parameter\n |      \n |      Example::\n |      \n |          >>> for name, param in self.named_parameters():\n |          >>>    if name in ['bias']:\n |          >>>        print(param.size())\n |  \n |  parameters(self, recurse: bool = True) -> Iterator[torch.nn.parameter.Parameter]\n |      Returns an iterator over module parameters.\n |      \n |      This is typically passed to an optimizer.\n |      \n |      Args:\n |          recurse (bool): if True, then yields parameters of this module\n |              and all submodules. Otherwise, yields only parameters that\n |              are direct members of this module.\n |      \n |      Yields:\n |          Parameter: module parameter\n |      \n |      Example::\n |      \n |          >>> for param in model.parameters():\n |          >>>     print(type(param), param.size())\n |          <class 'torch.Tensor'> (20L,)\n |          <class 'torch.Tensor'> (20L, 1L, 5L, 5L)\n |  \n |  register_backward_hook(self, hook: Callable[[ForwardRef('Module'), Union[Tuple[torch.Tensor, ...], torch.Tensor], Union[Tuple[torch.Tensor, ...], torch.Tensor]], Union[NoneType, torch.Tensor]]) -> torch.utils.hooks.RemovableHandle\n |      Registers a backward hook on the module.\n |      \n |      .. warning ::\n |      \n |          The current implementation will not have the presented behavior\n |          for complex :class:`Module` that perform many operations.\n |          In some failure cases, :attr:`grad_input` and :attr:`grad_output` will only\n |          contain the gradients for a subset of the inputs and outputs.\n |          For such :class:`Module`, you should use :func:`torch.Tensor.register_hook`\n |          directly on a specific input or output to get the required gradients.\n |      \n |      The hook will be called every time the gradients with respect to module\n |      inputs are computed. The hook should have the following signature::\n |      \n |          hook(module, grad_input, grad_output) -> Tensor or None\n |      \n |      The :attr:`grad_input` and :attr:`grad_output` may be tuples if the\n |      module has multiple inputs or outputs. The hook should not modify its\n |      arguments, but it can optionally return a new gradient with respect to\n |      input that will be used in place of :attr:`grad_input` in subsequent\n |      computations. :attr:`grad_input` will only correspond to the inputs given\n |      as positional arguments.\n |      \n |      Returns:\n |          :class:`torch.utils.hooks.RemovableHandle`:\n |              a handle that can be used to remove the added hook by calling\n |              ``handle.remove()``\n |  \n |  register_buffer(self, name: str, tensor: Union[torch.Tensor, NoneType], persistent: bool = True) -> None\n |      Adds a buffer to the module.\n |      \n |      This is typically used to register a buffer that should not to be\n |      considered a model parameter. For example, BatchNorm's ``running_mean``\n |      is not a parameter, but is part of the module's state. Buffers, by\n |      default, are persistent and will be saved alongside parameters. This\n |      behavior can be changed by setting :attr:`persistent` to ``False``. The\n |      only difference between a persistent buffer and a non-persistent buffer\n |      is that the latter will not be a part of this module's\n |      :attr:`state_dict`.\n |      \n |      Buffers can be accessed as attributes using given names.\n |      \n |      Args:\n |          name (string): name of the buffer. The buffer can be accessed\n |              from this module using the given name\n |          tensor (Tensor): buffer to be registered.\n |          persistent (bool): whether the buffer is part of this module's\n |              :attr:`state_dict`.\n |      \n |      Example::\n |      \n |          >>> self.register_buffer('running_mean', torch.zeros(num_features))\n |  \n |  register_forward_hook(self, hook: Callable[..., NoneType]) -> torch.utils.hooks.RemovableHandle\n |      Registers a forward hook on the module.\n |      \n |      The hook will be called every time after :func:`forward` has computed an output.\n |      It should have the following signature::\n |      \n |          hook(module, input, output) -> None or modified output\n |      \n |      The input contains only the positional arguments given to the module.\n |      Keyword arguments won't be passed to the hooks and only to the ``forward``.\n |      The hook can modify the output. It can modify the input inplace but\n |      it will not have effect on forward since this is called after\n |      :func:`forward` is called.\n |      \n |      Returns:\n |          :class:`torch.utils.hooks.RemovableHandle`:\n |              a handle that can be used to remove the added hook by calling\n |              ``handle.remove()``\n |  \n |  register_forward_pre_hook(self, hook: Callable[..., NoneType]) -> torch.utils.hooks.RemovableHandle\n |      Registers a forward pre-hook on the module.\n |      \n |      The hook will be called every time before :func:`forward` is invoked.\n |      It should have the following signature::\n |      \n |          hook(module, input) -> None or modified input\n |      \n |      The input contains only the positional arguments given to the module.\n |      Keyword arguments won't be passed to the hooks and only to the ``forward``.\n |      The hook can modify the input. User can either return a tuple or a\n |      single modified value in the hook. We will wrap the value into a tuple\n |      if a single value is returned(unless that value is already a tuple).\n |      \n |      Returns:\n |          :class:`torch.utils.hooks.RemovableHandle`:\n |              a handle that can be used to remove the added hook by calling\n |              ``handle.remove()``\n |  \n |  register_parameter(self, name: str, param: Union[torch.nn.parameter.Parameter, NoneType]) -> None\n |      Adds a parameter to the module.\n |      \n |      The parameter can be accessed as an attribute using given name.\n |      \n |      Args:\n |          name (string): name of the parameter. The parameter can be accessed\n |              from this module using the given name\n |          param (Parameter): parameter to be added to the module.\n |  \n |  requires_grad_(self: ~T, requires_grad: bool = True) -> ~T\n |      Change if autograd should record operations on parameters in this\n |      module.\n |      \n |      This method sets the parameters' :attr:`requires_grad` attributes\n |      in-place.\n |      \n |      This method is helpful for freezing part of the module for finetuning\n |      or training parts of a model individually (e.g., GAN training).\n |      \n |      Args:\n |          requires_grad (bool): whether autograd should record operations on\n |                                parameters in this module. Default: ``True``.\n |      \n |      Returns:\n |          Module: self\n |  \n |  share_memory(self: ~T) -> ~T\n |  \n |  state_dict(self, destination=None, prefix='', keep_vars=False)\n |      Returns a dictionary containing a whole state of the module.\n |      \n |      Both parameters and persistent buffers (e.g. running averages) are\n |      included. Keys are corresponding parameter and buffer names.\n |      \n |      Returns:\n |          dict:\n |              a dictionary containing a whole state of the module\n |      \n |      Example::\n |      \n |          >>> module.state_dict().keys()\n |          ['bias', 'weight']\n |  \n |  to(self, *args, **kwargs)\n |      Moves and/or casts the parameters and buffers.\n |      \n |      This can be called as\n |      \n |      .. function:: to(device=None, dtype=None, non_blocking=False)\n |      \n |      .. function:: to(dtype, non_blocking=False)\n |      \n |      .. function:: to(tensor, non_blocking=False)\n |      \n |      .. function:: to(memory_format=torch.channels_last)\n |      \n |      Its signature is similar to :meth:`torch.Tensor.to`, but only accepts\n |      floating point desired :attr:`dtype` s. In addition, this method will\n |      only cast the floating point parameters and buffers to :attr:`dtype`\n |      (if given). The integral parameters and buffers will be moved\n |      :attr:`device`, if that is given, but with dtypes unchanged. When\n |      :attr:`non_blocking` is set, it tries to convert/move asynchronously\n |      with respect to the host if possible, e.g., moving CPU Tensors with\n |      pinned memory to CUDA devices.\n |      \n |      See below for examples.\n |      \n |      .. note::\n |          This method modifies the module in-place.\n |      \n |      Args:\n |          device (:class:`torch.device`): the desired device of the parameters\n |              and buffers in this module\n |          dtype (:class:`torch.dtype`): the desired floating point type of\n |              the floating point parameters and buffers in this module\n |          tensor (torch.Tensor): Tensor whose dtype and device are the desired\n |              dtype and device for all parameters and buffers in this module\n |          memory_format (:class:`torch.memory_format`): the desired memory\n |              format for 4D parameters and buffers in this module (keyword\n |              only argument)\n |      \n |      Returns:\n |          Module: self\n |      \n |      Example::\n |      \n |          >>> linear = nn.Linear(2, 2)\n |          >>> linear.weight\n |          Parameter containing:\n |          tensor([[ 0.1913, -0.3420],\n |                  [-0.5113, -0.2325]])\n |          >>> linear.to(torch.double)\n |          Linear(in_features=2, out_features=2, bias=True)\n |          >>> linear.weight\n |          Parameter containing:\n |          tensor([[ 0.1913, -0.3420],\n |                  [-0.5113, -0.2325]], dtype=torch.float64)\n |          >>> gpu1 = torch.device(\"cuda:1\")\n |          >>> linear.to(gpu1, dtype=torch.half, non_blocking=True)\n |          Linear(in_features=2, out_features=2, bias=True)\n |          >>> linear.weight\n |          Parameter containing:\n |          tensor([[ 0.1914, -0.3420],\n |                  [-0.5112, -0.2324]], dtype=torch.float16, device='cuda:1')\n |          >>> cpu = torch.device(\"cpu\")\n |          >>> linear.to(cpu)\n |          Linear(in_features=2, out_features=2, bias=True)\n |          >>> linear.weight\n |          Parameter containing:\n |          tensor([[ 0.1914, -0.3420],\n |                  [-0.5112, -0.2324]], dtype=torch.float16)\n |  \n |  train(self: ~T, mode: bool = True) -> ~T\n |      Sets the module in training mode.\n |      \n |      This has any effect only on certain modules. See documentations of\n |      particular modules for details of their behaviors in training/evaluation\n |      mode, if they are affected, e.g. :class:`Dropout`, :class:`BatchNorm`,\n |      etc.\n |      \n |      Args:\n |          mode (bool): whether to set training mode (``True``) or evaluation\n |                       mode (``False``). Default: ``True``.\n |      \n |      Returns:\n |          Module: self\n |  \n |  type(self: ~T, dst_type: Union[torch.dtype, str]) -> ~T\n |      Casts all parameters and buffers to :attr:`dst_type`.\n |      \n |      Arguments:\n |          dst_type (type or string): the desired type\n |      \n |      Returns:\n |          Module: self\n |  \n |  zero_grad(self, set_to_none: bool = False) -> None\n |      Sets gradients of all model parameters to zero. See similar function\n |      under :class:`torch.optim.Optimizer` for more context.\n |      \n |      Arguments:\n |          set_to_none (bool): instead of setting to zero, set the grads to None.\n |              See :meth:`torch.optim.Optimizer.zero_grad` for details.\n |  \n |  ----------------------------------------------------------------------\n |  Data descriptors inherited from torch.nn.modules.module.Module:\n |  \n |  __dict__\n |      dictionary for instance variables (if defined)\n |  \n |  __weakref__\n |      list of weak references to the object (if defined)\n |  \n |  ----------------------------------------------------------------------\n |  Data and other attributes inherited from torch.nn.modules.module.Module:\n |  \n |  T_destination = ~T_destination\n |  \n |  dump_patches = False\n\nNone\n"
     ]
    }
   ],
   "source": [
    "# 1) design model - input/output size forward pass\n",
    "# 2) define loss and optimizer  \n",
    "# 3) training loop:\n",
    "#       - forward pass\n",
    "#       - backward pass\n",
    "#       - update weights\n",
    "\n",
    "print(help(nn.Linear))\n"
   ]
  },
  {
   "cell_type": "code",
   "execution_count": 47,
   "metadata": {},
   "outputs": [
    {
     "output_type": "error",
     "ename": "TypeError",
     "evalue": "from_numpy() takes no keyword arguments",
     "traceback": [
      "\u001b[0;31m---------------------------------------------------------------------------\u001b[0m",
      "\u001b[0;31mTypeError\u001b[0m                                 Traceback (most recent call last)",
      "\u001b[0;32m<ipython-input-47-9df1266852dd>\u001b[0m in \u001b[0;36m<module>\u001b[0;34m\u001b[0m\n\u001b[1;32m     19\u001b[0m \u001b[0mX_test\u001b[0m \u001b[0;34m=\u001b[0m \u001b[0msc\u001b[0m\u001b[0;34m.\u001b[0m\u001b[0mtransform\u001b[0m\u001b[0;34m(\u001b[0m\u001b[0mX_test\u001b[0m\u001b[0;34m)\u001b[0m\u001b[0;34m\u001b[0m\u001b[0;34m\u001b[0m\u001b[0m\n\u001b[1;32m     20\u001b[0m \u001b[0;34m\u001b[0m\u001b[0m\n\u001b[0;32m---> 21\u001b[0;31m \u001b[0mX_train\u001b[0m \u001b[0;34m=\u001b[0m \u001b[0mtorch\u001b[0m\u001b[0;34m.\u001b[0m\u001b[0mfrom_numpy\u001b[0m\u001b[0;34m(\u001b[0m\u001b[0mX_train\u001b[0m\u001b[0;34m,\u001b[0m \u001b[0mdtype\u001b[0m\u001b[0;34m=\u001b[0m\u001b[0mtorch\u001b[0m\u001b[0;34m.\u001b[0m\u001b[0mfloat32\u001b[0m\u001b[0;34m)\u001b[0m\u001b[0;34m\u001b[0m\u001b[0;34m\u001b[0m\u001b[0m\n\u001b[0m\u001b[1;32m     22\u001b[0m \u001b[0mX_test\u001b[0m \u001b[0;34m=\u001b[0m \u001b[0mtorch\u001b[0m\u001b[0;34m.\u001b[0m\u001b[0mfrom_numpy\u001b[0m\u001b[0;34m(\u001b[0m\u001b[0mX_test\u001b[0m\u001b[0;34m,\u001b[0m \u001b[0mdtype\u001b[0m\u001b[0;34m=\u001b[0m\u001b[0mtorch\u001b[0m\u001b[0;34m.\u001b[0m\u001b[0mfloat32\u001b[0m\u001b[0;34m)\u001b[0m\u001b[0;34m\u001b[0m\u001b[0;34m\u001b[0m\u001b[0m\n\u001b[1;32m     23\u001b[0m \u001b[0;34m\u001b[0m\u001b[0m\n",
      "\u001b[0;31mTypeError\u001b[0m: from_numpy() takes no keyword arguments"
     ]
    }
   ],
   "source": [
    "import torch\n",
    "import numpy as np\n",
    "import torch.nn as nn\n",
    "from sklearn import datasets\n",
    "from sklearn.preprocessing import StandardScaler\n",
    "from sklearn.model_selection import train_test_split\n",
    "\n",
    "bc = datasets.load_breast_cancer()\n",
    "X,y = bc.data, bc.target\n",
    "\n",
    "nsamples = y.shape\n",
    "nfeatures = x.shape[1]\n",
    "\n",
    "\n",
    "X_train, X_test, Y_train, Y_test = train_test_split(X, y, test_size=.2, random_state=42)\n",
    "\n",
    "sc = StandardScaler().fit(X_train)\n",
    "X_train = sc.transform(X_train)\n",
    "X_test = sc.transform(X_test)\n",
    "\n",
    "X_train = torch.from_numpy(X_train.astype(torch.float32))\n",
    "X_test = torch.from_numpy(X_test.astype(torch.float32))\n",
    "\n",
    "y_train = torch.from_numpy(y_train.astype(torch.float32))\n",
    "y_test = torch.from_numpy(y_test.astype(torch.float32))\n",
    "\n",
    "y_train.t_()\n"
   ]
  },
  {
   "cell_type": "code",
   "execution_count": null,
   "metadata": {},
   "outputs": [],
   "source": []
  }
 ]
}