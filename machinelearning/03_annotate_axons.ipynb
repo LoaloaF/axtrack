{
 "cells": [
  {
   "cell_type": "markdown",
   "metadata": {},
   "source": [
    "Annotate the growth cones in the timelapse. Load the signal channel and background, save an rgb .npy array for visualizing later. Main purpose here is however to label growth cones. Create some empty shapes layers in napari, then label manually. After that, run the SAVE axon labels cells. One can also read in already labelled axons using the LOAD cell. This also checks if a sequence of detections is continueos (no timepoints skipped)."
   ]
  },
  {
   "cell_type": "code",
   "execution_count": 1,
   "metadata": {},
   "outputs": [],
   "source": [
    "import napari\n",
    "from tifffile import imread\n",
    "from tifffile import imsave\n",
    "%gui qt\n",
    "\n",
    "import numpy as np\n",
    "import pandas as pd\n",
    "import matplotlib.pyplot as plt\n",
    "\n",
    "import time\n",
    "import os\n",
    "inp_path = '/home/loaloa/Documents/training_data/'\n"
   ]
  },
  {
   "cell_type": "code",
   "execution_count": 2,
   "metadata": {},
   "outputs": [
    {
     "output_type": "stream",
     "name": "stdout",
     "text": [
      "(2920, 5764)\n"
     ]
    }
   ],
   "source": [
    "# timelapse 01\n",
    "inp_path = '/home/loaloa/Documents/training_data/'\n",
    "signal_tl140_file = inp_path+'D00_G001_RFP_compr.deflate.tif'\n",
    "signal_tl140 = imread(signal_tl140_file)\n",
    "H, W = signal_tl140.shape[1:]\n",
    "\n",
    "mask_tl140_file = inp_path+'D00_G001_Transmission_compr.deflate_mask1.npy'\n",
    "mask_tl140 = np.load(mask_tl140_file).astype(bool)\n",
    "print(mask_tl140.shape)\n",
    "\n",
    "# signal_tl140[:, ~mask_tl140] = 0"
   ]
  },
  {
   "cell_type": "code",
   "execution_count": 3,
   "metadata": {},
   "outputs": [
    {
     "output_type": "stream",
     "name": "stdout",
     "text": [
      "121\n",
      "(80, 1972, 3868)\n",
      "(80, 1972, 3868)\n",
      "(80, 2920, 5764)\n",
      "(1972, 3868)\n",
      "(2920, 5764)\n"
     ]
    }
   ],
   "source": [
    "# timelapse 13 design 04_G001\n",
    "signal_tl13_D04_file = inp_path+'D04_G004_GFP_compr.deflate.tif'\n",
    "signal_tl13_D04 = imread(signal_tl13_D04_file)[:80]\n",
    "print(signal_tl13_D04.min())\n",
    "signal_tl13_D04 -= 121\n",
    "signal_tl13_D04[signal_tl13_D04<0] = 0\n",
    "print(signal_tl13_D04.shape)\n",
    "H_D04, W_D04 = signal_tl13_D04.shape[1:]\n",
    "\n",
    "print(signal_tl13_D04.shape)\n",
    "signal_tl13_D04 = np.pad(signal_tl13_D04, ((0,0),((H-H_D04)//2,(H-H_D04)//2),((W-W_D04)//2,(W-W_D04)//2)), mode='constant') \n",
    "print(signal_tl13_D04.shape)\n",
    "\n",
    "\n",
    "mask_tl13_D04_file = inp_path+'D04_G004_Transmission_compr.deflate_mask1.npy'\n",
    "mask_tl13_D04 = np.load(mask_tl13_D04_file).astype(bool)\n",
    "print(mask_tl13_D04.shape)\n",
    "mask_tl13_D04 = np.pad(mask_tl13_D04, (((H-H_D04)//2,(H-H_D04)//2), ((W-W_D04)//2,(W-W_D04)//2)), mode='constant') \n",
    "print(mask_tl13_D04.shape)\n",
    "\n",
    "# signal_tl13_D04[:, ~mask_tl13_D04] = 0"
   ]
  },
  {
   "cell_type": "code",
   "execution_count": 4,
   "metadata": {},
   "outputs": [
    {
     "output_type": "stream",
     "name": "stdout",
     "text": [
      "(210, 1972, 3868)\n"
     ]
    }
   ],
   "source": [
    "# timelapse 13 design 19_G035\n",
    "signal_tl13_D19_file = inp_path+'D19_G035_GFP_compr.deflate.tif'\n",
    "signal_tl13_D19 = imread(signal_tl13_D19_file)\n",
    "signal_tl13_D19 -= 121\n",
    "signal_tl13_D19[signal_tl13_D19<0] = 0\n",
    "\n",
    "print(signal_tl13_D19.shape)\n",
    "H_D19, W_D19 = signal_tl13_D19.shape[1:]\n",
    "# viewer.add_image(signal_tl13_D19)\n",
    "\n",
    "# %matplotlib qt\n",
    "# plt.hist(np.random.choice(signal_tl13_D19[200].flatten(), 100000), bins=1095, range=(0,1095), label='tl1_last', alpha=.5)\n",
    "# print('1')\n",
    "# plt.hist(np.random.choice(signal_tl13_D19[0].flatten(), 100000), bins=1095, range=(0,1095), label='tl1_first', alpha=.5)\n",
    "# print('1')"
   ]
  },
  {
   "cell_type": "code",
   "execution_count": 5,
   "metadata": {},
   "outputs": [
    {
     "output_type": "execute_result",
     "data": {
      "text/plain": [
       "<Image layer 'signal_tl13_D19' at 0x7f5d359d8280>"
      ]
     },
     "metadata": {},
     "execution_count": 5
    }
   ],
   "source": [
    "viewer = napari.Viewer()\n",
    "viewer.add_image(signal_tl13_D19)"
   ]
  },
  {
   "cell_type": "code",
   "execution_count": 6,
   "metadata": {},
   "outputs": [
    {
     "output_type": "stream",
     "name": "stdout",
     "text": [
      "(1972, 3868)\n"
     ]
    }
   ],
   "source": [
    "mask = viewer.layers['Labels'].data.astype(bool)[0]\n",
    "print(mask.shape)\n",
    "# only a region of the timelapse was labelled. mask here\n",
    "signal_tl13_D19[:, mask] = 0"
   ]
  },
  {
   "cell_type": "code",
   "execution_count": 7,
   "metadata": {},
   "outputs": [
    {
     "output_type": "stream",
     "name": "stdout",
     "text": [
      "(210, 2920, 5764)\n",
      "(1972, 3868)\n",
      "(2920, 5764)\n"
     ]
    }
   ],
   "source": [
    "signal_tl13_D19 = np.pad(signal_tl13_D19, ((0,0),((H-H_D19)//2,(H-H_D19)//2),((W-W_D19)//2,(W-W_D19)//2)), mode='constant') \n",
    "print(signal_tl13_D19.shape)\n",
    "\n",
    "mask_tl13_D19_file = inp_path+'D19_G035_Transmission_compr.deflate_mask1.npy'\n",
    "mask_tl13_D19 = np.load(mask_tl13_D19_file).astype(bool)\n",
    "print(mask_tl13_D19.shape)\n",
    "mask_tl13_D19 = np.pad(mask_tl13_D19, (((H-H_D19)//2,(H-H_D19)//2), ((W-W_D19)//2,(W-W_D19)//2)), mode='constant') \n",
    "print(mask_tl13_D19.shape)\n",
    "\n",
    "# signal_tl13_D19[:, ~mask_tl13_D19] = 0"
   ]
  },
  {
   "cell_type": "code",
   "execution_count": 8,
   "metadata": {},
   "outputs": [
    {
     "output_type": "stream",
     "name": "stdout",
     "text": [
      "37\n80\n210\n"
     ]
    },
    {
     "output_type": "execute_result",
     "data": {
      "text/plain": [
       "(327, 2920, 5764)"
      ]
     },
     "metadata": {},
     "execution_count": 8
    }
   ],
   "source": [
    "# glue all dataobjects together to one tif\n",
    "print(len(signal_tl140))\n",
    "print(len(signal_tl13_D04))\n",
    "print(len(signal_tl13_D19))\n",
    "final_img = np.concatenate([signal_tl140, signal_tl13_D04, signal_tl13_D19], axis=0)\n",
    "final_img.shape"
   ]
  },
  {
   "cell_type": "code",
   "execution_count": 26,
   "metadata": {},
   "outputs": [],
   "source": [
    "\n",
    "ymin, ymax = 420, 2500\n",
    "# Y crop\n",
    "# final_img = final_img[:, ymin:ymax, :]\n",
    "# print(final_img.shape)\n",
    "fname = f'{inp_path}/training_timelapse.tif'\n",
    "# imsave(fname, final_img, photometric='minisblack', compression='deflate', bigtiff=True)\n",
    "final_img = imread(fname)\n",
    "\n",
    "print(final_img.shape)\n",
    "# viewer.add_image(final_img)"
   ]
  },
  {
   "cell_type": "code",
   "execution_count": 8,
   "metadata": {},
   "outputs": [
    {
     "output_type": "stream",
     "name": "stdout",
     "text": [
      "37\n",
      "37     1649.0\n",
      "38     1631.0\n",
      "39     1603.0\n",
      "40     1579.0\n",
      "41     1572.0\n",
      "        ...  \n",
      "112    1307.0\n",
      "113    1307.0\n",
      "114    1304.0\n",
      "115    1308.0\n",
      "116    1309.0\n",
      "Name: (Axon_100, anchor_y), Length: 80, dtype: float64\n",
      "117\n",
      "117.0   NaN\n",
      "118.0   NaN\n",
      "119.0   NaN\n",
      "120.0   NaN\n",
      "121.0   NaN\n",
      "         ..\n",
      "322.0   NaN\n",
      "323.0   NaN\n",
      "324.0   NaN\n",
      "325.0   NaN\n",
      "326.0   NaN\n",
      "Name: (Axon_167, anchor_y), Length: 210, dtype: float64\n",
      "      Axon_000                                                           \\\n",
      "      anchor_x anchor_y bottomright_x bottomright_y     col_b     col_g   \n",
      "0.0      221.0   1180.0         252.0        1627.0  0.570632  0.126446   \n",
      "1.0      144.0   1205.0         170.0        1645.0  0.570632  0.126446   \n",
      "2.0       83.0   1256.0         104.0        1703.0  0.570632  0.126446   \n",
      "3.0      169.0   1325.0         187.0        1764.0  0.570632  0.126446   \n",
      "4.0      162.0   1420.0         181.0        1861.0  0.570632  0.126446   \n",
      "...        ...      ...           ...           ...       ...       ...   \n",
      "322.0      NaN      NaN           NaN           NaN       NaN       NaN   \n",
      "323.0      NaN      NaN           NaN           NaN       NaN       NaN   \n",
      "324.0      NaN      NaN           NaN           NaN       NaN       NaN   \n",
      "325.0      NaN      NaN           NaN           NaN       NaN       NaN   \n",
      "326.0      NaN      NaN           NaN           NaN       NaN       NaN   \n",
      "\n",
      "                                              ... Axon_295          Axon_296  \\\n",
      "          col_r distance extend rel_distance  ... anchor_x anchor_y anchor_x   \n",
      "0.0    0.174816   3135.0   28.0          0.0  ...      NaN      NaN      NaN   \n",
      "1.0    0.174816   3237.0   23.0       -102.0  ...      NaN      NaN      NaN   \n",
      "2.0    0.174816   3349.0   24.0       -214.0  ...      NaN      NaN      NaN   \n",
      "3.0    0.174816   3500.0   18.0       -365.0  ...      NaN      NaN      NaN   \n",
      "4.0    0.174816   3618.0   20.0       -483.0  ...      NaN      NaN      NaN   \n",
      "...         ...      ...    ...          ...  ...      ...      ...      ...   \n",
      "322.0       NaN      NaN    NaN          NaN  ...      NaN      NaN      NaN   \n",
      "323.0       NaN      NaN    NaN          NaN  ...      NaN      NaN      NaN   \n",
      "324.0       NaN      NaN    NaN          NaN  ...      NaN      NaN      NaN   \n",
      "325.0       NaN      NaN    NaN          NaN  ...      NaN      NaN      NaN   \n",
      "326.0       NaN      NaN    NaN          NaN  ...      NaN      NaN      NaN   \n",
      "\n",
      "               Axon_297          Axon_298          Axon_299           \n",
      "      anchor_y anchor_x anchor_y anchor_x anchor_y anchor_x anchor_y  \n",
      "0.0        NaN      NaN      NaN      NaN      NaN      NaN      NaN  \n",
      "1.0        NaN      NaN      NaN      NaN      NaN      NaN      NaN  \n",
      "2.0        NaN      NaN      NaN      NaN      NaN      NaN      NaN  \n",
      "3.0        NaN      NaN      NaN      NaN      NaN      NaN      NaN  \n",
      "4.0        NaN      NaN      NaN      NaN      NaN      NaN      NaN  \n",
      "...        ...      ...      ...      ...      ...      ...      ...  \n",
      "322.0      NaN   2639.0    600.0      NaN      NaN      NaN      NaN  \n",
      "323.0      NaN   2625.0    601.0      NaN      NaN      NaN      NaN  \n",
      "324.0      NaN   2629.0    599.0      NaN      NaN      NaN      NaN  \n",
      "325.0      NaN   2629.0    601.0      NaN      NaN      NaN      NaN  \n",
      "326.0      NaN   2630.0    598.0      NaN      NaN      NaN      NaN  \n",
      "\n",
      "[327 rows x 1600 columns]\n"
     ]
    },
    {
     "output_type": "display_data",
     "data": {
      "text/plain": "<Figure size 432x288 with 1 Axes>",
      "image/svg+xml": "<?xml version=\"1.0\" encoding=\"utf-8\" standalone=\"no\"?>\n<!DOCTYPE svg PUBLIC \"-//W3C//DTD SVG 1.1//EN\"\n  \"http://www.w3.org/Graphics/SVG/1.1/DTD/svg11.dtd\">\n<!-- Created with matplotlib (https://matplotlib.org/) -->\n<svg height=\"251.984867pt\" version=\"1.1\" viewBox=\"0 0 239.973739 251.984867\" width=\"239.973739pt\" xmlns=\"http://www.w3.org/2000/svg\" xmlns:xlink=\"http://www.w3.org/1999/xlink\">\n <metadata>\n  <rdf:RDF xmlns:cc=\"http://creativecommons.org/ns#\" xmlns:dc=\"http://purl.org/dc/elements/1.1/\" xmlns:rdf=\"http://www.w3.org/1999/02/22-rdf-syntax-ns#\">\n   <cc:Work>\n    <dc:type rdf:resource=\"http://purl.org/dc/dcmitype/StillImage\"/>\n    <dc:date>2021-10-22T12:59:02.186047</dc:date>\n    <dc:format>image/svg+xml</dc:format>\n    <dc:creator>\n     <cc:Agent>\n      <dc:title>Matplotlib v3.3.4, https://matplotlib.org/</dc:title>\n     </cc:Agent>\n    </dc:creator>\n   </cc:Work>\n  </rdf:RDF>\n </metadata>\n <defs>\n  <style type=\"text/css\">*{stroke-linecap:butt;stroke-linejoin:round;}</style>\n </defs>\n <g id=\"figure_1\">\n  <g id=\"patch_1\">\n   <path d=\"M 0 251.984867 \nL 239.973739 251.984867 \nL 239.973739 0 \nL 0 0 \nz\n\" style=\"fill:none;\"/>\n  </g>\n  <g id=\"axes_1\">\n   <g id=\"patch_2\">\n    <path d=\"M 33.2875 228.106742 \nL 232.773739 228.106742 \nL 232.773739 10.666742 \nL 33.2875 10.666742 \nz\n\" style=\"fill:#ffffff;\"/>\n   </g>\n   <g clip-path=\"url(#p2a8836f755)\">\n    <image height=\"218\" id=\"image800ffd2627\" transform=\"scale(1 -1)translate(0 -218)\" width=\"200\" x=\"33.2875\" xlink:href=\"data:image/png;base64,\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\" y=\"-10.106742\"/>\n   </g>\n   <g id=\"matplotlib.axis_1\">\n    <g id=\"xtick_1\">\n     <g id=\"line2d_1\">\n      <defs>\n       <path d=\"M 0 0 \nL 0 3.5 \n\" id=\"ma572810c30\" style=\"stroke:#000000;stroke-width:0.8;\"/>\n      </defs>\n      <g>\n       <use style=\"stroke:#000000;stroke-width:0.8;\" x=\"33.619977\" xlink:href=\"#ma572810c30\" y=\"228.106742\"/>\n      </g>\n     </g>\n     <g id=\"text_1\">\n      <!-- 0 -->\n      <g transform=\"translate(30.438727 242.705179)scale(0.1 -0.1)\">\n       <defs>\n        <path d=\"M 31.78125 66.40625 \nQ 24.171875 66.40625 20.328125 58.90625 \nQ 16.5 51.421875 16.5 36.375 \nQ 16.5 21.390625 20.328125 13.890625 \nQ 24.171875 6.390625 31.78125 6.390625 \nQ 39.453125 6.390625 43.28125 13.890625 \nQ 47.125 21.390625 47.125 36.375 \nQ 47.125 51.421875 43.28125 58.90625 \nQ 39.453125 66.40625 31.78125 66.40625 \nz\nM 31.78125 74.21875 \nQ 44.046875 74.21875 50.515625 64.515625 \nQ 56.984375 54.828125 56.984375 36.375 \nQ 56.984375 17.96875 50.515625 8.265625 \nQ 44.046875 -1.421875 31.78125 -1.421875 \nQ 19.53125 -1.421875 13.0625 8.265625 \nQ 6.59375 17.96875 6.59375 36.375 \nQ 6.59375 54.828125 13.0625 64.515625 \nQ 19.53125 74.21875 31.78125 74.21875 \nz\n\" id=\"DejaVuSans-48\"/>\n       </defs>\n       <use xlink:href=\"#DejaVuSans-48\"/>\n      </g>\n     </g>\n    </g>\n    <g id=\"xtick_2\">\n     <g id=\"line2d_2\">\n      <g>\n       <use style=\"stroke:#000000;stroke-width:0.8;\" x=\"66.867683\" xlink:href=\"#ma572810c30\" y=\"228.106742\"/>\n      </g>\n     </g>\n     <g id=\"text_2\">\n      <!-- 50 -->\n      <g transform=\"translate(60.505183 242.705179)scale(0.1 -0.1)\">\n       <defs>\n        <path d=\"M 10.796875 72.90625 \nL 49.515625 72.90625 \nL 49.515625 64.59375 \nL 19.828125 64.59375 \nL 19.828125 46.734375 \nQ 21.96875 47.46875 24.109375 47.828125 \nQ 26.265625 48.1875 28.421875 48.1875 \nQ 40.625 48.1875 47.75 41.5 \nQ 54.890625 34.8125 54.890625 23.390625 \nQ 54.890625 11.625 47.5625 5.09375 \nQ 40.234375 -1.421875 26.90625 -1.421875 \nQ 22.3125 -1.421875 17.546875 -0.640625 \nQ 12.796875 0.140625 7.71875 1.703125 \nL 7.71875 11.625 \nQ 12.109375 9.234375 16.796875 8.0625 \nQ 21.484375 6.890625 26.703125 6.890625 \nQ 35.15625 6.890625 40.078125 11.328125 \nQ 45.015625 15.765625 45.015625 23.390625 \nQ 45.015625 31 40.078125 35.4375 \nQ 35.15625 39.890625 26.703125 39.890625 \nQ 22.75 39.890625 18.8125 39.015625 \nQ 14.890625 38.140625 10.796875 36.28125 \nz\n\" id=\"DejaVuSans-53\"/>\n       </defs>\n       <use xlink:href=\"#DejaVuSans-53\"/>\n       <use x=\"63.623047\" xlink:href=\"#DejaVuSans-48\"/>\n      </g>\n     </g>\n    </g>\n    <g id=\"xtick_3\">\n     <g id=\"line2d_3\">\n      <g>\n       <use style=\"stroke:#000000;stroke-width:0.8;\" x=\"100.11539\" xlink:href=\"#ma572810c30\" y=\"228.106742\"/>\n      </g>\n     </g>\n     <g id=\"text_3\">\n      <!-- 100 -->\n      <g transform=\"translate(90.57164 242.705179)scale(0.1 -0.1)\">\n       <defs>\n        <path d=\"M 12.40625 8.296875 \nL 28.515625 8.296875 \nL 28.515625 63.921875 \nL 10.984375 60.40625 \nL 10.984375 69.390625 \nL 28.421875 72.90625 \nL 38.28125 72.90625 \nL 38.28125 8.296875 \nL 54.390625 8.296875 \nL 54.390625 0 \nL 12.40625 0 \nz\n\" id=\"DejaVuSans-49\"/>\n       </defs>\n       <use xlink:href=\"#DejaVuSans-49\"/>\n       <use x=\"63.623047\" xlink:href=\"#DejaVuSans-48\"/>\n       <use x=\"127.246094\" xlink:href=\"#DejaVuSans-48\"/>\n      </g>\n     </g>\n    </g>\n    <g id=\"xtick_4\">\n     <g id=\"line2d_4\">\n      <g>\n       <use style=\"stroke:#000000;stroke-width:0.8;\" x=\"133.363096\" xlink:href=\"#ma572810c30\" y=\"228.106742\"/>\n      </g>\n     </g>\n     <g id=\"text_4\">\n      <!-- 150 -->\n      <g transform=\"translate(123.819346 242.705179)scale(0.1 -0.1)\">\n       <use xlink:href=\"#DejaVuSans-49\"/>\n       <use x=\"63.623047\" xlink:href=\"#DejaVuSans-53\"/>\n       <use x=\"127.246094\" xlink:href=\"#DejaVuSans-48\"/>\n      </g>\n     </g>\n    </g>\n    <g id=\"xtick_5\">\n     <g id=\"line2d_5\">\n      <g>\n       <use style=\"stroke:#000000;stroke-width:0.8;\" x=\"166.610803\" xlink:href=\"#ma572810c30\" y=\"228.106742\"/>\n      </g>\n     </g>\n     <g id=\"text_5\">\n      <!-- 200 -->\n      <g transform=\"translate(157.067053 242.705179)scale(0.1 -0.1)\">\n       <defs>\n        <path d=\"M 19.1875 8.296875 \nL 53.609375 8.296875 \nL 53.609375 0 \nL 7.328125 0 \nL 7.328125 8.296875 \nQ 12.9375 14.109375 22.625 23.890625 \nQ 32.328125 33.6875 34.8125 36.53125 \nQ 39.546875 41.84375 41.421875 45.53125 \nQ 43.3125 49.21875 43.3125 52.78125 \nQ 43.3125 58.59375 39.234375 62.25 \nQ 35.15625 65.921875 28.609375 65.921875 \nQ 23.96875 65.921875 18.8125 64.3125 \nQ 13.671875 62.703125 7.8125 59.421875 \nL 7.8125 69.390625 \nQ 13.765625 71.78125 18.9375 73 \nQ 24.125 74.21875 28.421875 74.21875 \nQ 39.75 74.21875 46.484375 68.546875 \nQ 53.21875 62.890625 53.21875 53.421875 \nQ 53.21875 48.921875 51.53125 44.890625 \nQ 49.859375 40.875 45.40625 35.40625 \nQ 44.1875 33.984375 37.640625 27.21875 \nQ 31.109375 20.453125 19.1875 8.296875 \nz\n\" id=\"DejaVuSans-50\"/>\n       </defs>\n       <use xlink:href=\"#DejaVuSans-50\"/>\n       <use x=\"63.623047\" xlink:href=\"#DejaVuSans-48\"/>\n       <use x=\"127.246094\" xlink:href=\"#DejaVuSans-48\"/>\n      </g>\n     </g>\n    </g>\n    <g id=\"xtick_6\">\n     <g id=\"line2d_6\">\n      <g>\n       <use style=\"stroke:#000000;stroke-width:0.8;\" x=\"199.858509\" xlink:href=\"#ma572810c30\" y=\"228.106742\"/>\n      </g>\n     </g>\n     <g id=\"text_6\">\n      <!-- 250 -->\n      <g transform=\"translate(190.314759 242.705179)scale(0.1 -0.1)\">\n       <use xlink:href=\"#DejaVuSans-50\"/>\n       <use x=\"63.623047\" xlink:href=\"#DejaVuSans-53\"/>\n       <use x=\"127.246094\" xlink:href=\"#DejaVuSans-48\"/>\n      </g>\n     </g>\n    </g>\n   </g>\n   <g id=\"matplotlib.axis_2\">\n    <g id=\"ytick_1\">\n     <g id=\"line2d_7\">\n      <defs>\n       <path d=\"M 0 0 \nL -3.5 0 \n\" id=\"m9575d4e150\" style=\"stroke:#000000;stroke-width:0.8;\"/>\n      </defs>\n      <g>\n       <use style=\"stroke:#000000;stroke-width:0.8;\" x=\"33.2875\" xlink:href=\"#m9575d4e150\" y=\"10.999219\"/>\n      </g>\n     </g>\n     <g id=\"text_7\">\n      <!-- 0 -->\n      <g transform=\"translate(19.925 14.798437)scale(0.1 -0.1)\">\n       <use xlink:href=\"#DejaVuSans-48\"/>\n      </g>\n     </g>\n    </g>\n    <g id=\"ytick_2\">\n     <g id=\"line2d_8\">\n      <g>\n       <use style=\"stroke:#000000;stroke-width:0.8;\" x=\"33.2875\" xlink:href=\"#m9575d4e150\" y=\"44.246925\"/>\n      </g>\n     </g>\n     <g id=\"text_8\">\n      <!-- 50 -->\n      <g transform=\"translate(13.5625 48.046144)scale(0.1 -0.1)\">\n       <use xlink:href=\"#DejaVuSans-53\"/>\n       <use x=\"63.623047\" xlink:href=\"#DejaVuSans-48\"/>\n      </g>\n     </g>\n    </g>\n    <g id=\"ytick_3\">\n     <g id=\"line2d_9\">\n      <g>\n       <use style=\"stroke:#000000;stroke-width:0.8;\" x=\"33.2875\" xlink:href=\"#m9575d4e150\" y=\"77.494632\"/>\n      </g>\n     </g>\n     <g id=\"text_9\">\n      <!-- 100 -->\n      <g transform=\"translate(7.2 81.29385)scale(0.1 -0.1)\">\n       <use xlink:href=\"#DejaVuSans-49\"/>\n       <use x=\"63.623047\" xlink:href=\"#DejaVuSans-48\"/>\n       <use x=\"127.246094\" xlink:href=\"#DejaVuSans-48\"/>\n      </g>\n     </g>\n    </g>\n    <g id=\"ytick_4\">\n     <g id=\"line2d_10\">\n      <g>\n       <use style=\"stroke:#000000;stroke-width:0.8;\" x=\"33.2875\" xlink:href=\"#m9575d4e150\" y=\"110.742338\"/>\n      </g>\n     </g>\n     <g id=\"text_10\">\n      <!-- 150 -->\n      <g transform=\"translate(7.2 114.541557)scale(0.1 -0.1)\">\n       <use xlink:href=\"#DejaVuSans-49\"/>\n       <use x=\"63.623047\" xlink:href=\"#DejaVuSans-53\"/>\n       <use x=\"127.246094\" xlink:href=\"#DejaVuSans-48\"/>\n      </g>\n     </g>\n    </g>\n    <g id=\"ytick_5\">\n     <g id=\"line2d_11\">\n      <g>\n       <use style=\"stroke:#000000;stroke-width:0.8;\" x=\"33.2875\" xlink:href=\"#m9575d4e150\" y=\"143.990044\"/>\n      </g>\n     </g>\n     <g id=\"text_11\">\n      <!-- 200 -->\n      <g transform=\"translate(7.2 147.789263)scale(0.1 -0.1)\">\n       <use xlink:href=\"#DejaVuSans-50\"/>\n       <use x=\"63.623047\" xlink:href=\"#DejaVuSans-48\"/>\n       <use x=\"127.246094\" xlink:href=\"#DejaVuSans-48\"/>\n      </g>\n     </g>\n    </g>\n    <g id=\"ytick_6\">\n     <g id=\"line2d_12\">\n      <g>\n       <use style=\"stroke:#000000;stroke-width:0.8;\" x=\"33.2875\" xlink:href=\"#m9575d4e150\" y=\"177.237751\"/>\n      </g>\n     </g>\n     <g id=\"text_12\">\n      <!-- 250 -->\n      <g transform=\"translate(7.2 181.03697)scale(0.1 -0.1)\">\n       <use xlink:href=\"#DejaVuSans-50\"/>\n       <use x=\"63.623047\" xlink:href=\"#DejaVuSans-53\"/>\n       <use x=\"127.246094\" xlink:href=\"#DejaVuSans-48\"/>\n      </g>\n     </g>\n    </g>\n    <g id=\"ytick_7\">\n     <g id=\"line2d_13\">\n      <g>\n       <use style=\"stroke:#000000;stroke-width:0.8;\" x=\"33.2875\" xlink:href=\"#m9575d4e150\" y=\"210.485457\"/>\n      </g>\n     </g>\n     <g id=\"text_13\">\n      <!-- 300 -->\n      <g transform=\"translate(7.2 214.284676)scale(0.1 -0.1)\">\n       <defs>\n        <path d=\"M 40.578125 39.3125 \nQ 47.65625 37.796875 51.625 33 \nQ 55.609375 28.21875 55.609375 21.1875 \nQ 55.609375 10.40625 48.1875 4.484375 \nQ 40.765625 -1.421875 27.09375 -1.421875 \nQ 22.515625 -1.421875 17.65625 -0.515625 \nQ 12.796875 0.390625 7.625 2.203125 \nL 7.625 11.71875 \nQ 11.71875 9.328125 16.59375 8.109375 \nQ 21.484375 6.890625 26.8125 6.890625 \nQ 36.078125 6.890625 40.9375 10.546875 \nQ 45.796875 14.203125 45.796875 21.1875 \nQ 45.796875 27.640625 41.28125 31.265625 \nQ 36.765625 34.90625 28.71875 34.90625 \nL 20.21875 34.90625 \nL 20.21875 43.015625 \nL 29.109375 43.015625 \nQ 36.375 43.015625 40.234375 45.921875 \nQ 44.09375 48.828125 44.09375 54.296875 \nQ 44.09375 59.90625 40.109375 62.90625 \nQ 36.140625 65.921875 28.71875 65.921875 \nQ 24.65625 65.921875 20.015625 65.03125 \nQ 15.375 64.15625 9.8125 62.3125 \nL 9.8125 71.09375 \nQ 15.4375 72.65625 20.34375 73.4375 \nQ 25.25 74.21875 29.59375 74.21875 \nQ 40.828125 74.21875 47.359375 69.109375 \nQ 53.90625 64.015625 53.90625 55.328125 \nQ 53.90625 49.265625 50.4375 45.09375 \nQ 46.96875 40.921875 40.578125 39.3125 \nz\n\" id=\"DejaVuSans-51\"/>\n       </defs>\n       <use xlink:href=\"#DejaVuSans-51\"/>\n       <use x=\"63.623047\" xlink:href=\"#DejaVuSans-48\"/>\n       <use x=\"127.246094\" xlink:href=\"#DejaVuSans-48\"/>\n      </g>\n     </g>\n    </g>\n   </g>\n   <g id=\"patch_3\">\n    <path d=\"M 33.2875 228.106742 \nL 33.2875 10.666742 \n\" style=\"fill:none;stroke:#000000;stroke-linecap:square;stroke-linejoin:miter;stroke-width:0.8;\"/>\n   </g>\n   <g id=\"patch_4\">\n    <path d=\"M 232.773739 228.106742 \nL 232.773739 10.666742 \n\" style=\"fill:none;stroke:#000000;stroke-linecap:square;stroke-linejoin:miter;stroke-width:0.8;\"/>\n   </g>\n   <g id=\"patch_5\">\n    <path d=\"M 33.2875 228.106742 \nL 232.773739 228.106742 \n\" style=\"fill:none;stroke:#000000;stroke-linecap:square;stroke-linejoin:miter;stroke-width:0.8;\"/>\n   </g>\n   <g id=\"patch_6\">\n    <path d=\"M 33.2875 10.666742 \nL 232.773739 10.666742 \n\" style=\"fill:none;stroke:#000000;stroke-linecap:square;stroke-linejoin:miter;stroke-width:0.8;\"/>\n   </g>\n  </g>\n </g>\n <defs>\n  <clipPath id=\"p2a8836f755\">\n   <rect height=\"217.44\" width=\"199.486239\" x=\"33.2875\" y=\"10.666742\"/>\n  </clipPath>\n </defs>\n</svg>\n",
      "image/png": "[encoded data removed]"
     },
     "metadata": {
      "needs_background": "light"
     }
    }
   ],
   "source": [
    "# labels\n",
    "bboxinfo_cols = ['anchor_x', 'anchor_y']\n",
    "\n",
    "tl140_labels_fname = inp_path+'D00_G001_labels_IDs_000-099.csv'\n",
    "tl140_labels = pd.read_csv(tl140_labels_fname, index_col=0, header=[0,1])\n",
    "for col in bboxinfo_cols:\n",
    "    ypad = -ymin\n",
    "    tl140_labels.loc[:, (slice(None), col)] += ypad if 'y' in col else 0\n",
    "\n",
    "ntimepoints = tl140_labels.shape[0]\n",
    "print(ntimepoints)\n",
    "\n",
    "\n",
    "tl13_D04_labels_fname = inp_path+'D04_G004_labels_IDs_100-166.csv'\n",
    "tl13_D04_labels = pd.read_csv(tl13_D04_labels_fname, index_col=0, header=[0,1])[:-1]\n",
    "# fix labels....\n",
    "tl13_D04_labels.columns = pd.MultiIndex.from_tuples([(axon, coo.replace('y','x') if coo.endswith('y') else coo.replace('x','y')) for axon,coo in    tl13_D04_labels.columns])\n",
    "# print(tl13_D04_labels)\n",
    "for col in bboxinfo_cols:\n",
    "    ypad = (H-H_D04)//2 -ymin\n",
    "    xpad = (W-W_D04)//2\n",
    "    tl13_D04_labels.loc[:, (slice(None), col)] += ypad if 'y' in col else xpad\n",
    "tl13_D04_labels.index += ntimepoints\n",
    "print(tl13_D04_labels.iloc[:,0])\n",
    "\n",
    "ntimepoints += tl13_D04_labels.shape[0]\n",
    "print(ntimepoints)\n",
    "\n",
    "tl13_D19_labels_fname = inp_path+'D19_G035_labels_IDs_167-299.csv'\n",
    "tl13_D19_labels = pd.read_csv(tl13_D19_labels_fname, index_col=0, header=[0,1])\n",
    "# fix labels\n",
    "tl13_D19_labels.columns = pd.MultiIndex.from_tuples([(axon, coo.replace('y','x') if coo.endswith('y') else coo.replace('x','y')) for axon,coo in    tl13_D19_labels.columns])\n",
    "for col in bboxinfo_cols:\n",
    "    ypad = (H-H_D19)//2 -ymin\n",
    "    xpad = (W-W_D19)//2\n",
    "    tl13_D19_labels.loc[:, (slice(None), col)] += ypad if 'y' in col else xpad\n",
    "tl13_D19_labels.index += ntimepoints\n",
    "print(tl13_D19_labels.iloc[:,0])\n",
    "\n",
    "\n",
    "\n",
    "all_labels = pd.concat([tl140_labels, tl13_D04_labels, tl13_D19_labels])\n",
    "print(all_labels)\n",
    "check = all_labels.loc[:,(slice(None),'anchor_x')].fillna(False).astype(bool)\n",
    "plt.imshow(check)\n",
    "\n",
    "all_labels.to_csv(inp_path+'axon_anchor_labels.csv')"
   ]
  },
  {
   "cell_type": "code",
   "execution_count": 56,
   "metadata": {},
   "outputs": [
    {
     "output_type": "stream",
     "name": "stdout",
     "text": [
      "(210, 2080, 5764)\n",
      "(327, 2080, 5764)\n",
      "[[[False False False ... False False False]\n",
      "  [False False False ... False False False]\n",
      "  [False False False ... False False False]\n",
      "  ...\n",
      "  [False False False ... False False False]\n",
      "  [False False False ... False False False]\n",
      "  [False False False ... False False False]]\n",
      "\n",
      " [[False False False ... False False False]\n",
      "  [False False False ... False False False]\n",
      "  [False False False ... False False False]\n",
      "  ...\n",
      "  [False False False ... False False False]\n",
      "  [False False False ... False False False]\n",
      "  [False False False ... False False False]]\n",
      "\n",
      " [[False False False ... False False False]\n",
      "  [False False False ... False False False]\n",
      "  [False False False ... False False False]\n",
      "  ...\n",
      "  [False False False ... False False False]\n",
      "  [False False False ... False False False]\n",
      "  [False False False ... False False False]]\n",
      "\n",
      " ...\n",
      "\n",
      " [[False False False ... False False False]\n",
      "  [False False False ... False False False]\n",
      "  [False False False ... False False False]\n",
      "  ...\n",
      "  [False False False ... False False False]\n",
      "  [False False False ... False False False]\n",
      "  [False False False ... False False False]]\n",
      "\n",
      " [[False False False ... False False False]\n",
      "  [False False False ... False False False]\n",
      "  [False False False ... False False False]\n",
      "  ...\n",
      "  [False False False ... False False False]\n",
      "  [False False False ... False False False]\n",
      "  [False False False ... False False False]]\n",
      "\n",
      " [[False False False ... False False False]\n",
      "  [False False False ... False False False]\n",
      "  [False False False ... False False False]\n",
      "  ...\n",
      "  [False False False ... False False False]\n",
      "  [False False False ... False False False]\n",
      "  [False False False ... False False False]]]\n",
      "(327, 2080, 5764)\n"
     ]
    }
   ],
   "source": [
    "#masks\n",
    "witht_mask_tl140 = np.stack([mask_tl140[ymin:ymax]]*len(signal_tl140))\n",
    "witht_mask_tl13_D04 = np.stack([mask_tl13_D04[ymin:ymax]]*len(signal_tl13_D04))\n",
    "witht_mask_tl13_D19 = np.stack([mask_tl13_D19[ymin:ymax]]*len(signal_tl13_D19))\n",
    "print(witht_mask_tl13_D19.shape)\n",
    "\n",
    "final_mask = np.concatenate([witht_mask_tl140, witht_mask_tl13_D04, witht_mask_tl13_D19], axis=0).astype(bool)\n",
    "print(final_mask.shape)\n",
    "fname = f'{inp_path}/training_mask.npy'\n",
    "np.save(fname, final_mask)\n",
    "\n",
    "f= np.load(fname)\n",
    "print(f)\n",
    "print(f.shape)"
   ]
  },
  {
   "cell_type": "code",
   "execution_count": 2,
   "metadata": {},
   "outputs": [
    {
     "output_type": "stream",
     "name": "stdout",
     "text": [
      "      Axon_000                                                           \\\n      anchor_x anchor_y bottomright_x bottomright_y     col_b     col_g   \n0.0      221.0   1180.0         252.0        1627.0  0.570632  0.126446   \n1.0      144.0   1205.0         170.0        1645.0  0.570632  0.126446   \n2.0       83.0   1256.0         104.0        1703.0  0.570632  0.126446   \n3.0      169.0   1325.0         187.0        1764.0  0.570632  0.126446   \n4.0      162.0   1420.0         181.0        1861.0  0.570632  0.126446   \n...        ...      ...           ...           ...       ...       ...   \n322.0      NaN      NaN           NaN           NaN       NaN       NaN   \n323.0      NaN      NaN           NaN           NaN       NaN       NaN   \n324.0      NaN      NaN           NaN           NaN       NaN       NaN   \n325.0      NaN      NaN           NaN           NaN       NaN       NaN   \n326.0      NaN      NaN           NaN           NaN       NaN       NaN   \n\n                                              ... Axon_295          Axon_296  \\\n          col_r distance extend rel_distance  ... anchor_x anchor_y anchor_x   \n0.0    0.174816   3135.0   28.0          0.0  ...      NaN      NaN      NaN   \n1.0    0.174816   3237.0   23.0       -102.0  ...      NaN      NaN      NaN   \n2.0    0.174816   3349.0   24.0       -214.0  ...      NaN      NaN      NaN   \n3.0    0.174816   3500.0   18.0       -365.0  ...      NaN      NaN      NaN   \n4.0    0.174816   3618.0   20.0       -483.0  ...      NaN      NaN      NaN   \n...         ...      ...    ...          ...  ...      ...      ...      ...   \n322.0       NaN      NaN    NaN          NaN  ...      NaN      NaN      NaN   \n323.0       NaN      NaN    NaN          NaN  ...      NaN      NaN      NaN   \n324.0       NaN      NaN    NaN          NaN  ...      NaN      NaN      NaN   \n325.0       NaN      NaN    NaN          NaN  ...      NaN      NaN      NaN   \n326.0       NaN      NaN    NaN          NaN  ...      NaN      NaN      NaN   \n\n               Axon_297          Axon_298          Axon_299           \n      anchor_y anchor_x anchor_y anchor_x anchor_y anchor_x anchor_y  \n0.0        NaN      NaN      NaN      NaN      NaN      NaN      NaN  \n1.0        NaN      NaN      NaN      NaN      NaN      NaN      NaN  \n2.0        NaN      NaN      NaN      NaN      NaN      NaN      NaN  \n3.0        NaN      NaN      NaN      NaN      NaN      NaN      NaN  \n4.0        NaN      NaN      NaN      NaN      NaN      NaN      NaN  \n...        ...      ...      ...      ...      ...      ...      ...  \n322.0      NaN   2639.0    600.0      NaN      NaN      NaN      NaN  \n323.0      NaN   2625.0    601.0      NaN      NaN      NaN      NaN  \n324.0      NaN   2629.0    599.0      NaN      NaN      NaN      NaN  \n325.0      NaN   2629.0    601.0      NaN      NaN      NaN      NaN  \n326.0      NaN   2630.0    598.0      NaN      NaN      NaN      NaN  \n\n[327 rows x 1600 columns]\n"
     ]
    }
   ],
   "source": [
    "all_labels = pd.read_csv(inp_path+'axon_anchor_labels.csv', header=[0,1], index_col=0)\n",
    "print(all_labels)\n",
    "# final_img = imread(inp_path+'training_timelapse.tif')\n",
    "# print(final_img.shape)\n",
    "# mask = np.load(f'{inp_path}/training_mask.npy')\n",
    "# print(mask.shape)\n"
   ]
  },
  {
   "cell_type": "code",
   "execution_count": 14,
   "metadata": {},
   "outputs": [
    {
     "output_type": "stream",
     "name": "stdout",
     "text": [
      "23.52\n"
     ]
    }
   ],
   "source": [
    "import config\n",
    "from matplotlib.colors import ListedColormap\n",
    "from models.v1model import utils\n",
    "\n",
    "sort = False\n",
    "subtr_t0 = False\n",
    "utils.turn_tex('on')\n",
    "show = False\n",
    "\n",
    "id_lifetime = all_labels.loc[:, (slice(None), 'anchor_y')].fillna(0).astype(bool).T\n",
    "print(id_lifetime.shape)\n",
    "\n",
    "# option to sort by ID lifetime length and to left-align the data to t0\n",
    "if sort:\n",
    "    id_lifetime = id_lifetime[np.argsort(id_lifetime.sum(1))]\n",
    "if subtr_t0:\n",
    "    id_lifetime_new = np.zeros_like(id_lifetime, bool)\n",
    "    for i, axon_row in enumerate(id_lifetime):\n",
    "        id_lives = np.where(axon_row)[0]\n",
    "        id_lifetime_new[i, id_lives-id_lives[0]] = True\n",
    "    id_lifetime = id_lifetime_new\n",
    "\n",
    "fig, ax = plt.subplots(figsize=config.MEDIUM_FIGSIZE)\n",
    "fig.subplots_adjust(left=.15)\n",
    "# colormap that is white for False (ID not present at t) and green for True\n",
    "ax.imshow(id_lifetime, cmap=ListedColormap([config.WHITE, config.DEFAULT_COLORS[0]]))\n",
    "ax.set_title(f'ID lifetime - training data', fontsize=config.FONTS)\n",
    "# if draw_verticle_lineat:\n",
    "#     ax.vlines(draw_verticle_lineat, 0, id_lifetime.shape[0]-1, linewidth=.5, color='k')\n",
    "\n",
    "# x, y axis setup\n",
    "ax.tick_params(labelsize=config.SMALL_FONTS)\n",
    "ax.set_xticks(np.arange(0,id_lifetime.shape[1], 40))\n",
    "ax.set_xlabel('timepoint', fontsize=config.FONTS)\n",
    "ax.set_yticks(np.arange(0,id_lifetime.shape[0], 40))\n",
    "ax.set_ylabel('Axon ID', fontsize=config.FONTS)\n",
    "\n",
    "if show:\n",
    "    plt.show()\n",
    "fname = f'../master_thesis/methods_figures/ID_lifetime_taindata.svg'\n",
    "plt.savefig(fname)\n",
    "plt.close()"
   ]
  },
  {
   "cell_type": "code",
   "execution_count": 3,
   "metadata": {},
   "outputs": [],
   "source": [
    "final_img[~mask] = 0"
   ]
  },
  {
   "cell_type": "code",
   "execution_count": 24,
   "metadata": {},
   "outputs": [
    {
     "output_type": "stream",
     "name": "stdout",
     "text": [
      "Axon_000\n",
      "Axon_013\n",
      "Axon_026\n",
      "Axon_039\n",
      "Axon_052\n",
      "Axon_065\n",
      "Axon_078\n",
      "Axon_091\n",
      "Axon_104\n",
      "Axon_117\n",
      "Axon_130\n",
      "Axon_143\n",
      "Axon_156\n",
      "Axon_169\n",
      "Axon_182\n",
      "Axon_195\n",
      "Axon_208\n",
      "Axon_221\n",
      "Axon_234\n",
      "Axon_247\n",
      "Axon_260\n",
      "Axon_273\n",
      "Axon_286\n",
      "Axon_299\n"
     ]
    }
   ],
   "source": [
    "n = 0\n",
    "# viewer.add_image(signal_tl140, colormap='red')\n",
    "# viewer.add_image(signal_tl13_D04, colormap='green')\n",
    "# viewer.add_image(signal_tl13_D19, colormap='green')\n",
    "viewer.add_image(final_img, colormap='red')\n",
    "\n",
    "# tl13_D04_labels = pd.read_csv(tl13_D04_labels_fname, index_col=0, header=[0,1])\n",
    "\n",
    "for axon in all_labels.columns.unique(0):\n",
    "    if not int(axon[-3:])%13:\n",
    "        print(axon)\n",
    "        ax_data = all_labels.loc[:, (axon,['anchor_y','anchor_x'])]\n",
    "        dat = np.concatenate([all_labels.index.values[:, np.newaxis]-n, ax_data], axis=-1)\n",
    "\n",
    "        col = np.random.rand(1,3)\n",
    "        viewer.add_points(name=axon, data=dat, size=40, opacity=.25, face_color=col, ndim=3)\n"
   ]
  },
  {
   "cell_type": "code",
   "execution_count": 4,
   "metadata": {},
   "outputs": [],
   "source": [
    "%gui qt"
   ]
  },
  {
   "cell_type": "code",
   "execution_count": 5,
   "metadata": {},
   "outputs": [],
   "source": [
    "import napari\n",
    "viewer = napari.Viewer()"
   ]
  },
  {
   "cell_type": "code",
   "execution_count": 17,
   "metadata": {},
   "outputs": [
    {
     "output_type": "execute_result",
     "data": {
      "text/plain": [
       "<Image layer 'final_img' at 0x7f59e95ba310>"
      ]
     },
     "metadata": {},
     "execution_count": 17
    }
   ],
   "source": [
    "viewer.add_image(final_img)"
   ]
  },
  {
   "cell_type": "code",
   "execution_count": 20,
   "metadata": {},
   "outputs": [],
   "source": [
    "overflow_mask = final_img>4095\n",
    "print(overflow_mask.sum())\n",
    "final_img[overflow_mask] = 0\n"
   ]
  },
  {
   "cell_type": "code",
   "execution_count": 6,
   "metadata": {},
   "outputs": [
    {
     "output_type": "stream",
     "name": "stdout",
     "text": [
      "0\n",
      "4095\n",
      "0\n",
      "4095\n",
      "0\n",
      "3974\n",
      "0\n",
      "3974\n",
      "0\n",
      "3968\n",
      "0\n",
      "3968\n"
     ]
    },
    {
     "output_type": "execute_result",
     "data": {
      "text/plain": [
       "<matplotlib.legend.Legend at 0x7fd16f89f7f0>"
      ]
     },
     "metadata": {},
     "execution_count": 6
    }
   ],
   "source": [
    "%matplotlib qt\n",
    "\n",
    "plt.hist(np.random.choice(final_img[36].flatten(), 100000), bins=1095, range=(0,4095), label='tl1_last', alpha=.5)\n",
    "print(final_img[36].min())\n",
    "print(final_img[36].max())\n",
    "\n",
    "plt.hist(np.random.choice(final_img[0].flatten(), 100000), bins=1095, range=(0,4095), label='tl1_first', alpha=.5)\n",
    "print(final_img[0].min())\n",
    "print(final_img[0].max())\n",
    "\n",
    "\n",
    "plt.hist(np.random.choice(final_img[115].flatten(), 100000), bins=1095, range=(0,4095), label='tl13_80_last', alpha=.5)\n",
    "print(final_img[115].min())\n",
    "print(final_img[115].max())\n",
    "plt.hist(np.random.choice(final_img[38].flatten(), 100000), bins=1095, range=(0,4095), label='tl13_80_first', alpha=.5)\n",
    "print(final_img[38].min())\n",
    "print(final_img[38].max())\n",
    "\n",
    "\n",
    "plt.hist(np.random.choice(final_img[120].flatten(), 100000), bins=1095, range=(0,4095), label='tl13_220_first', alpha=.5)\n",
    "print(final_img[120].min())\n",
    "print(final_img[120].max())\n",
    "plt.hist(np.random.choice(final_img[324].flatten(), 100000), bins=1095, range=(0,4095), label='tl13_220_last', alpha=.5)\n",
    "print(final_img[324].min())\n",
    "print(final_img[324].max())\n",
    "\n",
    "plt.legend()\n"
   ]
  },
  {
   "cell_type": "code",
   "execution_count": null,
   "metadata": {},
   "outputs": [],
   "source": [
    "viewer.add_image(redchannel3)\n",
    "viewer.layers['redchannel3'].blending = 'additive'\n",
    "viewer.layers['redchannel3'].colormap = 'red'\n",
    "viewer.layers['redchannel3'].contrast_limits = [0,2700]\n",
    "\n",
    "# viewer.add_image(greychannel)\n",
    "# viewer.layers['greychannel'].blending='additive'\n",
    "# viewer.layers['greychannel'].opacity = .1\n",
    "# viewer.layers['greychannel'].gamma = .6\n",
    "\n",
    "dest_dir = '/home/loaloa/Documents/D19_G035_labels'"
   ]
  },
  {
   "cell_type": "code",
   "execution_count": 85,
   "metadata": {},
   "outputs": [
    {
     "output_type": "stream",
     "name": "stdout",
     "text": [
      "Calculating motion (clip lower lim: 100) + Gaussian filtering (std: 3)...\n"
     ]
    },
    {
     "output_type": "error",
     "ename": "KeyboardInterrupt",
     "evalue": "",
     "traceback": [
      "\u001b[0;31m---------------------------------------------------------------------------\u001b[0m",
      "\u001b[0;31mKeyboardInterrupt\u001b[0m                         Traceback (most recent call last)",
      "\u001b[0;32m/tmp/ipykernel_15485/1049679834.py\u001b[0m in \u001b[0;36m<module>\u001b[0;34m\u001b[0m\n\u001b[1;32m     19\u001b[0m \u001b[0;34m\u001b[0m\u001b[0m\n\u001b[1;32m     20\u001b[0m     \u001b[0mpos_motion\u001b[0m \u001b[0;34m=\u001b[0m \u001b[0mnp\u001b[0m\u001b[0;34m.\u001b[0m\u001b[0mwhere\u001b[0m\u001b[0;34m(\u001b[0m\u001b[0mmotion_frame\u001b[0m\u001b[0;34m>\u001b[0m\u001b[0;36m0\u001b[0m\u001b[0;34m,\u001b[0m \u001b[0mmotion_frame\u001b[0m\u001b[0;34m,\u001b[0m \u001b[0;36m0\u001b[0m\u001b[0;34m)\u001b[0m\u001b[0;34m.\u001b[0m\u001b[0mastype\u001b[0m\u001b[0;34m(\u001b[0m\u001b[0mnp\u001b[0m\u001b[0;34m.\u001b[0m\u001b[0muint16\u001b[0m\u001b[0;34m)\u001b[0m\u001b[0;34m\u001b[0m\u001b[0;34m\u001b[0m\u001b[0m\n\u001b[0;32m---> 21\u001b[0;31m     \u001b[0mneg_motion\u001b[0m \u001b[0;34m=\u001b[0m \u001b[0mnp\u001b[0m\u001b[0;34m.\u001b[0m\u001b[0mwhere\u001b[0m\u001b[0;34m(\u001b[0m\u001b[0mmotion_frame\u001b[0m\u001b[0;34m<\u001b[0m\u001b[0;36m0\u001b[0m\u001b[0;34m,\u001b[0m \u001b[0mmotion_frame\u001b[0m\u001b[0;34m*\u001b[0m\u001b[0;34m-\u001b[0m\u001b[0;36m1\u001b[0m\u001b[0;34m,\u001b[0m \u001b[0;36m0\u001b[0m\u001b[0;34m)\u001b[0m\u001b[0;34m.\u001b[0m\u001b[0mastype\u001b[0m\u001b[0;34m(\u001b[0m\u001b[0mnp\u001b[0m\u001b[0;34m.\u001b[0m\u001b[0muint16\u001b[0m\u001b[0;34m)\u001b[0m\u001b[0;34m\u001b[0m\u001b[0;34m\u001b[0m\u001b[0m\n\u001b[0m\u001b[1;32m     22\u001b[0m \u001b[0;34m\u001b[0m\u001b[0m\n\u001b[1;32m     23\u001b[0m     \u001b[0mpos_motion_seq\u001b[0m\u001b[0;34m.\u001b[0m\u001b[0mappend\u001b[0m\u001b[0;34m(\u001b[0m\u001b[0mpos_motion\u001b[0m\u001b[0;34m)\u001b[0m\u001b[0;34m\u001b[0m\u001b[0;34m\u001b[0m\u001b[0m\n",
      "\u001b[0;31mKeyboardInterrupt\u001b[0m: "
     ]
    }
   ],
   "source": [
    "# compute motion and add to viewer\n",
    "blur_strength = 3\n",
    "lowerlim = 100\n",
    "print(f'Calculating motion (clip lower lim: {lowerlim}) + '\n",
    "      f'Gaussian filtering (std: {blur_strength})...', end='')\n",
    "\n",
    "from skimage.filters import gaussian\n",
    "\n",
    "pos_motion_seq = [np.zeros((sizey, sizex), float)]\n",
    "neg_motion_seq = [np.zeros((sizey, sizex), float)]\n",
    "# first timepoint has no t-1, set to all 0. Recommend to not use t=0\n",
    "print()\n",
    "for t in range(1, sizet):\n",
    "    motion_frame = redchannel[t].astype(float) - redchannel[t-1].astype(float)\n",
    "    motion_frame = gaussian(motion_frame.astype(float), blur_strength)\n",
    "        \n",
    "    # clipping\n",
    "    motion_frame[np.abs(motion_frame)<lowerlim] = 0\n",
    "\n",
    "    pos_motion = np.where(motion_frame>0, motion_frame, 0).astype(np.uint16)\n",
    "    neg_motion = np.where(motion_frame<0, motion_frame*-1, 0).astype(np.uint16)\n",
    "    \n",
    "    pos_motion_seq.append(pos_motion)\n",
    "    neg_motion_seq.append(neg_motion)\n",
    "    \n",
    "print('Done.')\n",
    "\n",
    "pos_motion_seq = np.stack(pos_motion_seq).astype(np.uint16)\n",
    "neg_motion_seq = np.stack(neg_motion_seq).astype(np.uint16)"
   ]
  },
  {
   "cell_type": "code",
   "execution_count": null,
   "metadata": {},
   "outputs": [],
   "source": [
    "viewer.add_image(pos_motion_seq)\n",
    "viewer.layers['pos_motion_seq'].blending = 'additive'\n",
    "viewer.layers['pos_motion_seq'].colormap = 'green'\n",
    "viewer.layers['pos_motion_seq'].contrast_limits = [0,2700]\n",
    "\n",
    "viewer.add_image(neg_motion_seq)\n",
    "viewer.layers['neg_motion_seq'].blending = 'additive'\n",
    "viewer.layers['neg_motion_seq'].colormap = 'blue'\n",
    "viewer.layers['neg_motion_seq'].contrast_limits = [0,2700]\n"
   ]
  },
  {
   "cell_type": "code",
   "execution_count": 57,
   "metadata": {},
   "outputs": [],
   "source": [
    "# CREATE EMPTY AXON LABELS\n",
    "axons_index = range(290,300)\n",
    "\n",
    "for ax_i in axons_index:\n",
    "    name = f'Axon_{ax_i:0>3}'\n",
    "    col = np.random.rand(1,3)\n",
    "\n",
    "    # edge coloring doesn't work unfortunately, do manually in gui\n",
    "    viewer.add_points(name=name, edge_color=col, face_color=col, opacity=.25, size=35, ndim=3)"
   ]
  },
  {
   "cell_type": "code",
   "execution_count": 58,
   "metadata": {
    "tags": []
   },
   "outputs": [
    {
     "output_type": "stream",
     "name": "stdout",
     "text": [
      "/home/loaloa/Documents/D19_G035_labels/labels_ID259-299.csv\n"
     ]
    },
    {
     "output_type": "execute_result",
     "data": {
      "text/plain": [
       "      Axon_259          Axon_260          Axon_261          Axon_262           \\\n",
       "      anchor_x anchor_y anchor_x anchor_y anchor_x anchor_y anchor_x anchor_y   \n",
       "0.0      503.0   1747.0    964.0   1691.0      NaN      NaN      NaN      NaN   \n",
       "1.0      506.0   1748.0    938.0   1693.0      NaN      NaN      NaN      NaN   \n",
       "2.0      503.0   1747.0    873.0   1681.0      NaN      NaN      NaN      NaN   \n",
       "3.0      505.0   1748.0    838.0   1693.0      NaN      NaN      NaN      NaN   \n",
       "4.0      491.0   1746.0    819.0   1726.0      NaN      NaN      NaN      NaN   \n",
       "...        ...      ...      ...      ...      ...      ...      ...      ...   \n",
       "205.0      NaN      NaN      NaN      NaN      NaN      NaN      NaN      NaN   \n",
       "206.0      NaN      NaN      NaN      NaN      NaN      NaN      NaN      NaN   \n",
       "207.0      NaN      NaN      NaN      NaN      NaN      NaN      NaN      NaN   \n",
       "208.0      NaN      NaN      NaN      NaN      NaN      NaN      NaN      NaN   \n",
       "209.0      NaN      NaN      NaN      NaN      NaN      NaN      NaN      NaN   \n",
       "\n",
       "      Axon_263           ... Axon_295          Axon_296          Axon_297  \\\n",
       "      anchor_x anchor_y  ... anchor_x anchor_y anchor_x anchor_y anchor_x   \n",
       "0.0        NaN      NaN  ...      NaN      NaN      NaN      NaN      NaN   \n",
       "1.0        NaN      NaN  ...      NaN      NaN      NaN      NaN      NaN   \n",
       "2.0        NaN      NaN  ...      NaN      NaN      NaN      NaN      NaN   \n",
       "3.0        NaN      NaN  ...      NaN      NaN      NaN      NaN      NaN   \n",
       "4.0        NaN      NaN  ...      NaN      NaN      NaN      NaN      NaN   \n",
       "...        ...      ...  ...      ...      ...      ...      ...      ...   \n",
       "205.0      NaN      NaN  ...      NaN      NaN      NaN      NaN    546.0   \n",
       "206.0      NaN      NaN  ...      NaN      NaN      NaN      NaN    547.0   \n",
       "207.0      NaN      NaN  ...      NaN      NaN      NaN      NaN    545.0   \n",
       "208.0      NaN      NaN  ...      NaN      NaN      NaN      NaN    547.0   \n",
       "209.0      NaN      NaN  ...      NaN      NaN      NaN      NaN    544.0   \n",
       "\n",
       "               Axon_298          Axon_299           \n",
       "      anchor_y anchor_x anchor_y anchor_x anchor_y  \n",
       "0.0        NaN      NaN      NaN      NaN      NaN  \n",
       "1.0        NaN      NaN      NaN      NaN      NaN  \n",
       "2.0        NaN      NaN      NaN      NaN      NaN  \n",
       "3.0        NaN      NaN      NaN      NaN      NaN  \n",
       "4.0        NaN      NaN      NaN      NaN      NaN  \n",
       "...        ...      ...      ...      ...      ...  \n",
       "205.0   1691.0      NaN      NaN      NaN      NaN  \n",
       "206.0   1677.0      NaN      NaN      NaN      NaN  \n",
       "207.0   1681.0      NaN      NaN      NaN      NaN  \n",
       "208.0   1681.0      NaN      NaN      NaN      NaN  \n",
       "209.0   1682.0      NaN      NaN      NaN      NaN  \n",
       "\n",
       "[210 rows x 82 columns]"
      ],
      "text/html": "<div>\n<style scoped>\n    .dataframe tbody tr th:only-of-type {\n        vertical-align: middle;\n    }\n\n    .dataframe tbody tr th {\n        vertical-align: top;\n    }\n\n    .dataframe thead tr th {\n        text-align: left;\n    }\n</style>\n<table border=\"1\" class=\"dataframe\">\n  <thead>\n    <tr>\n      <th></th>\n      <th colspan=\"2\" halign=\"left\">Axon_259</th>\n      <th colspan=\"2\" halign=\"left\">Axon_260</th>\n      <th colspan=\"2\" halign=\"left\">Axon_261</th>\n      <th colspan=\"2\" halign=\"left\">Axon_262</th>\n      <th colspan=\"2\" halign=\"left\">Axon_263</th>\n      <th>...</th>\n      <th colspan=\"2\" halign=\"left\">Axon_295</th>\n      <th colspan=\"2\" halign=\"left\">Axon_296</th>\n      <th colspan=\"2\" halign=\"left\">Axon_297</th>\n      <th colspan=\"2\" halign=\"left\">Axon_298</th>\n      <th colspan=\"2\" halign=\"left\">Axon_299</th>\n    </tr>\n    <tr>\n      <th></th>\n      <th>anchor_x</th>\n      <th>anchor_y</th>\n      <th>anchor_x</th>\n      <th>anchor_y</th>\n      <th>anchor_x</th>\n      <th>anchor_y</th>\n      <th>anchor_x</th>\n      <th>anchor_y</th>\n      <th>anchor_x</th>\n      <th>anchor_y</th>\n      <th>...</th>\n      <th>anchor_x</th>\n      <th>anchor_y</th>\n      <th>anchor_x</th>\n      <th>anchor_y</th>\n      <th>anchor_x</th>\n      <th>anchor_y</th>\n      <th>anchor_x</th>\n      <th>anchor_y</th>\n      <th>anchor_x</th>\n      <th>anchor_y</th>\n    </tr>\n  </thead>\n  <tbody>\n    <tr>\n      <th>0.0</th>\n      <td>503.0</td>\n      <td>1747.0</td>\n      <td>964.0</td>\n      <td>1691.0</td>\n      <td>NaN</td>\n      <td>NaN</td>\n      <td>NaN</td>\n      <td>NaN</td>\n      <td>NaN</td>\n      <td>NaN</td>\n      <td>...</td>\n      <td>NaN</td>\n      <td>NaN</td>\n      <td>NaN</td>\n      <td>NaN</td>\n      <td>NaN</td>\n      <td>NaN</td>\n      <td>NaN</td>\n      <td>NaN</td>\n      <td>NaN</td>\n      <td>NaN</td>\n    </tr>\n    <tr>\n      <th>1.0</th>\n      <td>506.0</td>\n      <td>1748.0</td>\n      <td>938.0</td>\n      <td>1693.0</td>\n      <td>NaN</td>\n      <td>NaN</td>\n      <td>NaN</td>\n      <td>NaN</td>\n      <td>NaN</td>\n      <td>NaN</td>\n      <td>...</td>\n      <td>NaN</td>\n      <td>NaN</td>\n      <td>NaN</td>\n      <td>NaN</td>\n      <td>NaN</td>\n      <td>NaN</td>\n      <td>NaN</td>\n      <td>NaN</td>\n      <td>NaN</td>\n      <td>NaN</td>\n    </tr>\n    <tr>\n      <th>2.0</th>\n      <td>503.0</td>\n      <td>1747.0</td>\n      <td>873.0</td>\n      <td>1681.0</td>\n      <td>NaN</td>\n      <td>NaN</td>\n      <td>NaN</td>\n      <td>NaN</td>\n      <td>NaN</td>\n      <td>NaN</td>\n      <td>...</td>\n      <td>NaN</td>\n      <td>NaN</td>\n      <td>NaN</td>\n      <td>NaN</td>\n      <td>NaN</td>\n      <td>NaN</td>\n      <td>NaN</td>\n      <td>NaN</td>\n      <td>NaN</td>\n      <td>NaN</td>\n    </tr>\n    <tr>\n      <th>3.0</th>\n      <td>505.0</td>\n      <td>1748.0</td>\n      <td>838.0</td>\n      <td>1693.0</td>\n      <td>NaN</td>\n      <td>NaN</td>\n      <td>NaN</td>\n      <td>NaN</td>\n      <td>NaN</td>\n      <td>NaN</td>\n      <td>...</td>\n      <td>NaN</td>\n      <td>NaN</td>\n      <td>NaN</td>\n      <td>NaN</td>\n      <td>NaN</td>\n      <td>NaN</td>\n      <td>NaN</td>\n      <td>NaN</td>\n      <td>NaN</td>\n      <td>NaN</td>\n    </tr>\n    <tr>\n      <th>4.0</th>\n      <td>491.0</td>\n      <td>1746.0</td>\n      <td>819.0</td>\n      <td>1726.0</td>\n      <td>NaN</td>\n      <td>NaN</td>\n      <td>NaN</td>\n      <td>NaN</td>\n      <td>NaN</td>\n      <td>NaN</td>\n      <td>...</td>\n      <td>NaN</td>\n      <td>NaN</td>\n      <td>NaN</td>\n      <td>NaN</td>\n      <td>NaN</td>\n      <td>NaN</td>\n      <td>NaN</td>\n      <td>NaN</td>\n      <td>NaN</td>\n      <td>NaN</td>\n    </tr>\n    <tr>\n      <th>...</th>\n      <td>...</td>\n      <td>...</td>\n      <td>...</td>\n      <td>...</td>\n      <td>...</td>\n      <td>...</td>\n      <td>...</td>\n      <td>...</td>\n      <td>...</td>\n      <td>...</td>\n      <td>...</td>\n      <td>...</td>\n      <td>...</td>\n      <td>...</td>\n      <td>...</td>\n      <td>...</td>\n      <td>...</td>\n      <td>...</td>\n      <td>...</td>\n      <td>...</td>\n      <td>...</td>\n    </tr>\n    <tr>\n      <th>205.0</th>\n      <td>NaN</td>\n      <td>NaN</td>\n      <td>NaN</td>\n      <td>NaN</td>\n      <td>NaN</td>\n      <td>NaN</td>\n      <td>NaN</td>\n      <td>NaN</td>\n      <td>NaN</td>\n      <td>NaN</td>\n      <td>...</td>\n      <td>NaN</td>\n      <td>NaN</td>\n      <td>NaN</td>\n      <td>NaN</td>\n      <td>546.0</td>\n      <td>1691.0</td>\n      <td>NaN</td>\n      <td>NaN</td>\n      <td>NaN</td>\n      <td>NaN</td>\n    </tr>\n    <tr>\n      <th>206.0</th>\n      <td>NaN</td>\n      <td>NaN</td>\n      <td>NaN</td>\n      <td>NaN</td>\n      <td>NaN</td>\n      <td>NaN</td>\n      <td>NaN</td>\n      <td>NaN</td>\n      <td>NaN</td>\n      <td>NaN</td>\n      <td>...</td>\n      <td>NaN</td>\n      <td>NaN</td>\n      <td>NaN</td>\n      <td>NaN</td>\n      <td>547.0</td>\n      <td>1677.0</td>\n      <td>NaN</td>\n      <td>NaN</td>\n      <td>NaN</td>\n      <td>NaN</td>\n    </tr>\n    <tr>\n      <th>207.0</th>\n      <td>NaN</td>\n      <td>NaN</td>\n      <td>NaN</td>\n      <td>NaN</td>\n      <td>NaN</td>\n      <td>NaN</td>\n      <td>NaN</td>\n      <td>NaN</td>\n      <td>NaN</td>\n      <td>NaN</td>\n      <td>...</td>\n      <td>NaN</td>\n      <td>NaN</td>\n      <td>NaN</td>\n      <td>NaN</td>\n      <td>545.0</td>\n      <td>1681.0</td>\n      <td>NaN</td>\n      <td>NaN</td>\n      <td>NaN</td>\n      <td>NaN</td>\n    </tr>\n    <tr>\n      <th>208.0</th>\n      <td>NaN</td>\n      <td>NaN</td>\n      <td>NaN</td>\n      <td>NaN</td>\n      <td>NaN</td>\n      <td>NaN</td>\n      <td>NaN</td>\n      <td>NaN</td>\n      <td>NaN</td>\n      <td>NaN</td>\n      <td>...</td>\n      <td>NaN</td>\n      <td>NaN</td>\n      <td>NaN</td>\n      <td>NaN</td>\n      <td>547.0</td>\n      <td>1681.0</td>\n      <td>NaN</td>\n      <td>NaN</td>\n      <td>NaN</td>\n      <td>NaN</td>\n    </tr>\n    <tr>\n      <th>209.0</th>\n      <td>NaN</td>\n      <td>NaN</td>\n      <td>NaN</td>\n      <td>NaN</td>\n      <td>NaN</td>\n      <td>NaN</td>\n      <td>NaN</td>\n      <td>NaN</td>\n      <td>NaN</td>\n      <td>NaN</td>\n      <td>...</td>\n      <td>NaN</td>\n      <td>NaN</td>\n      <td>NaN</td>\n      <td>NaN</td>\n      <td>544.0</td>\n      <td>1682.0</td>\n      <td>NaN</td>\n      <td>NaN</td>\n      <td>NaN</td>\n      <td>NaN</td>\n    </tr>\n  </tbody>\n</table>\n<p>210 rows × 82 columns</p>\n</div>"
     },
     "metadata": {},
     "execution_count": 58
    }
   ],
   "source": [
    "# save labels\n",
    "axons_index = range(259,300)\n",
    "\n",
    "all_axons_data = []\n",
    "for ax_i in axons_index:\n",
    "    name = f'Axon_{ax_i:0>3}'\n",
    "    dat = viewer.layers[name].data\n",
    "    idx = pd.MultiIndex.from_product([(name,), ('anchor_x', 'anchor_y')])\n",
    "    data = pd.DataFrame(dat[:,1:], index=dat[:,0], columns=idx, dtype=int)\n",
    "    \n",
    "    if ax_i == 137:\n",
    "        print(data.to_string())\n",
    "    if data.empty:\n",
    "        print(dat)\n",
    "        print(name)\n",
    "    # print(data)\n",
    "    all_axons_data.append(data)\n",
    "\n",
    "# print(all_axons_data)\n",
    "all_axons_data = pd.concat(all_axons_data, axis=1)\n",
    "\n",
    "fname = f'{dest_dir}/labels_ID{axons_index[0]}-{axons_index[-1]}.csv'\n",
    "all_axons_data.to_csv(fname) \n",
    "print(fname)\n",
    "all_axons_data"
   ]
  },
  {
   "cell_type": "code",
   "execution_count": 59,
   "metadata": {},
   "outputs": [
    {
     "output_type": "stream",
     "name": "stdout",
     "text": [
      "      Axon_167          Axon_168          Axon_169          Axon_170           \\\n      anchor_x anchor_y anchor_x anchor_y anchor_x anchor_y anchor_x anchor_y   \n0.0        NaN      NaN      NaN      NaN      NaN      NaN      NaN      NaN   \n1.0        NaN      NaN      NaN      NaN      NaN      NaN      NaN      NaN   \n2.0        NaN      NaN      NaN      NaN      NaN      NaN      NaN      NaN   \n3.0        NaN      NaN      NaN      NaN      NaN      NaN      NaN      NaN   \n4.0        NaN      NaN      NaN      NaN      NaN      NaN      NaN      NaN   \n...        ...      ...      ...      ...      ...      ...      ...      ...   \n205.0      NaN      NaN   1046.0      7.0      NaN      NaN      NaN      NaN   \n206.0      NaN      NaN   1049.0      7.0      NaN      NaN      NaN      NaN   \n207.0      NaN      NaN   1051.0      7.0      NaN      NaN      NaN      NaN   \n208.0      NaN      NaN   1016.0      4.0      NaN      NaN      NaN      NaN   \n209.0      NaN      NaN   1031.0      2.0      NaN      NaN      NaN      NaN   \n\n      Axon_171           ... Axon_215          Axon_216          Axon_217  \\\n      anchor_x anchor_y  ... anchor_x anchor_y anchor_x anchor_y anchor_x   \n0.0        NaN      NaN  ...      NaN      NaN      NaN      NaN      NaN   \n1.0        NaN      NaN  ...      NaN      NaN      NaN      NaN      NaN   \n2.0        NaN      NaN  ...      NaN      NaN      NaN      NaN      NaN   \n3.0        NaN      NaN  ...      NaN      NaN      NaN      NaN      NaN   \n4.0        NaN      NaN  ...      NaN      NaN      NaN      NaN      NaN   \n...        ...      ...  ...      ...      ...      ...      ...      ...   \n205.0      NaN      NaN  ...      NaN      NaN    694.0   1029.0    738.0   \n206.0      NaN      NaN  ...      NaN      NaN    693.0   1011.0    734.0   \n207.0      NaN      NaN  ...      NaN      NaN    706.0   1003.0    738.0   \n208.0      NaN      NaN  ...      NaN      NaN    713.0   1004.0    744.0   \n209.0      NaN      NaN  ...      NaN      NaN    741.0   1055.0    740.0   \n\n               Axon_218          Axon_219           \n      anchor_y anchor_x anchor_y anchor_x anchor_y  \n0.0        NaN      NaN      NaN      NaN      NaN  \n1.0        NaN      NaN      NaN      NaN      NaN  \n2.0        NaN      NaN      NaN      NaN      NaN  \n3.0        NaN      NaN      NaN      NaN      NaN  \n4.0        NaN      NaN      NaN      NaN      NaN  \n...        ...      ...      ...      ...      ...  \n205.0   1635.0    672.0   1426.0      NaN      NaN  \n206.0   1632.0    670.0   1426.0      NaN      NaN  \n207.0   1651.0    695.0   1500.0      NaN      NaN  \n208.0   1675.0    707.0   1528.0      NaN      NaN  \n209.0   1693.0    730.0   1599.0      NaN      NaN  \n\n[210 rows x 106 columns]\n      Axon_220          Axon_221          Axon_222          Axon_223           \\\n      anchor_x anchor_y anchor_x anchor_y anchor_x anchor_y anchor_x anchor_y   \n0.0     1322.0   1004.0      NaN      NaN   1754.0    925.0      NaN      NaN   \n1.0     1286.0    998.0      NaN      NaN   1693.0    920.0      NaN      NaN   \n2.0     1225.0    991.0      NaN      NaN   1587.0    964.0      NaN      NaN   \n3.0     1185.0    975.0      NaN      NaN   1528.0   1008.0      NaN      NaN   \n4.0     1149.0    956.0      NaN      NaN   1465.0   1010.0      NaN      NaN   \n...        ...      ...      ...      ...      ...      ...      ...      ...   \n204.0      NaN      NaN      NaN      NaN      NaN      NaN      NaN      NaN   \n205.0      NaN      NaN      NaN      NaN      NaN      NaN      NaN      NaN   \n206.0      NaN      NaN      NaN      NaN      NaN      NaN      NaN      NaN   \n207.0      NaN      NaN      NaN      NaN      NaN      NaN      NaN      NaN   \n208.0      NaN      NaN      NaN      NaN      NaN      NaN      NaN      NaN   \n\n      Axon_224           ... Axon_254          Axon_255          Axon_256  \\\n      anchor_x anchor_y  ... anchor_x anchor_y anchor_x anchor_y anchor_x   \n0.0        NaN      NaN  ...   1220.0   1089.0      NaN      NaN      NaN   \n1.0        NaN      NaN  ...   1224.0   1088.0      NaN      NaN      NaN   \n2.0        NaN      NaN  ...   1255.0   1088.0      NaN      NaN      NaN   \n3.0        NaN      NaN  ...   1276.0   1091.0      NaN      NaN      NaN   \n4.0        NaN      NaN  ...   1281.0   1100.0      NaN      NaN      NaN   \n...        ...      ...  ...      ...      ...      ...      ...      ...   \n204.0      NaN      NaN  ...      NaN      NaN      NaN      NaN      NaN   \n205.0      NaN      NaN  ...      NaN      NaN      NaN      NaN      NaN   \n206.0      NaN      NaN  ...      NaN      NaN      NaN      NaN      NaN   \n207.0      NaN      NaN  ...      NaN      NaN      NaN      NaN      NaN   \n208.0      NaN      NaN  ...      NaN      NaN      NaN      NaN      NaN   \n\n               Axon_257          Axon_258           \n      anchor_y anchor_x anchor_y anchor_x anchor_y  \n0.0        NaN      NaN      NaN      NaN      NaN  \n1.0        NaN      NaN      NaN      NaN      NaN  \n2.0        NaN      NaN      NaN      NaN      NaN  \n3.0        NaN      NaN      NaN      NaN      NaN  \n4.0        NaN      NaN      NaN      NaN      NaN  \n...        ...      ...      ...      ...      ...  \n204.0      NaN      NaN      NaN   1657.0   1141.0  \n205.0      NaN      NaN      NaN   1648.0   1130.0  \n206.0      NaN      NaN      NaN   1638.0   1102.0  \n207.0      NaN      NaN      NaN   1629.0   1078.0  \n208.0      NaN      NaN      NaN   1626.0   1052.0  \n\n[195 rows x 78 columns]\n      Axon_259          Axon_260          Axon_261          Axon_262           \\\n      anchor_x anchor_y anchor_x anchor_y anchor_x anchor_y anchor_x anchor_y   \n0.0      503.0   1747.0    964.0   1691.0      NaN      NaN      NaN      NaN   \n1.0      506.0   1748.0    938.0   1693.0      NaN      NaN      NaN      NaN   \n2.0      503.0   1747.0    873.0   1681.0      NaN      NaN      NaN      NaN   \n3.0      505.0   1748.0    838.0   1693.0      NaN      NaN      NaN      NaN   \n4.0      491.0   1746.0    819.0   1726.0      NaN      NaN      NaN      NaN   \n...        ...      ...      ...      ...      ...      ...      ...      ...   \n205.0      NaN      NaN      NaN      NaN      NaN      NaN      NaN      NaN   \n206.0      NaN      NaN      NaN      NaN      NaN      NaN      NaN      NaN   \n207.0      NaN      NaN      NaN      NaN      NaN      NaN      NaN      NaN   \n208.0      NaN      NaN      NaN      NaN      NaN      NaN      NaN      NaN   \n209.0      NaN      NaN      NaN      NaN      NaN      NaN      NaN      NaN   \n\n      Axon_263           ... Axon_295          Axon_296          Axon_297  \\\n      anchor_x anchor_y  ... anchor_x anchor_y anchor_x anchor_y anchor_x   \n0.0        NaN      NaN  ...      NaN      NaN      NaN      NaN      NaN   \n1.0        NaN      NaN  ...      NaN      NaN      NaN      NaN      NaN   \n2.0        NaN      NaN  ...      NaN      NaN      NaN      NaN      NaN   \n3.0        NaN      NaN  ...      NaN      NaN      NaN      NaN      NaN   \n4.0        NaN      NaN  ...      NaN      NaN      NaN      NaN      NaN   \n...        ...      ...  ...      ...      ...      ...      ...      ...   \n205.0      NaN      NaN  ...      NaN      NaN      NaN      NaN    546.0   \n206.0      NaN      NaN  ...      NaN      NaN      NaN      NaN    547.0   \n207.0      NaN      NaN  ...      NaN      NaN      NaN      NaN    545.0   \n208.0      NaN      NaN  ...      NaN      NaN      NaN      NaN    547.0   \n209.0      NaN      NaN  ...      NaN      NaN      NaN      NaN    544.0   \n\n               Axon_298          Axon_299           \n      anchor_y anchor_x anchor_y anchor_x anchor_y  \n0.0        NaN      NaN      NaN      NaN      NaN  \n1.0        NaN      NaN      NaN      NaN      NaN  \n2.0        NaN      NaN      NaN      NaN      NaN  \n3.0        NaN      NaN      NaN      NaN      NaN  \n4.0        NaN      NaN      NaN      NaN      NaN  \n...        ...      ...      ...      ...      ...  \n205.0   1691.0      NaN      NaN      NaN      NaN  \n206.0   1677.0      NaN      NaN      NaN      NaN  \n207.0   1681.0      NaN      NaN      NaN      NaN  \n208.0   1681.0      NaN      NaN      NaN      NaN  \n209.0   1682.0      NaN      NaN      NaN      NaN  \n\n[210 rows x 82 columns]\n"
     ]
    },
    {
     "output_type": "execute_result",
     "data": {
      "text/plain": [
       "      Axon_167          Axon_168          Axon_169          Axon_170           \\\n",
       "      anchor_x anchor_y anchor_x anchor_y anchor_x anchor_y anchor_x anchor_y   \n",
       "0.0        NaN      NaN      NaN      NaN      NaN      NaN      NaN      NaN   \n",
       "1.0        NaN      NaN      NaN      NaN      NaN      NaN      NaN      NaN   \n",
       "2.0        NaN      NaN      NaN      NaN      NaN      NaN      NaN      NaN   \n",
       "3.0        NaN      NaN      NaN      NaN      NaN      NaN      NaN      NaN   \n",
       "4.0        NaN      NaN      NaN      NaN      NaN      NaN      NaN      NaN   \n",
       "...        ...      ...      ...      ...      ...      ...      ...      ...   \n",
       "205.0      NaN      NaN   1046.0      7.0      NaN      NaN      NaN      NaN   \n",
       "206.0      NaN      NaN   1049.0      7.0      NaN      NaN      NaN      NaN   \n",
       "207.0      NaN      NaN   1051.0      7.0      NaN      NaN      NaN      NaN   \n",
       "208.0      NaN      NaN   1016.0      4.0      NaN      NaN      NaN      NaN   \n",
       "209.0      NaN      NaN   1031.0      2.0      NaN      NaN      NaN      NaN   \n",
       "\n",
       "      Axon_171           ... Axon_295          Axon_296          Axon_297  \\\n",
       "      anchor_x anchor_y  ... anchor_x anchor_y anchor_x anchor_y anchor_x   \n",
       "0.0        NaN      NaN  ...      NaN      NaN      NaN      NaN      NaN   \n",
       "1.0        NaN      NaN  ...      NaN      NaN      NaN      NaN      NaN   \n",
       "2.0        NaN      NaN  ...      NaN      NaN      NaN      NaN      NaN   \n",
       "3.0        NaN      NaN  ...      NaN      NaN      NaN      NaN      NaN   \n",
       "4.0        NaN      NaN  ...      NaN      NaN      NaN      NaN      NaN   \n",
       "...        ...      ...  ...      ...      ...      ...      ...      ...   \n",
       "205.0      NaN      NaN  ...      NaN      NaN      NaN      NaN    546.0   \n",
       "206.0      NaN      NaN  ...      NaN      NaN      NaN      NaN    547.0   \n",
       "207.0      NaN      NaN  ...      NaN      NaN      NaN      NaN    545.0   \n",
       "208.0      NaN      NaN  ...      NaN      NaN      NaN      NaN    547.0   \n",
       "209.0      NaN      NaN  ...      NaN      NaN      NaN      NaN    544.0   \n",
       "\n",
       "               Axon_298          Axon_299           \n",
       "      anchor_y anchor_x anchor_y anchor_x anchor_y  \n",
       "0.0        NaN      NaN      NaN      NaN      NaN  \n",
       "1.0        NaN      NaN      NaN      NaN      NaN  \n",
       "2.0        NaN      NaN      NaN      NaN      NaN  \n",
       "3.0        NaN      NaN      NaN      NaN      NaN  \n",
       "4.0        NaN      NaN      NaN      NaN      NaN  \n",
       "...        ...      ...      ...      ...      ...  \n",
       "205.0   1691.0      NaN      NaN      NaN      NaN  \n",
       "206.0   1677.0      NaN      NaN      NaN      NaN  \n",
       "207.0   1681.0      NaN      NaN      NaN      NaN  \n",
       "208.0   1681.0      NaN      NaN      NaN      NaN  \n",
       "209.0   1682.0      NaN      NaN      NaN      NaN  \n",
       "\n",
       "[210 rows x 266 columns]"
      ],
      "text/html": "<div>\n<style scoped>\n    .dataframe tbody tr th:only-of-type {\n        vertical-align: middle;\n    }\n\n    .dataframe tbody tr th {\n        vertical-align: top;\n    }\n\n    .dataframe thead tr th {\n        text-align: left;\n    }\n</style>\n<table border=\"1\" class=\"dataframe\">\n  <thead>\n    <tr>\n      <th></th>\n      <th colspan=\"2\" halign=\"left\">Axon_167</th>\n      <th colspan=\"2\" halign=\"left\">Axon_168</th>\n      <th colspan=\"2\" halign=\"left\">Axon_169</th>\n      <th colspan=\"2\" halign=\"left\">Axon_170</th>\n      <th colspan=\"2\" halign=\"left\">Axon_171</th>\n      <th>...</th>\n      <th colspan=\"2\" halign=\"left\">Axon_295</th>\n      <th colspan=\"2\" halign=\"left\">Axon_296</th>\n      <th colspan=\"2\" halign=\"left\">Axon_297</th>\n      <th colspan=\"2\" halign=\"left\">Axon_298</th>\n      <th colspan=\"2\" halign=\"left\">Axon_299</th>\n    </tr>\n    <tr>\n      <th></th>\n      <th>anchor_x</th>\n      <th>anchor_y</th>\n      <th>anchor_x</th>\n      <th>anchor_y</th>\n      <th>anchor_x</th>\n      <th>anchor_y</th>\n      <th>anchor_x</th>\n      <th>anchor_y</th>\n      <th>anchor_x</th>\n      <th>anchor_y</th>\n      <th>...</th>\n      <th>anchor_x</th>\n      <th>anchor_y</th>\n      <th>anchor_x</th>\n      <th>anchor_y</th>\n      <th>anchor_x</th>\n      <th>anchor_y</th>\n      <th>anchor_x</th>\n      <th>anchor_y</th>\n      <th>anchor_x</th>\n      <th>anchor_y</th>\n    </tr>\n  </thead>\n  <tbody>\n    <tr>\n      <th>0.0</th>\n      <td>NaN</td>\n      <td>NaN</td>\n      <td>NaN</td>\n      <td>NaN</td>\n      <td>NaN</td>\n      <td>NaN</td>\n      <td>NaN</td>\n      <td>NaN</td>\n      <td>NaN</td>\n      <td>NaN</td>\n      <td>...</td>\n      <td>NaN</td>\n      <td>NaN</td>\n      <td>NaN</td>\n      <td>NaN</td>\n      <td>NaN</td>\n      <td>NaN</td>\n      <td>NaN</td>\n      <td>NaN</td>\n      <td>NaN</td>\n      <td>NaN</td>\n    </tr>\n    <tr>\n      <th>1.0</th>\n      <td>NaN</td>\n      <td>NaN</td>\n      <td>NaN</td>\n      <td>NaN</td>\n      <td>NaN</td>\n      <td>NaN</td>\n      <td>NaN</td>\n      <td>NaN</td>\n      <td>NaN</td>\n      <td>NaN</td>\n      <td>...</td>\n      <td>NaN</td>\n      <td>NaN</td>\n      <td>NaN</td>\n      <td>NaN</td>\n      <td>NaN</td>\n      <td>NaN</td>\n      <td>NaN</td>\n      <td>NaN</td>\n      <td>NaN</td>\n      <td>NaN</td>\n    </tr>\n    <tr>\n      <th>2.0</th>\n      <td>NaN</td>\n      <td>NaN</td>\n      <td>NaN</td>\n      <td>NaN</td>\n      <td>NaN</td>\n      <td>NaN</td>\n      <td>NaN</td>\n      <td>NaN</td>\n      <td>NaN</td>\n      <td>NaN</td>\n      <td>...</td>\n      <td>NaN</td>\n      <td>NaN</td>\n      <td>NaN</td>\n      <td>NaN</td>\n      <td>NaN</td>\n      <td>NaN</td>\n      <td>NaN</td>\n      <td>NaN</td>\n      <td>NaN</td>\n      <td>NaN</td>\n    </tr>\n    <tr>\n      <th>3.0</th>\n      <td>NaN</td>\n      <td>NaN</td>\n      <td>NaN</td>\n      <td>NaN</td>\n      <td>NaN</td>\n      <td>NaN</td>\n      <td>NaN</td>\n      <td>NaN</td>\n      <td>NaN</td>\n      <td>NaN</td>\n      <td>...</td>\n      <td>NaN</td>\n      <td>NaN</td>\n      <td>NaN</td>\n      <td>NaN</td>\n      <td>NaN</td>\n      <td>NaN</td>\n      <td>NaN</td>\n      <td>NaN</td>\n      <td>NaN</td>\n      <td>NaN</td>\n    </tr>\n    <tr>\n      <th>4.0</th>\n      <td>NaN</td>\n      <td>NaN</td>\n      <td>NaN</td>\n      <td>NaN</td>\n      <td>NaN</td>\n      <td>NaN</td>\n      <td>NaN</td>\n      <td>NaN</td>\n      <td>NaN</td>\n      <td>NaN</td>\n      <td>...</td>\n      <td>NaN</td>\n      <td>NaN</td>\n      <td>NaN</td>\n      <td>NaN</td>\n      <td>NaN</td>\n      <td>NaN</td>\n      <td>NaN</td>\n      <td>NaN</td>\n      <td>NaN</td>\n      <td>NaN</td>\n    </tr>\n    <tr>\n      <th>...</th>\n      <td>...</td>\n      <td>...</td>\n      <td>...</td>\n      <td>...</td>\n      <td>...</td>\n      <td>...</td>\n      <td>...</td>\n      <td>...</td>\n      <td>...</td>\n      <td>...</td>\n      <td>...</td>\n      <td>...</td>\n      <td>...</td>\n      <td>...</td>\n      <td>...</td>\n      <td>...</td>\n      <td>...</td>\n      <td>...</td>\n      <td>...</td>\n      <td>...</td>\n      <td>...</td>\n    </tr>\n    <tr>\n      <th>205.0</th>\n      <td>NaN</td>\n      <td>NaN</td>\n      <td>1046.0</td>\n      <td>7.0</td>\n      <td>NaN</td>\n      <td>NaN</td>\n      <td>NaN</td>\n      <td>NaN</td>\n      <td>NaN</td>\n      <td>NaN</td>\n      <td>...</td>\n      <td>NaN</td>\n      <td>NaN</td>\n      <td>NaN</td>\n      <td>NaN</td>\n      <td>546.0</td>\n      <td>1691.0</td>\n      <td>NaN</td>\n      <td>NaN</td>\n      <td>NaN</td>\n      <td>NaN</td>\n    </tr>\n    <tr>\n      <th>206.0</th>\n      <td>NaN</td>\n      <td>NaN</td>\n      <td>1049.0</td>\n      <td>7.0</td>\n      <td>NaN</td>\n      <td>NaN</td>\n      <td>NaN</td>\n      <td>NaN</td>\n      <td>NaN</td>\n      <td>NaN</td>\n      <td>...</td>\n      <td>NaN</td>\n      <td>NaN</td>\n      <td>NaN</td>\n      <td>NaN</td>\n      <td>547.0</td>\n      <td>1677.0</td>\n      <td>NaN</td>\n      <td>NaN</td>\n      <td>NaN</td>\n      <td>NaN</td>\n    </tr>\n    <tr>\n      <th>207.0</th>\n      <td>NaN</td>\n      <td>NaN</td>\n      <td>1051.0</td>\n      <td>7.0</td>\n      <td>NaN</td>\n      <td>NaN</td>\n      <td>NaN</td>\n      <td>NaN</td>\n      <td>NaN</td>\n      <td>NaN</td>\n      <td>...</td>\n      <td>NaN</td>\n      <td>NaN</td>\n      <td>NaN</td>\n      <td>NaN</td>\n      <td>545.0</td>\n      <td>1681.0</td>\n      <td>NaN</td>\n      <td>NaN</td>\n      <td>NaN</td>\n      <td>NaN</td>\n    </tr>\n    <tr>\n      <th>208.0</th>\n      <td>NaN</td>\n      <td>NaN</td>\n      <td>1016.0</td>\n      <td>4.0</td>\n      <td>NaN</td>\n      <td>NaN</td>\n      <td>NaN</td>\n      <td>NaN</td>\n      <td>NaN</td>\n      <td>NaN</td>\n      <td>...</td>\n      <td>NaN</td>\n      <td>NaN</td>\n      <td>NaN</td>\n      <td>NaN</td>\n      <td>547.0</td>\n      <td>1681.0</td>\n      <td>NaN</td>\n      <td>NaN</td>\n      <td>NaN</td>\n      <td>NaN</td>\n    </tr>\n    <tr>\n      <th>209.0</th>\n      <td>NaN</td>\n      <td>NaN</td>\n      <td>1031.0</td>\n      <td>2.0</td>\n      <td>NaN</td>\n      <td>NaN</td>\n      <td>NaN</td>\n      <td>NaN</td>\n      <td>NaN</td>\n      <td>NaN</td>\n      <td>...</td>\n      <td>NaN</td>\n      <td>NaN</td>\n      <td>NaN</td>\n      <td>NaN</td>\n      <td>544.0</td>\n      <td>1682.0</td>\n      <td>NaN</td>\n      <td>NaN</td>\n      <td>NaN</td>\n      <td>NaN</td>\n    </tr>\n  </tbody>\n</table>\n<p>210 rows × 266 columns</p>\n</div>"
     },
     "metadata": {},
     "execution_count": 59
    }
   ],
   "source": [
    "# save labels\n",
    "all_axons_indices = [range(167,220), range(220,259), range(259,300)]\n",
    "# os.listdir(dest_dir)\n",
    "\n",
    "all_axons_data = []\n",
    "for axons_index in all_axons_indices:\n",
    "    data = pd.read_csv(f'{dest_dir}/labels_ID{axons_index[0]}-{axons_index[-1]}.csv', header=[0,1], index_col=0)\n",
    "    all_axons_data.append(data)\n",
    "    \n",
    "    print(data)\n",
    "all_axons_data = pd.concat(all_axons_data, axis=1)\n",
    "\n",
    "\n",
    "all_axons_data.to_csv(f'{dest_dir}/labels_ID_all{all_axons_indices[0][0]}-{all_axons_indices[-1][-1]}.csv')\n",
    "\n",
    "all_axons_data\n"
   ]
  },
  {
   "cell_type": "code",
   "execution_count": 28,
   "metadata": {
    "tags": []
   },
   "outputs": [
    {
     "output_type": "stream",
     "name": "stdout",
     "text": [
      "(101, 2)\n",
      "(101, 1)\n",
      "(101, 2)\n",
      "(101, 1)\n",
      "(101, 2)\n",
      "(101, 1)\n",
      "(101, 2)\n",
      "(101, 1)\n",
      "(101, 2)\n",
      "(101, 1)\n",
      "(101, 2)\n",
      "(101, 1)\n",
      "(101, 2)\n",
      "(101, 1)\n",
      "(101, 2)\n",
      "(101, 1)\n",
      "(101, 2)\n",
      "(101, 1)\n",
      "(101, 2)\n",
      "(101, 1)\n",
      "(101, 2)\n",
      "(101, 1)\n",
      "(101, 2)\n",
      "(101, 1)\n",
      "(101, 2)\n",
      "(101, 1)\n",
      "(101, 2)\n",
      "(101, 1)\n",
      "(101, 2)\n",
      "(101, 1)\n",
      "(101, 2)\n",
      "(101, 1)\n",
      "(101, 2)\n",
      "(101, 1)\n",
      "(101, 2)\n",
      "(101, 1)\n",
      "(101, 2)\n",
      "(101, 1)\n",
      "(101, 2)\n",
      "(101, 1)\n",
      "(101, 2)\n",
      "(101, 1)\n",
      "(101, 2)\n",
      "(101, 1)\n",
      "(101, 2)\n",
      "(101, 1)\n",
      "(101, 2)\n",
      "(101, 1)\n",
      "(101, 2)\n",
      "(101, 1)\n",
      "(101, 2)\n",
      "(101, 1)\n",
      "(101, 2)\n",
      "(101, 1)\n",
      "(101, 2)\n",
      "(101, 1)\n",
      "(101, 2)\n",
      "(101, 1)\n",
      "(101, 2)\n",
      "(101, 1)\n",
      "(101, 2)\n",
      "(101, 1)\n",
      "(101, 2)\n",
      "(101, 1)\n",
      "(101, 2)\n",
      "(101, 1)\n",
      "(101, 2)\n",
      "(101, 1)\n",
      "(101, 2)\n",
      "(101, 1)\n",
      "(101, 2)\n",
      "(101, 1)\n",
      "(101, 2)\n",
      "(101, 1)\n",
      "(101, 2)\n",
      "(101, 1)\n",
      "(101, 2)\n",
      "(101, 1)\n",
      "(101, 2)\n",
      "(101, 1)\n",
      "(101, 2)\n",
      "(101, 1)\n",
      "(101, 2)\n",
      "(101, 1)\n",
      "(101, 2)\n",
      "(101, 1)\n",
      "(101, 2)\n",
      "(101, 1)\n",
      "(101, 2)\n",
      "(101, 1)\n",
      "(101, 2)\n",
      "(101, 1)\n",
      "(101, 2)\n",
      "(101, 1)\n",
      "(101, 2)\n",
      "(101, 1)\n",
      "(101, 2)\n",
      "(101, 1)\n",
      "(101, 2)\n",
      "(101, 1)\n",
      "(101, 2)\n",
      "(101, 1)\n",
      "(101, 2)\n",
      "(101, 1)\n",
      "(101, 2)\n",
      "(101, 1)\n",
      "(101, 2)\n",
      "(101, 1)\n",
      "(101, 2)\n",
      "(101, 1)\n",
      "(101, 2)\n",
      "(101, 1)\n",
      "(101, 2)\n",
      "(101, 1)\n",
      "(101, 2)\n",
      "(101, 1)\n",
      "(101, 2)\n",
      "(101, 1)\n",
      "(101, 2)\n",
      "(101, 1)\n",
      "(101, 2)\n",
      "(101, 1)\n",
      "(101, 2)\n",
      "(101, 1)\n",
      "(101, 2)\n",
      "(101, 1)\n",
      "(101, 2)\n",
      "(101, 1)\n",
      "(101, 2)\n",
      "(101, 1)\n",
      "(101, 2)\n",
      "(101, 1)\n",
      "(101, 2)\n",
      "(101, 1)\n"
     ]
    }
   ],
   "source": [
    "for axon in all_axons_data.columns.unique(0):\n",
    "    ax_data = all_axons_data[axon]\n",
    "    print(ax_data.shape)\n",
    "    print(all_axons_data.index.values[:, np.newaxis].shape)\n",
    "    dat = np.concatenate([all_axons_data.index.values[:, np.newaxis], ax_data], axis=-1)\n",
    "    viewer.add_points(name=axon, data=dat)\n"
   ]
  },
  {
   "cell_type": "code",
   "execution_count": null,
   "metadata": {
    "scrolled": true,
    "tags": []
   },
   "outputs": [],
   "source": [
    "# SAVE AXONS\n",
    "print('SAVING...')\n",
    "axons_index = range(100)\n",
    "\n",
    "# backup for safety always created new\n",
    "dir_name = f'{outp_path}/labelled_axons_backup/labelled_axons n{len(axons_index)}.{time.ctime(time.time())}'\n",
    "os.makedirs(dir_name, exist_ok=True)\n",
    "\n",
    "all_axons_df = []\n",
    "for ax_i in axons_index:\n",
    "    name = f'Axon_{ax_i:0>3}'\n",
    "    # old labelling, save base object as .npy, Used for loading axon bboxes in this script\n",
    "    labels = np.array(viewer.layers[name].data)\n",
    "    np.save(f'{dir_name}/{name}.npy', labels)   # safety backup\n",
    "    np.save(f'{outp_path}/labelled_axons/{name}.npy', labels)   # what's actually used\n",
    "\n",
    "    # make dataframe to save all information\n",
    "    timepoints = labels[:,0,0].astype(int)\n",
    "    print(f'{name} n={viewer.layers[name].nshapes}...', end='')\n",
    "    # create a pandas dataframe for this specific axons\n",
    "    idx = pd.MultiIndex.from_product([(name,),\n",
    "                                    ('anchor_x', 'anchor_y', 'extend', \n",
    "                                     'topleft_x', 'topleft_y', \n",
    "                                     'bottomright_x', 'bottomright_y', \n",
    "                                     'distance', 'rel_distance',\n",
    "                                     'col_r', 'col_g', 'col_b',)])\n",
    "    dat = pd.DataFrame(index=range(sizet), columns=idx)\n",
    "    \n",
    "    # populate the dataframe with all the relvent bbox information\n",
    "    color = viewer.layers[name].edge_color\n",
    "    dat.loc[timepoints, (name, ['col_r', 'col_g', 'col_b'])] = color[:,:-1]\n",
    "        \n",
    "    start = labels[:, :,1:].min(axis=1).astype(int)\n",
    "    end = labels[:,:,1:].max(axis=1).astype(int)\n",
    "    dat.loc[timepoints, (name, 'topleft_x')] = start[:, 1]\n",
    "    dat.loc[timepoints, (name, 'topleft_y')] = start[:, 0]\n",
    "    dat.loc[timepoints, (name, 'bottomright_x')] = end[:, 1]\n",
    "    dat.loc[timepoints, (name, 'bottomright_y')] = end[:, 0]\n",
    "\n",
    "    x_dist, y_dist = end[:,1]-start[:,1], end[:,0]-start[:,0]\n",
    "    extend = ((x_dist+y_dist)//4).astype(int)\n",
    "    dat.loc[timepoints, (name, 'extend')] = extend\n",
    "\n",
    "    anchor_x = (start[:,1] + extend).astype(int)\n",
    "    anchor_y = (start[:,0] + extend).astype(int)\n",
    "    dat.loc[timepoints, (name, 'anchor_x')] = anchor_x\n",
    "    dat.loc[timepoints, (name, 'anchor_y')] = anchor_y\n",
    "    # this is the old way of computing distance: simply eucl. \n",
    "    dist = np.sqrt((anchor_x-target[1])**2 + (anchor_y-target[0])**2)\n",
    "    dat.loc[timepoints, (name, 'distance')] = dist\n",
    "    dat.loc[timepoints, (name, 'rel_distance')] = dist[np.where(timepoints == min(timepoints))] - dist\n",
    "\n",
    "    all_axons_df.append(dat)\n",
    "    print('Ok.')\n",
    "all_axons_df = pd.concat(all_axons_df, axis=1).sort_index(axis=1)\n",
    "all_axons_df.to_csv(f'{outp_path}/labelled_axons_eucldists_new.csv')\n"
   ]
  },
  {
   "cell_type": "code",
   "execution_count": null,
   "metadata": {},
   "outputs": [],
   "source": [
    "from skimage.color import gray2rgb\n",
    "from skimage import img_as_float\n",
    "from skimage.draw import rectangle_perimeter\n",
    "from skimage import img_as_uint\n",
    "\n",
    "redchannel_float = img_as_float(redchannel)"
   ]
  },
  {
   "cell_type": "code",
   "execution_count": null,
   "metadata": {},
   "outputs": [],
   "source": [
    "rgb_image = np.zeros((sizet, sizey, sizex, 3), float)\n",
    "rgb_image[:,:,:,0] = redchannel_float\n",
    "rgb_image /= rgb_image.max()"
   ]
  },
  {
   "cell_type": "code",
   "execution_count": null,
   "metadata": {},
   "outputs": [],
   "source": [
    "# LOAD AXONS AS LAYERS, or rgb image, show which timepoint is lablled \n",
    "as_shapes = True\n",
    "print('LOADING axon bboxes....')\n",
    "load_axons_range = range(100)\n",
    "\n",
    "labelled = np.zeros((load_axons_range[-1]+1,sizet))\n",
    "for i in load_axons_range:\n",
    "    name = f'Axon_{i:0>3}'\n",
    "    print(f'{name}...', end='')\n",
    "    col = np.random.rand(1,3)\n",
    "    dat = np.load(f'{outp_path}/labelled_axons/{name}.npy', )\n",
    "    labelled[i,:] = [1 if t in dat[:,:,0].flatten() else 0 for t in range(sizet)]   # for plotting\n",
    "    # dat[:,:,1] -= ymin\n",
    "    # dat[:,:,2] -= xmin\n",
    "    \n",
    "    if not dat.size:\n",
    "        print('!!!Empty!!!\\n')\n",
    "        continue\n",
    "    dupl_label = any([(dat[:,:,0]==t).sum()>4 for t in range(sizet)])\n",
    "    if dupl_label:\n",
    "        [print(f't: {t} - More than one label!') for t in range(sizet) if (dat[:,:,0]==t).sum()>4]        \n",
    "        print()\n",
    "    else:\n",
    "        print('Ok')\n",
    "    if as_shapes:\n",
    "        viewer.add_shapes(dat, name=name, shape_type='rectangle', edge_color=col, face_color=np.array([1,1,1,.9]), edge_width=5, visible=True, opacity=.9)\n",
    "    else:\n",
    "        start = dat[:, :,1:].min(axis=1).astype(int)\n",
    "        end = dat[:,:,1:].max(axis=1).astype(int)\n",
    "        x_start = start[:, 1]\n",
    "        y_start = start[:, 0]\n",
    "        x_end = end[:, 1]\n",
    "        y_end = end[:, 0]\n",
    "        \n",
    "#         col = 1 - .35*(1-col) \n",
    "        axon_timepoints = dat[:,:,0].astype(int)\n",
    "        for i, t in enumerate(range(axon_timepoints.min(), axon_timepoints.max()+1)):\n",
    "            for w in range(2):\n",
    "                rr, cc = rectangle_perimeter((y_start[i]+w, x_start[i]+w), end=(y_end[i]+w, x_end[i]+w), \n",
    "                                             shape=rgb_image.shape[1:])\n",
    "                rgb_image[t-1, rr, cc] = col\n",
    "\n",
    "plt.figure(figsize=(13,7), facecolor='k')\n",
    "plt.imshow(labelled.T, cmap=plt.get_cmap('cividis'))\n",
    "ax = plt.gca()\n",
    "\n",
    "ax.set_yticks(np.arange(sizet))\n",
    "ax.set_yticklabels(['' if t%5 else t for t in range(sizet)], color='white')\n",
    "ax.set_ylabel('timepoint', color='white', fontsize=14)\n",
    "\n",
    "ax.set_xticks(np.arange(load_axons_range[-1]+1))\n",
    "ax.set_xticklabels(['' if t%2 else t for t in range(load_axons_range[-1]+1)], color='white')\n",
    "ax.set_xlabel('Axon ID', color='white', fontsize=14)\n",
    "\n",
    "ax.set_title('Yellow means there is an axon label for this timepoint', color='white', fontsize=18)\n",
    "ax.set_yticks(np.arange(sizet))\n",
    "ax.set_yticklabels(['' if t%4 else t+1 for t in range(sizet)], color='white')\n",
    "ax.set_ylabel('timepoint', color='white', fontsize=14)"
   ]
  },
  {
   "cell_type": "code",
   "execution_count": null,
   "metadata": {},
   "outputs": [],
   "source": [
    "viewer.add_image(rgb_image)"
   ]
  },
  {
   "cell_type": "code",
   "execution_count": null,
   "metadata": {},
   "outputs": [],
   "source": []
  }
 ],
 "metadata": {
  "kernelspec": {
   "display_name": "Python 3.8.11 64-bit ('bioMEA': conda)",
   "language": "python",
   "name": "python381164bitbiomeacondae971a44a5ce445a4a65f580b8ea92122"
  },
  "language_info": {
   "codemirror_mode": {
    "name": "ipython",
    "version": 3
   },
   "file_extension": ".py",
   "mimetype": "text/x-python",
   "name": "python",
   "nbconvert_exporter": "python",
   "pygments_lexer": "ipython3",
   "version": "3.8.11-final"
  }
 },
 "nbformat": 4,
 "nbformat_minor": 2
}